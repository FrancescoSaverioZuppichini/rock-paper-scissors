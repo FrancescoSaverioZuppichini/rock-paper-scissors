{
 "cells": [
  {
   "cell_type": "markdown",
   "metadata": {
    "slideshow": {
     "slide_type": "slide"
    }
   },
   "source": [
    "# Building a convnet for ✊✋✌\n",
    "This presents how to build a convnet from scratch to classify images of rock-paper-scissors.  It is meant as a teaching activity to demonstrate the following concepts in practice:\n",
    "- how images are represented and handled in software\n",
    "- how to prepare a machine learning dataset\n",
    "- how a full machine learning pipeline looks\n",
    "- data preprocessing\n",
    "- data augmentation and its importance in a \n",
    "- overfitting, underfitting\n",
    "\n",
    "We use the high-level deep learning library Keras, but the concepts are general and we don't put much focus on the specifics of the code."
   ]
  },
  {
   "cell_type": "markdown",
   "metadata": {
    "slideshow": {
     "slide_type": "slide"
    }
   },
   "source": [
    "## Step 0: defining the problem\n",
    "What problem do we want to solve, exactly?  We want to build a piece of software that, given an image as input that represents an hand making one of the three ✊✋✌ gestures, produces as output a classification of the image in one of the three classes.\n",
    "\n",
    "In the following, we will adopt this convention\n",
    "- class 0 is ✊ rock\n",
    "- class 1 is ✋ paper\n",
    "- class 2 is ✌ scissors"
   ]
  },
  {
   "cell_type": "markdown",
   "metadata": {
    "slideshow": {
     "slide_type": "slide"
    }
   },
   "source": [
    "## Step 1: building a dataset\n",
    "We are starting from scratch, so we need to shoot our own dataset; the best option is that multiple students/groups shoot plenty of images in parallel and then the data is somehow collected.  Whatever the process, in the end we want to have all pics in three different directories, one per class.  Format can be either jpg or png, and landscape/portrait, aspect ratio and resolution don't matter and can be mixed.\n",
    "\n",
    "With some attention to logistics, this can be done in about 10-30 minutes.\n",
    "\n",
    "Guidelines for shooting images. \n",
    "- We don't need high resolution: use the lowest resolution/quality allowed by the phone (this reduces the size of the dataset and speeds up data transfer).\n",
    "- The hand must be more or less in the center of the image; it should not fill the whole image, but it should not be too small either.  ![caption](figures/guidelines.jpg)\n",
    "- we want the dataset to represent as much variability as possible: if we want the classifier to work for all hand orientations, try to have examples for all of them; if we want to handle many different lightling conditions, try to have some pictures for different lightings;\n",
    "- avoid poses that are ambiguous, unless you want to make your job harder: e.g., don't include in the dataset images of paper or scissors taken from the side;\n",
    "- avoid having two images in the dataset that are almost the same: change the camera and hand pose at least a little bit; this is important because in the following code we randomly split training and testing data.\n",
    "\n",
    "Remember that we need the images for each class to be in its own directory. To make this simpler, it helps to shoot first all images of rock, then all images of paper, then all images of scissors, and finally sort the images by time in the file manager and group them accordingly.\n",
    "\n",
    "Place all images in three directories named `c0/`, `c1/`, and `c2/`.  Make sure that each directory only contains image files."
   ]
  },
  {
   "cell_type": "markdown",
   "metadata": {
    "slideshow": {
     "slide_type": "slide"
    }
   },
   "source": [
    "## Step 2: read in images and have a look at them\n",
    "Let's first import what we need"
   ]
  },
  {
   "cell_type": "code",
   "execution_count": 1,
   "metadata": {},
   "outputs": [
    {
     "name": "stderr",
     "output_type": "stream",
     "text": [
      "C:\\Users\\Fabrizio\\Anaconda3\\lib\\site-packages\\skimage\\viewer\\utils\\core.py:10: UserWarning: Recommended matplotlib backend is `Agg` for full skimage.viewer functionality.\n",
      "  warn(\"Recommended matplotlib backend is `Agg` for full \"\n",
      "Using TensorFlow backend.\n"
     ]
    }
   ],
   "source": [
    "%matplotlib inline\n",
    "\n",
    "# General imports\n",
    "import matplotlib.pyplot as plt\n",
    "import pathlib\n",
    "import skimage\n",
    "import skimage.transform\n",
    "import skimage.viewer\n",
    "import pandas as pd\n",
    "import numpy as np\n",
    "import time\n",
    "import keras.utils.np_utils\n",
    "from tqdm import tqdm\n",
    "\n",
    "# Setup to show interactive jupyter widgets\n",
    "from IPython.display import Image, display\n",
    "from ipywidgets import interact, fixed\n",
    "import ipywidgets as widgets\n",
    "def imgplotList(i,data):\n",
    "    plt.figure(figsize=(10,10))\n",
    "    plt.imshow(data[i],interpolation=\"nearest\")\n",
    "    plt.show()"
   ]
  },
  {
   "cell_type": "code",
   "execution_count": 2,
   "metadata": {
    "slideshow": {
     "slide_type": "slide"
    }
   },
   "outputs": [
    {
     "name": "stdout",
     "output_type": "stream",
     "text": [
      "Found directory ..\\datasets\\final\\D6\\c2 containing class scissors\n",
      "Found directory ..\\datasets\\final\\D3\\c0 containing class rock\n",
      "Found directory ..\\datasets\\final\\D1\\c0 containing class rock\n",
      "Found directory ..\\datasets\\final\\D4\\c2 containing class scissors\n",
      "Found directory ..\\datasets\\final\\D3\\c1 containing class paper\n",
      "Found directory ..\\datasets\\final\\testing\\c1 containing class paper\n",
      "Found directory ..\\datasets\\final\\testing\\c2 containing class scissors\n",
      "Found directory ..\\datasets\\final\\testing\\c0 containing class rock\n",
      "Found directory ..\\datasets\\final\\D5\\c1 containing class paper\n",
      "Found directory ..\\datasets\\final\\D7\\c2 containing class scissors\n",
      "Found directory ..\\datasets\\final\\D4\\c1 containing class paper\n",
      "Found directory ..\\datasets\\final\\D2\\c1 containing class paper\n",
      "Found directory ..\\datasets\\final\\D7\\c1 containing class paper\n",
      "Found directory ..\\datasets\\final\\D6\\c0 containing class rock\n",
      "Found directory ..\\datasets\\final\\D4\\c0 containing class rock\n",
      "Found directory ..\\datasets\\final\\D2\\c2 containing class scissors\n",
      "Found directory ..\\datasets\\final\\D5\\c2 containing class scissors\n",
      "Found directory ..\\datasets\\final\\D1\\c1 containing class paper\n",
      "Found directory ..\\datasets\\final\\D1\\c2 containing class scissors\n",
      "Found directory ..\\datasets\\final\\D3\\c2 containing class scissors\n",
      "Found directory ..\\datasets\\final\\D5\\c0 containing class rock\n",
      "Found directory ..\\datasets\\final\\D2\\c0 containing class rock\n",
      "Found directory ..\\datasets\\final\\D6\\c1 containing class paper\n",
      "Found directory ..\\datasets\\final\\D7\\c0 containing class rock\n"
     ]
    }
   ],
   "source": [
    "# Define where datasets are located\n",
    "dataset_directory = pathlib.Path(\"..\")/\"datasets\"/\"final\"\n",
    "\n",
    "# Define which datasets we should consider.\n",
    "# Each dataset is a directory withing dataset_directory\n",
    "# and must contain three subdirectories: (c0, c1, c2) for (rock, paper, scissors).\n",
    "dnames = [\"D{}\".format(n) for n in range(1,8)] + [\"testing\"]\n",
    "\n",
    "\n",
    "# Now check the data\n",
    "ddirs=[dataset_directory/dn for dn in dnames] # directories of the dataset\n",
    "cdirs={}\n",
    "for ddir in ddirs:\n",
    "    cdirs.update({ddir/\"c0\":0,\n",
    "                  ddir/\"c1\":1,\n",
    "                  ddir/\"c2\":2})\n",
    "names = [\"rock\", \"paper\", \"scissors\"]\n",
    "for cdir,cdir_class in cdirs.items():\n",
    "    assert(cdir.exists())\n",
    "    print(\"Found directory {} containing class {}\".format(cdir,names[cdir_class]))"
   ]
  },
  {
   "cell_type": "markdown",
   "metadata": {
    "slideshow": {
     "slide_type": "slide"
    }
   },
   "source": [
    "Let's try to read the first image from the first directory, and visualize it.  Note that the tool allows you to zoom in order to see the individual pixels."
   ]
  },
  {
   "cell_type": "code",
   "execution_count": 3,
   "metadata": {},
   "outputs": [
    {
     "data": {
      "text/plain": [
       "[]"
      ]
     },
     "execution_count": 3,
     "metadata": {},
     "output_type": "execute_result"
    }
   ],
   "source": [
    "im = skimage.io.imread(list(list(cdirs.keys())[0].glob(\"*\"))[0])\n",
    "viewer=skimage.viewer.ImageViewer(im)\n",
    "viewer.show()\n",
    "# Note: you have to close the window to continue"
   ]
  },
  {
   "cell_type": "markdown",
   "metadata": {
    "slideshow": {
     "slide_type": "slide"
    }
   },
   "source": [
    "We now read in all images, cut the central square (with an edge as long as the shorter dimension), and resize it to 200x200 pixels.  Whatever the initial size and orientation of the images, we will end up with a bunch of 200x200 RGB squares in uint8.  These should be small enough that unless the dataset is huge, all should fit in memory.\n",
    "\n",
    "We make a pandas dataframe with the data, with two columns:\n",
    "* image: a $200 \\times 200 \\times 3$ uint8 numpy array\n",
    "* label: on of 0, 1 or 2\n",
    "* file: the full path of the image"
   ]
  },
  {
   "cell_type": "code",
   "execution_count": 4,
   "metadata": {
    "scrolled": false
   },
   "outputs": [
    {
     "name": "stderr",
     "output_type": "stream",
     "text": [
      " 38%|███▊      | 9/24 [00:17<00:29,  2.00s/it]C:\\Users\\Fabrizio\\Anaconda3\\lib\\site-packages\\ipykernel_launcher.py:12: UserWarning: ignoring ..\\datasets\\final\\D7\\c2\\.DS_Store due to exception cannot identify image file 'C:\\\\Users\\\\Fabrizio\\\\Documents\\\\GitHub\\\\rock-paper-scissors\\\\datasets\\\\final\\\\D7\\\\c2\\\\.DS_Store'\n",
      "  if sys.path[0] == '':\n",
      " 50%|█████     | 12/24 [00:27<00:27,  2.30s/it]C:\\Users\\Fabrizio\\Anaconda3\\lib\\site-packages\\ipykernel_launcher.py:12: UserWarning: ignoring ..\\datasets\\final\\D7\\c1\\.DS_Store due to exception cannot identify image file 'C:\\\\Users\\\\Fabrizio\\\\Documents\\\\GitHub\\\\rock-paper-scissors\\\\datasets\\\\final\\\\D7\\\\c1\\\\.DS_Store'\n",
      "  if sys.path[0] == '':\n",
      " 96%|█████████▌| 23/24 [00:53<00:02,  2.30s/it]C:\\Users\\Fabrizio\\Anaconda3\\lib\\site-packages\\ipykernel_launcher.py:12: UserWarning: ignoring ..\\datasets\\final\\D7\\c0\\.DS_Store due to exception cannot identify image file 'C:\\\\Users\\\\Fabrizio\\\\Documents\\\\GitHub\\\\rock-paper-scissors\\\\datasets\\\\final\\\\D7\\\\c0\\\\.DS_Store'\n",
      "  if sys.path[0] == '':\n",
      "100%|██████████| 24/24 [00:59<00:00,  2.46s/it]\n"
     ]
    },
    {
     "name": "stdout",
     "output_type": "stream",
     "text": [
      "Done\n"
     ]
    }
   ],
   "source": [
    "imagesize = 200\n",
    "\n",
    "dataset=[]\n",
    "\n",
    "import warnings\n",
    "\n",
    "for cdir,cn in tqdm(list(cdirs.items())):\n",
    "    for f in list(cdir.glob(\"*\")):\n",
    "        try:\n",
    "            im=skimage.io.imread(f)\n",
    "        except (OSError, ValueError) as e:\n",
    "            warnings.warn(\"ignoring {} due to exception {}\".format(f,str(e)))\n",
    "            continue\n",
    "            \n",
    "        h,w=im.shape[0:2] # height, width\n",
    "        sz=min(h,w)\n",
    "        im=im[(h//2-sz//2):(h//2+sz//2),(w//2-sz//2):(w//2+sz//2),:] # defines the central square        \n",
    "        with warnings.catch_warnings():\n",
    "            warnings.simplefilter(\"ignore\")\n",
    "            im=skimage.img_as_ubyte(skimage.transform.resize(im,(imagesize,imagesize))) # resize it to 500x500, whatever the original resolution\n",
    "            \n",
    "        dataset.append({\n",
    "            \"file\":f,\n",
    "            \"label\":cn,\n",
    "            \"image\":im})\n",
    "        \n",
    "print(\"Done\")"
   ]
  },
  {
   "cell_type": "markdown",
   "metadata": {
    "slideshow": {
     "slide_type": "slide"
    }
   },
   "source": [
    "We make a pandas dataframe for the dataset, and create a \"dn\" field containing the name of the dataset from which each image comes (as the name of the directory it was read from)."
   ]
  },
  {
   "cell_type": "code",
   "execution_count": 5,
   "metadata": {
    "collapsed": true
   },
   "outputs": [],
   "source": [
    "dataset=pd.DataFrame(dataset)\n",
    "dataset[\"dn\"]=dataset[\"file\"].apply(lambda x: x.parent.parts[-2])"
   ]
  },
  {
   "cell_type": "markdown",
   "metadata": {
    "slideshow": {
     "slide_type": "fragment"
    }
   },
   "source": [
    "Here are 10 random rows from that dataset"
   ]
  },
  {
   "cell_type": "code",
   "execution_count": 6,
   "metadata": {},
   "outputs": [
    {
     "data": {
      "text/html": [
       "<style  type=\"text/css\" >\n",
       "</style>  \n",
       "<table id=\"T_93057c18_2843_11e8_92db_dd1222abc21e\" > \n",
       "<thead>    <tr> \n",
       "        <th class=\"blank level0\" ></th> \n",
       "        <th class=\"col_heading level0 col0\" >image</th> \n",
       "        <th class=\"col_heading level0 col1\" >label</th> \n",
       "        <th class=\"col_heading level0 col2\" >file</th> \n",
       "        <th class=\"col_heading level0 col3\" >dn</th> \n",
       "    </tr></thead> \n",
       "<tbody>    <tr> \n",
       "        <th id=\"T_93057c18_2843_11e8_92db_dd1222abc21e\" class=\"row_heading level0 row0\" >525</th> \n",
       "        <td id=\"T_93057c18_2843_11e8_92db_dd1222abc21erow0_col0\" class=\"data row0 col0\" >[[[ 48  37  26]\n",
       "  [ 79  56  45]\n",
       "  [130  93  83]\n",
       "  ..., \n",
       "  [ 75  65  50]\n",
       "  [ 72  58  46]\n",
       "  [ 73  59  48]]\n",
       "\n",
       " [[ 47  33  19]\n",
       "  [101  75  63]\n",
       "  [140 103  89]\n",
       "  ..., \n",
       "  [ 46  38  28]\n",
       "  [ 54  43  31]\n",
       "  [ 57  45  34]]\n",
       "\n",
       " [[ 74  56  41]\n",
       "  [114  85  71]\n",
       "  [146 108  92]\n",
       "  ..., \n",
       "  [ 16  12   7]\n",
       "  [ 15  10   2]\n",
       "  [ 22  17   8]]\n",
       "\n",
       " ..., \n",
       " [[ 61  61  59]\n",
       "  [ 66  66  64]\n",
       "  [ 69  69  67]\n",
       "  ..., \n",
       "  [ 18  17  31]\n",
       "  [ 13  12  29]\n",
       "  [ 16  15  33]]\n",
       "\n",
       " [[ 66  64  65]\n",
       "  [ 67  67  65]\n",
       "  [ 73  72  69]\n",
       "  ..., \n",
       "  [ 26  23  37]\n",
       "  [ 23  22  36]\n",
       "  [ 23  22  37]]\n",
       "\n",
       " [[ 69  67  68]\n",
       "  [ 73  72  70]\n",
       "  [ 72  71  67]\n",
       "  ..., \n",
       "  [ 22  19  32]\n",
       "  [ 27  24  38]\n",
       "  [ 53  51  65]]]</td> \n",
       "        <td id=\"T_93057c18_2843_11e8_92db_dd1222abc21erow0_col1\" class=\"data row0 col1\" >1</td> \n",
       "        <td id=\"T_93057c18_2843_11e8_92db_dd1222abc21erow0_col2\" class=\"data row0 col2\" >..\\datasets\\final\\D5\\c1\\20140828_184410.jpg</td> \n",
       "        <td id=\"T_93057c18_2843_11e8_92db_dd1222abc21erow0_col3\" class=\"data row0 col3\" >D5</td> \n",
       "    </tr>    <tr> \n",
       "        <th id=\"T_93057c18_2843_11e8_92db_dd1222abc21e\" class=\"row_heading level0 row1\" >593</th> \n",
       "        <td id=\"T_93057c18_2843_11e8_92db_dd1222abc21erow1_col0\" class=\"data row1 col0\" >[[[254 218 170]\n",
       "  [255 219 170]\n",
       "  [255 219 171]\n",
       "  ..., \n",
       "  [ 68  65  62]\n",
       "  [ 66  65  60]\n",
       "  [ 66  63  58]]\n",
       "\n",
       " [[255 219 171]\n",
       "  [254 219 171]\n",
       "  [255 219 171]\n",
       "  ..., \n",
       "  [ 67  66  62]\n",
       "  [ 64  63  60]\n",
       "  [ 67  63  58]]\n",
       "\n",
       " [[251 218 169]\n",
       "  [254 218 169]\n",
       "  [255 219 169]\n",
       "  ..., \n",
       "  [ 66  64  57]\n",
       "  [ 66  62  60]\n",
       "  [ 64  58  57]]\n",
       "\n",
       " ..., \n",
       " [[129 102 110]\n",
       "  [138 112 119]\n",
       "  [160 133 138]\n",
       "  ..., \n",
       "  [192 164 102]\n",
       "  [193 163 100]\n",
       "  [192 162  99]]\n",
       "\n",
       " [[140 112 119]\n",
       "  [152 126 132]\n",
       "  [141 115 123]\n",
       "  ..., \n",
       "  [193 166 104]\n",
       "  [196 166 105]\n",
       "  [192 162 103]]\n",
       "\n",
       " [[154 124 134]\n",
       "  [137 106 115]\n",
       "  [121  89 100]\n",
       "  ..., \n",
       "  [195 166 108]\n",
       "  [194 166 105]\n",
       "  [195 166 108]]]</td> \n",
       "        <td id=\"T_93057c18_2843_11e8_92db_dd1222abc21erow1_col1\" class=\"data row1 col1\" >2</td> \n",
       "        <td id=\"T_93057c18_2843_11e8_92db_dd1222abc21erow1_col2\" class=\"data row1 col2\" >..\\datasets\\final\\D7\\c2\\20180219111213-Scissors-31b718cd52609698.jpg</td> \n",
       "        <td id=\"T_93057c18_2843_11e8_92db_dd1222abc21erow1_col3\" class=\"data row1 col3\" >D7</td> \n",
       "    </tr>    <tr> \n",
       "        <th id=\"T_93057c18_2843_11e8_92db_dd1222abc21e\" class=\"row_heading level0 row2\" >761</th> \n",
       "        <td id=\"T_93057c18_2843_11e8_92db_dd1222abc21erow2_col0\" class=\"data row2 col0\" >[[[148 150 149]\n",
       "  [149 151 150]\n",
       "  [152 154 153]\n",
       "  ..., \n",
       "  [137 136 132]\n",
       "  [136 137 132]\n",
       "  [135 136 131]]\n",
       "\n",
       " [[148 150 149]\n",
       "  [150 152 151]\n",
       "  [151 153 152]\n",
       "  ..., \n",
       "  [138 137 133]\n",
       "  [139 138 134]\n",
       "  [137 136 132]]\n",
       "\n",
       " [[149 151 150]\n",
       "  [150 152 151]\n",
       "  [152 154 153]\n",
       "  ..., \n",
       "  [138 137 133]\n",
       "  [139 138 136]\n",
       "  [136 135 133]]\n",
       "\n",
       " ..., \n",
       " [[134 135 137]\n",
       "  [135 136 138]\n",
       "  [136 137 139]\n",
       "  ..., \n",
       "  [ 99  99 101]\n",
       "  [ 98  98 100]\n",
       "  [ 97  97  99]]\n",
       "\n",
       " [[132 133 135]\n",
       "  [133 134 136]\n",
       "  [134 135 137]\n",
       "  ..., \n",
       "  [ 99  99  99]\n",
       "  [ 98  97  98]\n",
       "  [ 98  96  97]]\n",
       "\n",
       " [[132 133 135]\n",
       "  [133 134 136]\n",
       "  [134 135 137]\n",
       "  ..., \n",
       "  [ 98  98  98]\n",
       "  [ 97  96  97]\n",
       "  [ 95  93  94]]]</td> \n",
       "        <td id=\"T_93057c18_2843_11e8_92db_dd1222abc21erow2_col1\" class=\"data row2 col1\" >1</td> \n",
       "        <td id=\"T_93057c18_2843_11e8_92db_dd1222abc21erow2_col2\" class=\"data row2 col2\" >..\\datasets\\final\\D4\\c1\\20170802_161238.jpg</td> \n",
       "        <td id=\"T_93057c18_2843_11e8_92db_dd1222abc21erow2_col3\" class=\"data row2 col3\" >D4</td> \n",
       "    </tr>    <tr> \n",
       "        <th id=\"T_93057c18_2843_11e8_92db_dd1222abc21e\" class=\"row_heading level0 row3\" >356</th> \n",
       "        <td id=\"T_93057c18_2843_11e8_92db_dd1222abc21erow3_col0\" class=\"data row3 col0\" >[[[164 169 149]\n",
       "  [166 171 151]\n",
       "  [169 174 154]\n",
       "  ..., \n",
       "  [142 156 157]\n",
       "  [143 155 157]\n",
       "  [142 153 155]]\n",
       "\n",
       " [[168 173 153]\n",
       "  [168 173 153]\n",
       "  [169 174 154]\n",
       "  ..., \n",
       "  [146 156 158]\n",
       "  [144 154 156]\n",
       "  [145 155 157]]\n",
       "\n",
       " [[167 172 152]\n",
       "  [168 173 153]\n",
       "  [170 175 155]\n",
       "  ..., \n",
       "  [148 158 159]\n",
       "  [148 156 158]\n",
       "  [148 156 159]]\n",
       "\n",
       " ..., \n",
       " [[155 121  75]\n",
       "  [156 122  76]\n",
       "  [157 123  75]\n",
       "  ..., \n",
       "  [135 135 137]\n",
       "  [136 136 138]\n",
       "  [135 135 137]]\n",
       "\n",
       " [[154 118  70]\n",
       "  [156 121  74]\n",
       "  [152 119  71]\n",
       "  ..., \n",
       "  [133 133 135]\n",
       "  [134 134 136]\n",
       "  [134 134 136]]\n",
       "\n",
       " [[153 117  69]\n",
       "  [154 119  71]\n",
       "  [149 117  68]\n",
       "  ..., \n",
       "  [133 133 135]\n",
       "  [133 133 135]\n",
       "  [131 131 133]]]</td> \n",
       "        <td id=\"T_93057c18_2843_11e8_92db_dd1222abc21erow3_col1\" class=\"data row3 col1\" >1</td> \n",
       "        <td id=\"T_93057c18_2843_11e8_92db_dd1222abc21erow3_col2\" class=\"data row3 col2\" >..\\datasets\\final\\D3\\c1\\20170705_121834.jpg</td> \n",
       "        <td id=\"T_93057c18_2843_11e8_92db_dd1222abc21erow3_col3\" class=\"data row3 col3\" >D3</td> \n",
       "    </tr>    <tr> \n",
       "        <th id=\"T_93057c18_2843_11e8_92db_dd1222abc21e\" class=\"row_heading level0 row4\" >310</th> \n",
       "        <td id=\"T_93057c18_2843_11e8_92db_dd1222abc21erow4_col0\" class=\"data row4 col0\" >[[[156 157 151]\n",
       "  [155 156 151]\n",
       "  [159 160 155]\n",
       "  ..., \n",
       "  [154 156 155]\n",
       "  [154 157 156]\n",
       "  [153 156 155]]\n",
       "\n",
       " [[157 158 152]\n",
       "  [157 158 153]\n",
       "  [160 161 156]\n",
       "  ..., \n",
       "  [156 158 158]\n",
       "  [155 157 156]\n",
       "  [153 155 154]]\n",
       "\n",
       " [[157 159 152]\n",
       "  [159 161 156]\n",
       "  [159 161 156]\n",
       "  ..., \n",
       "  [157 159 158]\n",
       "  [158 158 158]\n",
       "  [155 155 155]]\n",
       "\n",
       " ..., \n",
       " [[ 80  55  48]\n",
       "  [ 82  54  48]\n",
       "  [ 83  53  47]\n",
       "  ..., \n",
       "  [126 126 128]\n",
       "  [126 125 130]\n",
       "  [128 127 132]]\n",
       "\n",
       " [[ 80  59  50]\n",
       "  [ 82  57  50]\n",
       "  [ 82  56  49]\n",
       "  ..., \n",
       "  [123 122 127]\n",
       "  [128 127 132]\n",
       "  [126 125 131]]\n",
       "\n",
       " [[ 84  64  56]\n",
       "  [ 87  64  56]\n",
       "  [ 83  58  51]\n",
       "  ..., \n",
       "  [124 123 128]\n",
       "  [123 122 128]\n",
       "  [122 121 127]]]</td> \n",
       "        <td id=\"T_93057c18_2843_11e8_92db_dd1222abc21erow4_col1\" class=\"data row4 col1\" >2</td> \n",
       "        <td id=\"T_93057c18_2843_11e8_92db_dd1222abc21erow4_col2\" class=\"data row4 col2\" >..\\datasets\\final\\D4\\c2\\20170802_151501.jpg</td> \n",
       "        <td id=\"T_93057c18_2843_11e8_92db_dd1222abc21erow4_col3\" class=\"data row4 col3\" >D4</td> \n",
       "    </tr>    <tr> \n",
       "        <th id=\"T_93057c18_2843_11e8_92db_dd1222abc21e\" class=\"row_heading level0 row5\" >631</th> \n",
       "        <td id=\"T_93057c18_2843_11e8_92db_dd1222abc21erow5_col0\" class=\"data row5 col0\" >[[[211 213 212]\n",
       "  [206 210 211]\n",
       "  [205 207 209]\n",
       "  ..., \n",
       "  [143 144 115]\n",
       "  [169 181 153]\n",
       "  [109 127  83]]\n",
       "\n",
       " [[206 210 211]\n",
       "  [205 209 214]\n",
       "  [204 206 208]\n",
       "  ..., \n",
       "  [204 207 190]\n",
       "  [149 156 120]\n",
       "  [152 163 128]]\n",
       "\n",
       " [[202 205 208]\n",
       "  [202 206 210]\n",
       "  [217 219 219]\n",
       "  ..., \n",
       "  [167 175 148]\n",
       "  [153 157 133]\n",
       "  [142 156 121]]\n",
       "\n",
       " ..., \n",
       " [[ 19  25  37]\n",
       "  [ 17  28  37]\n",
       "  [ 26  35  47]\n",
       "  ..., \n",
       "  [ 67 107  74]\n",
       "  [ 53  82  40]\n",
       "  [ 67  90  51]]\n",
       "\n",
       " [[ 26  32  42]\n",
       "  [ 25  33  42]\n",
       "  [ 25  33  43]\n",
       "  ..., \n",
       "  [ 58 112 103]\n",
       "  [ 60 103  45]\n",
       "  [ 70 105  54]]\n",
       "\n",
       " [[ 13  20  30]\n",
       "  [ 25  32  42]\n",
       "  [ 21  30  39]\n",
       "  ..., \n",
       "  [ 51  97  86]\n",
       "  [ 73 121  74]\n",
       "  [ 65 104  51]]]</td> \n",
       "        <td id=\"T_93057c18_2843_11e8_92db_dd1222abc21erow5_col1\" class=\"data row5 col1\" >2</td> \n",
       "        <td id=\"T_93057c18_2843_11e8_92db_dd1222abc21erow5_col2\" class=\"data row5 col2\" >..\\datasets\\final\\D7\\c2\\20180219134400-Scissors-755f029b7e2a43e1.jpg</td> \n",
       "        <td id=\"T_93057c18_2843_11e8_92db_dd1222abc21erow5_col3\" class=\"data row5 col3\" >D7</td> \n",
       "    </tr>    <tr> \n",
       "        <th id=\"T_93057c18_2843_11e8_92db_dd1222abc21e\" class=\"row_heading level0 row6\" >1735</th> \n",
       "        <td id=\"T_93057c18_2843_11e8_92db_dd1222abc21erow6_col0\" class=\"data row6 col0\" >[[[ 90  86  92]\n",
       "  [ 93  89  96]\n",
       "  [ 94  93 101]\n",
       "  ..., \n",
       "  [ 28  26  38]\n",
       "  [ 23  22  31]\n",
       "  [ 24  24  31]]\n",
       "\n",
       " [[ 34  30  27]\n",
       "  [ 40  36  39]\n",
       "  [ 49  45  48]\n",
       "  ..., \n",
       "  [ 23  21  32]\n",
       "  [ 19  19  28]\n",
       "  [ 29  31  38]]\n",
       "\n",
       " [[ 34  30  28]\n",
       "  [ 40  35  34]\n",
       "  [ 40  34  34]\n",
       "  ..., \n",
       "  [ 16  15  24]\n",
       "  [ 28  31  42]\n",
       "  [ 19  25  34]]\n",
       "\n",
       " ..., \n",
       " [[252 252 250]\n",
       "  [254 253 251]\n",
       "  [254 252 252]\n",
       "  ..., \n",
       "  [ 28  19  20]\n",
       "  [ 34  24  28]\n",
       "  [ 29  19  20]]\n",
       "\n",
       " [[254 252 247]\n",
       "  [254 251 248]\n",
       "  [249 243 241]\n",
       "  ..., \n",
       "  [ 36  26  27]\n",
       "  [ 27  17  19]\n",
       "  [ 34  22  25]]\n",
       "\n",
       " [[251 244 242]\n",
       "  [250 242 240]\n",
       "  [253 249 247]\n",
       "  ..., \n",
       "  [ 25  16  19]\n",
       "  [ 29  20  22]\n",
       "  [ 25  14  18]]]</td> \n",
       "        <td id=\"T_93057c18_2843_11e8_92db_dd1222abc21erow6_col1\" class=\"data row6 col1\" >0</td> \n",
       "        <td id=\"T_93057c18_2843_11e8_92db_dd1222abc21erow6_col2\" class=\"data row6 col2\" >..\\datasets\\final\\D7\\c0\\20180219133936-Rock-3e432e7eb2b46156.jpg</td> \n",
       "        <td id=\"T_93057c18_2843_11e8_92db_dd1222abc21erow6_col3\" class=\"data row6 col3\" >D7</td> \n",
       "    </tr>    <tr> \n",
       "        <th id=\"T_93057c18_2843_11e8_92db_dd1222abc21e\" class=\"row_heading level0 row7\" >911</th> \n",
       "        <td id=\"T_93057c18_2843_11e8_92db_dd1222abc21erow7_col0\" class=\"data row7 col0\" >[[[29 28 21]\n",
       "  [37 37 29]\n",
       "  [41 38 30]\n",
       "  ..., \n",
       "  [ 6  6  6]\n",
       "  [ 6  6  6]\n",
       "  [ 6  6  6]]\n",
       "\n",
       " [[27 27 19]\n",
       "  [36 34 30]\n",
       "  [41 38 31]\n",
       "  ..., \n",
       "  [ 7  7  7]\n",
       "  [ 5  5  5]\n",
       "  [ 7  7  7]]\n",
       "\n",
       " [[26 27 21]\n",
       "  [28 29 23]\n",
       "  [35 33 27]\n",
       "  ..., \n",
       "  [ 6  6  6]\n",
       "  [ 6  6  6]\n",
       "  [ 6  6  6]]\n",
       "\n",
       " ..., \n",
       " [[ 5  5  7]\n",
       "  [ 5  5  7]\n",
       "  [ 6  5  7]\n",
       "  ..., \n",
       "  [ 8 10 22]\n",
       "  [10 13 24]\n",
       "  [10 14 31]]\n",
       "\n",
       " [[ 4  5  7]\n",
       "  [ 6  6  8]\n",
       "  [ 4  6  8]\n",
       "  ..., \n",
       "  [ 9 12 23]\n",
       "  [10 13 25]\n",
       "  [14 17 34]]\n",
       "\n",
       " [[ 4  5  7]\n",
       "  [ 5  5  7]\n",
       "  [ 5  6  8]\n",
       "  ..., \n",
       "  [13 17 29]\n",
       "  [12 14 27]\n",
       "  [11 13 28]]]</td> \n",
       "        <td id=\"T_93057c18_2843_11e8_92db_dd1222abc21erow7_col1\" class=\"data row7 col1\" >1</td> \n",
       "        <td id=\"T_93057c18_2843_11e8_92db_dd1222abc21erow7_col2\" class=\"data row7 col2\" >..\\datasets\\final\\D7\\c1\\20180219134025-Paper-7f0bce083085f94c.jpg</td> \n",
       "        <td id=\"T_93057c18_2843_11e8_92db_dd1222abc21erow7_col3\" class=\"data row7 col3\" >D7</td> \n",
       "    </tr>    <tr> \n",
       "        <th id=\"T_93057c18_2843_11e8_92db_dd1222abc21e\" class=\"row_heading level0 row8\" >713</th> \n",
       "        <td id=\"T_93057c18_2843_11e8_92db_dd1222abc21erow8_col0\" class=\"data row8 col0\" >[[[161 147 112]\n",
       "  [161 145 111]\n",
       "  [167 150 111]\n",
       "  ..., \n",
       "  [182 178 166]\n",
       "  [181 176 164]\n",
       "  [177 172 159]]\n",
       "\n",
       " [[161 144 111]\n",
       "  [166 146 109]\n",
       "  [168 149 109]\n",
       "  ..., \n",
       "  [181 176 166]\n",
       "  [179 177 163]\n",
       "  [182 175 161]]\n",
       "\n",
       " [[162 143 111]\n",
       "  [166 144 110]\n",
       "  [167 147 109]\n",
       "  ..., \n",
       "  [181 176 166]\n",
       "  [180 175 163]\n",
       "  [183 177 165]]\n",
       "\n",
       " ..., \n",
       " [[159  95  59]\n",
       "  [151  90  62]\n",
       "  [148  86  64]\n",
       "  ..., \n",
       "  [206 213 219]\n",
       "  [202 210 215]\n",
       "  [196 205 214]]\n",
       "\n",
       " [[153  87  58]\n",
       "  [149  89  65]\n",
       "  [147  86  62]\n",
       "  ..., \n",
       "  [204 212 217]\n",
       "  [203 210 216]\n",
       "  [196 205 212]]\n",
       "\n",
       " [[145  88  59]\n",
       "  [144  86  60]\n",
       "  [138  80  54]\n",
       "  ..., \n",
       "  [203 212 217]\n",
       "  [205 212 218]\n",
       "  [199 207 214]]]</td> \n",
       "        <td id=\"T_93057c18_2843_11e8_92db_dd1222abc21erow8_col1\" class=\"data row8 col1\" >2</td> \n",
       "        <td id=\"T_93057c18_2843_11e8_92db_dd1222abc21erow8_col2\" class=\"data row8 col2\" >..\\datasets\\final\\D7\\c2\\20180219140108-Scissors-f981ba423d564f6c.jpg</td> \n",
       "        <td id=\"T_93057c18_2843_11e8_92db_dd1222abc21erow8_col3\" class=\"data row8 col3\" >D7</td> \n",
       "    </tr>    <tr> \n",
       "        <th id=\"T_93057c18_2843_11e8_92db_dd1222abc21e\" class=\"row_heading level0 row9\" >1822</th> \n",
       "        <td id=\"T_93057c18_2843_11e8_92db_dd1222abc21erow9_col0\" class=\"data row9 col0\" >[[[ 26   9   7]\n",
       "  [142 109  95]\n",
       "  [147 109  90]\n",
       "  ..., \n",
       "  [ 69  24  55]\n",
       "  [ 67  25  56]\n",
       "  [ 68  24  54]]\n",
       "\n",
       " [[ 17   4   4]\n",
       "  [145 116 103]\n",
       "  [151 113  95]\n",
       "  ..., \n",
       "  [ 67  24  54]\n",
       "  [ 69  26  56]\n",
       "  [ 71  26  57]]\n",
       "\n",
       " [[ 13   5   5]\n",
       "  [145 114 101]\n",
       "  [153 115  95]\n",
       "  ..., \n",
       "  [ 69  24  55]\n",
       "  [ 71  25  55]\n",
       "  [ 68  23  53]]\n",
       "\n",
       " ..., \n",
       " [[  5  14  11]\n",
       "  [  7  16  14]\n",
       "  [  6  15  12]\n",
       "  ..., \n",
       "  [ 23  22  18]\n",
       "  [ 23  21  17]\n",
       "  [ 23  19  15]]\n",
       "\n",
       " [[  7  16  13]\n",
       "  [  7  17  15]\n",
       "  [  4  13  10]\n",
       "  ..., \n",
       "  [ 20  21  16]\n",
       "  [ 22  19  15]\n",
       "  [ 21  17  14]]\n",
       "\n",
       " [[  7  16  14]\n",
       "  [  6  16  12]\n",
       "  [  6  16  13]\n",
       "  ..., \n",
       "  [ 21  20  16]\n",
       "  [ 22  21  17]\n",
       "  [ 23  19  16]]]</td> \n",
       "        <td id=\"T_93057c18_2843_11e8_92db_dd1222abc21erow9_col1\" class=\"data row9 col1\" >0</td> \n",
       "        <td id=\"T_93057c18_2843_11e8_92db_dd1222abc21erow9_col2\" class=\"data row9 col2\" >..\\datasets\\final\\D7\\c0\\20180219141947-Rock-2700eab94ebb663e.jpg</td> \n",
       "        <td id=\"T_93057c18_2843_11e8_92db_dd1222abc21erow9_col3\" class=\"data row9 col3\" >D7</td> \n",
       "    </tr></tbody> \n",
       "</table> "
      ],
      "text/plain": [
       "<pandas.io.formats.style.Styler at 0x2180e02e828>"
      ]
     },
     "execution_count": 6,
     "metadata": {},
     "output_type": "execute_result"
    }
   ],
   "source": [
    "dataset.sample(n=10)[[\"image\",\"label\",\"file\",\"dn\"]].style"
   ]
  },
  {
   "cell_type": "markdown",
   "metadata": {
    "slideshow": {
     "slide_type": "slide"
    }
   },
   "source": [
    "Optionally, we can quickly scroll through the images in our dataset."
   ]
  },
  {
   "cell_type": "code",
   "execution_count": 7,
   "metadata": {},
   "outputs": [
    {
     "data": {
      "text/plain": [
       "[]"
      ]
     },
     "execution_count": 7,
     "metadata": {},
     "output_type": "execute_result"
    }
   ],
   "source": [
    "viewer=skimage.viewer.CollectionViewer([r[1][\"image\"] for r in dataset.iterrows()])\n",
    "viewer.show()\n",
    "# Note: you have to close the window to continue"
   ]
  },
  {
   "cell_type": "markdown",
   "metadata": {
    "slideshow": {
     "slide_type": "slide"
    }
   },
   "source": [
    "## Step 3: Prepare training and testing sets\n",
    "\n",
    "How should we split training and testing data?  The code below implements a few options (run only one of the cells)."
   ]
  },
  {
   "cell_type": "code",
   "execution_count": 8,
   "metadata": {
    "collapsed": true
   },
   "outputs": [],
   "source": [
    "# Option one (hard): use all samples from dataset named \"testing\"\n",
    "# which contains some images taken in the same days as D1--D4, but not contained in these dirs.\n",
    "te_mask = dataset[\"dn\"]==\"testing\"\n",
    "dataset_te=dataset[te_mask]"
   ]
  },
  {
   "cell_type": "code",
   "execution_count": 9,
   "metadata": {
    "collapsed": true
   },
   "outputs": [],
   "source": [
    "# Option two (hard): test on all samples from one specific dataset\n",
    "te_mask = dataset[\"dn\"]==\"D2\"\n",
    "dataset_te=dataset[te_mask]"
   ]
  },
  {
   "cell_type": "code",
   "execution_count": 10,
   "metadata": {
    "collapsed": true,
    "slideshow": {
     "slide_type": "slide"
    }
   },
   "outputs": [],
   "source": [
    "# In any case, training samples are all other samples\n",
    "dataset_tr=dataset.loc[dataset.index.difference(dataset_te.index)]"
   ]
  },
  {
   "cell_type": "code",
   "execution_count": 11,
   "metadata": {
    "slideshow": {
     "slide_type": "slide"
    }
   },
   "outputs": [
    {
     "data": {
      "text/html": [
       "<div>\n",
       "<style>\n",
       "    .dataframe thead tr:only-child th {\n",
       "        text-align: right;\n",
       "    }\n",
       "\n",
       "    .dataframe thead th {\n",
       "        text-align: left;\n",
       "    }\n",
       "\n",
       "    .dataframe tbody tr th {\n",
       "        vertical-align: top;\n",
       "    }\n",
       "</style>\n",
       "<table border=\"1\" class=\"dataframe\">\n",
       "  <thead>\n",
       "    <tr style=\"text-align: right;\">\n",
       "      <th></th>\n",
       "      <th># Training images</th>\n",
       "      <th># Testing images</th>\n",
       "    </tr>\n",
       "    <tr>\n",
       "      <th>Class name</th>\n",
       "      <th></th>\n",
       "      <th></th>\n",
       "    </tr>\n",
       "  </thead>\n",
       "  <tbody>\n",
       "    <tr>\n",
       "      <th>rock</th>\n",
       "      <td>543</td>\n",
       "      <td>69</td>\n",
       "    </tr>\n",
       "    <tr>\n",
       "      <th>paper</th>\n",
       "      <td>504</td>\n",
       "      <td>71</td>\n",
       "    </tr>\n",
       "    <tr>\n",
       "      <th>scissors</th>\n",
       "      <td>578</td>\n",
       "      <td>63</td>\n",
       "    </tr>\n",
       "  </tbody>\n",
       "</table>\n",
       "</div>"
      ],
      "text/plain": [
       "            # Training images  # Testing images\n",
       "Class name                                     \n",
       "rock                      543                69\n",
       "paper                     504                71\n",
       "scissors                  578                63"
      ]
     },
     "execution_count": 11,
     "metadata": {},
     "output_type": "execute_result"
    }
   ],
   "source": [
    "# Print a summary of how many training and testing images we have sampled\n",
    "import collections\n",
    "pd.DataFrame(index=[0,1,2],data=collections.OrderedDict((\n",
    "    (\"Class name\",           names),\n",
    "    (\"# Training images\", dataset_tr[\"label\"].value_counts()),\n",
    "    (\"# Testing images\",  dataset_te[\"label\"].value_counts())))).set_index(\"Class name\")"
   ]
  },
  {
   "cell_type": "code",
   "execution_count": 12,
   "metadata": {
    "slideshow": {
     "slide_type": "slide"
    }
   },
   "outputs": [
    {
     "data": {
      "application/vnd.jupyter.widget-view+json": {
       "model_id": "cd9ba7fdac2a4a78942c48bcbdde58e6"
      }
     },
     "metadata": {},
     "output_type": "display_data"
    },
    {
     "data": {
      "text/plain": [
       "<function __main__.imgplotList>"
      ]
     },
     "execution_count": 12,
     "metadata": {},
     "output_type": "execute_result"
    }
   ],
   "source": [
    "%matplotlib inline\n",
    "examples=list(dataset_te[\"image\"])\n",
    "interact(\n",
    "    imgplotList, \n",
    "    i=widgets.IntSlider(min=0,max=len(examples)-1, step=1, value=0,continuous_update=True), \n",
    "    data=fixed(examples))"
   ]
  },
  {
   "cell_type": "markdown",
   "metadata": {
    "slideshow": {
     "slide_type": "slide"
    }
   },
   "source": [
    "## Step 4: define what we feed to the Neural Network"
   ]
  },
  {
   "cell_type": "code",
   "execution_count": 13,
   "metadata": {
    "slideshow": {
     "slide_type": "-"
    }
   },
   "outputs": [
    {
     "name": "stdout",
     "output_type": "stream",
     "text": [
      "(200, 200, 3) uint8\n"
     ]
    }
   ],
   "source": [
    "im = dataset_tr.sample(1).iloc[0][\"image\"]\n",
    "print(im.shape, im.dtype)"
   ]
  },
  {
   "cell_type": "code",
   "execution_count": 14,
   "metadata": {
    "collapsed": true,
    "slideshow": {
     "slide_type": "slide"
    }
   },
   "outputs": [],
   "source": [
    "# Take image and resize to a specified size\n",
    "def transform_simple(im,sz):\n",
    "    with warnings.catch_warnings():\n",
    "        warnings.simplefilter(\"ignore\")\n",
    "        imr = skimage.transform.resize(im, (sz,sz))\n",
    "    return imr\n",
    "\n",
    "transform = transform_simple"
   ]
  },
  {
   "cell_type": "code",
   "execution_count": 15,
   "metadata": {
    "collapsed": true,
    "slideshow": {
     "slide_type": "slide"
    }
   },
   "outputs": [],
   "source": [
    "# Take image and resize to a specified size, after applying data augmentation\n",
    "def transform_complex(im,sz):\n",
    "    if(np.random.rand()<0.5):\n",
    "        im=np.fliplr(im)\n",
    "    with warnings.catch_warnings():\n",
    "        warnings.simplefilter(\"ignore\")\n",
    "        tf1 = skimage.transform.SimilarityTransform(scale = 1 / im.shape[0])\n",
    "        tf2 = skimage.transform.SimilarityTransform(translation=[-0.5, -0.5])\n",
    "        tf3 = skimage.transform.SimilarityTransform(rotation=np.deg2rad(np.random.uniform(0,360)))\n",
    "        tf4 = skimage.transform.SimilarityTransform(scale=np.random.uniform(1,1.6))\n",
    "        tf5 = skimage.transform.SimilarityTransform(translation=np.array([0.5, 0.5])+np.random.uniform(-0.1,0.1,size=2))\n",
    "        tf6 = skimage.transform.SimilarityTransform(scale=sz)\n",
    "        imr = skimage.transform.warp(im, (tf1+(tf2+(tf3+(tf4+(tf5+tf6))))).inverse, output_shape=(sz,sz),mode=\"edge\")\n",
    "        imr = imr*np.random.uniform(0.9,1.1,size=(1,1,3))\n",
    "        imr = np.clip(imr,0,1)\n",
    "    return imr\n",
    "\n",
    "transform = transform_complex"
   ]
  },
  {
   "cell_type": "code",
   "execution_count": 16,
   "metadata": {
    "slideshow": {
     "slide_type": "slide"
    }
   },
   "outputs": [
    {
     "data": {
      "application/vnd.jupyter.widget-view+json": {
       "model_id": "2cf8742535a54acaa46d0bc6c552d297"
      }
     },
     "metadata": {},
     "output_type": "display_data"
    },
    {
     "data": {
      "image/png": "[encoded data removed]",
      "text/plain": [
       "<matplotlib.figure.Figure at 0x2180f3a1748>"
      ]
     },
     "metadata": {},
     "output_type": "display_data"
    }
   ],
   "source": [
    "# The resolution challenge\n",
    "@interact(sz = widgets.IntSlider(min=2,max=100),\n",
    "          seed = widgets.IntSlider(min=0,max=100),\n",
    "          reveal = widgets.widgets.ToggleButton(value=False,description='Reveal'))\n",
    "def f(sz,seed,reveal):\n",
    "    fig,axs = plt.subplots(nrows = 2, ncols = 5,figsize=(6,3),dpi=150)\n",
    "    ims = dataset_tr.sample(len(axs.flatten()), random_state=sz*100+seed)\n",
    "    for ax,(_,row) in zip(axs.flatten(),ims.iterrows()):\n",
    "        ax.imshow(transform_simple(row[\"image\"],sz))\n",
    "        ax.axis(\"off\")\n",
    "        if(reveal):\n",
    "            ax.set_title(names[row[\"label\"]])\n",
    "    #fig.tight_layout()"
   ]
  },
  {
   "cell_type": "code",
   "execution_count": 17,
   "metadata": {
    "collapsed": true,
    "slideshow": {
     "slide_type": "slide"
    }
   },
   "outputs": [],
   "source": [
    "def sample(df,sz):\n",
    "    r=df.sample(n=1)\n",
    "    l=r[\"label\"].iloc[0]\n",
    "    im=r[\"image\"].iloc[0]\n",
    "    im=transform(im,sz)\n",
    "    return im,l\n",
    "\n",
    "def mkbatch(df,N,sz):\n",
    "    X = []\n",
    "    y = []\n",
    "    for i in range(N):\n",
    "        im,l=sample(df,sz)\n",
    "        X.append(im)\n",
    "        y.append(l)\n",
    "    X=np.array(X).astype('float32')\n",
    "    y=np.array(y)\n",
    "    y=keras.utils.np_utils.to_categorical(y,3)\n",
    "    return X,y\n",
    "\n",
    "def generator(df,batch_size,sz):\n",
    "    while True:\n",
    "        X,y = mkbatch(df,batch_size,sz)\n",
    "        yield (X,y)"
   ]
  },
  {
   "cell_type": "code",
   "execution_count": 18,
   "metadata": {
    "slideshow": {
     "slide_type": "slide"
    }
   },
   "outputs": [
    {
     "data": {
      "text/plain": [
       "array([[ 1.,  0.,  0.],\n",
       "       [ 0.,  0.,  1.],\n",
       "       [ 0.,  0.,  1.],\n",
       "       [ 0.,  1.,  0.],\n",
       "       [ 0.,  0.,  1.],\n",
       "       [ 0.,  1.,  0.],\n",
       "       [ 0.,  0.,  1.],\n",
       "       [ 1.,  0.,  0.],\n",
       "       [ 0.,  1.,  0.],\n",
       "       [ 0.,  0.,  1.],\n",
       "       [ 0.,  0.,  1.],\n",
       "       [ 0.,  0.,  1.],\n",
       "       [ 0.,  0.,  1.],\n",
       "       [ 0.,  1.,  0.],\n",
       "       [ 0.,  0.,  1.],\n",
       "       [ 1.,  0.,  0.],\n",
       "       [ 0.,  1.,  0.],\n",
       "       [ 1.,  0.,  0.],\n",
       "       [ 0.,  1.,  0.],\n",
       "       [ 1.,  0.,  0.]])"
      ]
     },
     "execution_count": 18,
     "metadata": {},
     "output_type": "execute_result"
    }
   ],
   "source": [
    "b = mkbatch(dataset_tr,20,32)\n",
    "b[1]"
   ]
  },
  {
   "cell_type": "code",
   "execution_count": 19,
   "metadata": {
    "slideshow": {
     "slide_type": "slide"
    }
   },
   "outputs": [
    {
     "data": {
      "application/vnd.jupyter.widget-view+json": {
       "model_id": "a87d48411f754bec93b4074ec60f0e3c"
      }
     },
     "metadata": {},
     "output_type": "display_data"
    },
    {
     "data": {
      "text/plain": [
       "<function __main__.imgplotList>"
      ]
     },
     "execution_count": 19,
     "metadata": {},
     "output_type": "execute_result"
    }
   ],
   "source": [
    "# Visualize 100 images from our input dataset\n",
    "examples = list(mkbatch(dataset_tr,100,32)[0])\n",
    "interact(imgplotList, i=widgets.IntSlider(min=0, max=len(examples)-1, step=1, value=0,continuous_update=False), data=fixed(examples))"
   ]
  },
  {
   "cell_type": "code",
   "execution_count": 20,
   "metadata": {
    "scrolled": false,
    "slideshow": {
     "slide_type": "slide"
    }
   },
   "outputs": [
    {
     "data": {
      "application/vnd.jupyter.widget-view+json": {
       "model_id": "8720f102c93a48caa6b2eba2ca52e45f"
      }
     },
     "metadata": {},
     "output_type": "display_data"
    },
    {
     "data": {
      "text/plain": [
       "<function __main__.imgplotList>"
      ]
     },
     "execution_count": 20,
     "metadata": {},
     "output_type": "execute_result"
    }
   ],
   "source": [
    "# Visualize 100 variations from our first input image (makes sense only if transform==transform_complex, i.e. if we are using data augmentation)\n",
    "examples = list(mkbatch(dataset_tr.iloc[[0]],100,32)[0])\n",
    "interact(imgplotList, i=widgets.IntSlider(min=0, max=len(examples)-1, step=1, value=0,continuous_update=False), data=fixed(examples))"
   ]
  },
  {
   "cell_type": "markdown",
   "metadata": {
    "slideshow": {
     "slide_type": "slide"
    }
   },
   "source": [
    "## Step 5: build and train the neural network"
   ]
  },
  {
   "cell_type": "code",
   "execution_count": 21,
   "metadata": {
    "collapsed": true
   },
   "outputs": [],
   "source": [
    "# Keras: Deep Learning library for Theano and TensorFlow\n",
    "import keras\n",
    "from keras.utils  import np_utils\n",
    "from keras.models import Sequential\n",
    "from keras.layers import Dense, Activation, Flatten\n",
    "from keras.layers import Conv2D, MaxPooling2D, AveragePooling2D, Dropout\n",
    "\n",
    "# NN settings\n",
    "patchsize          = 32\n",
    "batch_size         = 32\n",
    "pool_size          = (2,2) # size of pooling area for max pooling\n",
    "kernel_size        = (3,3) # convolution kernel size\n",
    "\n",
    "def makeModel(nb_filters):\n",
    "    model = Sequential()\n",
    "    model.add(Conv2D(nb_filters, kernel_size, input_shape=(patchsize,patchsize,3), padding = \"same\"))\n",
    "    model.add(Activation('relu'))\n",
    "    model.add(MaxPooling2D(pool_size = pool_size))\n",
    "    model.add(Conv2D(nb_filters*2, kernel_size, padding = \"same\"))\n",
    "    model.add(Activation('relu'))\n",
    "    model.add(MaxPooling2D(pool_size = pool_size))\n",
    "    model.add(Conv2D(nb_filters*4, kernel_size, padding = \"same\"))\n",
    "    model.add(Activation('relu'))\n",
    "    model.add(MaxPooling2D(pool_size = pool_size))\n",
    "    model.add(AveragePooling2D(pool_size = pool_size))\n",
    "    model.add(Flatten())\n",
    "    model.add(Dense(128)) # generate a fully connected layer wiht 128 outputs (arbitrary value)\n",
    "    model.add(Activation('relu'))\n",
    "    model.add(Dropout(0.5))\n",
    "    model.add(Dense(3)) # output layer\n",
    "    model.add(Activation('softmax'))\n",
    "\n",
    "    ## compile! network\n",
    "    model.compile(loss='categorical_crossentropy',\n",
    "                  optimizer=\"adam\",\n",
    "                  metrics=['accuracy'])\n",
    "\n",
    "    return model"
   ]
  },
  {
   "cell_type": "code",
   "execution_count": 22,
   "metadata": {},
   "outputs": [
    {
     "name": "stdout",
     "output_type": "stream",
     "text": [
      "_________________________________________________________________\n",
      "Layer (type)                 Output Shape              Param #   \n",
      "=================================================================\n",
      "conv2d_1 (Conv2D)            (None, 32, 32, 128)       3584      \n",
      "_________________________________________________________________\n",
      "activation_1 (Activation)    (None, 32, 32, 128)       0         \n",
      "_________________________________________________________________\n",
      "max_pooling2d_1 (MaxPooling2 (None, 16, 16, 128)       0         \n",
      "_________________________________________________________________\n",
      "conv2d_2 (Conv2D)            (None, 16, 16, 256)       295168    \n",
      "_________________________________________________________________\n",
      "activation_2 (Activation)    (None, 16, 16, 256)       0         \n",
      "_________________________________________________________________\n",
      "max_pooling2d_2 (MaxPooling2 (None, 8, 8, 256)         0         \n",
      "_________________________________________________________________\n",
      "conv2d_3 (Conv2D)            (None, 8, 8, 512)         1180160   \n",
      "_________________________________________________________________\n",
      "activation_3 (Activation)    (None, 8, 8, 512)         0         \n",
      "_________________________________________________________________\n",
      "max_pooling2d_3 (MaxPooling2 (None, 4, 4, 512)         0         \n",
      "_________________________________________________________________\n",
      "average_pooling2d_1 (Average (None, 2, 2, 512)         0         \n",
      "_________________________________________________________________\n",
      "flatten_1 (Flatten)          (None, 2048)              0         \n",
      "_________________________________________________________________\n",
      "dense_1 (Dense)              (None, 128)               262272    \n",
      "_________________________________________________________________\n",
      "activation_4 (Activation)    (None, 128)               0         \n",
      "_________________________________________________________________\n",
      "dropout_1 (Dropout)          (None, 128)               0         \n",
      "_________________________________________________________________\n",
      "dense_2 (Dense)              (None, 3)                 387       \n",
      "_________________________________________________________________\n",
      "activation_5 (Activation)    (None, 3)                 0         \n",
      "=================================================================\n",
      "Total params: 1,741,571\n",
      "Trainable params: 1,741,571\n",
      "Non-trainable params: 0\n",
      "_________________________________________________________________\n"
     ]
    }
   ],
   "source": [
    "makeModel(128).summary()"
   ]
  },
  {
   "cell_type": "markdown",
   "metadata": {
    "slideshow": {
     "slide_type": "slide"
    }
   },
   "source": [
    "Build a set of 1000 testing instances taken from the testing dataset.\n",
    "\n",
    "Note: \"testing\" in this case is synonym with \"validation\" and \"evaluation\""
   ]
  },
  {
   "cell_type": "code",
   "execution_count": 23,
   "metadata": {
    "collapsed": true
   },
   "outputs": [],
   "source": [
    "(X_test,y_test) = mkbatch(dataset_te, 1000, patchsize)\n",
    "\n",
    "# Prepare the logs directory, if it does not exist\n",
    "(pathlib.Path(\".\")/\"logs\").mkdir(exist_ok=True)"
   ]
  },
  {
   "cell_type": "markdown",
   "metadata": {
    "slideshow": {
     "slide_type": "slide"
    }
   },
   "source": [
    "While the network trains, we can monitor training loss/accuracy and testing loss/accuracy using tensorboard at http://0.0.0.0:6006\n",
    "\n",
    "You may need to launch tensorboard first if it's not already running, by executing\n",
    "\n",
    "`tensorboard --logdir=logs`\n",
    "\n",
    "in a shell with the current working directory.  Check that you are within the proper conda environment, if applicable."
   ]
  },
  {
   "cell_type": "code",
   "execution_count": 78,
   "metadata": {},
   "outputs": [
    {
     "name": "stdout",
     "output_type": "stream",
     "text": [
      "Epoch 1/50\n",
      "50/50 [==============================] - ETA: 21s - loss: 1.0905 - acc: 0.40 - ETA: 14s - loss: 1.1035 - acc: 0.35 - ETA: 13s - loss: 1.1172 - acc: 0.27 - ETA: 12s - loss: 1.1145 - acc: 0.28 - ETA: 12s - loss: 1.1207 - acc: 0.28 - ETA: 11s - loss: 1.1136 - acc: 0.30 - ETA: 11s - loss: 1.1161 - acc: 0.30 - ETA: 10s - loss: 1.1111 - acc: 0.32 - ETA: 10s - loss: 1.1134 - acc: 0.31 - ETA: 10s - loss: 1.1109 - acc: 0.32 - ETA: 10s - loss: 1.1092 - acc: 0.32 - ETA: 9s - loss: 1.1081 - acc: 0.3333 - ETA: 9s - loss: 1.1077 - acc: 0.331 - ETA: 9s - loss: 1.1074 - acc: 0.325 - ETA: 8s - loss: 1.1073 - acc: 0.320 - ETA: 8s - loss: 1.1063 - acc: 0.320 - ETA: 8s - loss: 1.1056 - acc: 0.327 - ETA: 8s - loss: 1.1049 - acc: 0.328 - ETA: 7s - loss: 1.1045 - acc: 0.327 - ETA: 7s - loss: 1.1041 - acc: 0.328 - ETA: 7s - loss: 1.1044 - acc: 0.324 - ETA: 7s - loss: 1.1033 - acc: 0.335 - ETA: 6s - loss: 1.1033 - acc: 0.335 - ETA: 6s - loss: 1.1030 - acc: 0.334 - ETA: 6s - loss: 1.1027 - acc: 0.331 - ETA: 6s - loss: 1.1028 - acc: 0.330 - ETA: 5s - loss: 1.1035 - acc: 0.324 - ETA: 5s - loss: 1.1030 - acc: 0.325 - ETA: 5s - loss: 1.1031 - acc: 0.326 - ETA: 5s - loss: 1.1030 - acc: 0.325 - ETA: 4s - loss: 1.1031 - acc: 0.326 - ETA: 4s - loss: 1.1026 - acc: 0.330 - ETA: 4s - loss: 1.1023 - acc: 0.329 - ETA: 4s - loss: 1.1028 - acc: 0.326 - ETA: 3s - loss: 1.1030 - acc: 0.325 - ETA: 3s - loss: 1.1025 - acc: 0.329 - ETA: 3s - loss: 1.1025 - acc: 0.330 - ETA: 3s - loss: 1.1023 - acc: 0.329 - ETA: 2s - loss: 1.1025 - acc: 0.326 - ETA: 2s - loss: 1.1021 - acc: 0.326 - ETA: 2s - loss: 1.1023 - acc: 0.324 - ETA: 2s - loss: 1.1024 - acc: 0.322 - ETA: 1s - loss: 1.1022 - acc: 0.324 - ETA: 1s - loss: 1.1020 - acc: 0.325 - ETA: 1s - loss: 1.1019 - acc: 0.324 - ETA: 1s - loss: 1.1020 - acc: 0.322 - ETA: 0s - loss: 1.1017 - acc: 0.323 - ETA: 0s - loss: 1.1018 - acc: 0.323 - ETA: 0s - loss: 1.1017 - acc: 0.324 - 15s - loss: 1.1016 - acc: 0.3263 - val_loss: 1.0993 - val_acc: 0.3120\n",
      "Epoch 2/50\n",
      "50/50 [==============================] - ETA: 8s - loss: 1.1015 - acc: 0.375 - ETA: 8s - loss: 1.0998 - acc: 0.343 - ETA: 8s - loss: 1.1015 - acc: 0.322 - ETA: 7s - loss: 1.0999 - acc: 0.320 - ETA: 7s - loss: 1.1000 - acc: 0.325 - ETA: 7s - loss: 1.1004 - acc: 0.328 - ETA: 7s - loss: 1.0988 - acc: 0.343 - ETA: 7s - loss: 1.0988 - acc: 0.339 - ETA: 7s - loss: 1.0984 - acc: 0.343 - ETA: 7s - loss: 1.0983 - acc: 0.346 - ETA: 6s - loss: 1.0978 - acc: 0.343 - ETA: 6s - loss: 1.0981 - acc: 0.346 - ETA: 6s - loss: 1.0967 - acc: 0.358 - ETA: 6s - loss: 1.0956 - acc: 0.361 - ETA: 6s - loss: 1.0969 - acc: 0.356 - ETA: 5s - loss: 1.0986 - acc: 0.349 - ETA: 5s - loss: 1.0992 - acc: 0.341 - ETA: 5s - loss: 1.0985 - acc: 0.349 - ETA: 5s - loss: 1.0984 - acc: 0.348 - ETA: 5s - loss: 1.0983 - acc: 0.351 - ETA: 5s - loss: 1.0983 - acc: 0.351 - ETA: 5s - loss: 1.0981 - acc: 0.352 - ETA: 5s - loss: 1.0983 - acc: 0.349 - ETA: 4s - loss: 1.0978 - acc: 0.351 - ETA: 4s - loss: 1.0977 - acc: 0.353 - ETA: 4s - loss: 1.0980 - acc: 0.351 - ETA: 4s - loss: 1.0983 - acc: 0.349 - ETA: 4s - loss: 1.0984 - acc: 0.347 - ETA: 4s - loss: 1.0986 - acc: 0.345 - ETA: 4s - loss: 1.0988 - acc: 0.342 - ETA: 3s - loss: 1.0987 - acc: 0.338 - ETA: 3s - loss: 1.0986 - acc: 0.340 - ETA: 3s - loss: 1.0985 - acc: 0.340 - ETA: 3s - loss: 1.0986 - acc: 0.340 - ETA: 3s - loss: 1.0984 - acc: 0.341 - ETA: 3s - loss: 1.0983 - acc: 0.342 - ETA: 2s - loss: 1.0985 - acc: 0.340 - ETA: 2s - loss: 1.0984 - acc: 0.340 - ETA: 2s - loss: 1.0987 - acc: 0.336 - ETA: 2s - loss: 1.0985 - acc: 0.339 - ETA: 2s - loss: 1.0986 - acc: 0.338 - ETA: 1s - loss: 1.0985 - acc: 0.338 - ETA: 1s - loss: 1.0984 - acc: 0.338 - ETA: 1s - loss: 1.0985 - acc: 0.338 - ETA: 1s - loss: 1.0983 - acc: 0.339 - ETA: 0s - loss: 1.0984 - acc: 0.339 - ETA: 0s - loss: 1.0982 - acc: 0.341 - ETA: 0s - loss: 1.0982 - acc: 0.340 - ETA: 0s - loss: 1.0983 - acc: 0.339 - 13s - loss: 1.0981 - acc: 0.3438 - val_loss: 1.0985 - val_acc: 0.3510\n",
      "Epoch 3/50\n",
      "50/50 [==============================] - ETA: 8s - loss: 1.0931 - acc: 0.468 - ETA: 8s - loss: 1.0962 - acc: 0.390 - ETA: 10s - loss: 1.0991 - acc: 0.35 - ETA: 10s - loss: 1.0980 - acc: 0.35 - ETA: 9s - loss: 1.0970 - acc: 0.3500 - ETA: 9s - loss: 1.0985 - acc: 0.349 - ETA: 9s - loss: 1.0992 - acc: 0.348 - ETA: 9s - loss: 1.0992 - acc: 0.351 - ETA: 9s - loss: 1.0982 - acc: 0.357 - ETA: 9s - loss: 1.0968 - acc: 0.353 - ETA: 9s - loss: 1.0977 - acc: 0.338 - ETA: 8s - loss: 1.0968 - acc: 0.346 - ETA: 8s - loss: 1.0972 - acc: 0.348 - ETA: 8s - loss: 1.0975 - acc: 0.350 - ETA: 8s - loss: 1.0978 - acc: 0.358 - ETA: 7s - loss: 1.0973 - acc: 0.357 - ETA: 7s - loss: 1.0975 - acc: 0.358 - ETA: 7s - loss: 1.0974 - acc: 0.359 - ETA: 7s - loss: 1.0960 - acc: 0.366 - ETA: 6s - loss: 1.0955 - acc: 0.370 - ETA: 6s - loss: 1.0963 - acc: 0.366 - ETA: 6s - loss: 1.0977 - acc: 0.358 - ETA: 6s - loss: 1.0986 - acc: 0.350 - ETA: 5s - loss: 1.0977 - acc: 0.355 - ETA: 5s - loss: 1.0979 - acc: 0.355 - ETA: 5s - loss: 1.0983 - acc: 0.353 - ETA: 5s - loss: 1.0990 - acc: 0.349 - ETA: 5s - loss: 1.0991 - acc: 0.348 - ETA: 4s - loss: 1.0993 - acc: 0.344 - ETA: 4s - loss: 1.0990 - acc: 0.346 - ETA: 4s - loss: 1.0990 - acc: 0.343 - ETA: 4s - loss: 1.0990 - acc: 0.344 - ETA: 3s - loss: 1.0989 - acc: 0.344 - ETA: 3s - loss: 1.0989 - acc: 0.341 - ETA: 3s - loss: 1.0990 - acc: 0.339 - ETA: 3s - loss: 1.0991 - acc: 0.336 - ETA: 2s - loss: 1.0993 - acc: 0.333 - ETA: 2s - loss: 1.0992 - acc: 0.332 - ETA: 2s - loss: 1.0994 - acc: 0.331 - ETA: 2s - loss: 1.0995 - acc: 0.329 - ETA: 2s - loss: 1.0995 - acc: 0.329 - ETA: 1s - loss: 1.0995 - acc: 0.331 - ETA: 1s - loss: 1.0995 - acc: 0.329 - ETA: 1s - loss: 1.0995 - acc: 0.331 - ETA: 1s - loss: 1.0994 - acc: 0.332 - ETA: 0s - loss: 1.0993 - acc: 0.333 - ETA: 0s - loss: 1.0993 - acc: 0.335 - ETA: 0s - loss: 1.0992 - acc: 0.338 - ETA: 0s - loss: 1.0990 - acc: 0.339 - 13s - loss: 1.0989 - acc: 0.3400 - val_loss: 1.0966 - val_acc: 0.4220\n",
      "Epoch 4/50\n",
      "50/50 [==============================] - ETA: 7s - loss: 1.1021 - acc: 0.281 - ETA: 7s - loss: 1.0980 - acc: 0.343 - ETA: 7s - loss: 1.0994 - acc: 0.302 - ETA: 7s - loss: 1.0963 - acc: 0.320 - ETA: 7s - loss: 1.0987 - acc: 0.306 - ETA: 7s - loss: 1.1006 - acc: 0.296 - ETA: 7s - loss: 1.1006 - acc: 0.299 - ETA: 7s - loss: 1.1007 - acc: 0.296 - ETA: 6s - loss: 1.1005 - acc: 0.309 - ETA: 6s - loss: 1.0995 - acc: 0.321 - ETA: 6s - loss: 1.0995 - acc: 0.326 - ETA: 6s - loss: 1.0988 - acc: 0.325 - ETA: 6s - loss: 1.0990 - acc: 0.324 - ETA: 6s - loss: 1.0984 - acc: 0.334 - ETA: 6s - loss: 1.0977 - acc: 0.331 - ETA: 6s - loss: 1.0972 - acc: 0.341 - ETA: 6s - loss: 1.0973 - acc: 0.341 - ETA: 6s - loss: 1.0983 - acc: 0.338 - ETA: 5s - loss: 1.0967 - acc: 0.348 - ETA: 5s - loss: 1.0962 - acc: 0.348 - ETA: 5s - loss: 1.0965 - acc: 0.346 - ETA: 5s - loss: 1.0972 - acc: 0.343 - ETA: 5s - loss: 1.0964 - acc: 0.341 - ETA: 5s - loss: 1.0969 - acc: 0.338 - ETA: 4s - loss: 1.0971 - acc: 0.336 - ETA: 4s - loss: 1.0979 - acc: 0.330 - ETA: 4s - loss: 1.0976 - acc: 0.334 - ETA: 4s - loss: 1.0978 - acc: 0.330 - ETA: 4s - loss: 1.0978 - acc: 0.331 - ETA: 4s - loss: 1.0977 - acc: 0.332 - ETA: 3s - loss: 1.0976 - acc: 0.330 - ETA: 3s - loss: 1.0974 - acc: 0.334 - ETA: 3s - loss: 1.0968 - acc: 0.337 - ETA: 3s - loss: 1.0966 - acc: 0.338 - ETA: 3s - loss: 1.0971 - acc: 0.332 - ETA: 2s - loss: 1.0969 - acc: 0.333 - ETA: 2s - loss: 1.0971 - acc: 0.333 - ETA: 2s - loss: 1.0972 - acc: 0.335 - ETA: 2s - loss: 1.0977 - acc: 0.333 - ETA: 2s - loss: 1.0977 - acc: 0.332 - ETA: 1s - loss: 1.0977 - acc: 0.332 - ETA: 1s - loss: 1.0976 - acc: 0.334 - ETA: 1s - loss: 1.0975 - acc: 0.335 - ETA: 1s - loss: 1.0973 - acc: 0.338 - ETA: 1s - loss: 1.0971 - acc: 0.340 - ETA: 0s - loss: 1.0972 - acc: 0.339 - ETA: 0s - loss: 1.0975 - acc: 0.337 - ETA: 0s - loss: 1.0974 - acc: 0.338 - ETA: 0s - loss: 1.0973 - acc: 0.341 - 12s - loss: 1.0973 - acc: 0.3406 - val_loss: 1.0957 - val_acc: 0.4150\n",
      "Epoch 5/50\n"
     ]
    },
    {
     "name": "stdout",
     "output_type": "stream",
     "text": [
      "50/50 [==============================] - ETA: 8s - loss: 1.1092 - acc: 0.343 - ETA: 8s - loss: 1.1025 - acc: 0.375 - ETA: 8s - loss: 1.0970 - acc: 0.416 - ETA: 8s - loss: 1.0979 - acc: 0.406 - ETA: 8s - loss: 1.0960 - acc: 0.406 - ETA: 8s - loss: 1.0951 - acc: 0.421 - ETA: 8s - loss: 1.0952 - acc: 0.410 - ETA: 8s - loss: 1.0946 - acc: 0.418 - ETA: 8s - loss: 1.0955 - acc: 0.413 - ETA: 8s - loss: 1.0961 - acc: 0.406 - ETA: 7s - loss: 1.0944 - acc: 0.414 - ETA: 7s - loss: 1.0953 - acc: 0.414 - ETA: 7s - loss: 1.0962 - acc: 0.401 - ETA: 7s - loss: 1.0963 - acc: 0.395 - ETA: 7s - loss: 1.0961 - acc: 0.389 - ETA: 7s - loss: 1.0963 - acc: 0.388 - ETA: 6s - loss: 1.0955 - acc: 0.389 - ETA: 6s - loss: 1.0969 - acc: 0.378 - ETA: 6s - loss: 1.0975 - acc: 0.371 - ETA: 6s - loss: 1.0973 - acc: 0.371 - ETA: 6s - loss: 1.0972 - acc: 0.370 - ETA: 5s - loss: 1.0979 - acc: 0.363 - ETA: 5s - loss: 1.0985 - acc: 0.358 - ETA: 5s - loss: 1.0989 - acc: 0.355 - ETA: 5s - loss: 1.0998 - acc: 0.351 - ETA: 5s - loss: 1.1000 - acc: 0.349 - ETA: 5s - loss: 1.0999 - acc: 0.349 - ETA: 4s - loss: 1.0999 - acc: 0.348 - ETA: 4s - loss: 1.1003 - acc: 0.343 - ETA: 4s - loss: 1.1001 - acc: 0.344 - ETA: 4s - loss: 1.1000 - acc: 0.342 - ETA: 3s - loss: 1.0999 - acc: 0.344 - ETA: 3s - loss: 1.1001 - acc: 0.343 - ETA: 3s - loss: 1.0998 - acc: 0.349 - ETA: 3s - loss: 1.0995 - acc: 0.352 - ETA: 3s - loss: 1.0996 - acc: 0.349 - ETA: 2s - loss: 1.0998 - acc: 0.348 - ETA: 2s - loss: 1.0997 - acc: 0.348 - ETA: 2s - loss: 1.0997 - acc: 0.347 - ETA: 2s - loss: 1.0996 - acc: 0.350 - ETA: 2s - loss: 1.0993 - acc: 0.352 - ETA: 1s - loss: 1.0992 - acc: 0.351 - ETA: 1s - loss: 1.0993 - acc: 0.349 - ETA: 1s - loss: 1.0993 - acc: 0.349 - ETA: 1s - loss: 1.0993 - acc: 0.350 - ETA: 0s - loss: 1.0993 - acc: 0.348 - ETA: 0s - loss: 1.0992 - acc: 0.349 - ETA: 0s - loss: 1.0992 - acc: 0.347 - ETA: 0s - loss: 1.0991 - acc: 0.344 - 13s - loss: 1.0992 - acc: 0.3438 - val_loss: 1.0955 - val_acc: 0.4120\n",
      "Epoch 6/50\n",
      "50/50 [==============================] - ETA: 9s - loss: 1.0979 - acc: 0.375 - ETA: 8s - loss: 1.0985 - acc: 0.375 - ETA: 8s - loss: 1.0973 - acc: 0.406 - ETA: 8s - loss: 1.0956 - acc: 0.375 - ETA: 8s - loss: 1.0970 - acc: 0.356 - ETA: 7s - loss: 1.0977 - acc: 0.359 - ETA: 7s - loss: 1.0974 - acc: 0.361 - ETA: 7s - loss: 1.0969 - acc: 0.359 - ETA: 7s - loss: 1.0975 - acc: 0.350 - ETA: 7s - loss: 1.0979 - acc: 0.356 - ETA: 7s - loss: 1.0975 - acc: 0.355 - ETA: 6s - loss: 1.0980 - acc: 0.349 - ETA: 6s - loss: 1.0979 - acc: 0.343 - ETA: 6s - loss: 1.0984 - acc: 0.341 - ETA: 6s - loss: 1.0980 - acc: 0.339 - ETA: 6s - loss: 1.0967 - acc: 0.337 - ETA: 6s - loss: 1.0961 - acc: 0.336 - ETA: 6s - loss: 1.0939 - acc: 0.345 - ETA: 6s - loss: 1.0946 - acc: 0.343 - ETA: 6s - loss: 1.0959 - acc: 0.339 - ETA: 6s - loss: 1.0954 - acc: 0.339 - ETA: 6s - loss: 1.0952 - acc: 0.340 - ETA: 6s - loss: 1.0969 - acc: 0.341 - ETA: 5s - loss: 1.0962 - acc: 0.347 - ETA: 5s - loss: 1.0965 - acc: 0.345 - ETA: 5s - loss: 1.0968 - acc: 0.346 - ETA: 5s - loss: 1.0966 - acc: 0.351 - ETA: 4s - loss: 1.0967 - acc: 0.346 - ETA: 4s - loss: 1.0972 - acc: 0.343 - ETA: 4s - loss: 1.0971 - acc: 0.344 - ETA: 4s - loss: 1.0969 - acc: 0.344 - ETA: 4s - loss: 1.0966 - acc: 0.348 - ETA: 3s - loss: 1.0968 - acc: 0.345 - ETA: 3s - loss: 1.0966 - acc: 0.346 - ETA: 3s - loss: 1.0965 - acc: 0.346 - ETA: 3s - loss: 1.0963 - acc: 0.349 - ETA: 2s - loss: 1.0965 - acc: 0.347 - ETA: 2s - loss: 1.0967 - acc: 0.348 - ETA: 2s - loss: 1.0966 - acc: 0.351 - ETA: 2s - loss: 1.0965 - acc: 0.352 - ETA: 2s - loss: 1.0970 - acc: 0.351 - ETA: 1s - loss: 1.0965 - acc: 0.354 - ETA: 1s - loss: 1.0969 - acc: 0.353 - ETA: 1s - loss: 1.0967 - acc: 0.355 - ETA: 1s - loss: 1.0970 - acc: 0.354 - ETA: 0s - loss: 1.0970 - acc: 0.355 - ETA: 0s - loss: 1.0967 - acc: 0.356 - ETA: 0s - loss: 1.0970 - acc: 0.355 - ETA: 0s - loss: 1.0969 - acc: 0.357 - 13s - loss: 1.0969 - acc: 0.3556 - val_loss: 1.0958 - val_acc: 0.3610\n",
      "Epoch 7/50\n",
      "50/50 [==============================] - ETA: 7s - loss: 1.0842 - acc: 0.468 - ETA: 8s - loss: 1.0872 - acc: 0.421 - ETA: 8s - loss: 1.0883 - acc: 0.406 - ETA: 8s - loss: 1.0887 - acc: 0.398 - ETA: 7s - loss: 1.0904 - acc: 0.381 - ETA: 7s - loss: 1.0897 - acc: 0.375 - ETA: 7s - loss: 1.0887 - acc: 0.375 - ETA: 7s - loss: 1.0893 - acc: 0.378 - ETA: 7s - loss: 1.0912 - acc: 0.375 - ETA: 7s - loss: 1.0903 - acc: 0.371 - ETA: 7s - loss: 1.0898 - acc: 0.372 - ETA: 6s - loss: 1.0891 - acc: 0.367 - ETA: 6s - loss: 1.0867 - acc: 0.379 - ETA: 6s - loss: 1.0886 - acc: 0.372 - ETA: 6s - loss: 1.0917 - acc: 0.362 - ETA: 6s - loss: 1.0903 - acc: 0.367 - ETA: 6s - loss: 1.0894 - acc: 0.373 - ETA: 6s - loss: 1.0923 - acc: 0.364 - ETA: 5s - loss: 1.0919 - acc: 0.365 - ETA: 5s - loss: 1.0925 - acc: 0.362 - ETA: 5s - loss: 1.0936 - acc: 0.361 - ETA: 5s - loss: 1.0929 - acc: 0.360 - ETA: 5s - loss: 1.0923 - acc: 0.366 - ETA: 5s - loss: 1.0941 - acc: 0.362 - ETA: 5s - loss: 1.0958 - acc: 0.361 - ETA: 4s - loss: 1.0957 - acc: 0.360 - ETA: 4s - loss: 1.0964 - acc: 0.357 - ETA: 4s - loss: 1.0962 - acc: 0.362 - ETA: 4s - loss: 1.0962 - acc: 0.364 - ETA: 4s - loss: 1.0961 - acc: 0.364 - ETA: 4s - loss: 1.0965 - acc: 0.360 - ETA: 3s - loss: 1.0965 - acc: 0.357 - ETA: 3s - loss: 1.0962 - acc: 0.357 - ETA: 3s - loss: 1.0966 - acc: 0.353 - ETA: 3s - loss: 1.0968 - acc: 0.352 - ETA: 3s - loss: 1.0965 - acc: 0.352 - ETA: 2s - loss: 1.0964 - acc: 0.355 - ETA: 2s - loss: 1.0963 - acc: 0.358 - ETA: 2s - loss: 1.0958 - acc: 0.361 - ETA: 2s - loss: 1.0955 - acc: 0.359 - ETA: 1s - loss: 1.0948 - acc: 0.362 - ETA: 1s - loss: 1.0953 - acc: 0.360 - ETA: 1s - loss: 1.0956 - acc: 0.359 - ETA: 1s - loss: 1.0951 - acc: 0.360 - ETA: 1s - loss: 1.0950 - acc: 0.359 - ETA: 0s - loss: 1.0946 - acc: 0.362 - ETA: 0s - loss: 1.0940 - acc: 0.363 - ETA: 0s - loss: 1.0938 - acc: 0.363 - ETA: 0s - loss: 1.0940 - acc: 0.362 - 13s - loss: 1.0950 - acc: 0.3612 - val_loss: 1.1065 - val_acc: 0.3090\n",
      "Epoch 8/50\n",
      "50/50 [==============================] - ETA: 10s - loss: 1.1240 - acc: 0.31 - ETA: 11s - loss: 1.1143 - acc: 0.28 - ETA: 11s - loss: 1.1035 - acc: 0.35 - ETA: 11s - loss: 1.1038 - acc: 0.32 - ETA: 10s - loss: 1.1010 - acc: 0.32 - ETA: 10s - loss: 1.0986 - acc: 0.32 - ETA: 9s - loss: 1.0981 - acc: 0.3438 - ETA: 9s - loss: 1.0966 - acc: 0.343 - ETA: 9s - loss: 1.0954 - acc: 0.343 - ETA: 9s - loss: 1.0947 - acc: 0.359 - ETA: 8s - loss: 1.0951 - acc: 0.355 - ETA: 8s - loss: 1.0949 - acc: 0.362 - ETA: 8s - loss: 1.0939 - acc: 0.372 - ETA: 9s - loss: 1.0938 - acc: 0.370 - ETA: 9s - loss: 1.0926 - acc: 0.375 - ETA: 8s - loss: 1.0922 - acc: 0.375 - ETA: 8s - loss: 1.0913 - acc: 0.371 - ETA: 8s - loss: 1.0908 - acc: 0.369 - ETA: 8s - loss: 1.0910 - acc: 0.370 - ETA: 7s - loss: 1.0904 - acc: 0.371 - ETA: 7s - loss: 1.0916 - acc: 0.373 - ETA: 7s - loss: 1.0926 - acc: 0.375 - ETA: 7s - loss: 1.0922 - acc: 0.377 - ETA: 6s - loss: 1.0929 - acc: 0.372 - ETA: 6s - loss: 1.0912 - acc: 0.372 - ETA: 6s - loss: 1.0912 - acc: 0.370 - ETA: 6s - loss: 1.0910 - acc: 0.372 - ETA: 5s - loss: 1.0916 - acc: 0.372 - ETA: 5s - loss: 1.0914 - acc: 0.375 - ETA: 5s - loss: 1.0908 - acc: 0.378 - ETA: 5s - loss: 1.0905 - acc: 0.378 - ETA: 4s - loss: 1.0893 - acc: 0.379 - ETA: 4s - loss: 1.0900 - acc: 0.376 - ETA: 4s - loss: 1.0893 - acc: 0.380 - ETA: 4s - loss: 1.0896 - acc: 0.379 - ETA: 3s - loss: 1.0905 - acc: 0.377 - ETA: 3s - loss: 1.0920 - acc: 0.376 - ETA: 3s - loss: 1.0917 - acc: 0.378 - ETA: 3s - loss: 1.0912 - acc: 0.381 - ETA: 2s - loss: 1.0908 - acc: 0.383 - ETA: 2s - loss: 1.0902 - acc: 0.382 - ETA: 2s - loss: 1.0905 - acc: 0.381 - ETA: 1s - loss: 1.0916 - acc: 0.380 - ETA: 1s - loss: 1.0916 - acc: 0.381 - ETA: 1s - loss: 1.0909 - acc: 0.383 - ETA: 1s - loss: 1.0907 - acc: 0.383 - ETA: 0s - loss: 1.0912 - acc: 0.380 - ETA: 0s - loss: 1.0920 - acc: 0.378 - ETA: 0s - loss: 1.0918 - acc: 0.378 - 16s - loss: 1.0905 - acc: 0.3825 - val_loss: 1.1073 - val_acc: 0.3580\n",
      "Epoch 9/50\n"
     ]
    },
    {
     "name": "stdout",
     "output_type": "stream",
     "text": [
      "50/50 [==============================] - ETA: 8s - loss: 1.0893 - acc: 0.312 - ETA: 9s - loss: 1.0742 - acc: 0.421 - ETA: 9s - loss: 1.0834 - acc: 0.395 - ETA: 9s - loss: 1.0784 - acc: 0.398 - ETA: 9s - loss: 1.0984 - acc: 0.362 - ETA: 9s - loss: 1.1049 - acc: 0.359 - ETA: 8s - loss: 1.0979 - acc: 0.375 - ETA: 8s - loss: 1.1012 - acc: 0.355 - ETA: 8s - loss: 1.1003 - acc: 0.364 - ETA: 7s - loss: 1.0997 - acc: 0.350 - ETA: 7s - loss: 1.0971 - acc: 0.363 - ETA: 7s - loss: 1.0983 - acc: 0.354 - ETA: 7s - loss: 1.0976 - acc: 0.353 - ETA: 7s - loss: 1.0970 - acc: 0.357 - ETA: 7s - loss: 1.0956 - acc: 0.368 - ETA: 7s - loss: 1.0958 - acc: 0.365 - ETA: 6s - loss: 1.0953 - acc: 0.360 - ETA: 6s - loss: 1.0944 - acc: 0.366 - ETA: 6s - loss: 1.0941 - acc: 0.368 - ETA: 6s - loss: 1.0940 - acc: 0.362 - ETA: 6s - loss: 1.0940 - acc: 0.364 - ETA: 6s - loss: 1.0945 - acc: 0.363 - ETA: 5s - loss: 1.0938 - acc: 0.366 - ETA: 5s - loss: 1.0945 - acc: 0.362 - ETA: 5s - loss: 1.0945 - acc: 0.358 - ETA: 5s - loss: 1.0944 - acc: 0.358 - ETA: 5s - loss: 1.0935 - acc: 0.356 - ETA: 5s - loss: 1.0937 - acc: 0.358 - ETA: 4s - loss: 1.0939 - acc: 0.356 - ETA: 4s - loss: 1.0932 - acc: 0.359 - ETA: 4s - loss: 1.0931 - acc: 0.362 - ETA: 4s - loss: 1.0934 - acc: 0.358 - ETA: 4s - loss: 1.0937 - acc: 0.356 - ETA: 4s - loss: 1.0939 - acc: 0.354 - ETA: 4s - loss: 1.0945 - acc: 0.354 - ETA: 3s - loss: 1.0944 - acc: 0.355 - ETA: 3s - loss: 1.0940 - acc: 0.358 - ETA: 3s - loss: 1.0938 - acc: 0.356 - ETA: 3s - loss: 1.0940 - acc: 0.355 - ETA: 2s - loss: 1.0939 - acc: 0.356 - ETA: 2s - loss: 1.0936 - acc: 0.355 - ETA: 2s - loss: 1.0933 - acc: 0.357 - ETA: 2s - loss: 1.0937 - acc: 0.354 - ETA: 1s - loss: 1.0935 - acc: 0.355 - ETA: 1s - loss: 1.0937 - acc: 0.354 - ETA: 1s - loss: 1.0932 - acc: 0.358 - ETA: 0s - loss: 1.0925 - acc: 0.361 - ETA: 0s - loss: 1.0913 - acc: 0.365 - ETA: 0s - loss: 1.0924 - acc: 0.362 - 16s - loss: 1.0920 - acc: 0.3638 - val_loss: 1.1090 - val_acc: 0.3130\n",
      "Epoch 10/50\n",
      "50/50 [==============================] - ETA: 6s - loss: 1.0809 - acc: 0.437 - ETA: 7s - loss: 1.0585 - acc: 0.437 - ETA: 7s - loss: 1.0750 - acc: 0.375 - ETA: 7s - loss: 1.0790 - acc: 0.375 - ETA: 7s - loss: 1.0742 - acc: 0.387 - ETA: 7s - loss: 1.0925 - acc: 0.354 - ETA: 7s - loss: 1.0908 - acc: 0.370 - ETA: 6s - loss: 1.0874 - acc: 0.371 - ETA: 6s - loss: 1.0847 - acc: 0.385 - ETA: 6s - loss: 1.0837 - acc: 0.387 - ETA: 6s - loss: 1.0851 - acc: 0.389 - ETA: 6s - loss: 1.0845 - acc: 0.398 - ETA: 6s - loss: 1.0847 - acc: 0.382 - ETA: 6s - loss: 1.0855 - acc: 0.372 - ETA: 6s - loss: 1.0871 - acc: 0.360 - ETA: 6s - loss: 1.0866 - acc: 0.363 - ETA: 6s - loss: 1.0862 - acc: 0.367 - ETA: 6s - loss: 1.0830 - acc: 0.373 - ETA: 5s - loss: 1.0842 - acc: 0.365 - ETA: 5s - loss: 1.0837 - acc: 0.371 - ETA: 5s - loss: 1.0806 - acc: 0.373 - ETA: 5s - loss: 1.0822 - acc: 0.369 - ETA: 5s - loss: 1.0841 - acc: 0.361 - ETA: 5s - loss: 1.0829 - acc: 0.360 - ETA: 5s - loss: 1.0835 - acc: 0.360 - ETA: 4s - loss: 1.0836 - acc: 0.365 - ETA: 4s - loss: 1.0843 - acc: 0.368 - ETA: 4s - loss: 1.0840 - acc: 0.369 - ETA: 4s - loss: 1.0829 - acc: 0.371 - ETA: 4s - loss: 1.0830 - acc: 0.371 - ETA: 3s - loss: 1.0805 - acc: 0.375 - ETA: 3s - loss: 1.0801 - acc: 0.375 - ETA: 3s - loss: 1.0805 - acc: 0.375 - ETA: 3s - loss: 1.0808 - acc: 0.375 - ETA: 3s - loss: 1.0805 - acc: 0.377 - ETA: 2s - loss: 1.0799 - acc: 0.378 - ETA: 2s - loss: 1.0806 - acc: 0.379 - ETA: 2s - loss: 1.0799 - acc: 0.379 - ETA: 2s - loss: 1.0779 - acc: 0.383 - ETA: 2s - loss: 1.0794 - acc: 0.379 - ETA: 1s - loss: 1.0782 - acc: 0.380 - ETA: 1s - loss: 1.0773 - acc: 0.382 - ETA: 1s - loss: 1.0774 - acc: 0.381 - ETA: 1s - loss: 1.0759 - acc: 0.384 - ETA: 1s - loss: 1.0759 - acc: 0.381 - ETA: 0s - loss: 1.0754 - acc: 0.383 - ETA: 0s - loss: 1.0748 - acc: 0.384 - ETA: 0s - loss: 1.0734 - acc: 0.385 - ETA: 0s - loss: 1.0744 - acc: 0.385 - 12s - loss: 1.0747 - acc: 0.3862 - val_loss: 1.0881 - val_acc: 0.3740\n",
      "Epoch 11/50\n",
      "50/50 [==============================] - ETA: 7s - loss: 1.0461 - acc: 0.406 - ETA: 7s - loss: 1.0865 - acc: 0.359 - ETA: 7s - loss: 1.0891 - acc: 0.354 - ETA: 7s - loss: 1.0970 - acc: 0.382 - ETA: 7s - loss: 1.0868 - acc: 0.387 - ETA: 7s - loss: 1.0798 - acc: 0.385 - ETA: 7s - loss: 1.0760 - acc: 0.392 - ETA: 7s - loss: 1.0816 - acc: 0.390 - ETA: 7s - loss: 1.0820 - acc: 0.385 - ETA: 6s - loss: 1.0784 - acc: 0.387 - ETA: 6s - loss: 1.0792 - acc: 0.389 - ETA: 6s - loss: 1.0817 - acc: 0.377 - ETA: 6s - loss: 1.0773 - acc: 0.375 - ETA: 6s - loss: 1.0800 - acc: 0.379 - ETA: 6s - loss: 1.0800 - acc: 0.379 - ETA: 6s - loss: 1.0817 - acc: 0.371 - ETA: 6s - loss: 1.0820 - acc: 0.371 - ETA: 5s - loss: 1.0764 - acc: 0.383 - ETA: 5s - loss: 1.0734 - acc: 0.383 - ETA: 5s - loss: 1.0705 - acc: 0.387 - ETA: 5s - loss: 1.0692 - acc: 0.395 - ETA: 5s - loss: 1.0702 - acc: 0.392 - ETA: 5s - loss: 1.0727 - acc: 0.394 - ETA: 5s - loss: 1.0702 - acc: 0.395 - ETA: 4s - loss: 1.0706 - acc: 0.393 - ETA: 4s - loss: 1.0690 - acc: 0.397 - ETA: 4s - loss: 1.0684 - acc: 0.398 - ETA: 4s - loss: 1.0704 - acc: 0.394 - ETA: 4s - loss: 1.0692 - acc: 0.396 - ETA: 3s - loss: 1.0663 - acc: 0.400 - ETA: 3s - loss: 1.0661 - acc: 0.399 - ETA: 3s - loss: 1.0676 - acc: 0.401 - ETA: 3s - loss: 1.0679 - acc: 0.400 - ETA: 3s - loss: 1.0680 - acc: 0.403 - ETA: 3s - loss: 1.0691 - acc: 0.402 - ETA: 2s - loss: 1.0719 - acc: 0.400 - ETA: 2s - loss: 1.0732 - acc: 0.398 - ETA: 2s - loss: 1.0741 - acc: 0.396 - ETA: 2s - loss: 1.0733 - acc: 0.395 - ETA: 2s - loss: 1.0732 - acc: 0.395 - ETA: 1s - loss: 1.0736 - acc: 0.394 - ETA: 1s - loss: 1.0744 - acc: 0.392 - ETA: 1s - loss: 1.0752 - acc: 0.390 - ETA: 1s - loss: 1.0758 - acc: 0.390 - ETA: 1s - loss: 1.0748 - acc: 0.393 - ETA: 0s - loss: 1.0751 - acc: 0.392 - ETA: 0s - loss: 1.0749 - acc: 0.393 - ETA: 0s - loss: 1.0763 - acc: 0.388 - ETA: 0s - loss: 1.0765 - acc: 0.388 - 14s - loss: 1.0760 - acc: 0.3894 - val_loss: 1.0802 - val_acc: 0.4050\n",
      "Epoch 12/50\n",
      "50/50 [==============================] - ETA: 12s - loss: 1.0803 - acc: 0.31 - ETA: 10s - loss: 1.0855 - acc: 0.34 - ETA: 9s - loss: 1.0791 - acc: 0.4271 - ETA: 9s - loss: 1.0784 - acc: 0.453 - ETA: 9s - loss: 1.0782 - acc: 0.456 - ETA: 9s - loss: 1.0744 - acc: 0.453 - ETA: 8s - loss: 1.0732 - acc: 0.442 - ETA: 8s - loss: 1.0730 - acc: 0.441 - ETA: 8s - loss: 1.0677 - acc: 0.458 - ETA: 8s - loss: 1.0663 - acc: 0.456 - ETA: 8s - loss: 1.0570 - acc: 0.471 - ETA: 8s - loss: 1.0561 - acc: 0.468 - ETA: 7s - loss: 1.0604 - acc: 0.456 - ETA: 8s - loss: 1.0574 - acc: 0.459 - ETA: 8s - loss: 1.0584 - acc: 0.452 - ETA: 8s - loss: 1.0593 - acc: 0.443 - ETA: 8s - loss: 1.0568 - acc: 0.446 - ETA: 8s - loss: 1.0581 - acc: 0.437 - ETA: 8s - loss: 1.0577 - acc: 0.429 - ETA: 7s - loss: 1.0594 - acc: 0.429 - ETA: 7s - loss: 1.0583 - acc: 0.428 - ETA: 7s - loss: 1.0615 - acc: 0.426 - ETA: 7s - loss: 1.0614 - acc: 0.426 - ETA: 7s - loss: 1.0567 - acc: 0.433 - ETA: 7s - loss: 1.0543 - acc: 0.440 - ETA: 6s - loss: 1.0532 - acc: 0.439 - ETA: 6s - loss: 1.0544 - acc: 0.442 - ETA: 6s - loss: 1.0548 - acc: 0.440 - ETA: 6s - loss: 1.0528 - acc: 0.440 - ETA: 5s - loss: 1.0515 - acc: 0.440 - ETA: 5s - loss: 1.0604 - acc: 0.435 - ETA: 5s - loss: 1.0634 - acc: 0.434 - ETA: 4s - loss: 1.0644 - acc: 0.430 - ETA: 4s - loss: 1.0650 - acc: 0.431 - ETA: 4s - loss: 1.0655 - acc: 0.429 - ETA: 3s - loss: 1.0647 - acc: 0.430 - ETA: 3s - loss: 1.0661 - acc: 0.429 - ETA: 3s - loss: 1.0675 - acc: 0.428 - ETA: 3s - loss: 1.0690 - acc: 0.423 - ETA: 2s - loss: 1.0698 - acc: 0.421 - ETA: 2s - loss: 1.0704 - acc: 0.420 - ETA: 2s - loss: 1.0717 - acc: 0.419 - ETA: 2s - loss: 1.0709 - acc: 0.417 - ETA: 1s - loss: 1.0718 - acc: 0.413 - ETA: 1s - loss: 1.0729 - acc: 0.409 - ETA: 1s - loss: 1.0725 - acc: 0.409 - ETA: 0s - loss: 1.0731 - acc: 0.407 - ETA: 0s - loss: 1.0731 - acc: 0.406 - ETA: 0s - loss: 1.0728 - acc: 0.405 - 16s - loss: 1.0732 - acc: 0.4056 - val_loss: 1.0868 - val_acc: 0.3810\n",
      "Epoch 13/50\n"
     ]
    },
    {
     "name": "stdout",
     "output_type": "stream",
     "text": [
      "50/50 [==============================] - ETA: 7s - loss: 1.0982 - acc: 0.312 - ETA: 7s - loss: 1.0954 - acc: 0.296 - ETA: 7s - loss: 1.0852 - acc: 0.343 - ETA: 7s - loss: 1.0860 - acc: 0.359 - ETA: 7s - loss: 1.0838 - acc: 0.350 - ETA: 7s - loss: 1.0772 - acc: 0.375 - ETA: 6s - loss: 1.0800 - acc: 0.375 - ETA: 6s - loss: 1.0759 - acc: 0.398 - ETA: 6s - loss: 1.0756 - acc: 0.388 - ETA: 7s - loss: 1.0769 - acc: 0.384 - ETA: 7s - loss: 1.0827 - acc: 0.372 - ETA: 7s - loss: 1.0819 - acc: 0.372 - ETA: 7s - loss: 1.0841 - acc: 0.360 - ETA: 7s - loss: 1.0879 - acc: 0.354 - ETA: 7s - loss: 1.0851 - acc: 0.360 - ETA: 7s - loss: 1.0844 - acc: 0.367 - ETA: 6s - loss: 1.0847 - acc: 0.367 - ETA: 6s - loss: 1.0847 - acc: 0.369 - ETA: 6s - loss: 1.0850 - acc: 0.378 - ETA: 6s - loss: 1.0849 - acc: 0.373 - ETA: 6s - loss: 1.0850 - acc: 0.372 - ETA: 6s - loss: 1.0856 - acc: 0.369 - ETA: 5s - loss: 1.0849 - acc: 0.377 - ETA: 5s - loss: 1.0843 - acc: 0.382 - ETA: 5s - loss: 1.0838 - acc: 0.383 - ETA: 5s - loss: 1.0827 - acc: 0.389 - ETA: 5s - loss: 1.0809 - acc: 0.391 - ETA: 4s - loss: 1.0821 - acc: 0.389 - ETA: 4s - loss: 1.0837 - acc: 0.387 - ETA: 4s - loss: 1.0839 - acc: 0.388 - ETA: 4s - loss: 1.0827 - acc: 0.389 - ETA: 4s - loss: 1.0815 - acc: 0.394 - ETA: 3s - loss: 1.0812 - acc: 0.398 - ETA: 3s - loss: 1.0792 - acc: 0.402 - ETA: 3s - loss: 1.0791 - acc: 0.404 - ETA: 3s - loss: 1.0773 - acc: 0.413 - ETA: 2s - loss: 1.0771 - acc: 0.411 - ETA: 2s - loss: 1.0769 - acc: 0.411 - ETA: 2s - loss: 1.0769 - acc: 0.409 - ETA: 2s - loss: 1.0758 - acc: 0.410 - ETA: 2s - loss: 1.0777 - acc: 0.408 - ETA: 1s - loss: 1.0766 - acc: 0.410 - ETA: 1s - loss: 1.0750 - acc: 0.412 - ETA: 1s - loss: 1.0760 - acc: 0.411 - ETA: 1s - loss: 1.0759 - acc: 0.412 - ETA: 0s - loss: 1.0778 - acc: 0.411 - ETA: 0s - loss: 1.0784 - acc: 0.411 - ETA: 0s - loss: 1.0766 - acc: 0.416 - ETA: 0s - loss: 1.0768 - acc: 0.413 - 14s - loss: 1.0768 - acc: 0.4113 - val_loss: 1.0823 - val_acc: 0.3730\n",
      "Epoch 14/50\n",
      "50/50 [==============================] - ETA: 10s - loss: 1.0504 - acc: 0.43 - ETA: 10s - loss: 1.0247 - acc: 0.46 - ETA: 9s - loss: 1.0736 - acc: 0.4271 - ETA: 9s - loss: 1.0830 - acc: 0.390 - ETA: 8s - loss: 1.0853 - acc: 0.393 - ETA: 8s - loss: 1.0798 - acc: 0.395 - ETA: 8s - loss: 1.0732 - acc: 0.410 - ETA: 8s - loss: 1.0696 - acc: 0.418 - ETA: 8s - loss: 1.0730 - acc: 0.406 - ETA: 7s - loss: 1.0740 - acc: 0.403 - ETA: 7s - loss: 1.0732 - acc: 0.400 - ETA: 7s - loss: 1.0751 - acc: 0.393 - ETA: 7s - loss: 1.0741 - acc: 0.391 - ETA: 7s - loss: 1.0750 - acc: 0.386 - ETA: 7s - loss: 1.0726 - acc: 0.395 - ETA: 7s - loss: 1.0715 - acc: 0.396 - ETA: 6s - loss: 1.0729 - acc: 0.389 - ETA: 6s - loss: 1.0726 - acc: 0.388 - ETA: 6s - loss: 1.0721 - acc: 0.386 - ETA: 6s - loss: 1.0757 - acc: 0.385 - ETA: 6s - loss: 1.0754 - acc: 0.385 - ETA: 6s - loss: 1.0713 - acc: 0.390 - ETA: 6s - loss: 1.0739 - acc: 0.387 - ETA: 5s - loss: 1.0733 - acc: 0.391 - ETA: 5s - loss: 1.0700 - acc: 0.397 - ETA: 5s - loss: 1.0704 - acc: 0.393 - ETA: 5s - loss: 1.0702 - acc: 0.390 - ETA: 5s - loss: 1.0695 - acc: 0.394 - ETA: 4s - loss: 1.0696 - acc: 0.392 - ETA: 4s - loss: 1.0704 - acc: 0.392 - ETA: 4s - loss: 1.0704 - acc: 0.392 - ETA: 4s - loss: 1.0704 - acc: 0.391 - ETA: 3s - loss: 1.0698 - acc: 0.395 - ETA: 3s - loss: 1.0700 - acc: 0.398 - ETA: 3s - loss: 1.0704 - acc: 0.397 - ETA: 3s - loss: 1.0688 - acc: 0.399 - ETA: 3s - loss: 1.0689 - acc: 0.400 - ETA: 2s - loss: 1.0692 - acc: 0.400 - ETA: 2s - loss: 1.0727 - acc: 0.400 - ETA: 2s - loss: 1.0758 - acc: 0.397 - ETA: 2s - loss: 1.0732 - acc: 0.403 - ETA: 1s - loss: 1.0730 - acc: 0.404 - ETA: 1s - loss: 1.0737 - acc: 0.404 - ETA: 1s - loss: 1.0723 - acc: 0.407 - ETA: 1s - loss: 1.0730 - acc: 0.406 - ETA: 0s - loss: 1.0783 - acc: 0.402 - ETA: 0s - loss: 1.0766 - acc: 0.406 - ETA: 0s - loss: 1.0760 - acc: 0.408 - ETA: 0s - loss: 1.0752 - acc: 0.410 - 13s - loss: 1.0747 - acc: 0.4125 - val_loss: 1.0676 - val_acc: 0.4460\n",
      "Epoch 15/50\n",
      "50/50 [==============================] - ETA: 9s - loss: 1.0248 - acc: 0.406 - ETA: 9s - loss: 1.0401 - acc: 0.453 - ETA: 9s - loss: 1.0580 - acc: 0.427 - ETA: 9s - loss: 1.0509 - acc: 0.453 - ETA: 8s - loss: 1.0654 - acc: 0.425 - ETA: 8s - loss: 1.0646 - acc: 0.427 - ETA: 8s - loss: 1.0740 - acc: 0.392 - ETA: 8s - loss: 1.0723 - acc: 0.390 - ETA: 8s - loss: 1.0754 - acc: 0.375 - ETA: 8s - loss: 1.0700 - acc: 0.400 - ETA: 8s - loss: 1.0675 - acc: 0.409 - ETA: 7s - loss: 1.0648 - acc: 0.408 - ETA: 7s - loss: 1.0692 - acc: 0.403 - ETA: 7s - loss: 1.0697 - acc: 0.397 - ETA: 7s - loss: 1.0679 - acc: 0.406 - ETA: 7s - loss: 1.0711 - acc: 0.406 - ETA: 6s - loss: 1.0696 - acc: 0.413 - ETA: 6s - loss: 1.0692 - acc: 0.414 - ETA: 6s - loss: 1.0722 - acc: 0.411 - ETA: 6s - loss: 1.0711 - acc: 0.407 - ETA: 6s - loss: 1.0691 - acc: 0.409 - ETA: 5s - loss: 1.0660 - acc: 0.420 - ETA: 5s - loss: 1.0653 - acc: 0.423 - ETA: 5s - loss: 1.0644 - acc: 0.421 - ETA: 5s - loss: 1.0642 - acc: 0.422 - ETA: 5s - loss: 1.0634 - acc: 0.426 - ETA: 5s - loss: 1.0616 - acc: 0.428 - ETA: 4s - loss: 1.0631 - acc: 0.425 - ETA: 4s - loss: 1.0633 - acc: 0.425 - ETA: 4s - loss: 1.0642 - acc: 0.425 - ETA: 4s - loss: 1.0639 - acc: 0.428 - ETA: 4s - loss: 1.0628 - acc: 0.427 - ETA: 3s - loss: 1.0625 - acc: 0.428 - ETA: 3s - loss: 1.0620 - acc: 0.428 - ETA: 3s - loss: 1.0614 - acc: 0.429 - ETA: 3s - loss: 1.0613 - acc: 0.429 - ETA: 2s - loss: 1.0615 - acc: 0.428 - ETA: 2s - loss: 1.0619 - acc: 0.426 - ETA: 2s - loss: 1.0618 - acc: 0.423 - ETA: 2s - loss: 1.0608 - acc: 0.427 - ETA: 2s - loss: 1.0610 - acc: 0.425 - ETA: 1s - loss: 1.0619 - acc: 0.427 - ETA: 1s - loss: 1.0611 - acc: 0.426 - ETA: 1s - loss: 1.0610 - acc: 0.424 - ETA: 1s - loss: 1.0605 - acc: 0.424 - ETA: 0s - loss: 1.0594 - acc: 0.424 - ETA: 0s - loss: 1.0617 - acc: 0.421 - ETA: 0s - loss: 1.0614 - acc: 0.421 - ETA: 0s - loss: 1.0619 - acc: 0.420 - 13s - loss: 1.0608 - acc: 0.4188 - val_loss: 1.0554 - val_acc: 0.4370\n",
      "Epoch 16/50\n",
      "50/50 [==============================] - ETA: 7s - loss: 1.0587 - acc: 0.468 - ETA: 8s - loss: 1.0493 - acc: 0.468 - ETA: 8s - loss: 1.0546 - acc: 0.447 - ETA: 8s - loss: 1.0540 - acc: 0.437 - ETA: 8s - loss: 1.0565 - acc: 0.431 - ETA: 8s - loss: 1.0614 - acc: 0.427 - ETA: 8s - loss: 1.0636 - acc: 0.433 - ETA: 7s - loss: 1.0749 - acc: 0.418 - ETA: 7s - loss: 1.0754 - acc: 0.409 - ETA: 7s - loss: 1.0718 - acc: 0.412 - ETA: 7s - loss: 1.0671 - acc: 0.414 - ETA: 7s - loss: 1.0633 - acc: 0.416 - ETA: 7s - loss: 1.0659 - acc: 0.415 - ETA: 7s - loss: 1.0622 - acc: 0.424 - ETA: 6s - loss: 1.0651 - acc: 0.416 - ETA: 6s - loss: 1.0675 - acc: 0.416 - ETA: 6s - loss: 1.0644 - acc: 0.419 - ETA: 6s - loss: 1.0629 - acc: 0.425 - ETA: 6s - loss: 1.0609 - acc: 0.432 - ETA: 6s - loss: 1.0605 - acc: 0.431 - ETA: 6s - loss: 1.0603 - acc: 0.428 - ETA: 6s - loss: 1.0621 - acc: 0.423 - ETA: 5s - loss: 1.0587 - acc: 0.430 - ETA: 5s - loss: 1.0574 - acc: 0.432 - ETA: 5s - loss: 1.0570 - acc: 0.435 - ETA: 5s - loss: 1.0553 - acc: 0.438 - ETA: 5s - loss: 1.0562 - acc: 0.439 - ETA: 4s - loss: 1.0520 - acc: 0.448 - ETA: 4s - loss: 1.0497 - acc: 0.451 - ETA: 4s - loss: 1.0493 - acc: 0.451 - ETA: 4s - loss: 1.0500 - acc: 0.451 - ETA: 3s - loss: 1.0515 - acc: 0.450 - ETA: 3s - loss: 1.0528 - acc: 0.449 - ETA: 3s - loss: 1.0500 - acc: 0.453 - ETA: 3s - loss: 1.0479 - acc: 0.454 - ETA: 3s - loss: 1.0495 - acc: 0.454 - ETA: 2s - loss: 1.0481 - acc: 0.456 - ETA: 2s - loss: 1.0483 - acc: 0.454 - ETA: 2s - loss: 1.0488 - acc: 0.450 - ETA: 2s - loss: 1.0492 - acc: 0.449 - ETA: 2s - loss: 1.0496 - acc: 0.445 - ETA: 1s - loss: 1.0492 - acc: 0.443 - ETA: 1s - loss: 1.0491 - acc: 0.442 - ETA: 1s - loss: 1.0508 - acc: 0.440 - ETA: 1s - loss: 1.0501 - acc: 0.443 - ETA: 0s - loss: 1.0506 - acc: 0.444 - ETA: 0s - loss: 1.0507 - acc: 0.444 - ETA: 0s - loss: 1.0499 - acc: 0.445 - ETA: 0s - loss: 1.0512 - acc: 0.443 - 12s - loss: 1.0511 - acc: 0.4438 - val_loss: 1.0627 - val_acc: 0.4300\n",
      "Epoch 17/50\n"
     ]
    },
    {
     "name": "stdout",
     "output_type": "stream",
     "text": [
      "50/50 [==============================] - ETA: 9s - loss: 1.1115 - acc: 0.343 - ETA: 8s - loss: 1.0996 - acc: 0.437 - ETA: 8s - loss: 1.0623 - acc: 0.468 - ETA: 8s - loss: 1.0427 - acc: 0.476 - ETA: 7s - loss: 1.0408 - acc: 0.475 - ETA: 7s - loss: 1.0393 - acc: 0.474 - ETA: 7s - loss: 1.0385 - acc: 0.482 - ETA: 7s - loss: 1.0244 - acc: 0.507 - ETA: 7s - loss: 1.0298 - acc: 0.500 - ETA: 7s - loss: 1.0443 - acc: 0.481 - ETA: 6s - loss: 1.0515 - acc: 0.471 - ETA: 6s - loss: 1.0470 - acc: 0.468 - ETA: 6s - loss: 1.0523 - acc: 0.463 - ETA: 6s - loss: 1.0569 - acc: 0.444 - ETA: 6s - loss: 1.0564 - acc: 0.445 - ETA: 6s - loss: 1.0556 - acc: 0.443 - ETA: 6s - loss: 1.0540 - acc: 0.444 - ETA: 6s - loss: 1.0519 - acc: 0.444 - ETA: 6s - loss: 1.0561 - acc: 0.442 - ETA: 6s - loss: 1.0538 - acc: 0.440 - ETA: 5s - loss: 1.0538 - acc: 0.437 - ETA: 5s - loss: 1.0570 - acc: 0.433 - ETA: 5s - loss: 1.0566 - acc: 0.432 - ETA: 5s - loss: 1.0591 - acc: 0.425 - ETA: 5s - loss: 1.0576 - acc: 0.428 - ETA: 5s - loss: 1.0556 - acc: 0.430 - ETA: 5s - loss: 1.0537 - acc: 0.431 - ETA: 4s - loss: 1.0518 - acc: 0.433 - ETA: 4s - loss: 1.0537 - acc: 0.428 - ETA: 4s - loss: 1.0558 - acc: 0.428 - ETA: 4s - loss: 1.0533 - acc: 0.431 - ETA: 4s - loss: 1.0540 - acc: 0.431 - ETA: 3s - loss: 1.0538 - acc: 0.429 - ETA: 3s - loss: 1.0543 - acc: 0.426 - ETA: 3s - loss: 1.0538 - acc: 0.426 - ETA: 3s - loss: 1.0542 - acc: 0.425 - ETA: 2s - loss: 1.0544 - acc: 0.424 - ETA: 2s - loss: 1.0537 - acc: 0.424 - ETA: 2s - loss: 1.0527 - acc: 0.426 - ETA: 2s - loss: 1.0532 - acc: 0.426 - ETA: 2s - loss: 1.0559 - acc: 0.425 - ETA: 1s - loss: 1.0547 - acc: 0.425 - ETA: 1s - loss: 1.0525 - acc: 0.430 - ETA: 1s - loss: 1.0530 - acc: 0.430 - ETA: 1s - loss: 1.0525 - acc: 0.431 - ETA: 0s - loss: 1.0512 - acc: 0.434 - ETA: 0s - loss: 1.0503 - acc: 0.436 - ETA: 0s - loss: 1.0525 - acc: 0.434 - ETA: 0s - loss: 1.0535 - acc: 0.433 - 14s - loss: 1.0525 - acc: 0.4344 - val_loss: 1.0728 - val_acc: 0.4140\n",
      "Epoch 18/50\n",
      "50/50 [==============================] - ETA: 9s - loss: 1.1094 - acc: 0.343 - ETA: 9s - loss: 1.1505 - acc: 0.296 - ETA: 10s - loss: 1.1148 - acc: 0.37 - ETA: 9s - loss: 1.0903 - acc: 0.4297 - ETA: 9s - loss: 1.0812 - acc: 0.431 - ETA: 9s - loss: 1.0780 - acc: 0.432 - ETA: 9s - loss: 1.0812 - acc: 0.424 - ETA: 9s - loss: 1.0843 - acc: 0.406 - ETA: 10s - loss: 1.0888 - acc: 0.38 - ETA: 10s - loss: 1.0846 - acc: 0.39 - ETA: 10s - loss: 1.0854 - acc: 0.39 - ETA: 10s - loss: 1.0799 - acc: 0.40 - ETA: 10s - loss: 1.0774 - acc: 0.41 - ETA: 9s - loss: 1.0707 - acc: 0.4219 - ETA: 9s - loss: 1.0648 - acc: 0.433 - ETA: 9s - loss: 1.0633 - acc: 0.431 - ETA: 9s - loss: 1.0625 - acc: 0.430 - ETA: 9s - loss: 1.0617 - acc: 0.430 - ETA: 8s - loss: 1.0601 - acc: 0.430 - ETA: 8s - loss: 1.0571 - acc: 0.429 - ETA: 8s - loss: 1.0574 - acc: 0.428 - ETA: 8s - loss: 1.0547 - acc: 0.430 - ETA: 7s - loss: 1.0557 - acc: 0.429 - ETA: 7s - loss: 1.0559 - acc: 0.431 - ETA: 7s - loss: 1.0581 - acc: 0.427 - ETA: 6s - loss: 1.0560 - acc: 0.426 - ETA: 6s - loss: 1.0568 - acc: 0.424 - ETA: 6s - loss: 1.0556 - acc: 0.429 - ETA: 6s - loss: 1.0558 - acc: 0.430 - ETA: 5s - loss: 1.0530 - acc: 0.431 - ETA: 5s - loss: 1.0515 - acc: 0.433 - ETA: 5s - loss: 1.0500 - acc: 0.435 - ETA: 5s - loss: 1.0505 - acc: 0.432 - ETA: 4s - loss: 1.0502 - acc: 0.432 - ETA: 4s - loss: 1.0479 - acc: 0.438 - ETA: 4s - loss: 1.0502 - acc: 0.434 - ETA: 3s - loss: 1.0488 - acc: 0.436 - ETA: 3s - loss: 1.0481 - acc: 0.437 - ETA: 3s - loss: 1.0495 - acc: 0.435 - ETA: 2s - loss: 1.0452 - acc: 0.439 - ETA: 2s - loss: 1.0472 - acc: 0.437 - ETA: 2s - loss: 1.0451 - acc: 0.439 - ETA: 2s - loss: 1.0454 - acc: 0.438 - ETA: 1s - loss: 1.0434 - acc: 0.442 - ETA: 1s - loss: 1.0411 - acc: 0.444 - ETA: 1s - loss: 1.0400 - acc: 0.447 - ETA: 0s - loss: 1.0414 - acc: 0.445 - ETA: 0s - loss: 1.0408 - acc: 0.446 - ETA: 0s - loss: 1.0404 - acc: 0.444 - 16s - loss: 1.0400 - acc: 0.4450 - val_loss: 1.0599 - val_acc: 0.4190\n",
      "Epoch 19/50\n",
      "50/50 [==============================] - ETA: 9s - loss: 0.9880 - acc: 0.500 - ETA: 10s - loss: 0.9772 - acc: 0.48 - ETA: 9s - loss: 1.0000 - acc: 0.4479 - ETA: 10s - loss: 1.0028 - acc: 0.45 - ETA: 9s - loss: 1.0109 - acc: 0.4625 - ETA: 9s - loss: 1.0092 - acc: 0.468 - ETA: 9s - loss: 1.0176 - acc: 0.464 - ETA: 9s - loss: 1.0308 - acc: 0.468 - ETA: 8s - loss: 1.0356 - acc: 0.458 - ETA: 8s - loss: 1.0251 - acc: 0.471 - ETA: 8s - loss: 1.0207 - acc: 0.465 - ETA: 8s - loss: 1.0244 - acc: 0.471 - ETA: 8s - loss: 1.0220 - acc: 0.473 - ETA: 8s - loss: 1.0262 - acc: 0.468 - ETA: 8s - loss: 1.0253 - acc: 0.472 - ETA: 8s - loss: 1.0208 - acc: 0.476 - ETA: 7s - loss: 1.0256 - acc: 0.476 - ETA: 7s - loss: 1.0321 - acc: 0.472 - ETA: 7s - loss: 1.0353 - acc: 0.467 - ETA: 7s - loss: 1.0330 - acc: 0.470 - ETA: 6s - loss: 1.0355 - acc: 0.470 - ETA: 6s - loss: 1.0373 - acc: 0.463 - ETA: 6s - loss: 1.0354 - acc: 0.466 - ETA: 6s - loss: 1.0340 - acc: 0.467 - ETA: 6s - loss: 1.0326 - acc: 0.470 - ETA: 5s - loss: 1.0387 - acc: 0.463 - ETA: 5s - loss: 1.0353 - acc: 0.463 - ETA: 5s - loss: 1.0385 - acc: 0.458 - ETA: 5s - loss: 1.0373 - acc: 0.458 - ETA: 4s - loss: 1.0369 - acc: 0.455 - ETA: 4s - loss: 1.0371 - acc: 0.455 - ETA: 4s - loss: 1.0374 - acc: 0.456 - ETA: 4s - loss: 1.0381 - acc: 0.456 - ETA: 3s - loss: 1.0389 - acc: 0.455 - ETA: 3s - loss: 1.0382 - acc: 0.452 - ETA: 3s - loss: 1.0380 - acc: 0.454 - ETA: 3s - loss: 1.0361 - acc: 0.455 - ETA: 2s - loss: 1.0370 - acc: 0.453 - ETA: 2s - loss: 1.0378 - acc: 0.453 - ETA: 2s - loss: 1.0360 - acc: 0.453 - ETA: 2s - loss: 1.0348 - acc: 0.452 - ETA: 1s - loss: 1.0356 - acc: 0.450 - ETA: 1s - loss: 1.0358 - acc: 0.451 - ETA: 1s - loss: 1.0359 - acc: 0.451 - ETA: 1s - loss: 1.0358 - acc: 0.452 - ETA: 0s - loss: 1.0353 - acc: 0.454 - ETA: 0s - loss: 1.0362 - acc: 0.452 - ETA: 0s - loss: 1.0361 - acc: 0.453 - ETA: 0s - loss: 1.0369 - acc: 0.451 - 13s - loss: 1.0356 - acc: 0.4525 - val_loss: 1.0185 - val_acc: 0.4970\n",
      "Epoch 20/50\n",
      "50/50 [==============================] - ETA: 6s - loss: 1.0517 - acc: 0.343 - ETA: 7s - loss: 1.0396 - acc: 0.390 - ETA: 7s - loss: 1.0206 - acc: 0.468 - ETA: 7s - loss: 1.0060 - acc: 0.500 - ETA: 7s - loss: 1.0022 - acc: 0.506 - ETA: 7s - loss: 1.0159 - acc: 0.484 - ETA: 6s - loss: 1.0085 - acc: 0.482 - ETA: 6s - loss: 1.0104 - acc: 0.488 - ETA: 6s - loss: 1.0120 - acc: 0.475 - ETA: 6s - loss: 1.0105 - acc: 0.468 - ETA: 6s - loss: 1.0142 - acc: 0.480 - ETA: 6s - loss: 1.0127 - acc: 0.484 - ETA: 6s - loss: 1.0140 - acc: 0.490 - ETA: 5s - loss: 1.0201 - acc: 0.479 - ETA: 5s - loss: 1.0180 - acc: 0.485 - ETA: 5s - loss: 1.0185 - acc: 0.486 - ETA: 5s - loss: 1.0220 - acc: 0.481 - ETA: 5s - loss: 1.0221 - acc: 0.479 - ETA: 5s - loss: 1.0201 - acc: 0.485 - ETA: 5s - loss: 1.0253 - acc: 0.473 - ETA: 5s - loss: 1.0251 - acc: 0.471 - ETA: 5s - loss: 1.0216 - acc: 0.478 - ETA: 5s - loss: 1.0214 - acc: 0.475 - ETA: 4s - loss: 1.0172 - acc: 0.481 - ETA: 4s - loss: 1.0161 - acc: 0.477 - ETA: 4s - loss: 1.0177 - acc: 0.476 - ETA: 4s - loss: 1.0179 - acc: 0.474 - ETA: 4s - loss: 1.0173 - acc: 0.475 - ETA: 4s - loss: 1.0157 - acc: 0.477 - ETA: 3s - loss: 1.0178 - acc: 0.475 - ETA: 3s - loss: 1.0171 - acc: 0.474 - ETA: 3s - loss: 1.0181 - acc: 0.473 - ETA: 3s - loss: 1.0185 - acc: 0.477 - ETA: 3s - loss: 1.0180 - acc: 0.478 - ETA: 3s - loss: 1.0168 - acc: 0.476 - ETA: 2s - loss: 1.0189 - acc: 0.473 - ETA: 2s - loss: 1.0184 - acc: 0.476 - ETA: 2s - loss: 1.0205 - acc: 0.476 - ETA: 2s - loss: 1.0186 - acc: 0.480 - ETA: 2s - loss: 1.0153 - acc: 0.484 - ETA: 1s - loss: 1.0178 - acc: 0.484 - ETA: 1s - loss: 1.0169 - acc: 0.484 - ETA: 1s - loss: 1.0166 - acc: 0.486 - ETA: 1s - loss: 1.0169 - acc: 0.483 - ETA: 1s - loss: 1.0183 - acc: 0.483 - ETA: 0s - loss: 1.0188 - acc: 0.481 - ETA: 0s - loss: 1.0171 - acc: 0.485 - ETA: 0s - loss: 1.0156 - acc: 0.487 - ETA: 0s - loss: 1.0131 - acc: 0.491 - 12s - loss: 1.0112 - acc: 0.4925 - val_loss: 1.0131 - val_acc: 0.4990\n",
      "Epoch 21/50\n"
     ]
    },
    {
     "name": "stdout",
     "output_type": "stream",
     "text": [
      "50/50 [==============================] - ETA: 7s - loss: 1.0120 - acc: 0.500 - ETA: 7s - loss: 1.0028 - acc: 0.468 - ETA: 7s - loss: 0.9826 - acc: 0.458 - ETA: 6s - loss: 0.9760 - acc: 0.476 - ETA: 6s - loss: 0.9562 - acc: 0.500 - ETA: 6s - loss: 0.9913 - acc: 0.484 - ETA: 6s - loss: 0.9972 - acc: 0.486 - ETA: 6s - loss: 1.0078 - acc: 0.472 - ETA: 6s - loss: 1.0129 - acc: 0.479 - ETA: 6s - loss: 1.0172 - acc: 0.481 - ETA: 6s - loss: 1.0078 - acc: 0.491 - ETA: 6s - loss: 1.0069 - acc: 0.497 - ETA: 6s - loss: 1.0109 - acc: 0.497 - ETA: 6s - loss: 1.0101 - acc: 0.502 - ETA: 6s - loss: 1.0133 - acc: 0.489 - ETA: 6s - loss: 1.0099 - acc: 0.492 - ETA: 6s - loss: 1.0029 - acc: 0.500 - ETA: 5s - loss: 1.0076 - acc: 0.494 - ETA: 5s - loss: 1.0065 - acc: 0.495 - ETA: 5s - loss: 1.0052 - acc: 0.496 - ETA: 5s - loss: 1.0172 - acc: 0.489 - ETA: 5s - loss: 1.0153 - acc: 0.490 - ETA: 5s - loss: 1.0110 - acc: 0.494 - ETA: 5s - loss: 1.0127 - acc: 0.494 - ETA: 5s - loss: 1.0096 - acc: 0.501 - ETA: 4s - loss: 1.0075 - acc: 0.503 - ETA: 4s - loss: 1.0062 - acc: 0.504 - ETA: 4s - loss: 1.0032 - acc: 0.508 - ETA: 4s - loss: 1.0024 - acc: 0.507 - ETA: 4s - loss: 1.0077 - acc: 0.505 - ETA: 4s - loss: 1.0051 - acc: 0.506 - ETA: 3s - loss: 1.0061 - acc: 0.506 - ETA: 3s - loss: 1.0055 - acc: 0.508 - ETA: 3s - loss: 1.0051 - acc: 0.506 - ETA: 3s - loss: 1.0001 - acc: 0.510 - ETA: 2s - loss: 0.9980 - acc: 0.512 - ETA: 2s - loss: 0.9991 - acc: 0.510 - ETA: 2s - loss: 1.0041 - acc: 0.503 - ETA: 2s - loss: 1.0042 - acc: 0.502 - ETA: 2s - loss: 1.0035 - acc: 0.504 - ETA: 1s - loss: 1.0025 - acc: 0.506 - ETA: 1s - loss: 1.0025 - acc: 0.506 - ETA: 1s - loss: 1.0041 - acc: 0.505 - ETA: 1s - loss: 1.0069 - acc: 0.502 - ETA: 1s - loss: 1.0076 - acc: 0.501 - ETA: 0s - loss: 1.0058 - acc: 0.502 - ETA: 0s - loss: 1.0053 - acc: 0.502 - ETA: 0s - loss: 1.0047 - acc: 0.501 - ETA: 0s - loss: 1.0045 - acc: 0.500 - 13s - loss: 1.0040 - acc: 0.5000 - val_loss: 0.9876 - val_acc: 0.4950\n",
      "Epoch 22/50\n",
      "50/50 [==============================] - ETA: 8s - loss: 0.9796 - acc: 0.375 - ETA: 7s - loss: 1.0000 - acc: 0.453 - ETA: 8s - loss: 0.9878 - acc: 0.479 - ETA: 8s - loss: 0.9789 - acc: 0.476 - ETA: 8s - loss: 0.9732 - acc: 0.487 - ETA: 8s - loss: 0.9907 - acc: 0.479 - ETA: 8s - loss: 1.0058 - acc: 0.455 - ETA: 8s - loss: 1.0044 - acc: 0.464 - ETA: 8s - loss: 1.0046 - acc: 0.468 - ETA: 8s - loss: 1.0125 - acc: 0.462 - ETA: 7s - loss: 1.0079 - acc: 0.471 - ETA: 8s - loss: 1.0105 - acc: 0.476 - ETA: 8s - loss: 1.0108 - acc: 0.480 - ETA: 7s - loss: 1.0110 - acc: 0.477 - ETA: 7s - loss: 1.0133 - acc: 0.477 - ETA: 7s - loss: 1.0193 - acc: 0.472 - ETA: 7s - loss: 1.0145 - acc: 0.474 - ETA: 6s - loss: 1.0154 - acc: 0.474 - ETA: 6s - loss: 1.0101 - acc: 0.475 - ETA: 6s - loss: 1.0052 - acc: 0.482 - ETA: 6s - loss: 1.0018 - acc: 0.483 - ETA: 6s - loss: 1.0018 - acc: 0.483 - ETA: 6s - loss: 1.0069 - acc: 0.479 - ETA: 5s - loss: 1.0062 - acc: 0.481 - ETA: 5s - loss: 1.0068 - acc: 0.485 - ETA: 5s - loss: 1.0069 - acc: 0.488 - ETA: 5s - loss: 1.0054 - acc: 0.487 - ETA: 4s - loss: 1.0091 - acc: 0.483 - ETA: 4s - loss: 1.0084 - acc: 0.480 - ETA: 4s - loss: 1.0074 - acc: 0.484 - ETA: 4s - loss: 1.0075 - acc: 0.483 - ETA: 4s - loss: 1.0019 - acc: 0.491 - ETA: 3s - loss: 1.0003 - acc: 0.495 - ETA: 3s - loss: 0.9955 - acc: 0.500 - ETA: 3s - loss: 0.9939 - acc: 0.498 - ETA: 3s - loss: 0.9930 - acc: 0.500 - ETA: 2s - loss: 0.9925 - acc: 0.500 - ETA: 2s - loss: 0.9922 - acc: 0.503 - ETA: 2s - loss: 0.9916 - acc: 0.504 - ETA: 2s - loss: 0.9904 - acc: 0.504 - ETA: 2s - loss: 0.9928 - acc: 0.503 - ETA: 1s - loss: 0.9915 - acc: 0.504 - ETA: 1s - loss: 0.9909 - acc: 0.507 - ETA: 1s - loss: 0.9893 - acc: 0.510 - ETA: 1s - loss: 0.9915 - acc: 0.508 - ETA: 0s - loss: 0.9915 - acc: 0.508 - ETA: 0s - loss: 0.9885 - acc: 0.510 - ETA: 0s - loss: 0.9877 - acc: 0.511 - ETA: 0s - loss: 0.9852 - acc: 0.515 - 13s - loss: 0.9863 - acc: 0.5144 - val_loss: 1.0033 - val_acc: 0.5170\n",
      "Epoch 23/50\n",
      "50/50 [==============================] - ETA: 7s - loss: 0.8993 - acc: 0.500 - ETA: 8s - loss: 0.9316 - acc: 0.546 - ETA: 8s - loss: 0.9372 - acc: 0.562 - ETA: 8s - loss: 0.9413 - acc: 0.578 - ETA: 8s - loss: 0.9683 - acc: 0.550 - ETA: 8s - loss: 0.9812 - acc: 0.536 - ETA: 8s - loss: 1.0170 - acc: 0.500 - ETA: 8s - loss: 1.0185 - acc: 0.496 - ETA: 8s - loss: 1.0123 - acc: 0.503 - ETA: 7s - loss: 0.9898 - acc: 0.521 - ETA: 7s - loss: 0.9972 - acc: 0.508 - ETA: 7s - loss: 1.0108 - acc: 0.505 - ETA: 7s - loss: 1.0120 - acc: 0.504 - ETA: 7s - loss: 1.0131 - acc: 0.504 - ETA: 7s - loss: 1.0108 - acc: 0.506 - ETA: 7s - loss: 1.0098 - acc: 0.502 - ETA: 7s - loss: 1.0120 - acc: 0.501 - ETA: 6s - loss: 1.0066 - acc: 0.503 - ETA: 6s - loss: 1.0013 - acc: 0.511 - ETA: 6s - loss: 0.9958 - acc: 0.517 - ETA: 6s - loss: 0.9922 - acc: 0.517 - ETA: 6s - loss: 0.9992 - acc: 0.507 - ETA: 5s - loss: 0.9977 - acc: 0.509 - ETA: 5s - loss: 1.0009 - acc: 0.509 - ETA: 5s - loss: 1.0023 - acc: 0.510 - ETA: 5s - loss: 1.0015 - acc: 0.513 - ETA: 5s - loss: 0.9995 - acc: 0.511 - ETA: 4s - loss: 0.9984 - acc: 0.513 - ETA: 4s - loss: 0.9946 - acc: 0.515 - ETA: 4s - loss: 0.9952 - acc: 0.517 - ETA: 4s - loss: 0.9915 - acc: 0.519 - ETA: 4s - loss: 0.9894 - acc: 0.520 - ETA: 3s - loss: 0.9924 - acc: 0.516 - ETA: 3s - loss: 0.9913 - acc: 0.515 - ETA: 3s - loss: 0.9899 - acc: 0.517 - ETA: 3s - loss: 0.9903 - acc: 0.518 - ETA: 2s - loss: 0.9905 - acc: 0.517 - ETA: 2s - loss: 0.9927 - acc: 0.518 - ETA: 2s - loss: 0.9917 - acc: 0.520 - ETA: 2s - loss: 0.9898 - acc: 0.521 - ETA: 2s - loss: 0.9860 - acc: 0.523 - ETA: 1s - loss: 0.9874 - acc: 0.522 - ETA: 1s - loss: 0.9857 - acc: 0.524 - ETA: 1s - loss: 0.9841 - acc: 0.527 - ETA: 1s - loss: 0.9832 - acc: 0.527 - ETA: 0s - loss: 0.9811 - acc: 0.529 - ETA: 0s - loss: 0.9810 - acc: 0.531 - ETA: 0s - loss: 0.9806 - acc: 0.531 - ETA: 0s - loss: 0.9809 - acc: 0.531 - 13s - loss: 0.9854 - acc: 0.5294 - val_loss: 0.9667 - val_acc: 0.5270\n",
      "Epoch 24/50\n",
      "50/50 [==============================] - ETA: 7s - loss: 0.9976 - acc: 0.531 - ETA: 7s - loss: 0.9823 - acc: 0.578 - ETA: 7s - loss: 0.9729 - acc: 0.572 - ETA: 7s - loss: 0.9699 - acc: 0.585 - ETA: 7s - loss: 0.9650 - acc: 0.587 - ETA: 7s - loss: 0.9691 - acc: 0.567 - ETA: 7s - loss: 0.9632 - acc: 0.580 - ETA: 7s - loss: 0.9604 - acc: 0.582 - ETA: 7s - loss: 0.9705 - acc: 0.569 - ETA: 6s - loss: 0.9752 - acc: 0.559 - ETA: 6s - loss: 0.9678 - acc: 0.559 - ETA: 6s - loss: 0.9608 - acc: 0.554 - ETA: 6s - loss: 0.9604 - acc: 0.548 - ETA: 6s - loss: 0.9540 - acc: 0.558 - ETA: 6s - loss: 0.9503 - acc: 0.558 - ETA: 6s - loss: 0.9575 - acc: 0.546 - ETA: 6s - loss: 0.9623 - acc: 0.540 - ETA: 6s - loss: 0.9608 - acc: 0.552 - ETA: 6s - loss: 0.9665 - acc: 0.544 - ETA: 6s - loss: 0.9688 - acc: 0.539 - ETA: 6s - loss: 0.9709 - acc: 0.535 - ETA: 6s - loss: 0.9727 - acc: 0.538 - ETA: 6s - loss: 0.9749 - acc: 0.535 - ETA: 5s - loss: 0.9734 - acc: 0.531 - ETA: 5s - loss: 0.9723 - acc: 0.532 - ETA: 5s - loss: 0.9711 - acc: 0.531 - ETA: 5s - loss: 0.9684 - acc: 0.537 - ETA: 5s - loss: 0.9726 - acc: 0.535 - ETA: 4s - loss: 0.9700 - acc: 0.534 - ETA: 4s - loss: 0.9685 - acc: 0.537 - ETA: 4s - loss: 0.9672 - acc: 0.534 - ETA: 4s - loss: 0.9624 - acc: 0.540 - ETA: 3s - loss: 0.9676 - acc: 0.538 - ETA: 3s - loss: 0.9682 - acc: 0.538 - ETA: 3s - loss: 0.9716 - acc: 0.537 - ETA: 3s - loss: 0.9701 - acc: 0.538 - ETA: 3s - loss: 0.9681 - acc: 0.541 - ETA: 2s - loss: 0.9693 - acc: 0.541 - ETA: 2s - loss: 0.9688 - acc: 0.543 - ETA: 2s - loss: 0.9686 - acc: 0.546 - ETA: 2s - loss: 0.9707 - acc: 0.545 - ETA: 1s - loss: 0.9721 - acc: 0.543 - ETA: 1s - loss: 0.9728 - acc: 0.542 - ETA: 1s - loss: 0.9707 - acc: 0.544 - ETA: 1s - loss: 0.9708 - acc: 0.544 - ETA: 0s - loss: 0.9696 - acc: 0.544 - ETA: 0s - loss: 0.9675 - acc: 0.546 - ETA: 0s - loss: 0.9664 - acc: 0.547 - ETA: 0s - loss: 0.9667 - acc: 0.548 - 13s - loss: 0.9671 - acc: 0.5481 - val_loss: 0.9544 - val_acc: 0.5390\n",
      "Epoch 25/50\n"
     ]
    },
    {
     "name": "stdout",
     "output_type": "stream",
     "text": [
      "50/50 [==============================] - ETA: 8s - loss: 1.0481 - acc: 0.406 - ETA: 8s - loss: 0.9742 - acc: 0.515 - ETA: 8s - loss: 0.9092 - acc: 0.593 - ETA: 8s - loss: 0.9225 - acc: 0.601 - ETA: 8s - loss: 0.9092 - acc: 0.606 - ETA: 8s - loss: 0.9107 - acc: 0.599 - ETA: 8s - loss: 0.9091 - acc: 0.598 - ETA: 7s - loss: 0.9120 - acc: 0.593 - ETA: 7s - loss: 0.9081 - acc: 0.593 - ETA: 7s - loss: 0.9212 - acc: 0.578 - ETA: 7s - loss: 0.9241 - acc: 0.582 - ETA: 7s - loss: 0.9242 - acc: 0.578 - ETA: 7s - loss: 0.9296 - acc: 0.584 - ETA: 7s - loss: 0.9297 - acc: 0.580 - ETA: 6s - loss: 0.9354 - acc: 0.577 - ETA: 6s - loss: 0.9430 - acc: 0.568 - ETA: 6s - loss: 0.9516 - acc: 0.562 - ETA: 6s - loss: 0.9546 - acc: 0.557 - ETA: 6s - loss: 0.9572 - acc: 0.555 - ETA: 6s - loss: 0.9582 - acc: 0.553 - ETA: 6s - loss: 0.9584 - acc: 0.552 - ETA: 6s - loss: 0.9545 - acc: 0.555 - ETA: 5s - loss: 0.9561 - acc: 0.557 - ETA: 5s - loss: 0.9584 - acc: 0.554 - ETA: 5s - loss: 0.9591 - acc: 0.550 - ETA: 5s - loss: 0.9585 - acc: 0.548 - ETA: 5s - loss: 0.9543 - acc: 0.550 - ETA: 5s - loss: 0.9524 - acc: 0.551 - ETA: 4s - loss: 0.9532 - acc: 0.549 - ETA: 4s - loss: 0.9515 - acc: 0.552 - ETA: 4s - loss: 0.9546 - acc: 0.551 - ETA: 4s - loss: 0.9560 - acc: 0.551 - ETA: 4s - loss: 0.9587 - acc: 0.547 - ETA: 3s - loss: 0.9591 - acc: 0.545 - ETA: 3s - loss: 0.9564 - acc: 0.548 - ETA: 3s - loss: 0.9566 - acc: 0.546 - ETA: 3s - loss: 0.9575 - acc: 0.547 - ETA: 2s - loss: 0.9628 - acc: 0.541 - ETA: 2s - loss: 0.9629 - acc: 0.540 - ETA: 2s - loss: 0.9659 - acc: 0.538 - ETA: 2s - loss: 0.9649 - acc: 0.540 - ETA: 1s - loss: 0.9663 - acc: 0.537 - ETA: 1s - loss: 0.9690 - acc: 0.535 - ETA: 1s - loss: 0.9684 - acc: 0.536 - ETA: 1s - loss: 0.9703 - acc: 0.534 - ETA: 0s - loss: 0.9708 - acc: 0.534 - ETA: 0s - loss: 0.9719 - acc: 0.530 - ETA: 0s - loss: 0.9723 - acc: 0.529 - ETA: 0s - loss: 0.9733 - acc: 0.529 - 13s - loss: 0.9747 - acc: 0.5281 - val_loss: 0.9740 - val_acc: 0.5630\n",
      "Epoch 26/50\n",
      "50/50 [==============================] - ETA: 8s - loss: 0.8805 - acc: 0.656 - ETA: 7s - loss: 1.0130 - acc: 0.515 - ETA: 7s - loss: 1.0041 - acc: 0.510 - ETA: 7s - loss: 0.9808 - acc: 0.539 - ETA: 7s - loss: 0.9763 - acc: 0.550 - ETA: 7s - loss: 0.9818 - acc: 0.531 - ETA: 7s - loss: 0.9746 - acc: 0.544 - ETA: 7s - loss: 0.9533 - acc: 0.570 - ETA: 7s - loss: 0.9623 - acc: 0.559 - ETA: 6s - loss: 0.9593 - acc: 0.556 - ETA: 6s - loss: 0.9534 - acc: 0.562 - ETA: 6s - loss: 0.9524 - acc: 0.570 - ETA: 6s - loss: 0.9475 - acc: 0.567 - ETA: 6s - loss: 0.9537 - acc: 0.567 - ETA: 6s - loss: 0.9555 - acc: 0.564 - ETA: 5s - loss: 0.9606 - acc: 0.554 - ETA: 5s - loss: 0.9562 - acc: 0.555 - ETA: 5s - loss: 0.9639 - acc: 0.550 - ETA: 5s - loss: 0.9648 - acc: 0.547 - ETA: 5s - loss: 0.9635 - acc: 0.550 - ETA: 5s - loss: 0.9627 - acc: 0.543 - ETA: 5s - loss: 0.9646 - acc: 0.542 - ETA: 5s - loss: 0.9727 - acc: 0.531 - ETA: 4s - loss: 0.9775 - acc: 0.531 - ETA: 4s - loss: 0.9742 - acc: 0.535 - ETA: 4s - loss: 0.9687 - acc: 0.537 - ETA: 4s - loss: 0.9622 - acc: 0.546 - ETA: 4s - loss: 0.9609 - acc: 0.546 - ETA: 4s - loss: 0.9631 - acc: 0.542 - ETA: 3s - loss: 0.9606 - acc: 0.542 - ETA: 3s - loss: 0.9614 - acc: 0.541 - ETA: 3s - loss: 0.9605 - acc: 0.543 - ETA: 3s - loss: 0.9652 - acc: 0.538 - ETA: 3s - loss: 0.9647 - acc: 0.539 - ETA: 2s - loss: 0.9604 - acc: 0.542 - ETA: 2s - loss: 0.9603 - acc: 0.544 - ETA: 2s - loss: 0.9570 - acc: 0.549 - ETA: 2s - loss: 0.9503 - acc: 0.555 - ETA: 2s - loss: 0.9503 - acc: 0.555 - ETA: 2s - loss: 0.9511 - acc: 0.557 - ETA: 1s - loss: 0.9493 - acc: 0.557 - ETA: 1s - loss: 0.9469 - acc: 0.558 - ETA: 1s - loss: 0.9460 - acc: 0.558 - ETA: 1s - loss: 0.9446 - acc: 0.560 - ETA: 1s - loss: 0.9450 - acc: 0.559 - ETA: 0s - loss: 0.9405 - acc: 0.561 - ETA: 0s - loss: 0.9396 - acc: 0.561 - ETA: 0s - loss: 0.9388 - acc: 0.561 - ETA: 0s - loss: 0.9371 - acc: 0.562 - 12s - loss: 0.9372 - acc: 0.5625 - val_loss: 0.9176 - val_acc: 0.5640\n",
      "Epoch 27/50\n",
      "50/50 [==============================] - ETA: 7s - loss: 1.0432 - acc: 0.437 - ETA: 7s - loss: 0.9229 - acc: 0.593 - ETA: 7s - loss: 0.8618 - acc: 0.645 - ETA: 7s - loss: 0.8905 - acc: 0.617 - ETA: 7s - loss: 0.9247 - acc: 0.581 - ETA: 7s - loss: 0.9093 - acc: 0.588 - ETA: 7s - loss: 0.9074 - acc: 0.593 - ETA: 6s - loss: 0.9239 - acc: 0.578 - ETA: 6s - loss: 0.9463 - acc: 0.559 - ETA: 6s - loss: 0.9395 - acc: 0.562 - ETA: 6s - loss: 0.9491 - acc: 0.559 - ETA: 6s - loss: 0.9534 - acc: 0.554 - ETA: 6s - loss: 0.9426 - acc: 0.567 - ETA: 6s - loss: 0.9469 - acc: 0.569 - ETA: 6s - loss: 0.9516 - acc: 0.560 - ETA: 6s - loss: 0.9543 - acc: 0.552 - ETA: 6s - loss: 0.9528 - acc: 0.553 - ETA: 6s - loss: 0.9642 - acc: 0.543 - ETA: 6s - loss: 0.9701 - acc: 0.537 - ETA: 5s - loss: 0.9704 - acc: 0.532 - ETA: 5s - loss: 0.9736 - acc: 0.531 - ETA: 5s - loss: 0.9784 - acc: 0.524 - ETA: 5s - loss: 0.9780 - acc: 0.527 - ETA: 5s - loss: 0.9771 - acc: 0.528 - ETA: 5s - loss: 0.9743 - acc: 0.533 - ETA: 4s - loss: 0.9718 - acc: 0.533 - ETA: 4s - loss: 0.9759 - acc: 0.531 - ETA: 4s - loss: 0.9754 - acc: 0.533 - ETA: 4s - loss: 0.9705 - acc: 0.538 - ETA: 4s - loss: 0.9712 - acc: 0.539 - ETA: 4s - loss: 0.9664 - acc: 0.547 - ETA: 3s - loss: 0.9633 - acc: 0.550 - ETA: 3s - loss: 0.9594 - acc: 0.554 - ETA: 3s - loss: 0.9576 - acc: 0.558 - ETA: 3s - loss: 0.9573 - acc: 0.556 - ETA: 3s - loss: 0.9595 - acc: 0.558 - ETA: 2s - loss: 0.9603 - acc: 0.558 - ETA: 2s - loss: 0.9570 - acc: 0.560 - ETA: 2s - loss: 0.9560 - acc: 0.556 - ETA: 2s - loss: 0.9540 - acc: 0.560 - ETA: 1s - loss: 0.9498 - acc: 0.565 - ETA: 1s - loss: 0.9500 - acc: 0.567 - ETA: 1s - loss: 0.9493 - acc: 0.566 - ETA: 1s - loss: 0.9479 - acc: 0.566 - ETA: 1s - loss: 0.9474 - acc: 0.567 - ETA: 0s - loss: 0.9473 - acc: 0.568 - ETA: 0s - loss: 0.9463 - acc: 0.568 - ETA: 0s - loss: 0.9454 - acc: 0.569 - ETA: 0s - loss: 0.9426 - acc: 0.570 - 13s - loss: 0.9412 - acc: 0.5719 - val_loss: 0.9024 - val_acc: 0.5840\n",
      "Epoch 28/50\n",
      "50/50 [==============================] - ETA: 8s - loss: 0.8503 - acc: 0.718 - ETA: 8s - loss: 0.7916 - acc: 0.718 - ETA: 8s - loss: 0.8133 - acc: 0.687 - ETA: 8s - loss: 0.8630 - acc: 0.648 - ETA: 8s - loss: 0.8674 - acc: 0.643 - ETA: 8s - loss: 0.8930 - acc: 0.619 - ETA: 8s - loss: 0.9073 - acc: 0.593 - ETA: 8s - loss: 0.9434 - acc: 0.574 - ETA: 8s - loss: 0.9356 - acc: 0.576 - ETA: 8s - loss: 0.9486 - acc: 0.565 - ETA: 8s - loss: 0.9481 - acc: 0.559 - ETA: 8s - loss: 0.9545 - acc: 0.559 - ETA: 7s - loss: 0.9515 - acc: 0.560 - ETA: 7s - loss: 0.9505 - acc: 0.560 - ETA: 7s - loss: 0.9514 - acc: 0.558 - ETA: 7s - loss: 0.9478 - acc: 0.566 - ETA: 7s - loss: 0.9446 - acc: 0.566 - ETA: 7s - loss: 0.9409 - acc: 0.567 - ETA: 6s - loss: 0.9476 - acc: 0.555 - ETA: 6s - loss: 0.9523 - acc: 0.550 - ETA: 6s - loss: 0.9503 - acc: 0.555 - ETA: 6s - loss: 0.9431 - acc: 0.563 - ETA: 5s - loss: 0.9358 - acc: 0.570 - ETA: 5s - loss: 0.9404 - acc: 0.566 - ETA: 5s - loss: 0.9370 - acc: 0.568 - ETA: 5s - loss: 0.9335 - acc: 0.574 - ETA: 5s - loss: 0.9289 - acc: 0.576 - ETA: 4s - loss: 0.9269 - acc: 0.579 - ETA: 4s - loss: 0.9299 - acc: 0.577 - ETA: 4s - loss: 0.9309 - acc: 0.577 - ETA: 4s - loss: 0.9266 - acc: 0.579 - ETA: 3s - loss: 0.9238 - acc: 0.580 - ETA: 3s - loss: 0.9244 - acc: 0.580 - ETA: 3s - loss: 0.9236 - acc: 0.580 - ETA: 3s - loss: 0.9206 - acc: 0.580 - ETA: 3s - loss: 0.9160 - acc: 0.580 - ETA: 2s - loss: 0.9135 - acc: 0.581 - ETA: 2s - loss: 0.9132 - acc: 0.580 - ETA: 2s - loss: 0.9177 - acc: 0.575 - ETA: 2s - loss: 0.9201 - acc: 0.574 - ETA: 1s - loss: 0.9175 - acc: 0.576 - ETA: 1s - loss: 0.9184 - acc: 0.575 - ETA: 1s - loss: 0.9219 - acc: 0.573 - ETA: 1s - loss: 0.9202 - acc: 0.573 - ETA: 1s - loss: 0.9222 - acc: 0.571 - ETA: 0s - loss: 0.9198 - acc: 0.573 - ETA: 0s - loss: 0.9199 - acc: 0.572 - ETA: 0s - loss: 0.9222 - acc: 0.570 - ETA: 0s - loss: 0.9208 - acc: 0.571 - 12s - loss: 0.9198 - acc: 0.5719 - val_loss: 0.8886 - val_acc: 0.6030\n",
      "Epoch 29/50\n"
     ]
    },
    {
     "name": "stdout",
     "output_type": "stream",
     "text": [
      "50/50 [==============================] - ETA: 6s - loss: 0.9819 - acc: 0.531 - ETA: 6s - loss: 0.9423 - acc: 0.562 - ETA: 7s - loss: 0.9443 - acc: 0.552 - ETA: 7s - loss: 0.9176 - acc: 0.570 - ETA: 7s - loss: 0.9024 - acc: 0.581 - ETA: 7s - loss: 0.8943 - acc: 0.593 - ETA: 6s - loss: 0.8822 - acc: 0.589 - ETA: 6s - loss: 0.8770 - acc: 0.593 - ETA: 6s - loss: 0.8713 - acc: 0.604 - ETA: 6s - loss: 0.8731 - acc: 0.606 - ETA: 6s - loss: 0.8848 - acc: 0.596 - ETA: 6s - loss: 0.8847 - acc: 0.599 - ETA: 6s - loss: 0.9053 - acc: 0.586 - ETA: 6s - loss: 0.9018 - acc: 0.587 - ETA: 6s - loss: 0.8979 - acc: 0.585 - ETA: 6s - loss: 0.8971 - acc: 0.587 - ETA: 6s - loss: 0.9024 - acc: 0.588 - ETA: 6s - loss: 0.8971 - acc: 0.590 - ETA: 6s - loss: 0.8990 - acc: 0.587 - ETA: 6s - loss: 0.9031 - acc: 0.587 - ETA: 6s - loss: 0.9113 - acc: 0.581 - ETA: 5s - loss: 0.9080 - acc: 0.586 - ETA: 5s - loss: 0.9099 - acc: 0.581 - ETA: 5s - loss: 0.9030 - acc: 0.582 - ETA: 5s - loss: 0.9007 - acc: 0.586 - ETA: 5s - loss: 0.8984 - acc: 0.590 - ETA: 4s - loss: 0.8977 - acc: 0.589 - ETA: 4s - loss: 0.9009 - acc: 0.589 - ETA: 4s - loss: 0.9075 - acc: 0.588 - ETA: 4s - loss: 0.9063 - acc: 0.590 - ETA: 4s - loss: 0.9091 - acc: 0.588 - ETA: 3s - loss: 0.9139 - acc: 0.589 - ETA: 3s - loss: 0.9130 - acc: 0.586 - ETA: 3s - loss: 0.9093 - acc: 0.588 - ETA: 3s - loss: 0.9117 - acc: 0.587 - ETA: 3s - loss: 0.9082 - acc: 0.594 - ETA: 2s - loss: 0.9133 - acc: 0.590 - ETA: 2s - loss: 0.9161 - acc: 0.586 - ETA: 2s - loss: 0.9203 - acc: 0.583 - ETA: 2s - loss: 0.9225 - acc: 0.583 - ETA: 1s - loss: 0.9243 - acc: 0.582 - ETA: 1s - loss: 0.9252 - acc: 0.581 - ETA: 1s - loss: 0.9266 - acc: 0.578 - ETA: 1s - loss: 0.9269 - acc: 0.580 - ETA: 1s - loss: 0.9287 - acc: 0.575 - ETA: 0s - loss: 0.9298 - acc: 0.574 - ETA: 0s - loss: 0.9275 - acc: 0.576 - ETA: 0s - loss: 0.9270 - acc: 0.576 - ETA: 0s - loss: 0.9283 - acc: 0.573 - 12s - loss: 0.9297 - acc: 0.5725 - val_loss: 0.9216 - val_acc: 0.5590\n",
      "Epoch 30/50\n",
      "50/50 [==============================] - ETA: 7s - loss: 1.1276 - acc: 0.500 - ETA: 7s - loss: 1.0984 - acc: 0.515 - ETA: 8s - loss: 1.0180 - acc: 0.552 - ETA: 7s - loss: 0.9892 - acc: 0.562 - ETA: 7s - loss: 0.9779 - acc: 0.562 - ETA: 7s - loss: 0.9575 - acc: 0.583 - ETA: 7s - loss: 0.9518 - acc: 0.589 - ETA: 7s - loss: 0.9401 - acc: 0.593 - ETA: 7s - loss: 0.9286 - acc: 0.604 - ETA: 6s - loss: 0.9210 - acc: 0.612 - ETA: 6s - loss: 0.9162 - acc: 0.616 - ETA: 6s - loss: 0.9191 - acc: 0.614 - ETA: 6s - loss: 0.9040 - acc: 0.620 - ETA: 6s - loss: 0.9014 - acc: 0.622 - ETA: 6s - loss: 0.9073 - acc: 0.614 - ETA: 6s - loss: 0.9068 - acc: 0.609 - ETA: 6s - loss: 0.9048 - acc: 0.606 - ETA: 5s - loss: 0.9095 - acc: 0.600 - ETA: 5s - loss: 0.9031 - acc: 0.606 - ETA: 5s - loss: 0.8996 - acc: 0.607 - ETA: 5s - loss: 0.9044 - acc: 0.605 - ETA: 5s - loss: 0.9014 - acc: 0.609 - ETA: 5s - loss: 0.8992 - acc: 0.608 - ETA: 5s - loss: 0.8966 - acc: 0.609 - ETA: 4s - loss: 0.8920 - acc: 0.615 - ETA: 4s - loss: 0.8875 - acc: 0.619 - ETA: 4s - loss: 0.8885 - acc: 0.618 - ETA: 4s - loss: 0.8867 - acc: 0.618 - ETA: 4s - loss: 0.8868 - acc: 0.614 - ETA: 4s - loss: 0.8886 - acc: 0.613 - ETA: 3s - loss: 0.8864 - acc: 0.614 - ETA: 3s - loss: 0.8820 - acc: 0.619 - ETA: 3s - loss: 0.8813 - acc: 0.619 - ETA: 3s - loss: 0.8831 - acc: 0.616 - ETA: 3s - loss: 0.8835 - acc: 0.617 - ETA: 3s - loss: 0.8849 - acc: 0.619 - ETA: 2s - loss: 0.8846 - acc: 0.618 - ETA: 2s - loss: 0.8866 - acc: 0.619 - ETA: 2s - loss: 0.8878 - acc: 0.617 - ETA: 2s - loss: 0.8873 - acc: 0.616 - ETA: 1s - loss: 0.8835 - acc: 0.617 - ETA: 1s - loss: 0.8780 - acc: 0.622 - ETA: 1s - loss: 0.8782 - acc: 0.622 - ETA: 1s - loss: 0.8802 - acc: 0.620 - ETA: 1s - loss: 0.8815 - acc: 0.617 - ETA: 0s - loss: 0.8806 - acc: 0.617 - ETA: 0s - loss: 0.8809 - acc: 0.618 - ETA: 0s - loss: 0.8791 - acc: 0.617 - ETA: 0s - loss: 0.8799 - acc: 0.618 - 13s - loss: 0.8779 - acc: 0.6175 - val_loss: 0.8881 - val_acc: 0.5770\n",
      "Epoch 31/50\n",
      "50/50 [==============================] - ETA: 9s - loss: 0.7197 - acc: 0.687 - ETA: 9s - loss: 0.7825 - acc: 0.609 - ETA: 9s - loss: 0.8069 - acc: 0.593 - ETA: 8s - loss: 0.8249 - acc: 0.578 - ETA: 8s - loss: 0.8381 - acc: 0.581 - ETA: 8s - loss: 0.8361 - acc: 0.583 - ETA: 8s - loss: 0.8276 - acc: 0.607 - ETA: 8s - loss: 0.8520 - acc: 0.593 - ETA: 8s - loss: 0.8572 - acc: 0.590 - ETA: 7s - loss: 0.8429 - acc: 0.603 - ETA: 7s - loss: 0.8524 - acc: 0.605 - ETA: 7s - loss: 0.8701 - acc: 0.588 - ETA: 7s - loss: 0.8656 - acc: 0.596 - ETA: 7s - loss: 0.8649 - acc: 0.596 - ETA: 7s - loss: 0.8733 - acc: 0.585 - ETA: 7s - loss: 0.8729 - acc: 0.589 - ETA: 7s - loss: 0.8800 - acc: 0.586 - ETA: 7s - loss: 0.8745 - acc: 0.592 - ETA: 6s - loss: 0.8791 - acc: 0.585 - ETA: 6s - loss: 0.8759 - acc: 0.590 - ETA: 6s - loss: 0.8760 - acc: 0.592 - ETA: 6s - loss: 0.8818 - acc: 0.588 - ETA: 6s - loss: 0.8889 - acc: 0.578 - ETA: 6s - loss: 0.8965 - acc: 0.574 - ETA: 5s - loss: 0.8929 - acc: 0.578 - ETA: 5s - loss: 0.8952 - acc: 0.580 - ETA: 5s - loss: 0.8945 - acc: 0.581 - ETA: 5s - loss: 0.8905 - acc: 0.583 - ETA: 4s - loss: 0.8857 - acc: 0.586 - ETA: 4s - loss: 0.8871 - acc: 0.589 - ETA: 4s - loss: 0.8878 - acc: 0.586 - ETA: 4s - loss: 0.8865 - acc: 0.586 - ETA: 3s - loss: 0.8813 - acc: 0.590 - ETA: 3s - loss: 0.8790 - acc: 0.592 - ETA: 3s - loss: 0.8822 - acc: 0.591 - ETA: 3s - loss: 0.8856 - acc: 0.591 - ETA: 2s - loss: 0.8883 - acc: 0.591 - ETA: 2s - loss: 0.8803 - acc: 0.597 - ETA: 2s - loss: 0.8815 - acc: 0.597 - ETA: 2s - loss: 0.8856 - acc: 0.595 - ETA: 2s - loss: 0.8859 - acc: 0.596 - ETA: 1s - loss: 0.8873 - acc: 0.596 - ETA: 1s - loss: 0.8903 - acc: 0.595 - ETA: 1s - loss: 0.8895 - acc: 0.597 - ETA: 1s - loss: 0.8878 - acc: 0.597 - ETA: 0s - loss: 0.8891 - acc: 0.595 - ETA: 0s - loss: 0.8861 - acc: 0.598 - ETA: 0s - loss: 0.8885 - acc: 0.597 - ETA: 0s - loss: 0.8869 - acc: 0.598 - 13s - loss: 0.8883 - acc: 0.5988 - val_loss: 0.8532 - val_acc: 0.6210\n",
      "Epoch 32/50\n",
      "50/50 [==============================] - ETA: 7s - loss: 0.7466 - acc: 0.656 - ETA: 7s - loss: 0.8457 - acc: 0.609 - ETA: 7s - loss: 0.8477 - acc: 0.593 - ETA: 7s - loss: 0.8950 - acc: 0.554 - ETA: 7s - loss: 0.8860 - acc: 0.575 - ETA: 7s - loss: 0.8926 - acc: 0.578 - ETA: 7s - loss: 0.8968 - acc: 0.558 - ETA: 7s - loss: 0.8886 - acc: 0.554 - ETA: 6s - loss: 0.8599 - acc: 0.583 - ETA: 6s - loss: 0.8769 - acc: 0.578 - ETA: 6s - loss: 0.8678 - acc: 0.576 - ETA: 6s - loss: 0.8692 - acc: 0.583 - ETA: 6s - loss: 0.8723 - acc: 0.584 - ETA: 6s - loss: 0.8568 - acc: 0.596 - ETA: 6s - loss: 0.8556 - acc: 0.597 - ETA: 6s - loss: 0.8648 - acc: 0.593 - ETA: 6s - loss: 0.8702 - acc: 0.595 - ETA: 5s - loss: 0.8689 - acc: 0.597 - ETA: 5s - loss: 0.8590 - acc: 0.605 - ETA: 5s - loss: 0.8609 - acc: 0.603 - ETA: 5s - loss: 0.8632 - acc: 0.604 - ETA: 5s - loss: 0.8643 - acc: 0.606 - ETA: 5s - loss: 0.8597 - acc: 0.610 - ETA: 5s - loss: 0.8572 - acc: 0.612 - ETA: 4s - loss: 0.8586 - acc: 0.612 - ETA: 4s - loss: 0.8627 - acc: 0.609 - ETA: 4s - loss: 0.8616 - acc: 0.610 - ETA: 4s - loss: 0.8592 - acc: 0.608 - ETA: 4s - loss: 0.8680 - acc: 0.604 - ETA: 4s - loss: 0.8672 - acc: 0.608 - ETA: 3s - loss: 0.8615 - acc: 0.613 - ETA: 3s - loss: 0.8602 - acc: 0.616 - ETA: 3s - loss: 0.8563 - acc: 0.618 - ETA: 3s - loss: 0.8545 - acc: 0.619 - ETA: 3s - loss: 0.8540 - acc: 0.617 - ETA: 2s - loss: 0.8550 - acc: 0.618 - ETA: 2s - loss: 0.8580 - acc: 0.616 - ETA: 2s - loss: 0.8553 - acc: 0.619 - ETA: 2s - loss: 0.8552 - acc: 0.618 - ETA: 2s - loss: 0.8552 - acc: 0.617 - ETA: 1s - loss: 0.8588 - acc: 0.615 - ETA: 1s - loss: 0.8612 - acc: 0.614 - ETA: 1s - loss: 0.8666 - acc: 0.611 - ETA: 1s - loss: 0.8736 - acc: 0.608 - ETA: 1s - loss: 0.8749 - acc: 0.606 - ETA: 0s - loss: 0.8757 - acc: 0.606 - ETA: 0s - loss: 0.8803 - acc: 0.602 - ETA: 0s - loss: 0.8854 - acc: 0.601 - ETA: 0s - loss: 0.8836 - acc: 0.602 - 12s - loss: 0.8835 - acc: 0.6050 - val_loss: 0.9128 - val_acc: 0.5970\n",
      "Epoch 33/50\n"
     ]
    },
    {
     "name": "stdout",
     "output_type": "stream",
     "text": [
      "50/50 [==============================] - ETA: 8s - loss: 0.8047 - acc: 0.687 - ETA: 8s - loss: 0.8405 - acc: 0.593 - ETA: 9s - loss: 0.8198 - acc: 0.666 - ETA: 9s - loss: 0.8608 - acc: 0.632 - ETA: 9s - loss: 0.8536 - acc: 0.637 - ETA: 8s - loss: 0.8900 - acc: 0.614 - ETA: 8s - loss: 0.8930 - acc: 0.602 - ETA: 8s - loss: 0.8999 - acc: 0.597 - ETA: 7s - loss: 0.8880 - acc: 0.618 - ETA: 7s - loss: 0.8912 - acc: 0.615 - ETA: 7s - loss: 0.9006 - acc: 0.605 - ETA: 7s - loss: 0.8961 - acc: 0.609 - ETA: 7s - loss: 0.9031 - acc: 0.601 - ETA: 7s - loss: 0.9008 - acc: 0.604 - ETA: 7s - loss: 0.9000 - acc: 0.604 - ETA: 6s - loss: 0.9012 - acc: 0.601 - ETA: 6s - loss: 0.9083 - acc: 0.601 - ETA: 6s - loss: 0.9041 - acc: 0.605 - ETA: 6s - loss: 0.9059 - acc: 0.603 - ETA: 6s - loss: 0.9159 - acc: 0.600 - ETA: 6s - loss: 0.9078 - acc: 0.602 - ETA: 5s - loss: 0.9138 - acc: 0.596 - ETA: 5s - loss: 0.9126 - acc: 0.596 - ETA: 5s - loss: 0.9139 - acc: 0.597 - ETA: 5s - loss: 0.9156 - acc: 0.602 - ETA: 5s - loss: 0.9192 - acc: 0.598 - ETA: 4s - loss: 0.9198 - acc: 0.594 - ETA: 4s - loss: 0.9152 - acc: 0.598 - ETA: 4s - loss: 0.9129 - acc: 0.597 - ETA: 4s - loss: 0.9128 - acc: 0.596 - ETA: 4s - loss: 0.9108 - acc: 0.596 - ETA: 4s - loss: 0.9071 - acc: 0.597 - ETA: 3s - loss: 0.9031 - acc: 0.599 - ETA: 3s - loss: 0.9003 - acc: 0.602 - ETA: 3s - loss: 0.8954 - acc: 0.603 - ETA: 3s - loss: 0.8936 - acc: 0.605 - ETA: 2s - loss: 0.8943 - acc: 0.602 - ETA: 2s - loss: 0.8891 - acc: 0.606 - ETA: 2s - loss: 0.8822 - acc: 0.610 - ETA: 2s - loss: 0.8790 - acc: 0.615 - ETA: 2s - loss: 0.8802 - acc: 0.612 - ETA: 1s - loss: 0.8850 - acc: 0.608 - ETA: 1s - loss: 0.8848 - acc: 0.609 - ETA: 1s - loss: 0.8847 - acc: 0.610 - ETA: 1s - loss: 0.8811 - acc: 0.611 - ETA: 0s - loss: 0.8801 - acc: 0.612 - ETA: 0s - loss: 0.8786 - acc: 0.613 - ETA: 0s - loss: 0.8794 - acc: 0.611 - ETA: 0s - loss: 0.8774 - acc: 0.613 - 13s - loss: 0.8763 - acc: 0.6138 - val_loss: 0.8178 - val_acc: 0.6680\n",
      "Epoch 34/50\n",
      "50/50 [==============================] - ETA: 8s - loss: 0.7361 - acc: 0.625 - ETA: 8s - loss: 0.8032 - acc: 0.625 - ETA: 8s - loss: 0.7871 - acc: 0.614 - ETA: 8s - loss: 0.7865 - acc: 0.609 - ETA: 8s - loss: 0.7850 - acc: 0.618 - ETA: 8s - loss: 0.7620 - acc: 0.645 - ETA: 8s - loss: 0.7967 - acc: 0.633 - ETA: 8s - loss: 0.8397 - acc: 0.605 - ETA: 8s - loss: 0.8383 - acc: 0.611 - ETA: 8s - loss: 0.8409 - acc: 0.609 - ETA: 8s - loss: 0.8359 - acc: 0.610 - ETA: 8s - loss: 0.8355 - acc: 0.606 - ETA: 8s - loss: 0.8300 - acc: 0.615 - ETA: 8s - loss: 0.8424 - acc: 0.609 - ETA: 8s - loss: 0.8488 - acc: 0.606 - ETA: 8s - loss: 0.8663 - acc: 0.595 - ETA: 8s - loss: 0.8648 - acc: 0.599 - ETA: 8s - loss: 0.8569 - acc: 0.607 - ETA: 7s - loss: 0.8571 - acc: 0.613 - ETA: 7s - loss: 0.8702 - acc: 0.609 - ETA: 7s - loss: 0.8675 - acc: 0.611 - ETA: 7s - loss: 0.8635 - acc: 0.612 - ETA: 7s - loss: 0.8600 - acc: 0.615 - ETA: 6s - loss: 0.8566 - acc: 0.615 - ETA: 6s - loss: 0.8548 - acc: 0.618 - ETA: 6s - loss: 0.8556 - acc: 0.619 - ETA: 6s - loss: 0.8576 - acc: 0.618 - ETA: 6s - loss: 0.8567 - acc: 0.616 - ETA: 5s - loss: 0.8600 - acc: 0.616 - ETA: 5s - loss: 0.8642 - acc: 0.614 - ETA: 5s - loss: 0.8611 - acc: 0.615 - ETA: 4s - loss: 0.8621 - acc: 0.614 - ETA: 4s - loss: 0.8621 - acc: 0.615 - ETA: 4s - loss: 0.8610 - acc: 0.616 - ETA: 4s - loss: 0.8666 - acc: 0.610 - ETA: 3s - loss: 0.8609 - acc: 0.614 - ETA: 3s - loss: 0.8603 - acc: 0.616 - ETA: 3s - loss: 0.8586 - acc: 0.617 - ETA: 2s - loss: 0.8569 - acc: 0.619 - ETA: 2s - loss: 0.8532 - acc: 0.620 - ETA: 2s - loss: 0.8541 - acc: 0.619 - ETA: 2s - loss: 0.8538 - acc: 0.619 - ETA: 1s - loss: 0.8533 - acc: 0.619 - ETA: 1s - loss: 0.8551 - acc: 0.620 - ETA: 1s - loss: 0.8541 - acc: 0.620 - ETA: 1s - loss: 0.8525 - acc: 0.620 - ETA: 0s - loss: 0.8552 - acc: 0.619 - ETA: 0s - loss: 0.8519 - acc: 0.622 - ETA: 0s - loss: 0.8543 - acc: 0.621 - 14s - loss: 0.8527 - acc: 0.6231 - val_loss: 0.8357 - val_acc: 0.6360\n",
      "Epoch 35/50\n",
      "50/50 [==============================] - ETA: 7s - loss: 0.9022 - acc: 0.531 - ETA: 7s - loss: 0.8245 - acc: 0.593 - ETA: 7s - loss: 0.8362 - acc: 0.635 - ETA: 7s - loss: 0.8148 - acc: 0.656 - ETA: 7s - loss: 0.7696 - acc: 0.668 - ETA: 7s - loss: 0.7890 - acc: 0.656 - ETA: 7s - loss: 0.7838 - acc: 0.665 - ETA: 7s - loss: 0.7893 - acc: 0.664 - ETA: 7s - loss: 0.7975 - acc: 0.649 - ETA: 7s - loss: 0.8011 - acc: 0.640 - ETA: 7s - loss: 0.8123 - acc: 0.627 - ETA: 6s - loss: 0.8277 - acc: 0.619 - ETA: 6s - loss: 0.8195 - acc: 0.625 - ETA: 6s - loss: 0.8350 - acc: 0.613 - ETA: 6s - loss: 0.8318 - acc: 0.614 - ETA: 6s - loss: 0.8355 - acc: 0.617 - ETA: 6s - loss: 0.8249 - acc: 0.625 - ETA: 6s - loss: 0.8162 - acc: 0.633 - ETA: 6s - loss: 0.8203 - acc: 0.631 - ETA: 6s - loss: 0.8329 - acc: 0.625 - ETA: 6s - loss: 0.8377 - acc: 0.619 - ETA: 6s - loss: 0.8415 - acc: 0.620 - ETA: 5s - loss: 0.8397 - acc: 0.623 - ETA: 5s - loss: 0.8423 - acc: 0.621 - ETA: 5s - loss: 0.8442 - acc: 0.621 - ETA: 5s - loss: 0.8466 - acc: 0.621 - ETA: 5s - loss: 0.8488 - acc: 0.620 - ETA: 4s - loss: 0.8480 - acc: 0.619 - ETA: 4s - loss: 0.8574 - acc: 0.616 - ETA: 4s - loss: 0.8615 - acc: 0.616 - ETA: 4s - loss: 0.8577 - acc: 0.619 - ETA: 3s - loss: 0.8548 - acc: 0.619 - ETA: 3s - loss: 0.8542 - acc: 0.621 - ETA: 3s - loss: 0.8584 - acc: 0.618 - ETA: 3s - loss: 0.8592 - acc: 0.622 - ETA: 3s - loss: 0.8538 - acc: 0.627 - ETA: 2s - loss: 0.8524 - acc: 0.627 - ETA: 2s - loss: 0.8493 - acc: 0.631 - ETA: 2s - loss: 0.8472 - acc: 0.633 - ETA: 2s - loss: 0.8518 - acc: 0.628 - ETA: 1s - loss: 0.8540 - acc: 0.625 - ETA: 1s - loss: 0.8526 - acc: 0.626 - ETA: 1s - loss: 0.8513 - acc: 0.626 - ETA: 1s - loss: 0.8539 - acc: 0.625 - ETA: 1s - loss: 0.8563 - acc: 0.622 - ETA: 0s - loss: 0.8555 - acc: 0.623 - ETA: 0s - loss: 0.8546 - acc: 0.625 - ETA: 0s - loss: 0.8547 - acc: 0.625 - ETA: 0s - loss: 0.8531 - acc: 0.626 - 12s - loss: 0.8526 - acc: 0.6250 - val_loss: 0.8342 - val_acc: 0.6210\n",
      "Epoch 36/50\n",
      "50/50 [==============================] - ETA: 7s - loss: 0.7917 - acc: 0.656 - ETA: 8s - loss: 0.8053 - acc: 0.671 - ETA: 8s - loss: 0.8013 - acc: 0.645 - ETA: 7s - loss: 0.8313 - acc: 0.632 - ETA: 7s - loss: 0.8276 - acc: 0.637 - ETA: 7s - loss: 0.8520 - acc: 0.625 - ETA: 7s - loss: 0.8335 - acc: 0.620 - ETA: 6s - loss: 0.8335 - acc: 0.625 - ETA: 6s - loss: 0.8370 - acc: 0.618 - ETA: 6s - loss: 0.8187 - acc: 0.631 - ETA: 6s - loss: 0.8267 - acc: 0.633 - ETA: 6s - loss: 0.8273 - acc: 0.640 - ETA: 6s - loss: 0.8251 - acc: 0.641 - ETA: 6s - loss: 0.8300 - acc: 0.638 - ETA: 6s - loss: 0.8354 - acc: 0.631 - ETA: 5s - loss: 0.8308 - acc: 0.634 - ETA: 5s - loss: 0.8366 - acc: 0.630 - ETA: 5s - loss: 0.8299 - acc: 0.631 - ETA: 5s - loss: 0.8396 - acc: 0.623 - ETA: 5s - loss: 0.8367 - acc: 0.628 - ETA: 5s - loss: 0.8246 - acc: 0.633 - ETA: 5s - loss: 0.8203 - acc: 0.637 - ETA: 5s - loss: 0.8199 - acc: 0.638 - ETA: 5s - loss: 0.8231 - acc: 0.643 - ETA: 4s - loss: 0.8276 - acc: 0.640 - ETA: 4s - loss: 0.8281 - acc: 0.635 - ETA: 4s - loss: 0.8320 - acc: 0.633 - ETA: 4s - loss: 0.8264 - acc: 0.638 - ETA: 4s - loss: 0.8163 - acc: 0.647 - ETA: 4s - loss: 0.8175 - acc: 0.644 - ETA: 4s - loss: 0.8192 - acc: 0.644 - ETA: 3s - loss: 0.8173 - acc: 0.645 - ETA: 3s - loss: 0.8194 - acc: 0.642 - ETA: 3s - loss: 0.8180 - acc: 0.640 - ETA: 3s - loss: 0.8190 - acc: 0.642 - ETA: 3s - loss: 0.8183 - acc: 0.643 - ETA: 2s - loss: 0.8196 - acc: 0.643 - ETA: 2s - loss: 0.8222 - acc: 0.640 - ETA: 2s - loss: 0.8210 - acc: 0.641 - ETA: 2s - loss: 0.8219 - acc: 0.639 - ETA: 1s - loss: 0.8198 - acc: 0.640 - ETA: 1s - loss: 0.8280 - acc: 0.636 - ETA: 1s - loss: 0.8288 - acc: 0.636 - ETA: 1s - loss: 0.8308 - acc: 0.637 - ETA: 1s - loss: 0.8359 - acc: 0.633 - ETA: 0s - loss: 0.8343 - acc: 0.633 - ETA: 0s - loss: 0.8358 - acc: 0.634 - ETA: 0s - loss: 0.8386 - acc: 0.632 - ETA: 0s - loss: 0.8383 - acc: 0.634 - 12s - loss: 0.8393 - acc: 0.6350 - val_loss: 0.8521 - val_acc: 0.6190\n",
      "Epoch 37/50\n"
     ]
    },
    {
     "name": "stdout",
     "output_type": "stream",
     "text": [
      "50/50 [==============================] - ETA: 6s - loss: 0.9447 - acc: 0.562 - ETA: 7s - loss: 0.9229 - acc: 0.593 - ETA: 6s - loss: 0.8459 - acc: 0.656 - ETA: 7s - loss: 0.8315 - acc: 0.656 - ETA: 6s - loss: 0.8355 - acc: 0.650 - ETA: 6s - loss: 0.8131 - acc: 0.677 - ETA: 6s - loss: 0.8310 - acc: 0.660 - ETA: 6s - loss: 0.8166 - acc: 0.656 - ETA: 6s - loss: 0.8093 - acc: 0.666 - ETA: 6s - loss: 0.8013 - acc: 0.675 - ETA: 6s - loss: 0.8191 - acc: 0.664 - ETA: 6s - loss: 0.8127 - acc: 0.666 - ETA: 6s - loss: 0.8112 - acc: 0.670 - ETA: 6s - loss: 0.8100 - acc: 0.669 - ETA: 6s - loss: 0.8050 - acc: 0.672 - ETA: 6s - loss: 0.8068 - acc: 0.669 - ETA: 6s - loss: 0.8172 - acc: 0.663 - ETA: 6s - loss: 0.8147 - acc: 0.661 - ETA: 6s - loss: 0.8170 - acc: 0.656 - ETA: 6s - loss: 0.8137 - acc: 0.660 - ETA: 5s - loss: 0.8094 - acc: 0.663 - ETA: 5s - loss: 0.8176 - acc: 0.661 - ETA: 5s - loss: 0.8188 - acc: 0.661 - ETA: 5s - loss: 0.8174 - acc: 0.662 - ETA: 5s - loss: 0.8153 - acc: 0.666 - ETA: 4s - loss: 0.8153 - acc: 0.664 - ETA: 4s - loss: 0.8161 - acc: 0.665 - ETA: 4s - loss: 0.8159 - acc: 0.666 - ETA: 4s - loss: 0.8150 - acc: 0.665 - ETA: 4s - loss: 0.8165 - acc: 0.664 - ETA: 4s - loss: 0.8134 - acc: 0.664 - ETA: 3s - loss: 0.8101 - acc: 0.665 - ETA: 3s - loss: 0.8123 - acc: 0.662 - ETA: 3s - loss: 0.8108 - acc: 0.665 - ETA: 3s - loss: 0.8124 - acc: 0.662 - ETA: 3s - loss: 0.8149 - acc: 0.658 - ETA: 3s - loss: 0.8190 - acc: 0.653 - ETA: 2s - loss: 0.8186 - acc: 0.654 - ETA: 2s - loss: 0.8147 - acc: 0.657 - ETA: 2s - loss: 0.8101 - acc: 0.658 - ETA: 2s - loss: 0.8091 - acc: 0.659 - ETA: 1s - loss: 0.8061 - acc: 0.662 - ETA: 1s - loss: 0.8059 - acc: 0.662 - ETA: 1s - loss: 0.8022 - acc: 0.665 - ETA: 1s - loss: 0.7986 - acc: 0.667 - ETA: 0s - loss: 0.8039 - acc: 0.664 - ETA: 0s - loss: 0.8045 - acc: 0.664 - ETA: 0s - loss: 0.7995 - acc: 0.667 - ETA: 0s - loss: 0.7970 - acc: 0.667 - 14s - loss: 0.7963 - acc: 0.6675 - val_loss: 0.7586 - val_acc: 0.6970\n",
      "Epoch 38/50\n",
      "50/50 [==============================] - ETA: 9s - loss: 0.7302 - acc: 0.718 - ETA: 9s - loss: 0.7480 - acc: 0.718 - ETA: 9s - loss: 0.7918 - acc: 0.677 - ETA: 9s - loss: 0.8294 - acc: 0.632 - ETA: 9s - loss: 0.8184 - acc: 0.637 - ETA: 9s - loss: 0.7991 - acc: 0.651 - ETA: 9s - loss: 0.7944 - acc: 0.651 - ETA: 8s - loss: 0.7603 - acc: 0.675 - ETA: 8s - loss: 0.7453 - acc: 0.687 - ETA: 8s - loss: 0.7369 - acc: 0.696 - ETA: 8s - loss: 0.7464 - acc: 0.690 - ETA: 8s - loss: 0.7554 - acc: 0.690 - ETA: 9s - loss: 0.7477 - acc: 0.699 - ETA: 9s - loss: 0.7498 - acc: 0.692 - ETA: 9s - loss: 0.7438 - acc: 0.697 - ETA: 8s - loss: 0.7501 - acc: 0.691 - ETA: 8s - loss: 0.7673 - acc: 0.682 - ETA: 8s - loss: 0.7554 - acc: 0.689 - ETA: 8s - loss: 0.7586 - acc: 0.690 - ETA: 8s - loss: 0.7618 - acc: 0.692 - ETA: 7s - loss: 0.7626 - acc: 0.694 - ETA: 7s - loss: 0.7579 - acc: 0.698 - ETA: 7s - loss: 0.7674 - acc: 0.695 - ETA: 7s - loss: 0.7769 - acc: 0.688 - ETA: 6s - loss: 0.7873 - acc: 0.677 - ETA: 6s - loss: 0.7917 - acc: 0.677 - ETA: 6s - loss: 0.7990 - acc: 0.672 - ETA: 6s - loss: 0.8009 - acc: 0.675 - ETA: 6s - loss: 0.8016 - acc: 0.674 - ETA: 5s - loss: 0.8072 - acc: 0.671 - ETA: 5s - loss: 0.8063 - acc: 0.674 - ETA: 5s - loss: 0.8033 - acc: 0.675 - ETA: 5s - loss: 0.8052 - acc: 0.672 - ETA: 4s - loss: 0.8053 - acc: 0.671 - ETA: 4s - loss: 0.8042 - acc: 0.670 - ETA: 4s - loss: 0.8083 - acc: 0.668 - ETA: 3s - loss: 0.8089 - acc: 0.668 - ETA: 3s - loss: 0.8080 - acc: 0.668 - ETA: 3s - loss: 0.8127 - acc: 0.664 - ETA: 3s - loss: 0.8128 - acc: 0.663 - ETA: 2s - loss: 0.8104 - acc: 0.663 - ETA: 2s - loss: 0.8119 - acc: 0.662 - ETA: 2s - loss: 0.8121 - acc: 0.661 - ETA: 1s - loss: 0.8116 - acc: 0.662 - ETA: 1s - loss: 0.8137 - acc: 0.660 - ETA: 1s - loss: 0.8143 - acc: 0.660 - ETA: 0s - loss: 0.8110 - acc: 0.661 - ETA: 0s - loss: 0.8113 - acc: 0.661 - ETA: 0s - loss: 0.8150 - acc: 0.657 - 16s - loss: 0.8138 - acc: 0.6587 - val_loss: 0.7446 - val_acc: 0.6890\n",
      "Epoch 39/50\n",
      "50/50 [==============================] - ETA: 8s - loss: 0.7556 - acc: 0.625 - ETA: 7s - loss: 0.8608 - acc: 0.562 - ETA: 7s - loss: 0.8090 - acc: 0.604 - ETA: 7s - loss: 0.8093 - acc: 0.601 - ETA: 7s - loss: 0.7909 - acc: 0.631 - ETA: 8s - loss: 0.7816 - acc: 0.640 - ETA: 8s - loss: 0.7922 - acc: 0.633 - ETA: 9s - loss: 0.7816 - acc: 0.636 - ETA: 9s - loss: 0.7799 - acc: 0.645 - ETA: 9s - loss: 0.7929 - acc: 0.634 - ETA: 9s - loss: 0.7938 - acc: 0.627 - ETA: 9s - loss: 0.8054 - acc: 0.619 - ETA: 10s - loss: 0.8137 - acc: 0.61 - ETA: 10s - loss: 0.8125 - acc: 0.61 - ETA: 9s - loss: 0.8253 - acc: 0.6125 - ETA: 9s - loss: 0.8339 - acc: 0.615 - ETA: 9s - loss: 0.8221 - acc: 0.621 - ETA: 8s - loss: 0.8163 - acc: 0.628 - ETA: 8s - loss: 0.8141 - acc: 0.634 - ETA: 8s - loss: 0.8113 - acc: 0.637 - ETA: 7s - loss: 0.8096 - acc: 0.636 - ETA: 7s - loss: 0.8100 - acc: 0.639 - ETA: 7s - loss: 0.8090 - acc: 0.641 - ETA: 7s - loss: 0.8093 - acc: 0.639 - ETA: 6s - loss: 0.8140 - acc: 0.638 - ETA: 6s - loss: 0.8066 - acc: 0.644 - ETA: 6s - loss: 0.8011 - acc: 0.649 - ETA: 5s - loss: 0.8038 - acc: 0.649 - ETA: 5s - loss: 0.7981 - acc: 0.654 - ETA: 5s - loss: 0.7897 - acc: 0.659 - ETA: 5s - loss: 0.7968 - acc: 0.657 - ETA: 4s - loss: 0.7956 - acc: 0.660 - ETA: 4s - loss: 0.7909 - acc: 0.664 - ETA: 4s - loss: 0.7912 - acc: 0.664 - ETA: 4s - loss: 0.7901 - acc: 0.664 - ETA: 3s - loss: 0.7848 - acc: 0.665 - ETA: 3s - loss: 0.7794 - acc: 0.667 - ETA: 3s - loss: 0.7780 - acc: 0.666 - ETA: 3s - loss: 0.7798 - acc: 0.667 - ETA: 2s - loss: 0.7786 - acc: 0.668 - ETA: 2s - loss: 0.7744 - acc: 0.670 - ETA: 2s - loss: 0.7727 - acc: 0.673 - ETA: 1s - loss: 0.7675 - acc: 0.675 - ETA: 1s - loss: 0.7665 - acc: 0.676 - ETA: 1s - loss: 0.7668 - acc: 0.677 - ETA: 1s - loss: 0.7714 - acc: 0.673 - ETA: 0s - loss: 0.7790 - acc: 0.670 - ETA: 0s - loss: 0.7796 - acc: 0.671 - ETA: 0s - loss: 0.7789 - acc: 0.670 - 15s - loss: 0.7753 - acc: 0.6725 - val_loss: 0.7801 - val_acc: 0.7070\n",
      "Epoch 40/50\n",
      "50/50 [==============================] - ETA: 9s - loss: 0.6466 - acc: 0.843 - ETA: 9s - loss: 0.6792 - acc: 0.781 - ETA: 9s - loss: 0.6517 - acc: 0.770 - ETA: 9s - loss: 0.6903 - acc: 0.726 - ETA: 8s - loss: 0.8032 - acc: 0.693 - ETA: 8s - loss: 0.7971 - acc: 0.692 - ETA: 8s - loss: 0.7926 - acc: 0.687 - ETA: 8s - loss: 0.8118 - acc: 0.671 - ETA: 7s - loss: 0.8271 - acc: 0.663 - ETA: 7s - loss: 0.8425 - acc: 0.653 - ETA: 7s - loss: 0.8426 - acc: 0.653 - ETA: 7s - loss: 0.8442 - acc: 0.648 - ETA: 7s - loss: 0.8304 - acc: 0.653 - ETA: 7s - loss: 0.8288 - acc: 0.656 - ETA: 6s - loss: 0.8187 - acc: 0.662 - ETA: 6s - loss: 0.8176 - acc: 0.668 - ETA: 6s - loss: 0.8230 - acc: 0.663 - ETA: 6s - loss: 0.8193 - acc: 0.663 - ETA: 6s - loss: 0.8243 - acc: 0.657 - ETA: 6s - loss: 0.8198 - acc: 0.657 - ETA: 6s - loss: 0.8127 - acc: 0.665 - ETA: 5s - loss: 0.8139 - acc: 0.660 - ETA: 5s - loss: 0.8115 - acc: 0.664 - ETA: 5s - loss: 0.8114 - acc: 0.664 - ETA: 5s - loss: 0.8124 - acc: 0.660 - ETA: 5s - loss: 0.8132 - acc: 0.656 - ETA: 4s - loss: 0.8102 - acc: 0.657 - ETA: 4s - loss: 0.8087 - acc: 0.656 - ETA: 4s - loss: 0.8038 - acc: 0.657 - ETA: 4s - loss: 0.7977 - acc: 0.660 - ETA: 4s - loss: 0.7971 - acc: 0.656 - ETA: 3s - loss: 0.7959 - acc: 0.657 - ETA: 3s - loss: 0.7986 - acc: 0.658 - ETA: 3s - loss: 0.8019 - acc: 0.656 - ETA: 3s - loss: 0.8037 - acc: 0.658 - ETA: 3s - loss: 0.8051 - acc: 0.655 - ETA: 2s - loss: 0.7968 - acc: 0.660 - ETA: 2s - loss: 0.7938 - acc: 0.661 - ETA: 2s - loss: 0.7960 - acc: 0.659 - ETA: 2s - loss: 0.7955 - acc: 0.657 - ETA: 2s - loss: 0.7894 - acc: 0.661 - ETA: 1s - loss: 0.7918 - acc: 0.660 - ETA: 1s - loss: 0.7931 - acc: 0.659 - ETA: 1s - loss: 0.7925 - acc: 0.661 - ETA: 1s - loss: 0.7898 - acc: 0.664 - ETA: 0s - loss: 0.7924 - acc: 0.661 - ETA: 0s - loss: 0.7943 - acc: 0.660 - ETA: 0s - loss: 0.7961 - acc: 0.662 - ETA: 0s - loss: 0.7952 - acc: 0.663 - 13s - loss: 0.7954 - acc: 0.6637 - val_loss: 0.7590 - val_acc: 0.6910\n",
      "Epoch 41/50\n"
     ]
    },
    {
     "name": "stdout",
     "output_type": "stream",
     "text": [
      "50/50 [==============================] - ETA: 7s - loss: 0.7357 - acc: 0.718 - ETA: 8s - loss: 0.8434 - acc: 0.687 - ETA: 8s - loss: 0.7977 - acc: 0.677 - ETA: 8s - loss: 0.8197 - acc: 0.656 - ETA: 8s - loss: 0.7960 - acc: 0.662 - ETA: 8s - loss: 0.7848 - acc: 0.661 - ETA: 7s - loss: 0.7624 - acc: 0.674 - ETA: 7s - loss: 0.7576 - acc: 0.675 - ETA: 7s - loss: 0.7506 - acc: 0.684 - ETA: 7s - loss: 0.7445 - acc: 0.690 - ETA: 7s - loss: 0.7408 - acc: 0.701 - ETA: 6s - loss: 0.7333 - acc: 0.705 - ETA: 6s - loss: 0.7409 - acc: 0.699 - ETA: 6s - loss: 0.7418 - acc: 0.698 - ETA: 6s - loss: 0.7390 - acc: 0.704 - ETA: 6s - loss: 0.7488 - acc: 0.697 - ETA: 6s - loss: 0.7429 - acc: 0.698 - ETA: 6s - loss: 0.7467 - acc: 0.694 - ETA: 6s - loss: 0.7434 - acc: 0.697 - ETA: 6s - loss: 0.7430 - acc: 0.700 - ETA: 5s - loss: 0.7360 - acc: 0.700 - ETA: 5s - loss: 0.7338 - acc: 0.704 - ETA: 5s - loss: 0.7247 - acc: 0.709 - ETA: 5s - loss: 0.7326 - acc: 0.704 - ETA: 5s - loss: 0.7371 - acc: 0.701 - ETA: 4s - loss: 0.7337 - acc: 0.704 - ETA: 4s - loss: 0.7385 - acc: 0.702 - ETA: 4s - loss: 0.7374 - acc: 0.705 - ETA: 4s - loss: 0.7376 - acc: 0.703 - ETA: 4s - loss: 0.7457 - acc: 0.699 - ETA: 3s - loss: 0.7488 - acc: 0.697 - ETA: 3s - loss: 0.7520 - acc: 0.695 - ETA: 3s - loss: 0.7484 - acc: 0.695 - ETA: 3s - loss: 0.7522 - acc: 0.693 - ETA: 3s - loss: 0.7491 - acc: 0.694 - ETA: 2s - loss: 0.7519 - acc: 0.692 - ETA: 2s - loss: 0.7539 - acc: 0.690 - ETA: 2s - loss: 0.7506 - acc: 0.694 - ETA: 2s - loss: 0.7563 - acc: 0.690 - ETA: 2s - loss: 0.7604 - acc: 0.690 - ETA: 1s - loss: 0.7631 - acc: 0.688 - ETA: 1s - loss: 0.7594 - acc: 0.689 - ETA: 1s - loss: 0.7573 - acc: 0.691 - ETA: 1s - loss: 0.7537 - acc: 0.693 - ETA: 1s - loss: 0.7568 - acc: 0.693 - ETA: 0s - loss: 0.7561 - acc: 0.692 - ETA: 0s - loss: 0.7524 - acc: 0.692 - ETA: 0s - loss: 0.7500 - acc: 0.696 - ETA: 0s - loss: 0.7487 - acc: 0.694 - 12s - loss: 0.7494 - acc: 0.6937 - val_loss: 0.8693 - val_acc: 0.6420\n",
      "Epoch 42/50\n",
      "50/50 [==============================] - ETA: 8s - loss: 0.7375 - acc: 0.718 - ETA: 8s - loss: 0.8177 - acc: 0.656 - ETA: 8s - loss: 0.8089 - acc: 0.666 - ETA: 8s - loss: 0.8452 - acc: 0.632 - ETA: 8s - loss: 0.8590 - acc: 0.606 - ETA: 8s - loss: 0.8788 - acc: 0.593 - ETA: 8s - loss: 0.9106 - acc: 0.575 - ETA: 7s - loss: 0.8986 - acc: 0.566 - ETA: 7s - loss: 0.8812 - acc: 0.576 - ETA: 7s - loss: 0.8821 - acc: 0.571 - ETA: 7s - loss: 0.8715 - acc: 0.582 - ETA: 7s - loss: 0.8698 - acc: 0.588 - ETA: 7s - loss: 0.8830 - acc: 0.584 - ETA: 6s - loss: 0.8635 - acc: 0.598 - ETA: 6s - loss: 0.8633 - acc: 0.600 - ETA: 6s - loss: 0.8486 - acc: 0.611 - ETA: 6s - loss: 0.8470 - acc: 0.615 - ETA: 6s - loss: 0.8486 - acc: 0.614 - ETA: 6s - loss: 0.8493 - acc: 0.613 - ETA: 6s - loss: 0.8481 - acc: 0.614 - ETA: 5s - loss: 0.8423 - acc: 0.616 - ETA: 5s - loss: 0.8493 - acc: 0.612 - ETA: 5s - loss: 0.8525 - acc: 0.615 - ETA: 5s - loss: 0.8489 - acc: 0.615 - ETA: 5s - loss: 0.8459 - acc: 0.620 - ETA: 5s - loss: 0.8439 - acc: 0.622 - ETA: 4s - loss: 0.8334 - acc: 0.630 - ETA: 4s - loss: 0.8294 - acc: 0.632 - ETA: 4s - loss: 0.8263 - acc: 0.632 - ETA: 4s - loss: 0.8222 - acc: 0.634 - ETA: 4s - loss: 0.8129 - acc: 0.642 - ETA: 3s - loss: 0.8084 - acc: 0.647 - ETA: 3s - loss: 0.8187 - acc: 0.639 - ETA: 3s - loss: 0.8188 - acc: 0.640 - ETA: 3s - loss: 0.8135 - acc: 0.642 - ETA: 2s - loss: 0.8166 - acc: 0.639 - ETA: 2s - loss: 0.8136 - acc: 0.642 - ETA: 2s - loss: 0.8123 - acc: 0.643 - ETA: 2s - loss: 0.8153 - acc: 0.643 - ETA: 2s - loss: 0.8182 - acc: 0.639 - ETA: 1s - loss: 0.8178 - acc: 0.640 - ETA: 1s - loss: 0.8192 - acc: 0.638 - ETA: 1s - loss: 0.8191 - acc: 0.641 - ETA: 1s - loss: 0.8202 - acc: 0.641 - ETA: 1s - loss: 0.8223 - acc: 0.639 - ETA: 0s - loss: 0.8197 - acc: 0.642 - ETA: 0s - loss: 0.8134 - acc: 0.646 - ETA: 0s - loss: 0.8146 - acc: 0.645 - ETA: 0s - loss: 0.8156 - acc: 0.644 - 12s - loss: 0.8130 - acc: 0.6456 - val_loss: 0.8127 - val_acc: 0.6280\n",
      "Epoch 43/50\n",
      "50/50 [==============================] - ETA: 7s - loss: 0.6507 - acc: 0.687 - ETA: 7s - loss: 0.7379 - acc: 0.703 - ETA: 7s - loss: 0.7827 - acc: 0.666 - ETA: 7s - loss: 0.7586 - acc: 0.679 - ETA: 7s - loss: 0.7759 - acc: 0.668 - ETA: 7s - loss: 0.7852 - acc: 0.666 - ETA: 7s - loss: 0.7544 - acc: 0.683 - ETA: 6s - loss: 0.7568 - acc: 0.679 - ETA: 6s - loss: 0.7617 - acc: 0.673 - ETA: 6s - loss: 0.7744 - acc: 0.671 - ETA: 6s - loss: 0.7785 - acc: 0.676 - ETA: 6s - loss: 0.7747 - acc: 0.679 - ETA: 6s - loss: 0.7813 - acc: 0.673 - ETA: 5s - loss: 0.7760 - acc: 0.674 - ETA: 5s - loss: 0.7745 - acc: 0.681 - ETA: 5s - loss: 0.7677 - acc: 0.687 - ETA: 5s - loss: 0.7610 - acc: 0.689 - ETA: 5s - loss: 0.7642 - acc: 0.689 - ETA: 5s - loss: 0.7655 - acc: 0.690 - ETA: 5s - loss: 0.7695 - acc: 0.684 - ETA: 5s - loss: 0.7686 - acc: 0.684 - ETA: 5s - loss: 0.7678 - acc: 0.684 - ETA: 5s - loss: 0.7616 - acc: 0.690 - ETA: 5s - loss: 0.7554 - acc: 0.692 - ETA: 4s - loss: 0.7598 - acc: 0.688 - ETA: 4s - loss: 0.7582 - acc: 0.687 - ETA: 4s - loss: 0.7590 - acc: 0.686 - ETA: 4s - loss: 0.7579 - acc: 0.685 - ETA: 4s - loss: 0.7532 - acc: 0.686 - ETA: 4s - loss: 0.7528 - acc: 0.687 - ETA: 3s - loss: 0.7543 - acc: 0.684 - ETA: 3s - loss: 0.7549 - acc: 0.680 - ETA: 3s - loss: 0.7502 - acc: 0.679 - ETA: 3s - loss: 0.7478 - acc: 0.679 - ETA: 3s - loss: 0.7511 - acc: 0.680 - ETA: 2s - loss: 0.7516 - acc: 0.682 - ETA: 2s - loss: 0.7488 - acc: 0.684 - ETA: 2s - loss: 0.7456 - acc: 0.682 - ETA: 2s - loss: 0.7478 - acc: 0.681 - ETA: 2s - loss: 0.7557 - acc: 0.678 - ETA: 1s - loss: 0.7546 - acc: 0.679 - ETA: 1s - loss: 0.7536 - acc: 0.680 - ETA: 1s - loss: 0.7535 - acc: 0.679 - ETA: 1s - loss: 0.7491 - acc: 0.681 - ETA: 1s - loss: 0.7515 - acc: 0.681 - ETA: 0s - loss: 0.7488 - acc: 0.682 - ETA: 0s - loss: 0.7501 - acc: 0.682 - ETA: 0s - loss: 0.7463 - acc: 0.684 - ETA: 0s - loss: 0.7457 - acc: 0.686 - 11s - loss: 0.7451 - acc: 0.6856 - val_loss: 0.7068 - val_acc: 0.7290\n",
      "Epoch 44/50\n",
      "50/50 [==============================] - ETA: 8s - loss: 0.9359 - acc: 0.593 - ETA: 8s - loss: 0.8967 - acc: 0.578 - ETA: 7s - loss: 0.8315 - acc: 0.645 - ETA: 7s - loss: 0.8206 - acc: 0.632 - ETA: 7s - loss: 0.8529 - acc: 0.631 - ETA: 7s - loss: 0.8258 - acc: 0.645 - ETA: 7s - loss: 0.8395 - acc: 0.616 - ETA: 7s - loss: 0.8255 - acc: 0.617 - ETA: 6s - loss: 0.8048 - acc: 0.628 - ETA: 6s - loss: 0.8075 - acc: 0.634 - ETA: 6s - loss: 0.8050 - acc: 0.630 - ETA: 6s - loss: 0.7918 - acc: 0.638 - ETA: 6s - loss: 0.7862 - acc: 0.646 - ETA: 6s - loss: 0.7956 - acc: 0.640 - ETA: 6s - loss: 0.8058 - acc: 0.639 - ETA: 6s - loss: 0.8028 - acc: 0.644 - ETA: 5s - loss: 0.7872 - acc: 0.656 - ETA: 5s - loss: 0.7877 - acc: 0.654 - ETA: 5s - loss: 0.7874 - acc: 0.649 - ETA: 5s - loss: 0.7895 - acc: 0.650 - ETA: 5s - loss: 0.7825 - acc: 0.656 - ETA: 5s - loss: 0.7834 - acc: 0.656 - ETA: 5s - loss: 0.7829 - acc: 0.659 - ETA: 5s - loss: 0.7822 - acc: 0.660 - ETA: 4s - loss: 0.7818 - acc: 0.660 - ETA: 4s - loss: 0.7825 - acc: 0.657 - ETA: 4s - loss: 0.7871 - acc: 0.656 - ETA: 4s - loss: 0.7863 - acc: 0.658 - ETA: 4s - loss: 0.7819 - acc: 0.660 - ETA: 3s - loss: 0.7847 - acc: 0.661 - ETA: 3s - loss: 0.7807 - acc: 0.663 - ETA: 3s - loss: 0.7784 - acc: 0.665 - ETA: 3s - loss: 0.7887 - acc: 0.659 - ETA: 3s - loss: 0.7876 - acc: 0.658 - ETA: 3s - loss: 0.7830 - acc: 0.662 - ETA: 2s - loss: 0.7794 - acc: 0.664 - ETA: 2s - loss: 0.7860 - acc: 0.660 - ETA: 2s - loss: 0.7863 - acc: 0.660 - ETA: 2s - loss: 0.7808 - acc: 0.662 - ETA: 2s - loss: 0.7797 - acc: 0.664 - ETA: 1s - loss: 0.7812 - acc: 0.663 - ETA: 1s - loss: 0.7788 - acc: 0.664 - ETA: 1s - loss: 0.7799 - acc: 0.665 - ETA: 1s - loss: 0.7783 - acc: 0.668 - ETA: 1s - loss: 0.7763 - acc: 0.672 - ETA: 0s - loss: 0.7749 - acc: 0.673 - ETA: 0s - loss: 0.7755 - acc: 0.672 - ETA: 0s - loss: 0.7737 - acc: 0.674 - ETA: 0s - loss: 0.7710 - acc: 0.674 - 12s - loss: 0.7718 - acc: 0.6750 - val_loss: 0.7443 - val_acc: 0.7300\n",
      "Epoch 45/50\n"
     ]
    },
    {
     "name": "stdout",
     "output_type": "stream",
     "text": [
      "50/50 [==============================] - ETA: 7s - loss: 0.7057 - acc: 0.656 - ETA: 7s - loss: 0.6463 - acc: 0.703 - ETA: 7s - loss: 0.6935 - acc: 0.666 - ETA: 7s - loss: 0.7208 - acc: 0.671 - ETA: 7s - loss: 0.7615 - acc: 0.668 - ETA: 7s - loss: 0.7421 - acc: 0.687 - ETA: 6s - loss: 0.7414 - acc: 0.705 - ETA: 6s - loss: 0.7333 - acc: 0.722 - ETA: 6s - loss: 0.7236 - acc: 0.722 - ETA: 6s - loss: 0.7378 - acc: 0.712 - ETA: 6s - loss: 0.7431 - acc: 0.704 - ETA: 6s - loss: 0.7518 - acc: 0.692 - ETA: 6s - loss: 0.7531 - acc: 0.685 - ETA: 5s - loss: 0.7646 - acc: 0.683 - ETA: 5s - loss: 0.7608 - acc: 0.687 - ETA: 5s - loss: 0.7571 - acc: 0.681 - ETA: 5s - loss: 0.7599 - acc: 0.682 - ETA: 5s - loss: 0.7749 - acc: 0.677 - ETA: 5s - loss: 0.7859 - acc: 0.669 - ETA: 5s - loss: 0.7851 - acc: 0.667 - ETA: 5s - loss: 0.7903 - acc: 0.665 - ETA: 5s - loss: 0.7905 - acc: 0.663 - ETA: 4s - loss: 0.7833 - acc: 0.667 - ETA: 4s - loss: 0.7867 - acc: 0.664 - ETA: 4s - loss: 0.7868 - acc: 0.665 - ETA: 4s - loss: 0.7863 - acc: 0.664 - ETA: 4s - loss: 0.7912 - acc: 0.662 - ETA: 4s - loss: 0.7923 - acc: 0.661 - ETA: 4s - loss: 0.7894 - acc: 0.664 - ETA: 3s - loss: 0.7910 - acc: 0.664 - ETA: 3s - loss: 0.7903 - acc: 0.667 - ETA: 3s - loss: 0.7915 - acc: 0.668 - ETA: 3s - loss: 0.7904 - acc: 0.669 - ETA: 3s - loss: 0.7908 - acc: 0.670 - ETA: 2s - loss: 0.7857 - acc: 0.671 - ETA: 2s - loss: 0.7820 - acc: 0.674 - ETA: 2s - loss: 0.7846 - acc: 0.673 - ETA: 2s - loss: 0.7837 - acc: 0.671 - ETA: 2s - loss: 0.7835 - acc: 0.673 - ETA: 1s - loss: 0.7851 - acc: 0.672 - ETA: 1s - loss: 0.7844 - acc: 0.674 - ETA: 1s - loss: 0.7843 - acc: 0.672 - ETA: 1s - loss: 0.7798 - acc: 0.674 - ETA: 1s - loss: 0.7823 - acc: 0.671 - ETA: 0s - loss: 0.7821 - acc: 0.668 - ETA: 0s - loss: 0.7857 - acc: 0.666 - ETA: 0s - loss: 0.7818 - acc: 0.668 - ETA: 0s - loss: 0.7821 - acc: 0.668 - ETA: 0s - loss: 0.7821 - acc: 0.669 - 11s - loss: 0.7808 - acc: 0.6700 - val_loss: 0.7283 - val_acc: 0.7200\n",
      "Epoch 46/50\n",
      "50/50 [==============================] - ETA: 9s - loss: 0.6066 - acc: 0.812 - ETA: 9s - loss: 0.5820 - acc: 0.796 - ETA: 9s - loss: 0.5865 - acc: 0.781 - ETA: 8s - loss: 0.5925 - acc: 0.781 - ETA: 8s - loss: 0.6473 - acc: 0.731 - ETA: 8s - loss: 0.6493 - acc: 0.729 - ETA: 8s - loss: 0.6617 - acc: 0.727 - ETA: 8s - loss: 0.6730 - acc: 0.718 - ETA: 7s - loss: 0.6793 - acc: 0.704 - ETA: 7s - loss: 0.6678 - acc: 0.709 - ETA: 7s - loss: 0.6953 - acc: 0.693 - ETA: 7s - loss: 0.6904 - acc: 0.703 - ETA: 7s - loss: 0.6884 - acc: 0.706 - ETA: 8s - loss: 0.6871 - acc: 0.707 - ETA: 7s - loss: 0.6911 - acc: 0.710 - ETA: 7s - loss: 0.6892 - acc: 0.710 - ETA: 7s - loss: 0.6881 - acc: 0.709 - ETA: 7s - loss: 0.6938 - acc: 0.715 - ETA: 7s - loss: 0.6970 - acc: 0.715 - ETA: 6s - loss: 0.6930 - acc: 0.718 - ETA: 6s - loss: 0.6947 - acc: 0.718 - ETA: 6s - loss: 0.6935 - acc: 0.720 - ETA: 6s - loss: 0.7085 - acc: 0.716 - ETA: 6s - loss: 0.7126 - acc: 0.716 - ETA: 5s - loss: 0.7122 - acc: 0.715 - ETA: 5s - loss: 0.7133 - acc: 0.711 - ETA: 5s - loss: 0.7143 - acc: 0.713 - ETA: 5s - loss: 0.7166 - acc: 0.713 - ETA: 4s - loss: 0.7151 - acc: 0.711 - ETA: 4s - loss: 0.7151 - acc: 0.712 - ETA: 4s - loss: 0.7151 - acc: 0.711 - ETA: 4s - loss: 0.7078 - acc: 0.712 - ETA: 4s - loss: 0.7058 - acc: 0.713 - ETA: 3s - loss: 0.7052 - acc: 0.712 - ETA: 3s - loss: 0.7029 - acc: 0.714 - ETA: 3s - loss: 0.7065 - acc: 0.710 - ETA: 3s - loss: 0.7037 - acc: 0.712 - ETA: 2s - loss: 0.7025 - acc: 0.712 - ETA: 2s - loss: 0.7014 - acc: 0.713 - ETA: 2s - loss: 0.6986 - acc: 0.716 - ETA: 2s - loss: 0.6976 - acc: 0.717 - ETA: 1s - loss: 0.7062 - acc: 0.713 - ETA: 1s - loss: 0.7078 - acc: 0.712 - ETA: 1s - loss: 0.7103 - acc: 0.710 - ETA: 1s - loss: 0.7150 - acc: 0.709 - ETA: 0s - loss: 0.7174 - acc: 0.707 - ETA: 0s - loss: 0.7115 - acc: 0.710 - ETA: 0s - loss: 0.7108 - acc: 0.710 - ETA: 0s - loss: 0.7123 - acc: 0.709 - 13s - loss: 0.7085 - acc: 0.7131 - val_loss: 0.6884 - val_acc: 0.7160\n",
      "Epoch 47/50\n",
      "50/50 [==============================] - ETA: 8s - loss: 0.7567 - acc: 0.625 - ETA: 8s - loss: 0.6509 - acc: 0.718 - ETA: 8s - loss: 0.6800 - acc: 0.708 - ETA: 7s - loss: 0.6667 - acc: 0.734 - ETA: 7s - loss: 0.6490 - acc: 0.756 - ETA: 7s - loss: 0.6402 - acc: 0.750 - ETA: 7s - loss: 0.6596 - acc: 0.727 - ETA: 7s - loss: 0.6888 - acc: 0.722 - ETA: 7s - loss: 0.6795 - acc: 0.725 - ETA: 7s - loss: 0.6896 - acc: 0.721 - ETA: 7s - loss: 0.7030 - acc: 0.715 - ETA: 7s - loss: 0.7023 - acc: 0.710 - ETA: 7s - loss: 0.7072 - acc: 0.706 - ETA: 7s - loss: 0.7151 - acc: 0.700 - ETA: 7s - loss: 0.7331 - acc: 0.695 - ETA: 7s - loss: 0.7254 - acc: 0.699 - ETA: 7s - loss: 0.7161 - acc: 0.702 - ETA: 7s - loss: 0.7140 - acc: 0.703 - ETA: 6s - loss: 0.7141 - acc: 0.700 - ETA: 6s - loss: 0.7129 - acc: 0.700 - ETA: 6s - loss: 0.7126 - acc: 0.703 - ETA: 6s - loss: 0.7122 - acc: 0.703 - ETA: 6s - loss: 0.7078 - acc: 0.705 - ETA: 5s - loss: 0.7132 - acc: 0.704 - ETA: 5s - loss: 0.7173 - acc: 0.700 - ETA: 5s - loss: 0.7198 - acc: 0.698 - ETA: 5s - loss: 0.7172 - acc: 0.699 - ETA: 5s - loss: 0.7141 - acc: 0.699 - ETA: 4s - loss: 0.7214 - acc: 0.695 - ETA: 4s - loss: 0.7262 - acc: 0.693 - ETA: 4s - loss: 0.7289 - acc: 0.688 - ETA: 4s - loss: 0.7274 - acc: 0.689 - ETA: 3s - loss: 0.7315 - acc: 0.688 - ETA: 3s - loss: 0.7397 - acc: 0.682 - ETA: 3s - loss: 0.7385 - acc: 0.683 - ETA: 3s - loss: 0.7333 - acc: 0.687 - ETA: 3s - loss: 0.7357 - acc: 0.685 - ETA: 2s - loss: 0.7343 - acc: 0.684 - ETA: 2s - loss: 0.7366 - acc: 0.682 - ETA: 2s - loss: 0.7366 - acc: 0.681 - ETA: 2s - loss: 0.7337 - acc: 0.683 - ETA: 1s - loss: 0.7358 - acc: 0.684 - ETA: 1s - loss: 0.7373 - acc: 0.682 - ETA: 1s - loss: 0.7338 - acc: 0.686 - ETA: 1s - loss: 0.7362 - acc: 0.685 - ETA: 0s - loss: 0.7336 - acc: 0.687 - ETA: 0s - loss: 0.7347 - acc: 0.686 - ETA: 0s - loss: 0.7346 - acc: 0.686 - ETA: 0s - loss: 0.7360 - acc: 0.686 - 13s - loss: 0.7392 - acc: 0.6838 - val_loss: 0.7534 - val_acc: 0.7070\n",
      "Epoch 48/50\n",
      "50/50 [==============================] - ETA: 9s - loss: 0.7097 - acc: 0.656 - ETA: 9s - loss: 0.7859 - acc: 0.609 - ETA: 9s - loss: 0.8168 - acc: 0.604 - ETA: 9s - loss: 0.7942 - acc: 0.617 - ETA: 8s - loss: 0.7338 - acc: 0.662 - ETA: 8s - loss: 0.7621 - acc: 0.640 - ETA: 8s - loss: 0.7722 - acc: 0.638 - ETA: 7s - loss: 0.7648 - acc: 0.648 - ETA: 7s - loss: 0.7868 - acc: 0.642 - ETA: 7s - loss: 0.7752 - acc: 0.653 - ETA: 7s - loss: 0.7781 - acc: 0.659 - ETA: 7s - loss: 0.7794 - acc: 0.656 - ETA: 7s - loss: 0.7677 - acc: 0.665 - ETA: 7s - loss: 0.7656 - acc: 0.669 - ETA: 7s - loss: 0.7562 - acc: 0.670 - ETA: 7s - loss: 0.7534 - acc: 0.671 - ETA: 7s - loss: 0.7469 - acc: 0.674 - ETA: 7s - loss: 0.7525 - acc: 0.670 - ETA: 7s - loss: 0.7438 - acc: 0.674 - ETA: 7s - loss: 0.7325 - acc: 0.685 - ETA: 6s - loss: 0.7365 - acc: 0.687 - ETA: 6s - loss: 0.7288 - acc: 0.691 - ETA: 6s - loss: 0.7226 - acc: 0.695 - ETA: 6s - loss: 0.7159 - acc: 0.700 - ETA: 6s - loss: 0.7170 - acc: 0.700 - ETA: 5s - loss: 0.7178 - acc: 0.700 - ETA: 5s - loss: 0.7124 - acc: 0.706 - ETA: 5s - loss: 0.7191 - acc: 0.705 - ETA: 5s - loss: 0.7165 - acc: 0.706 - ETA: 4s - loss: 0.7141 - acc: 0.708 - ETA: 4s - loss: 0.7124 - acc: 0.708 - ETA: 4s - loss: 0.7131 - acc: 0.707 - ETA: 4s - loss: 0.7108 - acc: 0.711 - ETA: 3s - loss: 0.7091 - acc: 0.712 - ETA: 3s - loss: 0.7034 - acc: 0.715 - ETA: 3s - loss: 0.7041 - acc: 0.713 - ETA: 3s - loss: 0.7018 - acc: 0.717 - ETA: 2s - loss: 0.7053 - acc: 0.714 - ETA: 2s - loss: 0.7060 - acc: 0.714 - ETA: 2s - loss: 0.7056 - acc: 0.714 - ETA: 2s - loss: 0.7032 - acc: 0.714 - ETA: 1s - loss: 0.7069 - acc: 0.715 - ETA: 1s - loss: 0.7099 - acc: 0.712 - ETA: 1s - loss: 0.7039 - acc: 0.715 - ETA: 1s - loss: 0.7042 - acc: 0.716 - ETA: 0s - loss: 0.7069 - acc: 0.714 - ETA: 0s - loss: 0.7076 - acc: 0.714 - ETA: 0s - loss: 0.7092 - acc: 0.713 - ETA: 0s - loss: 0.7100 - acc: 0.713 - 14s - loss: 0.7088 - acc: 0.7144 - val_loss: 0.6366 - val_acc: 0.7490\n",
      "Epoch 49/50\n"
     ]
    },
    {
     "name": "stdout",
     "output_type": "stream",
     "text": [
      "50/50 [==============================] - ETA: 8s - loss: 0.6648 - acc: 0.812 - ETA: 7s - loss: 0.6968 - acc: 0.781 - ETA: 8s - loss: 0.7878 - acc: 0.739 - ETA: 7s - loss: 0.7420 - acc: 0.757 - ETA: 7s - loss: 0.7168 - acc: 0.750 - ETA: 7s - loss: 0.6925 - acc: 0.744 - ETA: 7s - loss: 0.6765 - acc: 0.750 - ETA: 7s - loss: 0.6553 - acc: 0.761 - ETA: 7s - loss: 0.6874 - acc: 0.739 - ETA: 7s - loss: 0.6849 - acc: 0.737 - ETA: 6s - loss: 0.7098 - acc: 0.727 - ETA: 6s - loss: 0.7325 - acc: 0.721 - ETA: 6s - loss: 0.7305 - acc: 0.716 - ETA: 6s - loss: 0.7215 - acc: 0.716 - ETA: 6s - loss: 0.7156 - acc: 0.718 - ETA: 6s - loss: 0.7347 - acc: 0.705 - ETA: 6s - loss: 0.7422 - acc: 0.700 - ETA: 6s - loss: 0.7352 - acc: 0.703 - ETA: 6s - loss: 0.7383 - acc: 0.703 - ETA: 5s - loss: 0.7270 - acc: 0.709 - ETA: 5s - loss: 0.7260 - acc: 0.711 - ETA: 5s - loss: 0.7178 - acc: 0.713 - ETA: 5s - loss: 0.7107 - acc: 0.716 - ETA: 5s - loss: 0.6999 - acc: 0.722 - ETA: 4s - loss: 0.6989 - acc: 0.721 - ETA: 4s - loss: 0.6940 - acc: 0.723 - ETA: 4s - loss: 0.6937 - acc: 0.722 - ETA: 4s - loss: 0.6987 - acc: 0.716 - ETA: 4s - loss: 0.6987 - acc: 0.715 - ETA: 4s - loss: 0.7008 - acc: 0.716 - ETA: 4s - loss: 0.6978 - acc: 0.716 - ETA: 3s - loss: 0.6969 - acc: 0.718 - ETA: 3s - loss: 0.6932 - acc: 0.721 - ETA: 3s - loss: 0.6921 - acc: 0.723 - ETA: 3s - loss: 0.6903 - acc: 0.723 - ETA: 3s - loss: 0.6944 - acc: 0.717 - ETA: 2s - loss: 0.6998 - acc: 0.712 - ETA: 2s - loss: 0.7009 - acc: 0.713 - ETA: 2s - loss: 0.7037 - acc: 0.710 - ETA: 2s - loss: 0.7023 - acc: 0.710 - ETA: 1s - loss: 0.7024 - acc: 0.710 - ETA: 1s - loss: 0.7005 - acc: 0.712 - ETA: 1s - loss: 0.6976 - acc: 0.713 - ETA: 1s - loss: 0.7016 - acc: 0.710 - ETA: 1s - loss: 0.7011 - acc: 0.710 - ETA: 0s - loss: 0.6974 - acc: 0.712 - ETA: 0s - loss: 0.6959 - acc: 0.714 - ETA: 0s - loss: 0.6954 - acc: 0.713 - ETA: 0s - loss: 0.6965 - acc: 0.712 - 12s - loss: 0.6950 - acc: 0.7125 - val_loss: 0.7032 - val_acc: 0.6860\n",
      "Epoch 50/50\n",
      "50/50 [==============================] - ETA: 7s - loss: 0.7071 - acc: 0.718 - ETA: 7s - loss: 0.6891 - acc: 0.750 - ETA: 7s - loss: 0.7481 - acc: 0.697 - ETA: 7s - loss: 0.7681 - acc: 0.679 - ETA: 7s - loss: 0.7236 - acc: 0.706 - ETA: 6s - loss: 0.7165 - acc: 0.713 - ETA: 6s - loss: 0.6729 - acc: 0.727 - ETA: 6s - loss: 0.6635 - acc: 0.730 - ETA: 6s - loss: 0.6572 - acc: 0.732 - ETA: 6s - loss: 0.6495 - acc: 0.743 - ETA: 6s - loss: 0.6659 - acc: 0.730 - ETA: 6s - loss: 0.6760 - acc: 0.718 - ETA: 6s - loss: 0.6771 - acc: 0.716 - ETA: 6s - loss: 0.6911 - acc: 0.714 - ETA: 6s - loss: 0.6904 - acc: 0.714 - ETA: 6s - loss: 0.6937 - acc: 0.710 - ETA: 6s - loss: 0.6907 - acc: 0.711 - ETA: 6s - loss: 0.6863 - acc: 0.711 - ETA: 5s - loss: 0.6941 - acc: 0.703 - ETA: 5s - loss: 0.7010 - acc: 0.704 - ETA: 5s - loss: 0.7117 - acc: 0.697 - ETA: 5s - loss: 0.7161 - acc: 0.693 - ETA: 5s - loss: 0.7239 - acc: 0.691 - ETA: 5s - loss: 0.7188 - acc: 0.696 - ETA: 4s - loss: 0.7167 - acc: 0.698 - ETA: 4s - loss: 0.7168 - acc: 0.698 - ETA: 4s - loss: 0.7218 - acc: 0.696 - ETA: 4s - loss: 0.7205 - acc: 0.696 - ETA: 4s - loss: 0.7211 - acc: 0.696 - ETA: 4s - loss: 0.7250 - acc: 0.693 - ETA: 3s - loss: 0.7241 - acc: 0.693 - ETA: 3s - loss: 0.7216 - acc: 0.694 - ETA: 3s - loss: 0.7205 - acc: 0.696 - ETA: 3s - loss: 0.7162 - acc: 0.697 - ETA: 3s - loss: 0.7118 - acc: 0.700 - ETA: 2s - loss: 0.7119 - acc: 0.697 - ETA: 2s - loss: 0.7167 - acc: 0.694 - ETA: 2s - loss: 0.7118 - acc: 0.697 - ETA: 2s - loss: 0.7087 - acc: 0.700 - ETA: 2s - loss: 0.7141 - acc: 0.699 - ETA: 1s - loss: 0.7108 - acc: 0.699 - ETA: 1s - loss: 0.7168 - acc: 0.695 - ETA: 1s - loss: 0.7170 - acc: 0.694 - ETA: 1s - loss: 0.7221 - acc: 0.692 - ETA: 1s - loss: 0.7231 - acc: 0.693 - ETA: 0s - loss: 0.7274 - acc: 0.692 - ETA: 0s - loss: 0.7276 - acc: 0.691 - ETA: 0s - loss: 0.7252 - acc: 0.692 - ETA: 0s - loss: 0.7251 - acc: 0.690 - 13s - loss: 0.7250 - acc: 0.6906 - val_loss: 0.7860 - val_acc: 0.6910\n"
     ]
    }
   ],
   "source": [
    "modelid = time.strftime(\"%Y%m%d%H%M%S\")\n",
    "\n",
    "callbacks_list = [\n",
    "    keras.callbacks.EarlyStopping(\n",
    "        monitor='val_acc',\n",
    "        patience=50),\n",
    "    keras.callbacks.ModelCheckpoint(\n",
    "        filepath='model_checkpoint_best_{}.h5'.format(modelid),\n",
    "        monitor='val_loss',\n",
    "        save_best_only=True),\n",
    "    keras.callbacks.TensorBoard(\n",
    "        log_dir='./logs/'+modelid,\n",
    "        histogram_freq=0, write_graph=False, write_images=False)\n",
    "]\n",
    "\n",
    "model = makeModel(32)\n",
    "history=model.fit_generator(\n",
    "                    generator(dataset_tr, batch_size, patchsize),\n",
    "                    steps_per_epoch=50, \n",
    "                    epochs=50, \n",
    "                    verbose=1,\n",
    "                    validation_data=(X_test,y_test),\n",
    "                    callbacks=callbacks_list)"
   ]
  },
  {
   "cell_type": "markdown",
   "metadata": {
    "slideshow": {
     "slide_type": "slide"
    }
   },
   "source": [
    "After training our model, we can save it to disk"
   ]
  },
  {
   "cell_type": "code",
   "execution_count": 26,
   "metadata": {
    "collapsed": true
   },
   "outputs": [],
   "source": [
    "modelname = \"input32\"\n",
    "\n",
    "# Save model to a file\n",
    "keras.models.save_model(model,\"{}.model\".format(modelname))\n",
    "\n",
    "# Also save the testing dataset (may be large) so we can pick up from here later \n",
    "dataset_te.to_pickle(\"{}.testingdata.pickle\".format(modelname))"
   ]
  },
  {
   "cell_type": "markdown",
   "metadata": {
    "slideshow": {
     "slide_type": "slide"
    }
   },
   "source": [
    "If you have time and want to experiment, you may train many networks exploring the parameter space"
   ]
  },
  {
   "cell_type": "code",
   "execution_count": 30,
   "metadata": {},
   "outputs": [
    {
     "name": "stdout",
     "output_type": "stream",
     "text": [
      "_________________________________________________________________\n",
      "Layer (type)                 Output Shape              Param #   \n",
      "=================================================================\n",
      "conv2d_34 (Conv2D)           (None, 32, 32, 1)         28        \n",
      "_________________________________________________________________\n",
      "activation_56 (Activation)   (None, 32, 32, 1)         0         \n",
      "_________________________________________________________________\n",
      "max_pooling2d_34 (MaxPooling (None, 16, 16, 1)         0         \n",
      "_________________________________________________________________\n",
      "conv2d_35 (Conv2D)           (None, 16, 16, 2)         20        \n",
      "_________________________________________________________________\n",
      "activation_57 (Activation)   (None, 16, 16, 2)         0         \n",
      "_________________________________________________________________\n",
      "max_pooling2d_35 (MaxPooling (None, 8, 8, 2)           0         \n",
      "_________________________________________________________________\n",
      "conv2d_36 (Conv2D)           (None, 8, 8, 4)           76        \n",
      "_________________________________________________________________\n",
      "activation_58 (Activation)   (None, 8, 8, 4)           0         \n",
      "_________________________________________________________________\n",
      "max_pooling2d_36 (MaxPooling (None, 4, 4, 4)           0         \n",
      "_________________________________________________________________\n",
      "average_pooling2d_12 (Averag (None, 2, 2, 4)           0         \n",
      "_________________________________________________________________\n",
      "flatten_12 (Flatten)         (None, 16)                0         \n",
      "_________________________________________________________________\n",
      "dense_23 (Dense)             (None, 128)               2176      \n",
      "_________________________________________________________________\n",
      "activation_59 (Activation)   (None, 128)               0         \n",
      "_________________________________________________________________\n",
      "dropout_12 (Dropout)         (None, 128)               0         \n",
      "_________________________________________________________________\n",
      "dense_24 (Dense)             (None, 3)                 387       \n",
      "_________________________________________________________________\n",
      "activation_60 (Activation)   (None, 3)                 0         \n",
      "=================================================================\n",
      "Total params: 2,687\n",
      "Trainable params: 2,687\n",
      "Non-trainable params: 0\n",
      "_________________________________________________________________\n",
      "None\n",
      "2687\n",
      "Epoch 1/1\n",
      "50/50 [==============================] - ETA: 16s - loss: 1.1012 - acc: 0.37 - ETA: 9s - loss: 1.1036 - acc: 0.3750 - ETA: 7s - loss: 1.0999 - acc: 0.385 - ETA: 6s - loss: 1.0964 - acc: 0.382 - ETA: 6s - loss: 1.0985 - acc: 0.356 - ETA: 5s - loss: 1.0982 - acc: 0.359 - ETA: 5s - loss: 1.0992 - acc: 0.343 - ETA: 5s - loss: 1.0995 - acc: 0.355 - ETA: 4s - loss: 1.0987 - acc: 0.357 - ETA: 4s - loss: 1.0984 - acc: 0.346 - ETA: 4s - loss: 1.0982 - acc: 0.343 - ETA: 4s - loss: 1.0969 - acc: 0.362 - ETA: 4s - loss: 1.0964 - acc: 0.363 - ETA: 3s - loss: 1.0960 - acc: 0.368 - ETA: 3s - loss: 1.0955 - acc: 0.372 - ETA: 3s - loss: 1.0959 - acc: 0.365 - ETA: 3s - loss: 1.0965 - acc: 0.358 - ETA: 3s - loss: 1.0962 - acc: 0.362 - ETA: 3s - loss: 1.0964 - acc: 0.363 - ETA: 3s - loss: 1.0966 - acc: 0.360 - ETA: 3s - loss: 1.0963 - acc: 0.358 - ETA: 2s - loss: 1.0967 - acc: 0.358 - ETA: 2s - loss: 1.0971 - acc: 0.358 - ETA: 2s - loss: 1.0969 - acc: 0.362 - ETA: 2s - loss: 1.0976 - acc: 0.357 - ETA: 2s - loss: 1.0974 - acc: 0.358 - ETA: 2s - loss: 1.0974 - acc: 0.356 - ETA: 2s - loss: 1.0969 - acc: 0.359 - ETA: 2s - loss: 1.0976 - acc: 0.355 - ETA: 2s - loss: 1.0979 - acc: 0.354 - ETA: 1s - loss: 1.0974 - acc: 0.355 - ETA: 1s - loss: 1.0974 - acc: 0.356 - ETA: 1s - loss: 1.0977 - acc: 0.358 - ETA: 1s - loss: 1.0975 - acc: 0.363 - ETA: 1s - loss: 1.0976 - acc: 0.361 - ETA: 1s - loss: 1.0978 - acc: 0.360 - ETA: 1s - loss: 1.0976 - acc: 0.360 - ETA: 1s - loss: 1.0974 - acc: 0.363 - ETA: 1s - loss: 1.0977 - acc: 0.359 - ETA: 1s - loss: 1.0975 - acc: 0.361 - ETA: 0s - loss: 1.0972 - acc: 0.365 - ETA: 0s - loss: 1.0971 - acc: 0.367 - ETA: 0s - loss: 1.0968 - acc: 0.368 - ETA: 0s - loss: 1.0967 - acc: 0.369 - ETA: 0s - loss: 1.0964 - acc: 0.369 - ETA: 0s - loss: 1.0962 - acc: 0.371 - ETA: 0s - loss: 1.0963 - acc: 0.371 - ETA: 0s - loss: 1.0966 - acc: 0.367 - ETA: 0s - loss: 1.0967 - acc: 0.366 - 5s - loss: 1.0969 - acc: 0.3663 - val_loss: 1.0988 - val_acc: 0.3120\n",
      "_________________________________________________________________\n",
      "Layer (type)                 Output Shape              Param #   \n",
      "=================================================================\n",
      "conv2d_37 (Conv2D)           (None, 32, 32, 2)         56        \n",
      "_________________________________________________________________\n",
      "activation_61 (Activation)   (None, 32, 32, 2)         0         \n",
      "_________________________________________________________________\n",
      "max_pooling2d_37 (MaxPooling (None, 16, 16, 2)         0         \n",
      "_________________________________________________________________\n",
      "conv2d_38 (Conv2D)           (None, 16, 16, 4)         76        \n",
      "_________________________________________________________________\n",
      "activation_62 (Activation)   (None, 16, 16, 4)         0         \n",
      "_________________________________________________________________\n",
      "max_pooling2d_38 (MaxPooling (None, 8, 8, 4)           0         \n",
      "_________________________________________________________________\n",
      "conv2d_39 (Conv2D)           (None, 8, 8, 8)           296       \n",
      "_________________________________________________________________\n",
      "activation_63 (Activation)   (None, 8, 8, 8)           0         \n",
      "_________________________________________________________________\n",
      "max_pooling2d_39 (MaxPooling (None, 4, 4, 8)           0         \n",
      "_________________________________________________________________\n",
      "average_pooling2d_13 (Averag (None, 2, 2, 8)           0         \n",
      "_________________________________________________________________\n",
      "flatten_13 (Flatten)         (None, 32)                0         \n",
      "_________________________________________________________________\n",
      "dense_25 (Dense)             (None, 128)               4224      \n",
      "_________________________________________________________________\n",
      "activation_64 (Activation)   (None, 128)               0         \n",
      "_________________________________________________________________\n",
      "dropout_13 (Dropout)         (None, 128)               0         \n",
      "_________________________________________________________________\n",
      "dense_26 (Dense)             (None, 3)                 387       \n",
      "_________________________________________________________________\n",
      "activation_65 (Activation)   (None, 3)                 0         \n",
      "=================================================================\n",
      "Total params: 5,039\n",
      "Trainable params: 5,039\n",
      "Non-trainable params: 0\n",
      "_________________________________________________________________\n",
      "None\n",
      "5039\n",
      "Epoch 1/1\n"
     ]
    },
    {
     "name": "stdout",
     "output_type": "stream",
     "text": [
      "50/50 [==============================] - ETA: 9s - loss: 1.1009 - acc: 0.312 - ETA: 5s - loss: 1.0969 - acc: 0.406 - ETA: 5s - loss: 1.0964 - acc: 0.382 - ETA: 4s - loss: 1.0974 - acc: 0.368 - ETA: 4s - loss: 1.0973 - acc: 0.369 - ETA: 4s - loss: 1.0971 - acc: 0.379 - ETA: 4s - loss: 1.0975 - acc: 0.367 - ETA: 4s - loss: 1.0977 - acc: 0.361 - ETA: 4s - loss: 1.0992 - acc: 0.337 - ETA: 4s - loss: 1.0987 - acc: 0.343 - ETA: 3s - loss: 1.0989 - acc: 0.341 - ETA: 3s - loss: 1.0994 - acc: 0.338 - ETA: 3s - loss: 1.0995 - acc: 0.339 - ETA: 3s - loss: 1.0989 - acc: 0.352 - ETA: 3s - loss: 1.0986 - acc: 0.353 - ETA: 3s - loss: 1.0984 - acc: 0.352 - ETA: 3s - loss: 1.0987 - acc: 0.347 - ETA: 3s - loss: 1.0986 - acc: 0.350 - ETA: 3s - loss: 1.0987 - acc: 0.345 - ETA: 2s - loss: 1.0985 - acc: 0.349 - ETA: 2s - loss: 1.0987 - acc: 0.346 - ETA: 2s - loss: 1.0988 - acc: 0.347 - ETA: 2s - loss: 1.0986 - acc: 0.349 - ETA: 2s - loss: 1.0985 - acc: 0.350 - ETA: 2s - loss: 1.0980 - acc: 0.355 - ETA: 2s - loss: 1.0979 - acc: 0.356 - ETA: 2s - loss: 1.0979 - acc: 0.357 - ETA: 2s - loss: 1.0983 - acc: 0.352 - ETA: 2s - loss: 1.0983 - acc: 0.354 - ETA: 1s - loss: 1.0983 - acc: 0.351 - ETA: 1s - loss: 1.0986 - acc: 0.347 - ETA: 1s - loss: 1.0986 - acc: 0.347 - ETA: 1s - loss: 1.0984 - acc: 0.351 - ETA: 1s - loss: 1.0983 - acc: 0.351 - ETA: 1s - loss: 1.0983 - acc: 0.350 - ETA: 1s - loss: 1.0986 - acc: 0.348 - ETA: 1s - loss: 1.0987 - acc: 0.344 - ETA: 1s - loss: 1.0986 - acc: 0.346 - ETA: 1s - loss: 1.0984 - acc: 0.347 - ETA: 0s - loss: 1.0985 - acc: 0.347 - ETA: 0s - loss: 1.0982 - acc: 0.351 - ETA: 0s - loss: 1.0984 - acc: 0.348 - ETA: 0s - loss: 1.0983 - acc: 0.350 - ETA: 0s - loss: 1.0984 - acc: 0.350 - ETA: 0s - loss: 1.0985 - acc: 0.349 - ETA: 0s - loss: 1.0984 - acc: 0.349 - ETA: 0s - loss: 1.0987 - acc: 0.347 - ETA: 0s - loss: 1.0988 - acc: 0.345 - 5s - loss: 1.0989 - acc: 0.3425 - val_loss: 1.0995 - val_acc: 0.3120\n",
      "_________________________________________________________________\n",
      "Layer (type)                 Output Shape              Param #   \n",
      "=================================================================\n",
      "conv2d_40 (Conv2D)           (None, 32, 32, 4)         112       \n",
      "_________________________________________________________________\n",
      "activation_66 (Activation)   (None, 32, 32, 4)         0         \n",
      "_________________________________________________________________\n",
      "max_pooling2d_40 (MaxPooling (None, 16, 16, 4)         0         \n",
      "_________________________________________________________________\n",
      "conv2d_41 (Conv2D)           (None, 16, 16, 8)         296       \n",
      "_________________________________________________________________\n",
      "activation_67 (Activation)   (None, 16, 16, 8)         0         \n",
      "_________________________________________________________________\n",
      "max_pooling2d_41 (MaxPooling (None, 8, 8, 8)           0         \n",
      "_________________________________________________________________\n",
      "conv2d_42 (Conv2D)           (None, 8, 8, 16)          1168      \n",
      "_________________________________________________________________\n",
      "activation_68 (Activation)   (None, 8, 8, 16)          0         \n",
      "_________________________________________________________________\n",
      "max_pooling2d_42 (MaxPooling (None, 4, 4, 16)          0         \n",
      "_________________________________________________________________\n",
      "average_pooling2d_14 (Averag (None, 2, 2, 16)          0         \n",
      "_________________________________________________________________\n",
      "flatten_14 (Flatten)         (None, 64)                0         \n",
      "_________________________________________________________________\n",
      "dense_27 (Dense)             (None, 128)               8320      \n",
      "_________________________________________________________________\n",
      "activation_69 (Activation)   (None, 128)               0         \n",
      "_________________________________________________________________\n",
      "dropout_14 (Dropout)         (None, 128)               0         \n",
      "_________________________________________________________________\n",
      "dense_28 (Dense)             (None, 3)                 387       \n",
      "_________________________________________________________________\n",
      "activation_70 (Activation)   (None, 3)                 0         \n",
      "=================================================================\n",
      "Total params: 10,283\n",
      "Trainable params: 10,283\n",
      "Non-trainable params: 0\n",
      "_________________________________________________________________\n",
      "None\n",
      "10283\n",
      "Epoch 1/1\n",
      "50/50 [==============================] - ETA: 9s - loss: 1.1544 - acc: 0.281 - ETA: 4s - loss: 1.1692 - acc: 0.218 - ETA: 4s - loss: 1.1555 - acc: 0.250 - ETA: 4s - loss: 1.1411 - acc: 0.281 - ETA: 4s - loss: 1.1409 - acc: 0.281 - ETA: 4s - loss: 1.1355 - acc: 0.303 - ETA: 4s - loss: 1.1313 - acc: 0.312 - ETA: 4s - loss: 1.1300 - acc: 0.302 - ETA: 4s - loss: 1.1299 - acc: 0.287 - ETA: 4s - loss: 1.1291 - acc: 0.278 - ETA: 4s - loss: 1.1260 - acc: 0.281 - ETA: 4s - loss: 1.1255 - acc: 0.276 - ETA: 4s - loss: 1.1253 - acc: 0.274 - ETA: 4s - loss: 1.1232 - acc: 0.277 - ETA: 3s - loss: 1.1218 - acc: 0.289 - ETA: 3s - loss: 1.1204 - acc: 0.290 - ETA: 3s - loss: 1.1190 - acc: 0.296 - ETA: 3s - loss: 1.1191 - acc: 0.297 - ETA: 3s - loss: 1.1180 - acc: 0.298 - ETA: 3s - loss: 1.1177 - acc: 0.297 - ETA: 3s - loss: 1.1167 - acc: 0.299 - ETA: 2s - loss: 1.1165 - acc: 0.298 - ETA: 2s - loss: 1.1156 - acc: 0.302 - ETA: 2s - loss: 1.1147 - acc: 0.302 - ETA: 2s - loss: 1.1138 - acc: 0.308 - ETA: 2s - loss: 1.1136 - acc: 0.306 - ETA: 2s - loss: 1.1135 - acc: 0.303 - ETA: 2s - loss: 1.1129 - acc: 0.305 - ETA: 2s - loss: 1.1129 - acc: 0.303 - ETA: 2s - loss: 1.1126 - acc: 0.300 - ETA: 1s - loss: 1.1123 - acc: 0.300 - ETA: 1s - loss: 1.1120 - acc: 0.302 - ETA: 1s - loss: 1.1115 - acc: 0.305 - ETA: 1s - loss: 1.1107 - acc: 0.309 - ETA: 1s - loss: 1.1103 - acc: 0.315 - ETA: 1s - loss: 1.1101 - acc: 0.314 - ETA: 1s - loss: 1.1098 - acc: 0.315 - ETA: 1s - loss: 1.1093 - acc: 0.318 - ETA: 1s - loss: 1.1090 - acc: 0.318 - ETA: 0s - loss: 1.1089 - acc: 0.320 - ETA: 0s - loss: 1.1088 - acc: 0.317 - ETA: 0s - loss: 1.1087 - acc: 0.318 - ETA: 0s - loss: 1.1086 - acc: 0.318 - ETA: 0s - loss: 1.1085 - acc: 0.318 - ETA: 0s - loss: 1.1084 - acc: 0.317 - ETA: 0s - loss: 1.1085 - acc: 0.313 - ETA: 0s - loss: 1.1083 - acc: 0.315 - ETA: 0s - loss: 1.1081 - acc: 0.316 - 6s - loss: 1.1079 - acc: 0.3181 - val_loss: 1.0968 - val_acc: 0.3580\n",
      "_________________________________________________________________\n",
      "Layer (type)                 Output Shape              Param #   \n",
      "=================================================================\n",
      "conv2d_43 (Conv2D)           (None, 32, 32, 8)         224       \n",
      "_________________________________________________________________\n",
      "activation_71 (Activation)   (None, 32, 32, 8)         0         \n",
      "_________________________________________________________________\n",
      "max_pooling2d_43 (MaxPooling (None, 16, 16, 8)         0         \n",
      "_________________________________________________________________\n",
      "conv2d_44 (Conv2D)           (None, 16, 16, 16)        1168      \n",
      "_________________________________________________________________\n",
      "activation_72 (Activation)   (None, 16, 16, 16)        0         \n",
      "_________________________________________________________________\n",
      "max_pooling2d_44 (MaxPooling (None, 8, 8, 16)          0         \n",
      "_________________________________________________________________\n",
      "conv2d_45 (Conv2D)           (None, 8, 8, 32)          4640      \n",
      "_________________________________________________________________\n",
      "activation_73 (Activation)   (None, 8, 8, 32)          0         \n",
      "_________________________________________________________________\n",
      "max_pooling2d_45 (MaxPooling (None, 4, 4, 32)          0         \n",
      "_________________________________________________________________\n",
      "average_pooling2d_15 (Averag (None, 2, 2, 32)          0         \n",
      "_________________________________________________________________\n",
      "flatten_15 (Flatten)         (None, 128)               0         \n",
      "_________________________________________________________________\n",
      "dense_29 (Dense)             (None, 128)               16512     \n",
      "_________________________________________________________________\n",
      "activation_74 (Activation)   (None, 128)               0         \n"
     ]
    },
    {
     "name": "stdout",
     "output_type": "stream",
     "text": [
      "_________________________________________________________________\n",
      "dropout_15 (Dropout)         (None, 128)               0         \n",
      "_________________________________________________________________\n",
      "dense_30 (Dense)             (None, 3)                 387       \n",
      "_________________________________________________________________\n",
      "activation_75 (Activation)   (None, 3)                 0         \n",
      "=================================================================\n",
      "Total params: 22,931\n",
      "Trainable params: 22,931\n",
      "Non-trainable params: 0\n",
      "_________________________________________________________________\n",
      "None\n",
      "22931\n",
      "Epoch 1/1\n",
      "50/50 [==============================] - ETA: 8s - loss: 1.1272 - acc: 0.281 - ETA: 4s - loss: 1.1069 - acc: 0.302 - ETA: 4s - loss: 1.1161 - acc: 0.273 - ETA: 4s - loss: 1.1169 - acc: 0.275 - ETA: 4s - loss: 1.1162 - acc: 0.270 - ETA: 4s - loss: 1.1122 - acc: 0.281 - ETA: 4s - loss: 1.1187 - acc: 0.261 - ETA: 4s - loss: 1.1152 - acc: 0.281 - ETA: 3s - loss: 1.1118 - acc: 0.293 - ETA: 3s - loss: 1.1106 - acc: 0.298 - ETA: 3s - loss: 1.1099 - acc: 0.302 - ETA: 3s - loss: 1.1088 - acc: 0.305 - ETA: 3s - loss: 1.1081 - acc: 0.314 - ETA: 3s - loss: 1.1082 - acc: 0.314 - ETA: 3s - loss: 1.1079 - acc: 0.318 - ETA: 3s - loss: 1.1073 - acc: 0.319 - ETA: 3s - loss: 1.1075 - acc: 0.314 - ETA: 3s - loss: 1.1069 - acc: 0.315 - ETA: 2s - loss: 1.1064 - acc: 0.317 - ETA: 2s - loss: 1.1066 - acc: 0.314 - ETA: 2s - loss: 1.1059 - acc: 0.319 - ETA: 2s - loss: 1.1055 - acc: 0.319 - ETA: 2s - loss: 1.1051 - acc: 0.322 - ETA: 2s - loss: 1.1049 - acc: 0.320 - ETA: 2s - loss: 1.1045 - acc: 0.323 - ETA: 2s - loss: 1.1041 - acc: 0.325 - ETA: 2s - loss: 1.1036 - acc: 0.328 - ETA: 2s - loss: 1.1033 - acc: 0.331 - ETA: 2s - loss: 1.1038 - acc: 0.329 - ETA: 1s - loss: 1.1034 - acc: 0.331 - ETA: 1s - loss: 1.1031 - acc: 0.334 - ETA: 1s - loss: 1.1031 - acc: 0.334 - ETA: 1s - loss: 1.1030 - acc: 0.333 - ETA: 1s - loss: 1.1023 - acc: 0.337 - ETA: 1s - loss: 1.1014 - acc: 0.342 - ETA: 1s - loss: 1.1010 - acc: 0.343 - ETA: 1s - loss: 1.1014 - acc: 0.342 - ETA: 1s - loss: 1.1014 - acc: 0.342 - ETA: 1s - loss: 1.1013 - acc: 0.343 - ETA: 0s - loss: 1.1018 - acc: 0.340 - ETA: 0s - loss: 1.1013 - acc: 0.342 - ETA: 0s - loss: 1.1012 - acc: 0.343 - ETA: 0s - loss: 1.1005 - acc: 0.345 - ETA: 0s - loss: 1.1007 - acc: 0.345 - ETA: 0s - loss: 1.1007 - acc: 0.347 - ETA: 0s - loss: 1.1002 - acc: 0.347 - ETA: 0s - loss: 1.0998 - acc: 0.349 - ETA: 0s - loss: 1.0990 - acc: 0.352 - 6s - loss: 1.0989 - acc: 0.3538 - val_loss: 1.1105 - val_acc: 0.3120\n",
      "_________________________________________________________________\n",
      "Layer (type)                 Output Shape              Param #   \n",
      "=================================================================\n",
      "conv2d_46 (Conv2D)           (None, 32, 32, 16)        448       \n",
      "_________________________________________________________________\n",
      "activation_76 (Activation)   (None, 32, 32, 16)        0         \n",
      "_________________________________________________________________\n",
      "max_pooling2d_46 (MaxPooling (None, 16, 16, 16)        0         \n",
      "_________________________________________________________________\n",
      "conv2d_47 (Conv2D)           (None, 16, 16, 32)        4640      \n",
      "_________________________________________________________________\n",
      "activation_77 (Activation)   (None, 16, 16, 32)        0         \n",
      "_________________________________________________________________\n",
      "max_pooling2d_47 (MaxPooling (None, 8, 8, 32)          0         \n",
      "_________________________________________________________________\n",
      "conv2d_48 (Conv2D)           (None, 8, 8, 64)          18496     \n",
      "_________________________________________________________________\n",
      "activation_78 (Activation)   (None, 8, 8, 64)          0         \n",
      "_________________________________________________________________\n",
      "max_pooling2d_48 (MaxPooling (None, 4, 4, 64)          0         \n",
      "_________________________________________________________________\n",
      "average_pooling2d_16 (Averag (None, 2, 2, 64)          0         \n",
      "_________________________________________________________________\n",
      "flatten_16 (Flatten)         (None, 256)               0         \n",
      "_________________________________________________________________\n",
      "dense_31 (Dense)             (None, 128)               32896     \n",
      "_________________________________________________________________\n",
      "activation_79 (Activation)   (None, 128)               0         \n",
      "_________________________________________________________________\n",
      "dropout_16 (Dropout)         (None, 128)               0         \n",
      "_________________________________________________________________\n",
      "dense_32 (Dense)             (None, 3)                 387       \n",
      "_________________________________________________________________\n",
      "activation_80 (Activation)   (None, 3)                 0         \n",
      "=================================================================\n",
      "Total params: 56,867\n",
      "Trainable params: 56,867\n",
      "Non-trainable params: 0\n",
      "_________________________________________________________________\n",
      "None\n",
      "56867\n",
      "Epoch 1/1\n",
      "50/50 [==============================] - ETA: 10s - loss: 1.1012 - acc: 0.28 - ETA: 6s - loss: 1.1029 - acc: 0.2969 - ETA: 6s - loss: 1.0931 - acc: 0.333 - ETA: 5s - loss: 1.0878 - acc: 0.351 - ETA: 5s - loss: 1.0908 - acc: 0.331 - ETA: 5s - loss: 1.1014 - acc: 0.328 - ETA: 6s - loss: 1.1045 - acc: 0.334 - ETA: 5s - loss: 1.1056 - acc: 0.332 - ETA: 5s - loss: 1.1037 - acc: 0.340 - ETA: 5s - loss: 1.1020 - acc: 0.350 - ETA: 5s - loss: 1.1035 - acc: 0.349 - ETA: 5s - loss: 1.1031 - acc: 0.356 - ETA: 4s - loss: 1.1030 - acc: 0.353 - ETA: 4s - loss: 1.1048 - acc: 0.343 - ETA: 4s - loss: 1.1056 - acc: 0.335 - ETA: 4s - loss: 1.1059 - acc: 0.337 - ETA: 4s - loss: 1.1058 - acc: 0.340 - ETA: 4s - loss: 1.1055 - acc: 0.340 - ETA: 3s - loss: 1.1051 - acc: 0.343 - ETA: 3s - loss: 1.1044 - acc: 0.346 - ETA: 3s - loss: 1.1038 - acc: 0.349 - ETA: 3s - loss: 1.1036 - acc: 0.350 - ETA: 3s - loss: 1.1025 - acc: 0.351 - ETA: 3s - loss: 1.1026 - acc: 0.349 - ETA: 3s - loss: 1.1018 - acc: 0.352 - ETA: 3s - loss: 1.1018 - acc: 0.351 - ETA: 3s - loss: 1.1022 - acc: 0.347 - ETA: 3s - loss: 1.1020 - acc: 0.348 - ETA: 3s - loss: 1.1024 - acc: 0.348 - ETA: 2s - loss: 1.1028 - acc: 0.344 - ETA: 2s - loss: 1.1022 - acc: 0.344 - ETA: 2s - loss: 1.1021 - acc: 0.340 - ETA: 2s - loss: 1.1022 - acc: 0.338 - ETA: 2s - loss: 1.1016 - acc: 0.341 - ETA: 2s - loss: 1.1014 - acc: 0.342 - ETA: 2s - loss: 1.1017 - acc: 0.339 - ETA: 1s - loss: 1.1016 - acc: 0.341 - ETA: 1s - loss: 1.1012 - acc: 0.345 - ETA: 1s - loss: 1.1017 - acc: 0.342 - ETA: 1s - loss: 1.1014 - acc: 0.343 - ETA: 1s - loss: 1.1014 - acc: 0.345 - ETA: 1s - loss: 1.1014 - acc: 0.345 - ETA: 0s - loss: 1.1009 - acc: 0.345 - ETA: 0s - loss: 1.1008 - acc: 0.347 - ETA: 0s - loss: 1.1011 - acc: 0.344 - ETA: 0s - loss: 1.1018 - acc: 0.341 - ETA: 0s - loss: 1.1023 - acc: 0.339 - ETA: 0s - loss: 1.1023 - acc: 0.339 - ETA: 0s - loss: 1.1021 - acc: 0.341 - 8s - loss: 1.1019 - acc: 0.3431 - val_loss: 1.0991 - val_acc: 0.3610\n",
      "_________________________________________________________________\n",
      "Layer (type)                 Output Shape              Param #   \n",
      "=================================================================\n",
      "conv2d_49 (Conv2D)           (None, 32, 32, 32)        896       \n",
      "_________________________________________________________________\n",
      "activation_81 (Activation)   (None, 32, 32, 32)        0         \n",
      "_________________________________________________________________\n",
      "max_pooling2d_49 (MaxPooling (None, 16, 16, 32)        0         \n",
      "_________________________________________________________________\n",
      "conv2d_50 (Conv2D)           (None, 16, 16, 64)        18496     \n",
      "_________________________________________________________________\n",
      "activation_82 (Activation)   (None, 16, 16, 64)        0         \n",
      "_________________________________________________________________\n",
      "max_pooling2d_50 (MaxPooling (None, 8, 8, 64)          0         \n",
      "_________________________________________________________________\n",
      "conv2d_51 (Conv2D)           (None, 8, 8, 128)         73856     \n",
      "_________________________________________________________________\n",
      "activation_83 (Activation)   (None, 8, 8, 128)         0         \n"
     ]
    },
    {
     "name": "stdout",
     "output_type": "stream",
     "text": [
      "_________________________________________________________________\n",
      "max_pooling2d_51 (MaxPooling (None, 4, 4, 128)         0         \n",
      "_________________________________________________________________\n",
      "average_pooling2d_17 (Averag (None, 2, 2, 128)         0         \n",
      "_________________________________________________________________\n",
      "flatten_17 (Flatten)         (None, 512)               0         \n",
      "_________________________________________________________________\n",
      "dense_33 (Dense)             (None, 128)               65664     \n",
      "_________________________________________________________________\n",
      "activation_84 (Activation)   (None, 128)               0         \n",
      "_________________________________________________________________\n",
      "dropout_17 (Dropout)         (None, 128)               0         \n",
      "_________________________________________________________________\n",
      "dense_34 (Dense)             (None, 3)                 387       \n",
      "_________________________________________________________________\n",
      "activation_85 (Activation)   (None, 3)                 0         \n",
      "=================================================================\n",
      "Total params: 159,299\n",
      "Trainable params: 159,299\n",
      "Non-trainable params: 0\n",
      "_________________________________________________________________\n",
      "None\n",
      "159299\n",
      "Epoch 1/1\n",
      "50/50 [==============================] - ETA: 11s - loss: 1.1013 - acc: 0.28 - ETA: 8s - loss: 1.1149 - acc: 0.2500 - ETA: 7s - loss: 1.1132 - acc: 0.250 - ETA: 7s - loss: 1.1137 - acc: 0.273 - ETA: 7s - loss: 1.1152 - acc: 0.293 - ETA: 6s - loss: 1.1156 - acc: 0.302 - ETA: 6s - loss: 1.1167 - acc: 0.290 - ETA: 6s - loss: 1.1170 - acc: 0.281 - ETA: 6s - loss: 1.1139 - acc: 0.298 - ETA: 6s - loss: 1.1120 - acc: 0.315 - ETA: 6s - loss: 1.1101 - acc: 0.318 - ETA: 5s - loss: 1.1102 - acc: 0.309 - ETA: 5s - loss: 1.1093 - acc: 0.310 - ETA: 5s - loss: 1.1083 - acc: 0.317 - ETA: 5s - loss: 1.1074 - acc: 0.325 - ETA: 5s - loss: 1.1064 - acc: 0.320 - ETA: 4s - loss: 1.1052 - acc: 0.321 - ETA: 4s - loss: 1.1054 - acc: 0.314 - ETA: 4s - loss: 1.1037 - acc: 0.319 - ETA: 4s - loss: 1.1035 - acc: 0.320 - ETA: 4s - loss: 1.1024 - acc: 0.325 - ETA: 4s - loss: 1.1016 - acc: 0.328 - ETA: 4s - loss: 1.1024 - acc: 0.320 - ETA: 3s - loss: 1.1032 - acc: 0.319 - ETA: 3s - loss: 1.1035 - acc: 0.321 - ETA: 3s - loss: 1.1032 - acc: 0.323 - ETA: 3s - loss: 1.1030 - acc: 0.322 - ETA: 3s - loss: 1.1035 - acc: 0.322 - ETA: 3s - loss: 1.1025 - acc: 0.325 - ETA: 2s - loss: 1.1022 - acc: 0.324 - ETA: 2s - loss: 1.1023 - acc: 0.325 - ETA: 2s - loss: 1.1027 - acc: 0.324 - ETA: 2s - loss: 1.1020 - acc: 0.326 - ETA: 2s - loss: 1.1020 - acc: 0.325 - ETA: 2s - loss: 1.1019 - acc: 0.326 - ETA: 2s - loss: 1.1013 - acc: 0.327 - ETA: 1s - loss: 1.1015 - acc: 0.322 - ETA: 1s - loss: 1.1015 - acc: 0.322 - ETA: 1s - loss: 1.1012 - acc: 0.324 - ETA: 1s - loss: 1.1013 - acc: 0.328 - ETA: 1s - loss: 1.1017 - acc: 0.326 - ETA: 1s - loss: 1.1018 - acc: 0.326 - ETA: 1s - loss: 1.1019 - acc: 0.327 - ETA: 0s - loss: 1.1015 - acc: 0.329 - ETA: 0s - loss: 1.1010 - acc: 0.333 - ETA: 0s - loss: 1.1013 - acc: 0.333 - ETA: 0s - loss: 1.1010 - acc: 0.336 - ETA: 0s - loss: 1.1010 - acc: 0.337 - ETA: 0s - loss: 1.1012 - acc: 0.337 - 9s - loss: 1.1010 - acc: 0.3394 - val_loss: 1.1008 - val_acc: 0.3120\n",
      "_________________________________________________________________\n",
      "Layer (type)                 Output Shape              Param #   \n",
      "=================================================================\n",
      "conv2d_52 (Conv2D)           (None, 32, 32, 48)        1344      \n",
      "_________________________________________________________________\n",
      "activation_86 (Activation)   (None, 32, 32, 48)        0         \n",
      "_________________________________________________________________\n",
      "max_pooling2d_52 (MaxPooling (None, 16, 16, 48)        0         \n",
      "_________________________________________________________________\n",
      "conv2d_53 (Conv2D)           (None, 16, 16, 96)        41568     \n",
      "_________________________________________________________________\n",
      "activation_87 (Activation)   (None, 16, 16, 96)        0         \n",
      "_________________________________________________________________\n",
      "max_pooling2d_53 (MaxPooling (None, 8, 8, 96)          0         \n",
      "_________________________________________________________________\n",
      "conv2d_54 (Conv2D)           (None, 8, 8, 192)         166080    \n",
      "_________________________________________________________________\n",
      "activation_88 (Activation)   (None, 8, 8, 192)         0         \n",
      "_________________________________________________________________\n",
      "max_pooling2d_54 (MaxPooling (None, 4, 4, 192)         0         \n",
      "_________________________________________________________________\n",
      "average_pooling2d_18 (Averag (None, 2, 2, 192)         0         \n",
      "_________________________________________________________________\n",
      "flatten_18 (Flatten)         (None, 768)               0         \n",
      "_________________________________________________________________\n",
      "dense_35 (Dense)             (None, 128)               98432     \n",
      "_________________________________________________________________\n",
      "activation_89 (Activation)   (None, 128)               0         \n",
      "_________________________________________________________________\n",
      "dropout_18 (Dropout)         (None, 128)               0         \n",
      "_________________________________________________________________\n",
      "dense_36 (Dense)             (None, 3)                 387       \n",
      "_________________________________________________________________\n",
      "activation_90 (Activation)   (None, 3)                 0         \n",
      "=================================================================\n",
      "Total params: 307,811\n",
      "Trainable params: 307,811\n",
      "Non-trainable params: 0\n",
      "_________________________________________________________________\n",
      "None\n",
      "307811\n",
      "Epoch 1/1\n",
      "50/50 [==============================] - ETA: 17s - loss: 1.1072 - acc: 0.37 - ETA: 13s - loss: 1.0779 - acc: 0.40 - ETA: 11s - loss: 1.1309 - acc: 0.36 - ETA: 10s - loss: 1.1284 - acc: 0.34 - ETA: 10s - loss: 1.1190 - acc: 0.35 - ETA: 10s - loss: 1.1203 - acc: 0.34 - ETA: 10s - loss: 1.1189 - acc: 0.33 - ETA: 9s - loss: 1.1184 - acc: 0.3242 - ETA: 9s - loss: 1.1186 - acc: 0.322 - ETA: 9s - loss: 1.1149 - acc: 0.337 - ETA: 9s - loss: 1.1146 - acc: 0.335 - ETA: 8s - loss: 1.1145 - acc: 0.335 - ETA: 8s - loss: 1.1122 - acc: 0.343 - ETA: 8s - loss: 1.1118 - acc: 0.339 - ETA: 8s - loss: 1.1099 - acc: 0.345 - ETA: 7s - loss: 1.1086 - acc: 0.343 - ETA: 7s - loss: 1.1102 - acc: 0.340 - ETA: 7s - loss: 1.1085 - acc: 0.342 - ETA: 7s - loss: 1.1072 - acc: 0.347 - ETA: 6s - loss: 1.1058 - acc: 0.346 - ETA: 6s - loss: 1.1055 - acc: 0.343 - ETA: 6s - loss: 1.1063 - acc: 0.340 - ETA: 6s - loss: 1.1052 - acc: 0.346 - ETA: 5s - loss: 1.1050 - acc: 0.342 - ETA: 5s - loss: 1.1051 - acc: 0.343 - ETA: 5s - loss: 1.1056 - acc: 0.338 - ETA: 5s - loss: 1.1053 - acc: 0.336 - ETA: 4s - loss: 1.1046 - acc: 0.337 - ETA: 4s - loss: 1.1043 - acc: 0.338 - ETA: 4s - loss: 1.1040 - acc: 0.336 - ETA: 4s - loss: 1.1034 - acc: 0.338 - ETA: 3s - loss: 1.1027 - acc: 0.341 - ETA: 3s - loss: 1.1021 - acc: 0.343 - ETA: 3s - loss: 1.1018 - acc: 0.345 - ETA: 3s - loss: 1.1013 - acc: 0.350 - ETA: 3s - loss: 1.1014 - acc: 0.346 - ETA: 2s - loss: 1.1019 - acc: 0.345 - ETA: 2s - loss: 1.1011 - acc: 0.347 - ETA: 2s - loss: 1.0999 - acc: 0.349 - ETA: 2s - loss: 1.1010 - acc: 0.347 - ETA: 1s - loss: 1.1016 - acc: 0.348 - ETA: 1s - loss: 1.1006 - acc: 0.351 - ETA: 1s - loss: 1.1002 - acc: 0.353 - ETA: 1s - loss: 1.1007 - acc: 0.351 - ETA: 1s - loss: 1.1012 - acc: 0.349 - ETA: 0s - loss: 1.1014 - acc: 0.348 - ETA: 0s - loss: 1.1012 - acc: 0.351 - ETA: 0s - loss: 1.1011 - acc: 0.352 - ETA: 0s - loss: 1.1009 - acc: 0.353 - 13s - loss: 1.1009 - acc: 0.3556 - val_loss: 1.0995 - val_acc: 0.3280\n",
      "_________________________________________________________________\n",
      "Layer (type)                 Output Shape              Param #   \n",
      "=================================================================\n",
      "conv2d_55 (Conv2D)           (None, 32, 32, 64)        1792      \n",
      "_________________________________________________________________\n",
      "activation_91 (Activation)   (None, 32, 32, 64)        0         \n",
      "_________________________________________________________________\n"
     ]
    },
    {
     "name": "stdout",
     "output_type": "stream",
     "text": [
      "max_pooling2d_55 (MaxPooling (None, 16, 16, 64)        0         \n",
      "_________________________________________________________________\n",
      "conv2d_56 (Conv2D)           (None, 16, 16, 128)       73856     \n",
      "_________________________________________________________________\n",
      "activation_92 (Activation)   (None, 16, 16, 128)       0         \n",
      "_________________________________________________________________\n",
      "max_pooling2d_56 (MaxPooling (None, 8, 8, 128)         0         \n",
      "_________________________________________________________________\n",
      "conv2d_57 (Conv2D)           (None, 8, 8, 256)         295168    \n",
      "_________________________________________________________________\n",
      "activation_93 (Activation)   (None, 8, 8, 256)         0         \n",
      "_________________________________________________________________\n",
      "max_pooling2d_57 (MaxPooling (None, 4, 4, 256)         0         \n",
      "_________________________________________________________________\n",
      "average_pooling2d_19 (Averag (None, 2, 2, 256)         0         \n",
      "_________________________________________________________________\n",
      "flatten_19 (Flatten)         (None, 1024)              0         \n",
      "_________________________________________________________________\n",
      "dense_37 (Dense)             (None, 128)               131200    \n",
      "_________________________________________________________________\n",
      "activation_94 (Activation)   (None, 128)               0         \n",
      "_________________________________________________________________\n",
      "dropout_19 (Dropout)         (None, 128)               0         \n",
      "_________________________________________________________________\n",
      "dense_38 (Dense)             (None, 3)                 387       \n",
      "_________________________________________________________________\n",
      "activation_95 (Activation)   (None, 3)                 0         \n",
      "=================================================================\n",
      "Total params: 502,403\n",
      "Trainable params: 502,403\n",
      "Non-trainable params: 0\n",
      "_________________________________________________________________\n",
      "None\n",
      "502403\n",
      "Epoch 1/1\n",
      "50/50 [==============================] - ETA: 26s - loss: 1.1096 - acc: 0.34 - ETA: 22s - loss: 1.1756 - acc: 0.31 - ETA: 20s - loss: 1.1483 - acc: 0.34 - ETA: 18s - loss: 1.1377 - acc: 0.37 - ETA: 17s - loss: 1.1256 - acc: 0.38 - ETA: 17s - loss: 1.1245 - acc: 0.39 - ETA: 16s - loss: 1.1441 - acc: 0.38 - ETA: 16s - loss: 1.1503 - acc: 0.37 - ETA: 15s - loss: 1.1432 - acc: 0.39 - ETA: 15s - loss: 1.1495 - acc: 0.36 - ETA: 14s - loss: 1.1416 - acc: 0.36 - ETA: 14s - loss: 1.1382 - acc: 0.37 - ETA: 13s - loss: 1.1381 - acc: 0.36 - ETA: 13s - loss: 1.1388 - acc: 0.36 - ETA: 13s - loss: 1.1358 - acc: 0.36 - ETA: 12s - loss: 1.1339 - acc: 0.35 - ETA: 12s - loss: 1.1317 - acc: 0.35 - ETA: 11s - loss: 1.1301 - acc: 0.35 - ETA: 11s - loss: 1.1280 - acc: 0.35 - ETA: 10s - loss: 1.1265 - acc: 0.35 - ETA: 10s - loss: 1.1253 - acc: 0.35 - ETA: 9s - loss: 1.1241 - acc: 0.3594 - ETA: 9s - loss: 1.1229 - acc: 0.358 - ETA: 9s - loss: 1.1234 - acc: 0.346 - ETA: 8s - loss: 1.1227 - acc: 0.342 - ETA: 8s - loss: 1.1216 - acc: 0.340 - ETA: 8s - loss: 1.1206 - acc: 0.342 - ETA: 7s - loss: 1.1197 - acc: 0.343 - ETA: 7s - loss: 1.1186 - acc: 0.344 - ETA: 6s - loss: 1.1186 - acc: 0.340 - ETA: 6s - loss: 1.1171 - acc: 0.345 - ETA: 6s - loss: 1.1167 - acc: 0.344 - ETA: 5s - loss: 1.1163 - acc: 0.345 - ETA: 5s - loss: 1.1160 - acc: 0.344 - ETA: 5s - loss: 1.1151 - acc: 0.349 - ETA: 4s - loss: 1.1145 - acc: 0.350 - ETA: 4s - loss: 1.1137 - acc: 0.352 - ETA: 4s - loss: 1.1132 - acc: 0.352 - ETA: 3s - loss: 1.1128 - acc: 0.352 - ETA: 3s - loss: 1.1123 - acc: 0.353 - ETA: 3s - loss: 1.1125 - acc: 0.352 - ETA: 2s - loss: 1.1127 - acc: 0.350 - ETA: 2s - loss: 1.1128 - acc: 0.348 - ETA: 2s - loss: 1.1123 - acc: 0.348 - ETA: 1s - loss: 1.1118 - acc: 0.347 - ETA: 1s - loss: 1.1117 - acc: 0.342 - ETA: 1s - loss: 1.1113 - acc: 0.343 - ETA: 0s - loss: 1.1112 - acc: 0.345 - ETA: 0s - loss: 1.1111 - acc: 0.341 - 20s - loss: 1.1108 - acc: 0.3431 - val_loss: 1.1000 - val_acc: 0.3150\n",
      "_________________________________________________________________\n",
      "Layer (type)                 Output Shape              Param #   \n",
      "=================================================================\n",
      "conv2d_58 (Conv2D)           (None, 32, 32, 96)        2688      \n",
      "_________________________________________________________________\n",
      "activation_96 (Activation)   (None, 32, 32, 96)        0         \n",
      "_________________________________________________________________\n",
      "max_pooling2d_58 (MaxPooling (None, 16, 16, 96)        0         \n",
      "_________________________________________________________________\n",
      "conv2d_59 (Conv2D)           (None, 16, 16, 192)       166080    \n",
      "_________________________________________________________________\n",
      "activation_97 (Activation)   (None, 16, 16, 192)       0         \n",
      "_________________________________________________________________\n",
      "max_pooling2d_59 (MaxPooling (None, 8, 8, 192)         0         \n",
      "_________________________________________________________________\n",
      "conv2d_60 (Conv2D)           (None, 8, 8, 384)         663936    \n",
      "_________________________________________________________________\n",
      "activation_98 (Activation)   (None, 8, 8, 384)         0         \n",
      "_________________________________________________________________\n",
      "max_pooling2d_60 (MaxPooling (None, 4, 4, 384)         0         \n",
      "_________________________________________________________________\n",
      "average_pooling2d_20 (Averag (None, 2, 2, 384)         0         \n",
      "_________________________________________________________________\n",
      "flatten_20 (Flatten)         (None, 1536)              0         \n",
      "_________________________________________________________________\n",
      "dense_39 (Dense)             (None, 128)               196736    \n",
      "_________________________________________________________________\n",
      "activation_99 (Activation)   (None, 128)               0         \n",
      "_________________________________________________________________\n",
      "dropout_20 (Dropout)         (None, 128)               0         \n",
      "_________________________________________________________________\n",
      "dense_40 (Dense)             (None, 3)                 387       \n",
      "_________________________________________________________________\n",
      "activation_100 (Activation)  (None, 3)                 0         \n",
      "=================================================================\n",
      "Total params: 1,029,827\n",
      "Trainable params: 1,029,827\n",
      "Non-trainable params: 0\n",
      "_________________________________________________________________\n",
      "None\n",
      "1029827\n",
      "Epoch 1/1\n"
     ]
    },
    {
     "name": "stdout",
     "output_type": "stream",
     "text": [
      "50/50 [==============================] - ETA: 40s - loss: 1.1431 - acc: 0.18 - ETA: 35s - loss: 1.3044 - acc: 0.28 - ETA: 33s - loss: 1.2472 - acc: 0.32 - ETA: 32s - loss: 1.2153 - acc: 0.33 - ETA: 31s - loss: 1.1958 - acc: 0.34 - ETA: 29s - loss: 1.1829 - acc: 0.35 - ETA: 28s - loss: 1.1829 - acc: 0.35 - ETA: 27s - loss: 1.1660 - acc: 0.37 - ETA: 26s - loss: 1.1605 - acc: 0.37 - ETA: 25s - loss: 1.1638 - acc: 0.36 - ETA: 25s - loss: 1.1615 - acc: 0.35 - ETA: 24s - loss: 1.1619 - acc: 0.34 - ETA: 23s - loss: 1.1612 - acc: 0.34 - ETA: 22s - loss: 1.1568 - acc: 0.34 - ETA: 22s - loss: 1.1531 - acc: 0.34 - ETA: 21s - loss: 1.1503 - acc: 0.33 - ETA: 20s - loss: 1.1498 - acc: 0.33 - ETA: 19s - loss: 1.1463 - acc: 0.33 - ETA: 19s - loss: 1.1436 - acc: 0.34 - ETA: 18s - loss: 1.1414 - acc: 0.34 - ETA: 18s - loss: 1.1404 - acc: 0.33 - ETA: 17s - loss: 1.1380 - acc: 0.33 - ETA: 16s - loss: 1.1364 - acc: 0.33 - ETA: 16s - loss: 1.1357 - acc: 0.32 - ETA: 15s - loss: 1.1344 - acc: 0.33 - ETA: 15s - loss: 1.1330 - acc: 0.33 - ETA: 14s - loss: 1.1320 - acc: 0.32 - ETA: 13s - loss: 1.1307 - acc: 0.33 - ETA: 13s - loss: 1.1298 - acc: 0.32 - ETA: 12s - loss: 1.1289 - acc: 0.32 - ETA: 11s - loss: 1.1278 - acc: 0.33 - ETA: 11s - loss: 1.1268 - acc: 0.33 - ETA: 10s - loss: 1.1262 - acc: 0.32 - ETA: 9s - loss: 1.1254 - acc: 0.3309 - ETA: 9s - loss: 1.1247 - acc: 0.326 - ETA: 8s - loss: 1.1243 - acc: 0.322 - ETA: 8s - loss: 1.1236 - acc: 0.322 - ETA: 7s - loss: 1.1231 - acc: 0.320 - ETA: 6s - loss: 1.1225 - acc: 0.322 - ETA: 6s - loss: 1.1221 - acc: 0.322 - ETA: 5s - loss: 1.1217 - acc: 0.320 - ETA: 4s - loss: 1.1212 - acc: 0.320 - ETA: 4s - loss: 1.1207 - acc: 0.320 - ETA: 3s - loss: 1.1202 - acc: 0.321 - ETA: 3s - loss: 1.1197 - acc: 0.318 - ETA: 2s - loss: 1.1193 - acc: 0.317 - ETA: 1s - loss: 1.1189 - acc: 0.318 - ETA: 1s - loss: 1.1184 - acc: 0.319 - ETA: 0s - loss: 1.1181 - acc: 0.318 - 36s - loss: 1.1177 - acc: 0.3162 - val_loss: 1.0984 - val_acc: 0.3570\n"
     ]
    }
   ],
   "source": [
    "# Train many models\n",
    "for filters in [1,2,4,8,16,32,48,64,96]:\n",
    "    modelid = \"filters{:03d}_timestamp{}\".format(filters,time.strftime(\"%Y%m%d%H%M%S\"))\n",
    "\n",
    "    callbacks_list = [\n",
    "        keras.callbacks.EarlyStopping(\n",
    "            monitor='val_acc',\n",
    "            patience=50),\n",
    "        keras.callbacks.ModelCheckpoint(\n",
    "            filepath='model_checkpoint_best_{}.h5'.format(modelid),\n",
    "            monitor='val_loss',\n",
    "            save_best_only=True),\n",
    "        keras.callbacks.TensorBoard(\n",
    "            log_dir='./logs/'+modelid,\n",
    "            histogram_freq=0, write_graph=False, write_images=False)\n",
    "    ]\n",
    "    \n",
    "    model = makeModel(filters)\n",
    "    print(model.summary())\n",
    "    print(model.count_params())\n",
    "\n",
    "    history=model.fit_generator(\n",
    "                        generator(dataset_tr, batch_size, patchsize),\n",
    "                        steps_per_epoch=50, \n",
    "                        epochs=1, \n",
    "                        verbose=1,\n",
    "                        validation_data=(X_test,y_test),\n",
    "                        callbacks=callbacks_list)\n",
    "    "
   ]
  },
  {
   "cell_type": "markdown",
   "metadata": {
    "slideshow": {
     "slide_type": "slide"
    }
   },
   "source": [
    "## Step 6: Process the images of the testing set one by one\n",
    "And visualize the results"
   ]
  },
  {
   "cell_type": "code",
   "execution_count": 31,
   "metadata": {},
   "outputs": [
    {
     "ename": "OSError",
     "evalue": "Unable to open file (Unable to open file: name = 'models/model_venus.model', errno = 2, error message = 'no such file or directory', flags = 0, o_flags = 0)",
     "output_type": "error",
     "traceback": [
      "\u001b[1;31m---------------------------------------------------------------------------\u001b[0m",
      "\u001b[1;31mOSError\u001b[0m                                   Traceback (most recent call last)",
      "\u001b[1;32m<ipython-input-31-dd3a97182d8c>\u001b[0m in \u001b[0;36m<module>\u001b[1;34m()\u001b[0m\n\u001b[0;32m      2\u001b[0m \u001b[0mmodelname\u001b[0m \u001b[1;33m=\u001b[0m \u001b[1;34m\"models/model_venus\"\u001b[0m\u001b[1;33m\u001b[0m\u001b[0m\n\u001b[0;32m      3\u001b[0m \u001b[1;33m\u001b[0m\u001b[0m\n\u001b[1;32m----> 4\u001b[1;33m \u001b[0mmodel\u001b[0m \u001b[1;33m=\u001b[0m \u001b[0mkeras\u001b[0m\u001b[1;33m.\u001b[0m\u001b[0mmodels\u001b[0m\u001b[1;33m.\u001b[0m\u001b[0mload_model\u001b[0m\u001b[1;33m(\u001b[0m\u001b[1;34m\"{}.model\"\u001b[0m\u001b[1;33m.\u001b[0m\u001b[0mformat\u001b[0m\u001b[1;33m(\u001b[0m\u001b[0mmodelname\u001b[0m\u001b[1;33m)\u001b[0m\u001b[1;33m)\u001b[0m\u001b[1;33m\u001b[0m\u001b[0m\n\u001b[0m\u001b[0;32m      5\u001b[0m \u001b[0mpatchsize\u001b[0m \u001b[1;33m=\u001b[0m \u001b[0mmodel\u001b[0m\u001b[1;33m.\u001b[0m\u001b[0minput\u001b[0m\u001b[1;33m.\u001b[0m\u001b[0mshape\u001b[0m\u001b[1;33m[\u001b[0m\u001b[1;36m1\u001b[0m\u001b[1;33m]\u001b[0m\u001b[1;33m.\u001b[0m\u001b[0mvalue\u001b[0m\u001b[1;33m\u001b[0m\u001b[0m\n\u001b[0;32m      6\u001b[0m \u001b[0mdataset_te\u001b[0m \u001b[1;33m=\u001b[0m \u001b[0mpd\u001b[0m\u001b[1;33m.\u001b[0m\u001b[0mread_pickle\u001b[0m\u001b[1;33m(\u001b[0m\u001b[1;34m\"{}.testingdata.pickle\"\u001b[0m\u001b[1;33m.\u001b[0m\u001b[0mformat\u001b[0m\u001b[1;33m(\u001b[0m\u001b[0mmodelname\u001b[0m\u001b[1;33m)\u001b[0m\u001b[1;33m)\u001b[0m\u001b[1;33m\u001b[0m\u001b[0m\n",
      "\u001b[1;32m~\\Anaconda3\\lib\\site-packages\\keras\\models.py\u001b[0m in \u001b[0;36mload_model\u001b[1;34m(filepath, custom_objects, compile)\u001b[0m\n\u001b[0;32m    225\u001b[0m             \u001b[1;32mreturn\u001b[0m \u001b[0mcustom_objects\u001b[0m\u001b[1;33m[\u001b[0m\u001b[0mobj\u001b[0m\u001b[1;33m]\u001b[0m\u001b[1;33m\u001b[0m\u001b[0m\n\u001b[0;32m    226\u001b[0m         \u001b[1;32mreturn\u001b[0m \u001b[0mobj\u001b[0m\u001b[1;33m\u001b[0m\u001b[0m\n\u001b[1;32m--> 227\u001b[1;33m     \u001b[1;32mwith\u001b[0m \u001b[0mh5py\u001b[0m\u001b[1;33m.\u001b[0m\u001b[0mFile\u001b[0m\u001b[1;33m(\u001b[0m\u001b[0mfilepath\u001b[0m\u001b[1;33m,\u001b[0m \u001b[0mmode\u001b[0m\u001b[1;33m=\u001b[0m\u001b[1;34m'r'\u001b[0m\u001b[1;33m)\u001b[0m \u001b[1;32mas\u001b[0m \u001b[0mf\u001b[0m\u001b[1;33m:\u001b[0m\u001b[1;33m\u001b[0m\u001b[0m\n\u001b[0m\u001b[0;32m    228\u001b[0m         \u001b[1;31m# instantiate model\u001b[0m\u001b[1;33m\u001b[0m\u001b[1;33m\u001b[0m\u001b[0m\n\u001b[0;32m    229\u001b[0m         \u001b[0mmodel_config\u001b[0m \u001b[1;33m=\u001b[0m \u001b[0mf\u001b[0m\u001b[1;33m.\u001b[0m\u001b[0mattrs\u001b[0m\u001b[1;33m.\u001b[0m\u001b[0mget\u001b[0m\u001b[1;33m(\u001b[0m\u001b[1;34m'model_config'\u001b[0m\u001b[1;33m)\u001b[0m\u001b[1;33m\u001b[0m\u001b[0m\n",
      "\u001b[1;32m~\\Anaconda3\\lib\\site-packages\\h5py\\_hl\\files.py\u001b[0m in \u001b[0;36m__init__\u001b[1;34m(self, name, mode, driver, libver, userblock_size, swmr, **kwds)\u001b[0m\n\u001b[0;32m    269\u001b[0m \u001b[1;33m\u001b[0m\u001b[0m\n\u001b[0;32m    270\u001b[0m                 \u001b[0mfapl\u001b[0m \u001b[1;33m=\u001b[0m \u001b[0mmake_fapl\u001b[0m\u001b[1;33m(\u001b[0m\u001b[0mdriver\u001b[0m\u001b[1;33m,\u001b[0m \u001b[0mlibver\u001b[0m\u001b[1;33m,\u001b[0m \u001b[1;33m**\u001b[0m\u001b[0mkwds\u001b[0m\u001b[1;33m)\u001b[0m\u001b[1;33m\u001b[0m\u001b[0m\n\u001b[1;32m--> 271\u001b[1;33m                 \u001b[0mfid\u001b[0m \u001b[1;33m=\u001b[0m \u001b[0mmake_fid\u001b[0m\u001b[1;33m(\u001b[0m\u001b[0mname\u001b[0m\u001b[1;33m,\u001b[0m \u001b[0mmode\u001b[0m\u001b[1;33m,\u001b[0m \u001b[0muserblock_size\u001b[0m\u001b[1;33m,\u001b[0m \u001b[0mfapl\u001b[0m\u001b[1;33m,\u001b[0m \u001b[0mswmr\u001b[0m\u001b[1;33m=\u001b[0m\u001b[0mswmr\u001b[0m\u001b[1;33m)\u001b[0m\u001b[1;33m\u001b[0m\u001b[0m\n\u001b[0m\u001b[0;32m    272\u001b[0m \u001b[1;33m\u001b[0m\u001b[0m\n\u001b[0;32m    273\u001b[0m                 \u001b[1;32mif\u001b[0m \u001b[0mswmr_support\u001b[0m\u001b[1;33m:\u001b[0m\u001b[1;33m\u001b[0m\u001b[0m\n",
      "\u001b[1;32m~\\Anaconda3\\lib\\site-packages\\h5py\\_hl\\files.py\u001b[0m in \u001b[0;36mmake_fid\u001b[1;34m(name, mode, userblock_size, fapl, fcpl, swmr)\u001b[0m\n\u001b[0;32m     99\u001b[0m         \u001b[1;32mif\u001b[0m \u001b[0mswmr\u001b[0m \u001b[1;32mand\u001b[0m \u001b[0mswmr_support\u001b[0m\u001b[1;33m:\u001b[0m\u001b[1;33m\u001b[0m\u001b[0m\n\u001b[0;32m    100\u001b[0m             \u001b[0mflags\u001b[0m \u001b[1;33m|=\u001b[0m \u001b[0mh5f\u001b[0m\u001b[1;33m.\u001b[0m\u001b[0mACC_SWMR_READ\u001b[0m\u001b[1;33m\u001b[0m\u001b[0m\n\u001b[1;32m--> 101\u001b[1;33m         \u001b[0mfid\u001b[0m \u001b[1;33m=\u001b[0m \u001b[0mh5f\u001b[0m\u001b[1;33m.\u001b[0m\u001b[0mopen\u001b[0m\u001b[1;33m(\u001b[0m\u001b[0mname\u001b[0m\u001b[1;33m,\u001b[0m \u001b[0mflags\u001b[0m\u001b[1;33m,\u001b[0m \u001b[0mfapl\u001b[0m\u001b[1;33m=\u001b[0m\u001b[0mfapl\u001b[0m\u001b[1;33m)\u001b[0m\u001b[1;33m\u001b[0m\u001b[0m\n\u001b[0m\u001b[0;32m    102\u001b[0m     \u001b[1;32melif\u001b[0m \u001b[0mmode\u001b[0m \u001b[1;33m==\u001b[0m \u001b[1;34m'r+'\u001b[0m\u001b[1;33m:\u001b[0m\u001b[1;33m\u001b[0m\u001b[0m\n\u001b[0;32m    103\u001b[0m         \u001b[0mfid\u001b[0m \u001b[1;33m=\u001b[0m \u001b[0mh5f\u001b[0m\u001b[1;33m.\u001b[0m\u001b[0mopen\u001b[0m\u001b[1;33m(\u001b[0m\u001b[0mname\u001b[0m\u001b[1;33m,\u001b[0m \u001b[0mh5f\u001b[0m\u001b[1;33m.\u001b[0m\u001b[0mACC_RDWR\u001b[0m\u001b[1;33m,\u001b[0m \u001b[0mfapl\u001b[0m\u001b[1;33m=\u001b[0m\u001b[0mfapl\u001b[0m\u001b[1;33m)\u001b[0m\u001b[1;33m\u001b[0m\u001b[0m\n",
      "\u001b[1;32mh5py\\_objects.pyx\u001b[0m in \u001b[0;36mh5py._objects.with_phil.wrapper (C:\\Minonda\\conda-bld\\h5py_1490029679460\\work\\h5py\\_objects.c:2867)\u001b[1;34m()\u001b[0m\n",
      "\u001b[1;32mh5py\\_objects.pyx\u001b[0m in \u001b[0;36mh5py._objects.with_phil.wrapper (C:\\Minonda\\conda-bld\\h5py_1490029679460\\work\\h5py\\_objects.c:2825)\u001b[1;34m()\u001b[0m\n",
      "\u001b[1;32mh5py\\h5f.pyx\u001b[0m in \u001b[0;36mh5py.h5f.open (C:\\Minonda\\conda-bld\\h5py_1490029679460\\work\\h5py\\h5f.c:2140)\u001b[1;34m()\u001b[0m\n",
      "\u001b[1;31mOSError\u001b[0m: Unable to open file (Unable to open file: name = 'models/model_venus.model', errno = 2, error message = 'no such file or directory', flags = 0, o_flags = 0)"
     ]
    }
   ],
   "source": [
    "# Optionally, load a saved model and testing dataset\n",
    "modelname = \"models/model_venus\"\n",
    "\n",
    "model = keras.models.load_model(\"{}.model\".format(modelname))\n",
    "patchsize = model.input.shape[1].value\n",
    "dataset_te = pd.read_pickle(\"{}.testingdata.pickle\".format(modelname))"
   ]
  },
  {
   "cell_type": "code",
   "execution_count": 32,
   "metadata": {
    "slideshow": {
     "slide_type": "slide"
    }
   },
   "outputs": [
    {
     "data": {
      "application/vnd.jupyter.widget-view+json": {
       "model_id": "2ceab92b059c4c6fad2748356379cb62"
      }
     },
     "metadata": {},
     "output_type": "display_data"
    },
    {
     "data": {
      "text/plain": [
       "<function __main__.resultsShow>"
      ]
     },
     "execution_count": 32,
     "metadata": {},
     "output_type": "execute_result"
    }
   ],
   "source": [
    "# Show results by processing a single variation of the testing image\n",
    "import warnings\n",
    "\n",
    "%matplotlib inline\n",
    "def resultsShow(i, data, model):\n",
    "    d = data.iloc[i]\n",
    "    im = d[\"image\"]\n",
    "    l = d[\"label\"]\n",
    "    fig,axs = plt.subplots(nrows=1,ncols=3,figsize=(15,5),gridspec_kw={'width_ratios':[1,1,0.5]})\n",
    "    \n",
    "    imt = transform_simple(im, patchsize)\n",
    "    axs[0].imshow(im)\n",
    "    axs[0].set_title(\"Image (true class: {})\".format(names[l]))\n",
    "    \n",
    "    axs[1].imshow(imt,interpolation=\"nearest\")\n",
    "    axs[1].set_title(\"Network input\")\n",
    "    \n",
    "    outs = model.predict(np.array([imt]))\n",
    "    print(outs)\n",
    "    predicted = np.argmax(outs)\n",
    "    axs[2].bar(np.array(range(len(names))), outs[0,:], 1, color=\"gray\")\n",
    "    axs[2].set_ylim([0,1])\n",
    "    axs[2].set_xticks(range(len(names)))\n",
    "    axs[2].set_xticklabels(names)\n",
    "    axs[2].set_ylabel(\"probability\")\n",
    "    axs[2].set_xlabel(\"class\")\n",
    "    axs[2].set_title(\"Network output\")\n",
    "    fig.tight_layout()\n",
    "    plt.show()\n",
    "    fig.savefig(\"out_{:05d}_{}.png\".format(i,(\"ok\" if predicted==l else \"ko\")))\n",
    "    print(outs)\n",
    "\n",
    "interact(resultsShow, i=widgets.IntSlider(min=0,max=len(dataset_te)-1, step=1, value=0, continuous_update=False), data=fixed(dataset_te.sample(len(dataset_te))), model=fixed(model))\n"
   ]
  },
  {
   "cell_type": "markdown",
   "metadata": {
    "slideshow": {
     "slide_type": "slide"
    }
   },
   "source": [
    "## Let's visualize the filters learned by the NN"
   ]
  },
  {
   "cell_type": "code",
   "execution_count": 33,
   "metadata": {
    "slideshow": {
     "slide_type": "-"
    }
   },
   "outputs": [
    {
     "name": "stdout",
     "output_type": "stream",
     "text": [
      "_________________________________________________________________\n",
      "Layer (type)                 Output Shape              Param #   \n",
      "=================================================================\n",
      "conv2d_58 (Conv2D)           (None, 32, 32, 96)        2688      \n",
      "_________________________________________________________________\n",
      "activation_96 (Activation)   (None, 32, 32, 96)        0         \n",
      "_________________________________________________________________\n",
      "max_pooling2d_58 (MaxPooling (None, 16, 16, 96)        0         \n",
      "_________________________________________________________________\n",
      "conv2d_59 (Conv2D)           (None, 16, 16, 192)       166080    \n",
      "_________________________________________________________________\n",
      "activation_97 (Activation)   (None, 16, 16, 192)       0         \n",
      "_________________________________________________________________\n",
      "max_pooling2d_59 (MaxPooling (None, 8, 8, 192)         0         \n",
      "_________________________________________________________________\n",
      "conv2d_60 (Conv2D)           (None, 8, 8, 384)         663936    \n",
      "_________________________________________________________________\n",
      "activation_98 (Activation)   (None, 8, 8, 384)         0         \n",
      "_________________________________________________________________\n",
      "max_pooling2d_60 (MaxPooling (None, 4, 4, 384)         0         \n",
      "_________________________________________________________________\n",
      "average_pooling2d_20 (Averag (None, 2, 2, 384)         0         \n",
      "_________________________________________________________________\n",
      "flatten_20 (Flatten)         (None, 1536)              0         \n",
      "_________________________________________________________________\n",
      "dense_39 (Dense)             (None, 128)               196736    \n",
      "_________________________________________________________________\n",
      "activation_99 (Activation)   (None, 128)               0         \n",
      "_________________________________________________________________\n",
      "dropout_20 (Dropout)         (None, 128)               0         \n",
      "_________________________________________________________________\n",
      "dense_40 (Dense)             (None, 3)                 387       \n",
      "_________________________________________________________________\n",
      "activation_100 (Activation)  (None, 3)                 0         \n",
      "=================================================================\n",
      "Total params: 1,029,827\n",
      "Trainable params: 1,029,827\n",
      "Non-trainable params: 0\n",
      "_________________________________________________________________\n"
     ]
    }
   ],
   "source": [
    "model.summary()"
   ]
  },
  {
   "cell_type": "code",
   "execution_count": 34,
   "metadata": {},
   "outputs": [
    {
     "data": {
      "text/plain": [
       "array([[-0.02543949, -0.02531048, -0.07430158],\n",
       "       [ 0.05630833, -0.06068316, -0.0476765 ],\n",
       "       [ 0.06724963,  0.03451911,  0.00552103]], dtype=float32)"
      ]
     },
     "execution_count": 34,
     "metadata": {},
     "output_type": "execute_result"
    }
   ],
   "source": [
    "model.layers[0].get_weights()[0][:,:,1,0]"
   ]
  },
  {
   "cell_type": "code",
   "execution_count": 35,
   "metadata": {
    "slideshow": {
     "slide_type": "slide"
    }
   },
   "outputs": [
    {
     "ename": "IndexError",
     "evalue": "list index out of range",
     "output_type": "error",
     "traceback": [
      "\u001b[1;31m---------------------------------------------------------------------------\u001b[0m",
      "\u001b[1;31mIndexError\u001b[0m                                Traceback (most recent call last)",
      "\u001b[1;32m<ipython-input-35-4e3620ba1b6d>\u001b[0m in \u001b[0;36m<module>\u001b[1;34m()\u001b[0m\n\u001b[0;32m      1\u001b[0m \u001b[1;31m# Visualize filters in a layer\u001b[0m\u001b[1;33m\u001b[0m\u001b[1;33m\u001b[0m\u001b[0m\n\u001b[0;32m      2\u001b[0m \u001b[1;32mimport\u001b[0m \u001b[0mitertools\u001b[0m\u001b[1;33m\u001b[0m\u001b[0m\n\u001b[1;32m----> 3\u001b[1;33m \u001b[0mfilters\u001b[0m \u001b[1;33m=\u001b[0m \u001b[0mmodel\u001b[0m\u001b[1;33m.\u001b[0m\u001b[0mlayers\u001b[0m\u001b[1;33m[\u001b[0m\u001b[1;36m2\u001b[0m\u001b[1;33m]\u001b[0m\u001b[1;33m.\u001b[0m\u001b[0mget_weights\u001b[0m\u001b[1;33m(\u001b[0m\u001b[1;33m)\u001b[0m\u001b[1;33m[\u001b[0m\u001b[1;36m0\u001b[0m\u001b[1;33m]\u001b[0m\u001b[1;33m\u001b[0m\u001b[0m\n\u001b[0m\u001b[0;32m      4\u001b[0m \u001b[0mfilters\u001b[0m\u001b[1;33m.\u001b[0m\u001b[0mshape\u001b[0m\u001b[1;33m\u001b[0m\u001b[0m\n\u001b[0;32m      5\u001b[0m \u001b[0mfig\u001b[0m\u001b[1;33m,\u001b[0m \u001b[0maxs\u001b[0m \u001b[1;33m=\u001b[0m \u001b[0mplt\u001b[0m\u001b[1;33m.\u001b[0m\u001b[0msubplots\u001b[0m\u001b[1;33m(\u001b[0m\u001b[0mnrows\u001b[0m \u001b[1;33m=\u001b[0m \u001b[0mfilters\u001b[0m\u001b[1;33m.\u001b[0m\u001b[0mshape\u001b[0m\u001b[1;33m[\u001b[0m\u001b[1;36m2\u001b[0m\u001b[1;33m]\u001b[0m\u001b[1;33m,\u001b[0m \u001b[0mncols\u001b[0m \u001b[1;33m=\u001b[0m \u001b[0mfilters\u001b[0m\u001b[1;33m.\u001b[0m\u001b[0mshape\u001b[0m\u001b[1;33m[\u001b[0m\u001b[1;36m3\u001b[0m\u001b[1;33m]\u001b[0m\u001b[1;33m,\u001b[0m \u001b[0mfigsize\u001b[0m\u001b[1;33m=\u001b[0m\u001b[1;33m(\u001b[0m\u001b[1;36m20\u001b[0m\u001b[1;33m,\u001b[0m\u001b[1;36m10\u001b[0m\u001b[1;33m)\u001b[0m\u001b[1;33m)\u001b[0m\u001b[1;33m\u001b[0m\u001b[0m\n",
      "\u001b[1;31mIndexError\u001b[0m: list index out of range"
     ]
    }
   ],
   "source": [
    "# Visualize filters in a layer\n",
    "import itertools\n",
    "filters = model.layers[2].get_weights()[0]\n",
    "filters.shape\n",
    "fig, axs = plt.subplots(nrows = filters.shape[2], ncols = filters.shape[3], figsize=(20,10))\n",
    "for i,j in itertools.product(range(filters.shape[2]),range(filters.shape[3])):\n",
    "    axs[i,j].imshow(filters[:,:,i,j],vmin=-0.5,vmax=+0.5,cmap=\"gray\")\n",
    "    axs[i,j].axis(\"off\")"
   ]
  },
  {
   "cell_type": "markdown",
   "metadata": {
    "slideshow": {
     "slide_type": "slide"
    }
   },
   "source": [
    "## Let's visualize the activations in the intermediate layers"
   ]
  },
  {
   "cell_type": "code",
   "execution_count": 36,
   "metadata": {},
   "outputs": [
    {
     "data": {
      "image/png": "[encoded data removed]",
      "text/plain": [
       "<matplotlib.figure.Figure at 0x21835933ac8>"
      ]
     },
     "metadata": {},
     "output_type": "display_data"
    }
   ],
   "source": [
    "from keras import backend as K\n",
    "\n",
    "def plot_hidden_layers(imt,nmaps=4):\n",
    "    fig = plt.figure(figsize=(15, 10))\n",
    "    plt.title('Hidden layers', loc='center')\n",
    "    plt.axis('off')\n",
    "    layers = [model.layers[0].input] + [model.layers[i].output for i in [0,2,5,7,9]]\n",
    "    for layeri,layer in enumerate(layers):\n",
    "        get = K.function([model.layers[0].input], [layer])\n",
    "        layeroutputs = get([imt[np.newaxis,:,:,:]])[0][0]\n",
    "        for j in range(nmaps): # for each map\n",
    "            sp2=fig.add_subplot(nmaps,len(layers),layeri+1+j*len(layers))\n",
    "            sp2.axis('off')\n",
    "            if (layeroutputs.shape[2]>j):\n",
    "                vmin,vmax = ((0,1) if layeri == 0 else (-0.3,+0.3))\n",
    "                sp2.imshow(layeroutputs[:,:,j],\n",
    "                           cmap=\"gray\",\n",
    "                           interpolation=\"nearest\")\n",
    "    fig.tight_layout()\n",
    "\n",
    "imt=transform(dataset_te[\"image\"].iloc[0],patchsize)\n",
    "plot_hidden_layers(imt)\n"
   ]
  },
  {
   "cell_type": "markdown",
   "metadata": {
    "slideshow": {
     "slide_type": "slide"
    }
   },
   "source": [
    "## We now search for the inputs maximizing a given neuron or set of neurons"
   ]
  },
  {
   "cell_type": "code",
   "execution_count": 37,
   "metadata": {
    "slideshow": {
     "slide_type": "slide"
    }
   },
   "outputs": [
    {
     "name": "stdout",
     "output_type": "stream",
     "text": [
      "_________________________________________________________________\n",
      "Layer (type)                 Output Shape              Param #   \n",
      "=================================================================\n",
      "conv2d_58 (Conv2D)           (None, 32, 32, 96)        2688      \n",
      "_________________________________________________________________\n",
      "activation_96 (Activation)   (None, 32, 32, 96)        0         \n",
      "_________________________________________________________________\n",
      "max_pooling2d_58 (MaxPooling (None, 16, 16, 96)        0         \n",
      "_________________________________________________________________\n",
      "conv2d_59 (Conv2D)           (None, 16, 16, 192)       166080    \n",
      "_________________________________________________________________\n",
      "activation_97 (Activation)   (None, 16, 16, 192)       0         \n",
      "_________________________________________________________________\n",
      "max_pooling2d_59 (MaxPooling (None, 8, 8, 192)         0         \n",
      "_________________________________________________________________\n",
      "conv2d_60 (Conv2D)           (None, 8, 8, 384)         663936    \n",
      "_________________________________________________________________\n",
      "activation_98 (Activation)   (None, 8, 8, 384)         0         \n",
      "_________________________________________________________________\n",
      "max_pooling2d_60 (MaxPooling (None, 4, 4, 384)         0         \n",
      "_________________________________________________________________\n",
      "average_pooling2d_20 (Averag (None, 2, 2, 384)         0         \n",
      "_________________________________________________________________\n",
      "flatten_20 (Flatten)         (None, 1536)              0         \n",
      "_________________________________________________________________\n",
      "dense_39 (Dense)             (None, 128)               196736    \n",
      "_________________________________________________________________\n",
      "activation_99 (Activation)   (None, 128)               0         \n",
      "_________________________________________________________________\n",
      "dropout_20 (Dropout)         (None, 128)               0         \n",
      "_________________________________________________________________\n",
      "dense_40 (Dense)             (None, 3)                 387       \n",
      "_________________________________________________________________\n",
      "activation_100 (Activation)  (None, 3)                 0         \n",
      "=================================================================\n",
      "Total params: 1,029,827\n",
      "Trainable params: 1,029,827\n",
      "Non-trainable params: 0\n",
      "_________________________________________________________________\n"
     ]
    }
   ],
   "source": [
    "model.summary()"
   ]
  },
  {
   "cell_type": "code",
   "execution_count": 95,
   "metadata": {
    "collapsed": true,
    "slideshow": {
     "slide_type": "slide"
    }
   },
   "outputs": [],
   "source": [
    "def makeinputmaximizing(loss, gradstep = 0.01, steps = 20):\n",
    "    grads = K.gradients(loss, model.input)[0]\n",
    "    grads /= K.sqrt(K.mean(K.square(grads)) + 1e-5)\n",
    "    iterate = K.function([model.input],[loss, grads])\n",
    "\n",
    "    # img = transform_simple(dataset_te[\"image\"].iloc[0],patchsize)[np.newaxis,:,:,:]\n",
    "    img = 0.5+0.01*np.random.rand(1,patchsize,patchsize,3)\n",
    "    \n",
    "    for i in range(steps):\n",
    "        loss_value, grads_value = iterate([img])\n",
    "        img += grads_value * gradstep\n",
    "        img = np.clip(img,0,1)\n",
    "    return img[0,:,:,:]"
   ]
  },
  {
   "cell_type": "code",
   "execution_count": 96,
   "metadata": {},
   "outputs": [
    {
     "data": {
      "text/plain": [
       "<matplotlib.image.AxesImage at 0x2184dee8a58>"
      ]
     },
     "execution_count": 96,
     "metadata": {},
     "output_type": "execute_result"
    },
    {
     "data": {
      "image/png": "[encoded data removed]",
      "text/plain": [
       "<matplotlib.figure.Figure at 0x2184552e908>"
      ]
     },
     "metadata": {},
     "output_type": "display_data"
    }
   ],
   "source": [
    "plt.imshow(makeinputmaximizing(model.layers[6].output[0,2], steps = 1000, gradstep = 0.1))"
   ]
  },
  {
   "cell_type": "code",
   "execution_count": 99,
   "metadata": {},
   "outputs": [
    {
     "name": "stderr",
     "output_type": "stream",
     "text": [
      "100%|██████████| 10/10 [00:11<00:00,  1.19s/it]\n"
     ]
    },
    {
     "data": {
      "image/png": "[encoded data removed]",
      "text/plain": [
       "<matplotlib.figure.Figure at 0x218496785f8>"
      ]
     },
     "metadata": {},
     "output_type": "display_data"
    }
   ],
   "source": [
    "import tqdm\n",
    "out = model.layers[6].output\n",
    "fig, axs = plt.subplots(nrows = 2, ncols = 5, figsize=(20,5), squeeze = False)\n",
    "for i,j in tqdm.tqdm(list(itertools.product(range(axs.shape[0]), range(axs.shape[1])))):\n",
    "    loss = K.mean(out[:,j])\n",
    "    img = makeinputmaximizing(loss, gradstep = 0.03, steps = 20)\n",
    "    axs[i,j].imshow(img)\n",
    "    axs[i,j].axis(\"off\")"
   ]
  },
  {
   "cell_type": "markdown",
   "metadata": {
    "slideshow": {
     "slide_type": "slide"
    }
   },
   "source": [
    "## Let us look for what the convnet consider an 'ideal paper'"
   ]
  },
  {
   "cell_type": "code",
   "execution_count": 107,
   "metadata": {},
   "outputs": [
    {
     "data": {
      "text/plain": [
       "<matplotlib.image.AxesImage at 0x2185656c048>"
      ]
     },
     "execution_count": 107,
     "metadata": {},
     "output_type": "execute_result"
    },
    {
     "data": {
      "image/png": "[encoded data removed]",
      "text/plain": [
       "<matplotlib.figure.Figure at 0x218550ba470>"
      ]
     },
     "metadata": {},
     "output_type": "display_data"
    }
   ],
   "source": [
    "#oppure: \n",
    "#out = model.output\n",
    "\n",
    "final_output=np.zeros((patchsize*3, patchsize*iterations, 3))\n",
    "\n",
    "for k in range(3):\n",
    "    img= 0.5+0.01*np.random.rand(1,patchsize,patchsize,3)\n",
    "    objective = model.output[0,k]        \n",
    "    c=K.gradients(objective, model.input)[0]\n",
    "    iterate=K.function([model.input, K.learning_phase()],[objective, c])\n",
    "    A=0\n",
    "        \n",
    "    for j in range(20):\n",
    "        loss_value, grads_value=iterate([img, 1])\n",
    "        final_output[input_shape*k:input_shape*(k+1),A:A+B]=img[0]\n",
    "        if np.max(grads_value)>0:\n",
    "            step=1/np.max(grads_value)            \n",
    "        img += grads_value*step\n",
    "        A+=patchsize\n",
    "        img=np.clip(img, 0, 1)\n",
    "plt.imshow(final_output[:,:,:], vmin=0, vmax=1)\n",
    "    "
   ]
  },
  {
   "cell_type": "markdown",
   "metadata": {
    "slideshow": {
     "slide_type": "slide"
    }
   },
   "source": [
    "## Let us try to locate the gesture in the image\n",
    "- First, we feed an image of a paper gesture to the network;\n",
    "- Second, we assign to each channel in the output of the last convolution a value corresponding ot its contribution to the class \"paper\";\n",
    "- Third, we consider which parts in the input image activate the channels that lead to the decision: this is a paper. "
   ]
  },
  {
   "cell_type": "code",
   "execution_count": 86,
   "metadata": {},
   "outputs": [
    {
     "name": "stdout",
     "output_type": "stream",
     "text": [
      "(32, 32)\n"
     ]
    },
    {
     "data": {
      "text/plain": [
       "<matplotlib.image.AxesImage at 0x21845700cf8>"
      ]
     },
     "execution_count": 86,
     "metadata": {},
     "output_type": "execute_result"
    },
    {
     "data": {
      "image/png": "[encoded data removed]",
      "text/plain": [
       "<matplotlib.figure.Figure at 0x21842fa29b0>"
      ]
     },
     "metadata": {},
     "output_type": "display_data"
    }
   ],
   "source": [
    "import cv2\n",
    "\n",
    "img=skimage.img_as_float(skimage.io.imread(\"paper.jpg\"))\n",
    "img=np.expand_dims(img, axis=0)\n",
    "preds=model.predict(img)\n",
    "rps_output=model.output[:, np.argmax(preds[0])]\n",
    "last_conv_layer=model.layers[6]\n",
    "grads=K.gradients(rps_output, last_conv_layer.output)[0]\n",
    "pooled_grads=K.mean(grads, axis=(0, 1, 2))\n",
    "\n",
    "iterate=K.function([model.input, K.learning_phase()], [pooled_grads, last_conv_layer.output[0]])\n",
    "pooled_grads_value, conv_layer_output_value = iterate([img, 1])\n",
    "##\n",
    "for i in range(5):\n",
    "    conv_layer_output_value[:,:,i] *= pooled_grads_value[i]\n",
    "heatmap = np.mean(conv_layer_output_value, axis=-1)\n",
    "heatmap = np.maximum(heatmap, 0)\n",
    "heatmap=cv2.resize(heatmap, (img.shape[1], img.shape[2]))\n",
    "plt.imshow(heatmap)\n",
    "print(heatmap.shape)\n",
    "\n",
    "img=skimage.img_as_float(skimage.io.imread(\"paper.jpg\"))\n",
    "heatmap=np.expand_dims(heatmap, axis=3)\n",
    "superimposed_img= np.clip(img + heatmap * 0.4, 0, 1)\n",
    "plt.imshow(superimposed_img)\n"
   ]
  },
  {
   "cell_type": "code",
   "execution_count": null,
   "metadata": {
    "collapsed": true
   },
   "outputs": [],
   "source": []
  }
 ],
 "metadata": {
  "celltoolbar": "Slideshow",
  "kernelspec": {
   "display_name": "Python 3",
   "language": "python",
   "name": "python3"
  },
  "language_info": {
   "codemirror_mode": {
    "name": "ipython",
    "version": 3
   },
   "file_extension": ".py",
   "mimetype": "text/x-python",
   "name": "python",
   "nbconvert_exporter": "python",
   "pygments_lexer": "ipython3",
   "version": "3.5.3"
  },
  "livereveal": {
   "scroll": true
  }
 },
 "nbformat": 4,
 "nbformat_minor": 2
}
