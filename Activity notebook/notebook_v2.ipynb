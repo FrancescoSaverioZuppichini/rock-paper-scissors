{
 "cells": [
  {
   "cell_type": "markdown",
   "metadata": {
    "slideshow": {
     "slide_type": "slide"
    }
   },
   "source": [
    "# Building a convnet for ✊✋✌\n",
    "This presents how to build a convnet from scratch to classify images of rock-paper-scissors.  It is meant as a teaching activity to demonstrate the following concepts in practice:\n",
    "- how images are represented and handled in software\n",
    "- how to prepare a machine learning dataset\n",
    "- how a full machine learning pipeline looks\n",
    "- data preprocessing\n",
    "- data augmentation and its importance in a \n",
    "- overfitting, underfitting\n",
    "\n",
    "We use the high-level deep learning library Keras, but the concepts are general and we don't put much focus on the specifics of the code."
   ]
  },
  {
   "cell_type": "markdown",
   "metadata": {
    "slideshow": {
     "slide_type": "slide"
    }
   },
   "source": [
    "## Step 0: defining the problem\n",
    "What problem do we want to solve, exactly?  We want to build a piece of software that, given an image as input that represents an hand making one of the three ✊✋✌ gestures, produces as output a classification of the image in one of the three classes.\n",
    "\n",
    "In the following, we will adopt this convention\n",
    "- class 0 is ✊ rock\n",
    "- class 1 is ✋ paper\n",
    "- class 2 is ✌ scissors"
   ]
  },
  {
   "cell_type": "markdown",
   "metadata": {
    "slideshow": {
     "slide_type": "slide"
    }
   },
   "source": [
    "## Step 1: building a dataset\n",
    "We are starting from scratch, so we need to shoot our own dataset; the best option is that multiple students/groups shoot plenty of images in parallel and then the data is somehow collected.  Whatever the process, in the end we want to have all pics in three different directories, one per class.  Format can be either jpg or png, and landscape/portrait, aspect ratio and resolution don't matter and can be mixed.\n",
    "\n",
    "With some attention to logistics, this can be done in about 10-30 minutes.\n",
    "\n",
    "Guidelines for shooting images. \n",
    "- We don't need high resolution: use the lowest resolution/quality allowed by the phone (this reduces the size of the dataset and speeds up data transfer).\n",
    "- The hand must be more or less in the center of the image; it should not fill the whole image, but it should not be too small either.  ![caption](figures/guidelines.jpg)\n",
    "- we want the dataset to represent as much variability as possible: if we want the classifier to work for all hand orientations, try to have examples for all of them; if we want to handle many different lightling conditions, try to have some pictures for different lightings;\n",
    "- avoid poses that are ambiguous, unless you want to make your job harder: e.g., don't include in the dataset images of paper or scissors taken from the side;\n",
    "- avoid having two images in the dataset that are almost the same: change the camera and hand pose at least a little bit; this is important because in the following code we randomly split training and testing data.\n",
    "\n",
    "Remember that we need the images for each class to be in its own directory. To make this simpler, it helps to shoot first all images of rock, then all images of paper, then all images of scissors, and finally sort the images by time in the file manager and group them accordingly.\n",
    "\n",
    "Place all images in three directories named `c0/`, `c1/`, and `c2/`.  Make sure that each directory only contains image files."
   ]
  },
  {
   "cell_type": "markdown",
   "metadata": {
    "slideshow": {
     "slide_type": "slide"
    }
   },
   "source": [
    "## Step 2: read in images and have a look at them\n",
    "Let's first import what we need"
   ]
  },
  {
   "cell_type": "code",
   "execution_count": 1,
   "metadata": {},
   "outputs": [
    {
     "name": "stderr",
     "output_type": "stream",
     "text": [
      "C:\\Users\\Fabrizio\\Anaconda3\\lib\\site-packages\\skimage\\viewer\\utils\\core.py:10: UserWarning: Recommended matplotlib backend is `Agg` for full skimage.viewer functionality.\n",
      "  warn(\"Recommended matplotlib backend is `Agg` for full \"\n",
      "Using TensorFlow backend.\n"
     ]
    }
   ],
   "source": [
    "%matplotlib inline\n",
    "\n",
    "# General imports\n",
    "import matplotlib.pyplot as plt\n",
    "import pathlib\n",
    "import skimage\n",
    "import skimage.transform\n",
    "import skimage.viewer\n",
    "import pandas as pd\n",
    "import numpy as np\n",
    "import time\n",
    "import keras.utils.np_utils\n",
    "from tqdm import tqdm\n",
    "\n",
    "# Setup to show interactive jupyter widgets\n",
    "from IPython.display import Image, display\n",
    "from ipywidgets import interact, fixed\n",
    "import ipywidgets as widgets\n",
    "def imgplotList(i,data):\n",
    "    plt.figure(figsize=(10,10))\n",
    "    plt.imshow(data[i],interpolation=\"nearest\")\n",
    "    plt.show()"
   ]
  },
  {
   "cell_type": "code",
   "execution_count": 2,
   "metadata": {
    "slideshow": {
     "slide_type": "slide"
    }
   },
   "outputs": [
    {
     "name": "stdout",
     "output_type": "stream",
     "text": [
      "Found directory ..\\datasets\\final\\D3\\c1 containing class paper\n",
      "Found directory ..\\datasets\\final\\D2\\c0 containing class rock\n",
      "Found directory ..\\datasets\\final\\D1\\c2 containing class scissors\n",
      "Found directory ..\\datasets\\final\\testing\\c1 containing class paper\n",
      "Found directory ..\\datasets\\final\\testing\\c0 containing class rock\n",
      "Found directory ..\\datasets\\final\\D6\\c0 containing class rock\n",
      "Found directory ..\\datasets\\final\\D4\\c0 containing class rock\n",
      "Found directory ..\\datasets\\final\\D7\\c2 containing class scissors\n",
      "Found directory ..\\datasets\\final\\D3\\c0 containing class rock\n",
      "Found directory ..\\datasets\\final\\D2\\c1 containing class paper\n",
      "Found directory ..\\datasets\\final\\D4\\c2 containing class scissors\n",
      "Found directory ..\\datasets\\final\\D1\\c0 containing class rock\n",
      "Found directory ..\\datasets\\final\\D5\\c0 containing class rock\n",
      "Found directory ..\\datasets\\final\\D5\\c2 containing class scissors\n",
      "Found directory ..\\datasets\\final\\D7\\c1 containing class paper\n",
      "Found directory ..\\datasets\\final\\D6\\c1 containing class paper\n",
      "Found directory ..\\datasets\\final\\D3\\c2 containing class scissors\n",
      "Found directory ..\\datasets\\final\\D2\\c2 containing class scissors\n",
      "Found directory ..\\datasets\\final\\D4\\c1 containing class paper\n",
      "Found directory ..\\datasets\\final\\D7\\c0 containing class rock\n",
      "Found directory ..\\datasets\\final\\D1\\c1 containing class paper\n",
      "Found directory ..\\datasets\\final\\D5\\c1 containing class paper\n",
      "Found directory ..\\datasets\\final\\D6\\c2 containing class scissors\n",
      "Found directory ..\\datasets\\final\\testing\\c2 containing class scissors\n"
     ]
    }
   ],
   "source": [
    "# Define where datasets are located\n",
    "dataset_directory = pathlib.Path(\"..\")/\"datasets\"/\"final\"\n",
    "\n",
    "# Define which datasets we should consider.\n",
    "# Each dataset is a directory withing dataset_directory\n",
    "# and must contain three subdirectories: (c0, c1, c2) for (rock, paper, scissors).\n",
    "dnames = [\"D{}\".format(n) for n in range(1,8)] + [\"testing\"]\n",
    "\n",
    "\n",
    "# Now check the data\n",
    "ddirs=[dataset_directory/dn for dn in dnames] # directories of the dataset\n",
    "cdirs={}\n",
    "for ddir in ddirs:\n",
    "    cdirs.update({ddir/\"c0\":0,\n",
    "                  ddir/\"c1\":1,\n",
    "                  ddir/\"c2\":2})\n",
    "names = [\"rock\", \"paper\", \"scissors\"]\n",
    "for cdir,cdir_class in cdirs.items():\n",
    "    assert(cdir.exists())\n",
    "    print(\"Found directory {} containing class {}\".format(cdir,names[cdir_class]))"
   ]
  },
  {
   "cell_type": "markdown",
   "metadata": {
    "slideshow": {
     "slide_type": "slide"
    }
   },
   "source": [
    "Let's try to read the first image from the first directory, and visualize it.  Note that the tool allows you to zoom in order to see the individual pixels."
   ]
  },
  {
   "cell_type": "code",
   "execution_count": 3,
   "metadata": {},
   "outputs": [
    {
     "data": {
      "text/plain": [
       "[]"
      ]
     },
     "execution_count": 3,
     "metadata": {},
     "output_type": "execute_result"
    }
   ],
   "source": [
    "im = skimage.io.imread(list(list(cdirs.keys())[0].glob(\"*\"))[0])\n",
    "viewer=skimage.viewer.ImageViewer(im)\n",
    "viewer.show()\n",
    "# Note: you have to close the window to continue"
   ]
  },
  {
   "cell_type": "markdown",
   "metadata": {
    "slideshow": {
     "slide_type": "slide"
    }
   },
   "source": [
    "We now read in all images, cut the central square (with an edge as long as the shorter dimension), and resize it to 200x200 pixels.  Whatever the initial size and orientation of the images, we will end up with a bunch of 200x200 RGB squares in uint8.  These should be small enough that unless the dataset is huge, all should fit in memory.\n",
    "\n",
    "We make a pandas dataframe with the data, with two columns:\n",
    "* image: a $200 \\times 200 \\times 3$ uint8 numpy array\n",
    "* label: on of 0, 1 or 2\n",
    "* file: the full path of the image"
   ]
  },
  {
   "cell_type": "code",
   "execution_count": 4,
   "metadata": {
    "scrolled": false
   },
   "outputs": [
    {
     "name": "stderr",
     "output_type": "stream",
     "text": [
      " 29%|██▉       | 7/24 [00:19<00:46,  2.76s/it]C:\\Users\\Fabrizio\\Anaconda3\\lib\\site-packages\\ipykernel_launcher.py:12: UserWarning: ignoring ..\\datasets\\final\\D7\\c2\\.DS_Store due to exception cannot identify image file 'C:\\\\Users\\\\Fabrizio\\\\Documents\\\\GitHub\\\\rock-paper-scissors\\\\datasets\\\\final\\\\D7\\\\c2\\\\.DS_Store'\n",
      "  if sys.path[0] == '':\n",
      " 58%|█████▊    | 14/24 [00:45<00:32,  3.27s/it]C:\\Users\\Fabrizio\\Anaconda3\\lib\\site-packages\\ipykernel_launcher.py:12: UserWarning: ignoring ..\\datasets\\final\\D7\\c1\\.DS_Store due to exception cannot identify image file 'C:\\\\Users\\\\Fabrizio\\\\Documents\\\\GitHub\\\\rock-paper-scissors\\\\datasets\\\\final\\\\D7\\\\c1\\\\.DS_Store'\n",
      "  if sys.path[0] == '':\n",
      " 79%|███████▉  | 19/24 [01:09<00:18,  3.64s/it]C:\\Users\\Fabrizio\\Anaconda3\\lib\\site-packages\\ipykernel_launcher.py:12: UserWarning: ignoring ..\\datasets\\final\\D7\\c0\\.DS_Store due to exception cannot identify image file 'C:\\\\Users\\\\Fabrizio\\\\Documents\\\\GitHub\\\\rock-paper-scissors\\\\datasets\\\\final\\\\D7\\\\c0\\\\.DS_Store'\n",
      "  if sys.path[0] == '':\n",
      "100%|██████████| 24/24 [01:35<00:00,  3.96s/it]\n"
     ]
    },
    {
     "name": "stdout",
     "output_type": "stream",
     "text": [
      "Done\n"
     ]
    }
   ],
   "source": [
    "imagesize = 200\n",
    "\n",
    "dataset=[]\n",
    "\n",
    "import warnings\n",
    "\n",
    "for cdir,cn in tqdm(list(cdirs.items())):\n",
    "    for f in list(cdir.glob(\"*\")):\n",
    "        try:\n",
    "            im=skimage.io.imread(f)\n",
    "        except (OSError, ValueError) as e:\n",
    "            warnings.warn(\"ignoring {} due to exception {}\".format(f,str(e)))\n",
    "            continue\n",
    "            \n",
    "        h,w=im.shape[0:2] # height, width\n",
    "        sz=min(h,w)\n",
    "        im=im[(h//2-sz//2):(h//2+sz//2),(w//2-sz//2):(w//2+sz//2),:] # defines the central square        \n",
    "        with warnings.catch_warnings():\n",
    "            warnings.simplefilter(\"ignore\")\n",
    "            im=skimage.img_as_ubyte(skimage.transform.resize(im,(imagesize,imagesize))) # resize it to 500x500, whatever the original resolution\n",
    "            \n",
    "        dataset.append({\n",
    "            \"file\":f,\n",
    "            \"label\":cn,\n",
    "            \"image\":im})\n",
    "        \n",
    "print(\"Done\")"
   ]
  },
  {
   "cell_type": "markdown",
   "metadata": {
    "slideshow": {
     "slide_type": "slide"
    }
   },
   "source": [
    "We make a pandas dataframe for the dataset, and create a \"dn\" field containing the name of the dataset from which each image comes (as the name of the directory it was read from)."
   ]
  },
  {
   "cell_type": "code",
   "execution_count": 5,
   "metadata": {
    "collapsed": true
   },
   "outputs": [],
   "source": [
    "dataset=pd.DataFrame(dataset)\n",
    "dataset[\"dn\"]=dataset[\"file\"].apply(lambda x: x.parent.parts[-2])"
   ]
  },
  {
   "cell_type": "markdown",
   "metadata": {
    "slideshow": {
     "slide_type": "fragment"
    }
   },
   "source": [
    "Here are 10 random rows from that dataset"
   ]
  },
  {
   "cell_type": "code",
   "execution_count": 6,
   "metadata": {},
   "outputs": [
    {
     "data": {
      "text/html": [
       "<style  type=\"text/css\" >\n",
       "</style>  \n",
       "<table id=\"T_9c34f134_2c25_11e8_93d0_c159740c32bf\" > \n",
       "<thead>    <tr> \n",
       "        <th class=\"blank level0\" ></th> \n",
       "        <th class=\"col_heading level0 col0\" >image</th> \n",
       "        <th class=\"col_heading level0 col1\" >label</th> \n",
       "        <th class=\"col_heading level0 col2\" >file</th> \n",
       "        <th class=\"col_heading level0 col3\" >dn</th> \n",
       "    </tr></thead> \n",
       "<tbody>    <tr> \n",
       "        <th id=\"T_9c34f134_2c25_11e8_93d0_c159740c32bf\" class=\"row_heading level0 row0\" >1782</th> \n",
       "        <td id=\"T_9c34f134_2c25_11e8_93d0_c159740c32bfrow0_col0\" class=\"data row0 col0\" >[[[ 89 106 113]\n",
       "  [ 90 107 114]\n",
       "  [ 91 108 113]\n",
       "  ..., \n",
       "  [173 140  85]\n",
       "  [171 136  84]\n",
       "  [175 140  88]]\n",
       "\n",
       " [[ 91 108 115]\n",
       "  [ 89 106 113]\n",
       "  [ 91 109 113]\n",
       "  ..., \n",
       "  [177 139  77]\n",
       "  [178 138  75]\n",
       "  [173 134  69]]\n",
       "\n",
       " [[ 91 108 115]\n",
       "  [ 92 109 116]\n",
       "  [ 91 109 113]\n",
       "  ..., \n",
       "  [174 138  73]\n",
       "  [138 104  75]\n",
       "  [ 62  29  12]]\n",
       "\n",
       " ..., \n",
       " [[212 229 237]\n",
       "  [213 230 238]\n",
       "  [213 230 238]\n",
       "  ..., \n",
       "  [ 63  89 103]\n",
       "  [ 64  90 104]\n",
       "  [ 65  91 104]]\n",
       "\n",
       " [[210 227 235]\n",
       "  [212 229 237]\n",
       "  [213 230 238]\n",
       "  ..., \n",
       "  [ 63  89 102]\n",
       "  [ 63  89 102]\n",
       "  [ 61  87 100]]\n",
       "\n",
       " [[210 227 235]\n",
       "  [211 228 236]\n",
       "  [212 229 237]\n",
       "  ..., \n",
       "  [ 63  89 102]\n",
       "  [ 63  89 102]\n",
       "  [ 61  87 100]]]</td> \n",
       "        <td id=\"T_9c34f134_2c25_11e8_93d0_c159740c32bfrow0_col1\" class=\"data row0 col1\" >2</td> \n",
       "        <td id=\"T_9c34f134_2c25_11e8_93d0_c159740c32bfrow0_col2\" class=\"data row0 col2\" >..\\datasets\\final\\D6\\c2\\IMG_20180119_102437.jpg</td> \n",
       "        <td id=\"T_9c34f134_2c25_11e8_93d0_c159740c32bfrow0_col3\" class=\"data row0 col3\" >D6</td> \n",
       "    </tr>    <tr> \n",
       "        <th id=\"T_9c34f134_2c25_11e8_93d0_c159740c32bf\" class=\"row_heading level0 row1\" >200</th> \n",
       "        <td id=\"T_9c34f134_2c25_11e8_93d0_c159740c32bfrow1_col0\" class=\"data row1 col0\" >[[[154 165 171]\n",
       "  [152 159 162]\n",
       "  [160 158 160]\n",
       "  ..., \n",
       "  [164 171 177]\n",
       "  [167 174 181]\n",
       "  [173 180 188]]\n",
       "\n",
       " [[150 161 169]\n",
       "  [133 142 147]\n",
       "  [130 131 134]\n",
       "  ..., \n",
       "  [184 192 195]\n",
       "  [182 189 194]\n",
       "  [181 189 194]]\n",
       "\n",
       " [[170 183 191]\n",
       "  [166 177 182]\n",
       "  [143 151 154]\n",
       "  ..., \n",
       "  [184 190 192]\n",
       "  [184 189 192]\n",
       "  [175 180 183]]\n",
       "\n",
       " ..., \n",
       " [[178 160 160]\n",
       "  [175 157 157]\n",
       "  [173 155 155]\n",
       "  ..., \n",
       "  [ 56  64  41]\n",
       "  [ 66  76  51]\n",
       "  [ 63  73  48]]\n",
       "\n",
       " [[174 156 156]\n",
       "  [175 157 157]\n",
       "  [170 152 151]\n",
       "  ..., \n",
       "  [ 57  67  42]\n",
       "  [ 69  79  51]\n",
       "  [ 75  86  56]]\n",
       "\n",
       " [[172 154 154]\n",
       "  [171 153 153]\n",
       "  [171 153 152]\n",
       "  ..., \n",
       "  [ 45  54  30]\n",
       "  [ 51  61  32]\n",
       "  [ 68  80  49]]]</td> \n",
       "        <td id=\"T_9c34f134_2c25_11e8_93d0_c159740c32bfrow1_col1\" class=\"data row1 col1\" >0</td> \n",
       "        <td id=\"T_9c34f134_2c25_11e8_93d0_c159740c32bfrow1_col2\" class=\"data row1 col2\" >..\\datasets\\final\\testing\\c0\\IMG_2589.jpg</td> \n",
       "        <td id=\"T_9c34f134_2c25_11e8_93d0_c159740c32bfrow1_col3\" class=\"data row1 col3\" >testing</td> \n",
       "    </tr>    <tr> \n",
       "        <th id=\"T_9c34f134_2c25_11e8_93d0_c159740c32bf\" class=\"row_heading level0 row2\" >470</th> \n",
       "        <td id=\"T_9c34f134_2c25_11e8_93d0_c159740c32bfrow2_col0\" class=\"data row2 col0\" >[[[ 53  67  52]\n",
       "  [ 61  75  58]\n",
       "  [ 60  76  57]\n",
       "  ..., \n",
       "  [196 189 178]\n",
       "  [178 165 157]\n",
       "  [180 167 153]]\n",
       "\n",
       " [[ 64  77  65]\n",
       "  [ 63  75  60]\n",
       "  [ 61  76  55]\n",
       "  ..., \n",
       "  [191 183 174]\n",
       "  [175 165 156]\n",
       "  [183 172 155]]\n",
       "\n",
       " [[ 53  66  50]\n",
       "  [ 68  77  60]\n",
       "  [ 68  80  60]\n",
       "  ..., \n",
       "  [175 166 158]\n",
       "  [197 191 181]\n",
       "  [189 186 170]]\n",
       "\n",
       " ..., \n",
       " [[ 20  30  37]\n",
       "  [ 26  33  38]\n",
       "  [ 26  30  39]\n",
       "  ..., \n",
       "  [ 31  45  35]\n",
       "  [ 30  41  28]\n",
       "  [ 22  36  20]]\n",
       "\n",
       " [[ 18  26  35]\n",
       "  [ 24  32  43]\n",
       "  [ 23  32  39]\n",
       "  ..., \n",
       "  [ 22  41  30]\n",
       "  [ 28  40  31]\n",
       "  [ 23  34  23]]\n",
       "\n",
       " [[ 22  32  40]\n",
       "  [ 23  34  42]\n",
       "  [ 22  34  41]\n",
       "  ..., \n",
       "  [ 22  41  31]\n",
       "  [ 27  38  30]\n",
       "  [ 32  42  30]]]</td> \n",
       "        <td id=\"T_9c34f134_2c25_11e8_93d0_c159740c32bfrow2_col1\" class=\"data row2 col1\" >2</td> \n",
       "        <td id=\"T_9c34f134_2c25_11e8_93d0_c159740c32bfrow2_col2\" class=\"data row2 col2\" >..\\datasets\\final\\D7\\c2\\20180219134546-Scissors-9f58136563b686d7.jpg</td> \n",
       "        <td id=\"T_9c34f134_2c25_11e8_93d0_c159740c32bfrow2_col3\" class=\"data row2 col3\" >D7</td> \n",
       "    </tr>    <tr> \n",
       "        <th id=\"T_9c34f134_2c25_11e8_93d0_c159740c32bf\" class=\"row_heading level0 row3\" >1250</th> \n",
       "        <td id=\"T_9c34f134_2c25_11e8_93d0_c159740c32bfrow3_col0\" class=\"data row3 col0\" >[[[ 31  29  34]\n",
       "  [ 25  23  28]\n",
       "  [ 26  24  29]\n",
       "  ..., \n",
       "  [117 111 113]\n",
       "  [114 110 110]\n",
       "  [113 109 108]]\n",
       "\n",
       " [[123 114 119]\n",
       "  [122 112 117]\n",
       "  [127 117 124]\n",
       "  ..., \n",
       "  [115 109 111]\n",
       "  [114 110 111]\n",
       "  [114 110 111]]\n",
       "\n",
       " [[125 113 117]\n",
       "  [127 115 119]\n",
       "  [127 115 120]\n",
       "  ..., \n",
       "  [119 113 115]\n",
       "  [117 111 115]\n",
       "  [118 112 116]]\n",
       "\n",
       " ..., \n",
       " [[156 143 150]\n",
       "  [158 145 152]\n",
       "  [158 145 152]\n",
       "  ..., \n",
       "  [ 43  48  53]\n",
       "  [ 44  48  54]\n",
       "  [ 44  48  55]]\n",
       "\n",
       " [[152 137 144]\n",
       "  [151 137 144]\n",
       "  [155 140 147]\n",
       "  ..., \n",
       "  [ 44  49  53]\n",
       "  [ 46  50  55]\n",
       "  [ 44  47  53]]\n",
       "\n",
       " [[152 137 144]\n",
       "  [154 139 146]\n",
       "  [155 140 147]\n",
       "  ..., \n",
       "  [ 44  49  53]\n",
       "  [ 45  48  53]\n",
       "  [ 42  45  51]]]</td> \n",
       "        <td id=\"T_9c34f134_2c25_11e8_93d0_c159740c32bfrow3_col1\" class=\"data row3 col1\" >2</td> \n",
       "        <td id=\"T_9c34f134_2c25_11e8_93d0_c159740c32bfrow3_col2\" class=\"data row3 col2\" >..\\datasets\\final\\D2\\c2\\IMG_0384.jpg</td> \n",
       "        <td id=\"T_9c34f134_2c25_11e8_93d0_c159740c32bfrow3_col3\" class=\"data row3 col3\" >D2</td> \n",
       "    </tr>    <tr> \n",
       "        <th id=\"T_9c34f134_2c25_11e8_93d0_c159740c32bf\" class=\"row_heading level0 row4\" >416</th> \n",
       "        <td id=\"T_9c34f134_2c25_11e8_93d0_c159740c32bfrow4_col0\" class=\"data row4 col0\" >[[[  4   3   8]\n",
       "  [  4   3   8]\n",
       "  [  4   3   8]\n",
       "  ..., \n",
       "  [ 21  21  21]\n",
       "  [ 20  21  17]\n",
       "  [ 20  20  18]]\n",
       "\n",
       " [[  3   2   7]\n",
       "  [  2   1   6]\n",
       "  [  4   3   8]\n",
       "  ..., \n",
       "  [ 22  23  18]\n",
       "  [ 30  31  27]\n",
       "  [ 25  25  23]]\n",
       "\n",
       " [[  3   2   7]\n",
       "  [  4   3   8]\n",
       "  [  5   4   9]\n",
       "  ..., \n",
       "  [ 22  22  20]\n",
       "  [ 25  25  22]\n",
       "  [ 23  23  21]]\n",
       "\n",
       " ..., \n",
       " [[103  97  75]\n",
       "  [ 92  85  66]\n",
       "  [101  90  73]\n",
       "  ..., \n",
       "  [ 76  78  65]\n",
       "  [ 77  79  66]\n",
       "  [ 69  71  57]]\n",
       "\n",
       " [[105  98  79]\n",
       "  [108 101  83]\n",
       "  [106  98  82]\n",
       "  ..., \n",
       "  [ 69  71  60]\n",
       "  [ 79  81  68]\n",
       "  [ 81  83  70]]\n",
       "\n",
       " [[130 123 104]\n",
       "  [123 116  98]\n",
       "  [128 121 103]\n",
       "  ..., \n",
       "  [ 78  80  69]\n",
       "  [ 82  84  72]\n",
       "  [ 80  82  69]]]</td> \n",
       "        <td id=\"T_9c34f134_2c25_11e8_93d0_c159740c32bfrow4_col1\" class=\"data row4 col1\" >2</td> \n",
       "        <td id=\"T_9c34f134_2c25_11e8_93d0_c159740c32bfrow4_col2\" class=\"data row4 col2\" >..\\datasets\\final\\D7\\c2\\20180219110143-Scissors-c1b76c29f77dc293.jpg</td> \n",
       "        <td id=\"T_9c34f134_2c25_11e8_93d0_c159740c32bfrow4_col3\" class=\"data row4 col3\" >D7</td> \n",
       "    </tr>    <tr> \n",
       "        <th id=\"T_9c34f134_2c25_11e8_93d0_c159740c32bf\" class=\"row_heading level0 row5\" >1404</th> \n",
       "        <td id=\"T_9c34f134_2c25_11e8_93d0_c159740c32bfrow5_col0\" class=\"data row5 col0\" >[[[ 88  30  22]\n",
       "  [ 88  26  21]\n",
       "  [ 93  30  25]\n",
       "  ..., \n",
       "  [ 27  26  27]\n",
       "  [ 24  25  24]\n",
       "  [ 23  26  22]]\n",
       "\n",
       " [[ 76  24  18]\n",
       "  [ 74  23  16]\n",
       "  [ 76  24  20]\n",
       "  ..., \n",
       "  [ 30  30  30]\n",
       "  [ 30  29  30]\n",
       "  [ 30  30  30]]\n",
       "\n",
       " [[ 61  20  11]\n",
       "  [ 66  25  15]\n",
       "  [ 65  26  15]\n",
       "  ..., \n",
       "  [ 26  26  25]\n",
       "  [ 24  25  24]\n",
       "  [ 29  29  29]]\n",
       "\n",
       " ..., \n",
       " [[221 205 181]\n",
       "  [222 206 180]\n",
       "  [223 207 182]\n",
       "  ..., \n",
       "  [196 176 152]\n",
       "  [196 176 152]\n",
       "  [196 176 152]]\n",
       "\n",
       " [[222 206 181]\n",
       "  [223 207 182]\n",
       "  [223 207 182]\n",
       "  ..., \n",
       "  [197 177 153]\n",
       "  [196 177 152]\n",
       "  [196 177 152]]\n",
       "\n",
       " [[222 206 180]\n",
       "  [222 206 182]\n",
       "  [222 206 181]\n",
       "  ..., \n",
       "  [197 177 153]\n",
       "  [196 176 152]\n",
       "  [196 176 152]]]</td> \n",
       "        <td id=\"T_9c34f134_2c25_11e8_93d0_c159740c32bfrow5_col1\" class=\"data row5 col1\" >0</td> \n",
       "        <td id=\"T_9c34f134_2c25_11e8_93d0_c159740c32bfrow5_col2\" class=\"data row5 col2\" >..\\datasets\\final\\D7\\c0\\20180219133859-Rock-d10227e15e2074d5.jpg</td> \n",
       "        <td id=\"T_9c34f134_2c25_11e8_93d0_c159740c32bfrow5_col3\" class=\"data row5 col3\" >D7</td> \n",
       "    </tr>    <tr> \n",
       "        <th id=\"T_9c34f134_2c25_11e8_93d0_c159740c32bf\" class=\"row_heading level0 row6\" >1216</th> \n",
       "        <td id=\"T_9c34f134_2c25_11e8_93d0_c159740c32bfrow6_col0\" class=\"data row6 col0\" >[[[ 11  20  29]\n",
       "  [  9  18  27]\n",
       "  [ 11  21  30]\n",
       "  ..., \n",
       "  [163 166 157]\n",
       "  [160 167 156]\n",
       "  [159 167 156]]\n",
       "\n",
       " [[ 13  22  31]\n",
       "  [ 12  22  31]\n",
       "  [ 10  20  29]\n",
       "  ..., \n",
       "  [164 167 158]\n",
       "  [161 167 157]\n",
       "  [162 168 158]]\n",
       "\n",
       " [[ 12  21  30]\n",
       "  [ 12  21  30]\n",
       "  [ 10  20  29]\n",
       "  ..., \n",
       "  [163 166 157]\n",
       "  [162 165 156]\n",
       "  [163 166 157]]\n",
       "\n",
       " ..., \n",
       " [[ 64  23  33]\n",
       "  [ 65  22  32]\n",
       "  [ 64  22  35]\n",
       "  ..., \n",
       "  [151 152 156]\n",
       "  [152 153 156]\n",
       "  [151 152 154]]\n",
       "\n",
       " [[ 65  21  31]\n",
       "  [ 65  20  32]\n",
       "  [ 66  18  32]\n",
       "  ..., \n",
       "  [151 155 155]\n",
       "  [152 153 154]\n",
       "  [151 151 151]]\n",
       "\n",
       " [[ 67  21  32]\n",
       "  [ 66  20  33]\n",
       "  [ 66  19  32]\n",
       "  ..., \n",
       "  [148 152 151]\n",
       "  [149 151 151]\n",
       "  [148 150 150]]]</td> \n",
       "        <td id=\"T_9c34f134_2c25_11e8_93d0_c159740c32bfrow6_col1\" class=\"data row6 col1\" >2</td> \n",
       "        <td id=\"T_9c34f134_2c25_11e8_93d0_c159740c32bfrow6_col2\" class=\"data row6 col2\" >..\\datasets\\final\\D3\\c2\\20170705_112257.jpg</td> \n",
       "        <td id=\"T_9c34f134_2c25_11e8_93d0_c159740c32bfrow6_col3\" class=\"data row6 col3\" >D3</td> \n",
       "    </tr>    <tr> \n",
       "        <th id=\"T_9c34f134_2c25_11e8_93d0_c159740c32bf\" class=\"row_heading level0 row7\" >313</th> \n",
       "        <td id=\"T_9c34f134_2c25_11e8_93d0_c159740c32bfrow7_col0\" class=\"data row7 col0\" >[[[171 143  95]\n",
       "  [172 144  96]\n",
       "  [171 143  95]\n",
       "  ..., \n",
       "  [124  78  16]\n",
       "  [124  74  12]\n",
       "  [129  79  16]]\n",
       "\n",
       " [[170 142  94]\n",
       "  [171 143  95]\n",
       "  [171 143  95]\n",
       "  ..., \n",
       "  [129  83  21]\n",
       "  [125  77  14]\n",
       "  [124  76  12]]\n",
       "\n",
       " [[172 144  96]\n",
       "  [172 144  96]\n",
       "  [172 144  96]\n",
       "  ..., \n",
       "  [128  83  18]\n",
       "  [130  83  19]\n",
       "  [130  82  18]]\n",
       "\n",
       " ..., \n",
       " [[174 146  98]\n",
       "  [175 147  99]\n",
       "  [177 149 101]\n",
       "  ..., \n",
       "  [165 138  95]\n",
       "  [166 139  96]\n",
       "  [166 139  96]]\n",
       "\n",
       " [[176 148 101]\n",
       "  [176 148 101]\n",
       "  [176 148 100]\n",
       "  ..., \n",
       "  [164 137  94]\n",
       "  [165 138  95]\n",
       "  [164 137  94]]\n",
       "\n",
       " [[176 148 101]\n",
       "  [176 148 101]\n",
       "  [176 148 100]\n",
       "  ..., \n",
       "  [164 137  94]\n",
       "  [165 138  95]\n",
       "  [164 137  94]]]</td> \n",
       "        <td id=\"T_9c34f134_2c25_11e8_93d0_c159740c32bfrow7_col1\" class=\"data row7 col1\" >0</td> \n",
       "        <td id=\"T_9c34f134_2c25_11e8_93d0_c159740c32bfrow7_col2\" class=\"data row7 col2\" >..\\datasets\\final\\D6\\c0\\IMG_20180119_102243.jpg</td> \n",
       "        <td id=\"T_9c34f134_2c25_11e8_93d0_c159740c32bfrow7_col3\" class=\"data row7 col3\" >D6</td> \n",
       "    </tr>    <tr> \n",
       "        <th id=\"T_9c34f134_2c25_11e8_93d0_c159740c32bf\" class=\"row_heading level0 row8\" >877</th> \n",
       "        <td id=\"T_9c34f134_2c25_11e8_93d0_c159740c32bfrow8_col0\" class=\"data row8 col0\" >[[[  1   1   1]\n",
       "  [  2   2   2]\n",
       "  [  0   0   0]\n",
       "  ..., \n",
       "  [107 116 111]\n",
       "  [115 122 117]\n",
       "  [110 116 112]]\n",
       "\n",
       " [[  1   1   1]\n",
       "  [  1   1   1]\n",
       "  [  2   2   2]\n",
       "  ..., \n",
       "  [106 114 110]\n",
       "  [112 119 115]\n",
       "  [114 120 116]]\n",
       "\n",
       " [[  3   3   3]\n",
       "  [  0   0   0]\n",
       "  [  1   1   1]\n",
       "  ..., \n",
       "  [111 117 115]\n",
       "  [115 121 117]\n",
       "  [114 119 115]]\n",
       "\n",
       " ..., \n",
       " [[ 98  87  75]\n",
       "  [116 113 105]\n",
       "  [115 117 110]\n",
       "  ..., \n",
       "  [107 109 108]\n",
       "  [105 108 108]\n",
       "  [106 110 109]]\n",
       "\n",
       " [[102  96  87]\n",
       "  [117 115 107]\n",
       "  [115 117 109]\n",
       "  ..., \n",
       "  [109 113 109]\n",
       "  [110 113 109]\n",
       "  [110 112 108]]\n",
       "\n",
       " [[109 105  96]\n",
       "  [116 114 107]\n",
       "  [115 116 108]\n",
       "  ..., \n",
       "  [108 113 107]\n",
       "  [109 111 106]\n",
       "  [108 110 105]]]</td> \n",
       "        <td id=\"T_9c34f134_2c25_11e8_93d0_c159740c32bfrow8_col1\" class=\"data row8 col1\" >2</td> \n",
       "        <td id=\"T_9c34f134_2c25_11e8_93d0_c159740c32bfrow8_col2\" class=\"data row8 col2\" >..\\datasets\\final\\D5\\c2\\20170914_115810.jpg</td> \n",
       "        <td id=\"T_9c34f134_2c25_11e8_93d0_c159740c32bfrow8_col3\" class=\"data row8 col3\" >D5</td> \n",
       "    </tr>    <tr> \n",
       "        <th id=\"T_9c34f134_2c25_11e8_93d0_c159740c32bf\" class=\"row_heading level0 row9\" >966</th> \n",
       "        <td id=\"T_9c34f134_2c25_11e8_93d0_c159740c32bfrow9_col0\" class=\"data row9 col0\" >[[[190 179 170]\n",
       "  [182 179 167]\n",
       "  [193 179 173]\n",
       "  ..., \n",
       "  [ 31  45  54]\n",
       "  [ 35  47  56]\n",
       "  [ 32  43  55]]\n",
       "\n",
       " [[142 129 120]\n",
       "  [175 158 150]\n",
       "  [139 115 110]\n",
       "  ..., \n",
       "  [ 34  45  57]\n",
       "  [ 40  54  64]\n",
       "  [ 31  43  53]]\n",
       "\n",
       " [[184 178 168]\n",
       "  [ 95  82  72]\n",
       "  [148 118 113]\n",
       "  ..., \n",
       "  [ 30  43  55]\n",
       "  [ 35  47  59]\n",
       "  [ 35  46  60]]\n",
       "\n",
       " ..., \n",
       " [[114 120 122]\n",
       "  [129 133 132]\n",
       "  [143 143 141]\n",
       "  ..., \n",
       "  [155 149 141]\n",
       "  [171 167 159]\n",
       "  [163 156 148]]\n",
       "\n",
       " [[182 190 192]\n",
       "  [ 98 104 106]\n",
       "  [142 143 141]\n",
       "  ..., \n",
       "  [166 160 153]\n",
       "  [144 136 131]\n",
       "  [165 157 150]]\n",
       "\n",
       " [[210 215 215]\n",
       "  [205 213 215]\n",
       "  [ 53  60  62]\n",
       "  ..., \n",
       "  [154 149 143]\n",
       "  [163 156 149]\n",
       "  [184 176 171]]]</td> \n",
       "        <td id=\"T_9c34f134_2c25_11e8_93d0_c159740c32bfrow9_col1\" class=\"data row9 col1\" >1</td> \n",
       "        <td id=\"T_9c34f134_2c25_11e8_93d0_c159740c32bfrow9_col2\" class=\"data row9 col2\" >..\\datasets\\final\\D7\\c1\\20180219134209-Paper-8ec1afbbea993244.jpg</td> \n",
       "        <td id=\"T_9c34f134_2c25_11e8_93d0_c159740c32bfrow9_col3\" class=\"data row9 col3\" >D7</td> \n",
       "    </tr></tbody> \n",
       "</table> "
      ],
      "text/plain": [
       "<pandas.io.formats.style.Styler at 0x203009460b8>"
      ]
     },
     "execution_count": 6,
     "metadata": {},
     "output_type": "execute_result"
    }
   ],
   "source": [
    "dataset.sample(n=10)[[\"image\",\"label\",\"file\",\"dn\"]].style"
   ]
  },
  {
   "cell_type": "markdown",
   "metadata": {
    "slideshow": {
     "slide_type": "slide"
    }
   },
   "source": [
    "Optionally, we can quickly scroll through the images in our dataset."
   ]
  },
  {
   "cell_type": "code",
   "execution_count": 7,
   "metadata": {},
   "outputs": [
    {
     "data": {
      "text/plain": [
       "[]"
      ]
     },
     "execution_count": 7,
     "metadata": {},
     "output_type": "execute_result"
    }
   ],
   "source": [
    "viewer=skimage.viewer.CollectionViewer([r[1][\"image\"] for r in dataset.iterrows()])\n",
    "viewer.show()\n",
    "# Note: you have to close the window to continue"
   ]
  },
  {
   "cell_type": "markdown",
   "metadata": {
    "slideshow": {
     "slide_type": "slide"
    }
   },
   "source": [
    "## Step 3: Prepare training and testing sets\n",
    "\n",
    "How should we split training and testing data?  The code below implements a few options (run only one of the cells)."
   ]
  },
  {
   "cell_type": "code",
   "execution_count": 8,
   "metadata": {
    "collapsed": true
   },
   "outputs": [],
   "source": [
    "# Option one (hard): use all samples from dataset named \"testing\"\n",
    "# which contains some images taken in the same days as D1--D4, but not contained in these dirs.\n",
    "te_mask = dataset[\"dn\"]==\"testing\"\n",
    "dataset_te=dataset[te_mask]"
   ]
  },
  {
   "cell_type": "code",
   "execution_count": 9,
   "metadata": {
    "collapsed": true
   },
   "outputs": [],
   "source": [
    "# Option two (hard): test on all samples from one specific dataset\n",
    "te_mask = dataset[\"dn\"]==\"D2\"\n",
    "dataset_te=dataset[te_mask]"
   ]
  },
  {
   "cell_type": "code",
   "execution_count": 10,
   "metadata": {
    "collapsed": true,
    "slideshow": {
     "slide_type": "slide"
    }
   },
   "outputs": [],
   "source": [
    "# In any case, training samples are all other samples\n",
    "dataset_tr=dataset.loc[dataset.index.difference(dataset_te.index)]"
   ]
  },
  {
   "cell_type": "code",
   "execution_count": 11,
   "metadata": {
    "slideshow": {
     "slide_type": "slide"
    }
   },
   "outputs": [
    {
     "data": {
      "text/html": [
       "<div>\n",
       "<style>\n",
       "    .dataframe thead tr:only-child th {\n",
       "        text-align: right;\n",
       "    }\n",
       "\n",
       "    .dataframe thead th {\n",
       "        text-align: left;\n",
       "    }\n",
       "\n",
       "    .dataframe tbody tr th {\n",
       "        vertical-align: top;\n",
       "    }\n",
       "</style>\n",
       "<table border=\"1\" class=\"dataframe\">\n",
       "  <thead>\n",
       "    <tr style=\"text-align: right;\">\n",
       "      <th></th>\n",
       "      <th># Training images</th>\n",
       "      <th># Testing images</th>\n",
       "    </tr>\n",
       "    <tr>\n",
       "      <th>Class name</th>\n",
       "      <th></th>\n",
       "      <th></th>\n",
       "    </tr>\n",
       "  </thead>\n",
       "  <tbody>\n",
       "    <tr>\n",
       "      <th>rock</th>\n",
       "      <td>543</td>\n",
       "      <td>69</td>\n",
       "    </tr>\n",
       "    <tr>\n",
       "      <th>paper</th>\n",
       "      <td>504</td>\n",
       "      <td>71</td>\n",
       "    </tr>\n",
       "    <tr>\n",
       "      <th>scissors</th>\n",
       "      <td>578</td>\n",
       "      <td>63</td>\n",
       "    </tr>\n",
       "  </tbody>\n",
       "</table>\n",
       "</div>"
      ],
      "text/plain": [
       "            # Training images  # Testing images\n",
       "Class name                                     \n",
       "rock                      543                69\n",
       "paper                     504                71\n",
       "scissors                  578                63"
      ]
     },
     "execution_count": 11,
     "metadata": {},
     "output_type": "execute_result"
    }
   ],
   "source": [
    "# Print a summary of how many training and testing images we have sampled\n",
    "import collections\n",
    "pd.DataFrame(index=[0,1,2],data=collections.OrderedDict((\n",
    "    (\"Class name\",           names),\n",
    "    (\"# Training images\", dataset_tr[\"label\"].value_counts()),\n",
    "    (\"# Testing images\",  dataset_te[\"label\"].value_counts())))).set_index(\"Class name\")"
   ]
  },
  {
   "cell_type": "code",
   "execution_count": 12,
   "metadata": {
    "slideshow": {
     "slide_type": "slide"
    }
   },
   "outputs": [
    {
     "data": {
      "application/vnd.jupyter.widget-view+json": {
       "model_id": "2a710651b61641858738c0218f8e69ae"
      }
     },
     "metadata": {},
     "output_type": "display_data"
    },
    {
     "data": {
      "text/plain": [
       "<function __main__.imgplotList>"
      ]
     },
     "execution_count": 12,
     "metadata": {},
     "output_type": "execute_result"
    }
   ],
   "source": [
    "%matplotlib inline\n",
    "examples=list(dataset_te[\"image\"])\n",
    "interact(\n",
    "    imgplotList, \n",
    "    i=widgets.IntSlider(min=0,max=len(examples)-1, step=1, value=0,continuous_update=True), \n",
    "    data=fixed(examples))"
   ]
  },
  {
   "cell_type": "markdown",
   "metadata": {
    "slideshow": {
     "slide_type": "slide"
    }
   },
   "source": [
    "## Step 4: define what we feed to the Neural Network"
   ]
  },
  {
   "cell_type": "code",
   "execution_count": 13,
   "metadata": {
    "slideshow": {
     "slide_type": "-"
    }
   },
   "outputs": [
    {
     "name": "stdout",
     "output_type": "stream",
     "text": [
      "(200, 200, 3) uint8\n"
     ]
    }
   ],
   "source": [
    "im = dataset_tr.sample(1).iloc[0][\"image\"]\n",
    "print(im.shape, im.dtype)"
   ]
  },
  {
   "cell_type": "code",
   "execution_count": 14,
   "metadata": {
    "collapsed": true,
    "slideshow": {
     "slide_type": "slide"
    }
   },
   "outputs": [],
   "source": [
    "# Take image and resize to a specified size\n",
    "def transform_simple(im,sz):\n",
    "    with warnings.catch_warnings():\n",
    "        warnings.simplefilter(\"ignore\")\n",
    "        imr = skimage.transform.resize(im, (sz,sz))\n",
    "    return imr\n",
    "\n",
    "transform = transform_simple"
   ]
  },
  {
   "cell_type": "code",
   "execution_count": 15,
   "metadata": {
    "collapsed": true,
    "slideshow": {
     "slide_type": "slide"
    }
   },
   "outputs": [],
   "source": [
    "# Take image and resize to a specified size, after applying data augmentation\n",
    "def transform_complex(im,sz):\n",
    "    if(np.random.rand()<0.5):\n",
    "        im=np.fliplr(im)\n",
    "    with warnings.catch_warnings():\n",
    "        warnings.simplefilter(\"ignore\")\n",
    "        tf1 = skimage.transform.SimilarityTransform(scale = 1 / im.shape[0])\n",
    "        tf2 = skimage.transform.SimilarityTransform(translation=[-0.5, -0.5])\n",
    "        tf3 = skimage.transform.SimilarityTransform(rotation=np.deg2rad(np.random.uniform(0,360)))\n",
    "        tf4 = skimage.transform.SimilarityTransform(scale=np.random.uniform(1,1.6))\n",
    "        tf5 = skimage.transform.SimilarityTransform(translation=np.array([0.5, 0.5])+np.random.uniform(-0.1,0.1,size=2))\n",
    "        tf6 = skimage.transform.SimilarityTransform(scale=sz)\n",
    "        imr = skimage.transform.warp(im, (tf1+(tf2+(tf3+(tf4+(tf5+tf6))))).inverse, output_shape=(sz,sz),mode=\"edge\")\n",
    "        imr = imr*np.random.uniform(0.9,1.1,size=(1,1,3))\n",
    "        imr = np.clip(imr,0,1)\n",
    "    return imr\n",
    "\n",
    "transform = transform_complex"
   ]
  },
  {
   "cell_type": "code",
   "execution_count": 16,
   "metadata": {
    "slideshow": {
     "slide_type": "slide"
    }
   },
   "outputs": [
    {
     "data": {
      "application/vnd.jupyter.widget-view+json": {
       "model_id": "4f93f0d6471d4de68db6426e9c61c07a"
      }
     },
     "metadata": {},
     "output_type": "display_data"
    },
    {
     "data": {
      "image/png": "[encoded data removed]",
      "text/plain": [
       "<matplotlib.figure.Figure at 0x2030d3c81d0>"
      ]
     },
     "metadata": {},
     "output_type": "display_data"
    }
   ],
   "source": [
    "# The resolution challenge\n",
    "@interact(sz = widgets.IntSlider(min=2,max=100),\n",
    "          seed = widgets.IntSlider(min=0,max=100),\n",
    "          reveal = widgets.widgets.ToggleButton(value=False,description='Reveal'))\n",
    "def f(sz,seed,reveal):\n",
    "    fig,axs = plt.subplots(nrows = 2, ncols = 5,figsize=(6,3),dpi=150)\n",
    "    ims = dataset_tr.sample(len(axs.flatten()), random_state=sz*100+seed)\n",
    "    for ax,(_,row) in zip(axs.flatten(),ims.iterrows()):\n",
    "        ax.imshow(transform_simple(row[\"image\"],sz))\n",
    "        ax.axis(\"off\")\n",
    "        if(reveal):\n",
    "            ax.set_title(names[row[\"label\"]])\n",
    "    #fig.tight_layout()"
   ]
  },
  {
   "cell_type": "code",
   "execution_count": 17,
   "metadata": {
    "collapsed": true,
    "slideshow": {
     "slide_type": "slide"
    }
   },
   "outputs": [],
   "source": [
    "def sample(df,sz):\n",
    "    r=df.sample(n=1)\n",
    "    l=r[\"label\"].iloc[0]\n",
    "    im=r[\"image\"].iloc[0]\n",
    "    im=transform(im,sz)\n",
    "    return im,l\n",
    "\n",
    "def mkbatch(df,N,sz):\n",
    "    X = []\n",
    "    y = []\n",
    "    for i in range(N):\n",
    "        im,l=sample(df,sz)\n",
    "        X.append(im)\n",
    "        y.append(l)\n",
    "    X=np.array(X).astype('float32')\n",
    "    y=np.array(y)\n",
    "    y=keras.utils.np_utils.to_categorical(y,3)\n",
    "    return X,y\n",
    "\n",
    "def generator(df,batch_size,sz):\n",
    "    while True:\n",
    "        X,y = mkbatch(df,batch_size,sz)\n",
    "        yield (X,y)"
   ]
  },
  {
   "cell_type": "code",
   "execution_count": 18,
   "metadata": {
    "slideshow": {
     "slide_type": "slide"
    }
   },
   "outputs": [
    {
     "data": {
      "text/plain": [
       "array([[ 0.,  0.,  1.],\n",
       "       [ 0.,  1.,  0.],\n",
       "       [ 1.,  0.,  0.],\n",
       "       [ 0.,  1.,  0.],\n",
       "       [ 1.,  0.,  0.],\n",
       "       [ 1.,  0.,  0.],\n",
       "       [ 1.,  0.,  0.],\n",
       "       [ 0.,  0.,  1.],\n",
       "       [ 0.,  0.,  1.],\n",
       "       [ 0.,  1.,  0.],\n",
       "       [ 0.,  0.,  1.],\n",
       "       [ 0.,  1.,  0.],\n",
       "       [ 0.,  0.,  1.],\n",
       "       [ 0.,  1.,  0.],\n",
       "       [ 1.,  0.,  0.],\n",
       "       [ 1.,  0.,  0.],\n",
       "       [ 0.,  0.,  1.],\n",
       "       [ 0.,  0.,  1.],\n",
       "       [ 1.,  0.,  0.],\n",
       "       [ 0.,  0.,  1.]])"
      ]
     },
     "execution_count": 18,
     "metadata": {},
     "output_type": "execute_result"
    }
   ],
   "source": [
    "b = mkbatch(dataset_tr,20,32)\n",
    "b[1]"
   ]
  },
  {
   "cell_type": "code",
   "execution_count": 19,
   "metadata": {
    "slideshow": {
     "slide_type": "slide"
    }
   },
   "outputs": [
    {
     "data": {
      "application/vnd.jupyter.widget-view+json": {
       "model_id": "a3ab1cf88d4848bc8820510e697e11ae"
      }
     },
     "metadata": {},
     "output_type": "display_data"
    },
    {
     "data": {
      "text/plain": [
       "<function __main__.imgplotList>"
      ]
     },
     "execution_count": 19,
     "metadata": {},
     "output_type": "execute_result"
    }
   ],
   "source": [
    "# Visualize 100 images from our input dataset\n",
    "examples = list(mkbatch(dataset_tr,100,32)[0])\n",
    "interact(imgplotList, i=widgets.IntSlider(min=0, max=len(examples)-1, step=1, value=0,continuous_update=False), data=fixed(examples))"
   ]
  },
  {
   "cell_type": "code",
   "execution_count": 20,
   "metadata": {
    "scrolled": false,
    "slideshow": {
     "slide_type": "slide"
    }
   },
   "outputs": [
    {
     "data": {
      "application/vnd.jupyter.widget-view+json": {
       "model_id": "30f6e010a54846b4ad3727fbcde2cc18"
      }
     },
     "metadata": {},
     "output_type": "display_data"
    },
    {
     "data": {
      "text/plain": [
       "<function __main__.imgplotList>"
      ]
     },
     "execution_count": 20,
     "metadata": {},
     "output_type": "execute_result"
    }
   ],
   "source": [
    "# Visualize 100 variations from our first input image (makes sense only if transform==transform_complex, i.e. if we are using data augmentation)\n",
    "examples = list(mkbatch(dataset_tr.iloc[[0]],100,32)[0])\n",
    "interact(imgplotList, i=widgets.IntSlider(min=0, max=len(examples)-1, step=1, value=0,continuous_update=False), data=fixed(examples))"
   ]
  },
  {
   "cell_type": "markdown",
   "metadata": {
    "slideshow": {
     "slide_type": "slide"
    }
   },
   "source": [
    "## Step 5: build and train the neural network"
   ]
  },
  {
   "cell_type": "code",
   "execution_count": 21,
   "metadata": {
    "collapsed": true
   },
   "outputs": [],
   "source": [
    "# Keras: Deep Learning library for Theano and TensorFlow\n",
    "import keras\n",
    "from keras.utils  import np_utils\n",
    "from keras.models import Sequential\n",
    "from keras.layers import Dense, Activation, Flatten\n",
    "from keras.layers import Conv2D, MaxPooling2D, AveragePooling2D, Dropout\n",
    "\n",
    "# NN settings\n",
    "patchsize          = 32\n",
    "batch_size         = 32\n",
    "pool_size          = (2,2) # size of pooling area for max pooling\n",
    "kernel_size        = (3,3) # convolution kernel size\n",
    "\n",
    "def makeModel(nb_filters):\n",
    "    model = Sequential()\n",
    "    model.add(Conv2D(nb_filters, kernel_size, input_shape=(patchsize,patchsize,3), padding = \"same\"))\n",
    "    model.add(Activation('relu'))\n",
    "    model.add(MaxPooling2D(pool_size = pool_size))\n",
    "    model.add(Conv2D(nb_filters*2, kernel_size, padding = \"same\"))\n",
    "    model.add(Activation('relu'))\n",
    "    model.add(MaxPooling2D(pool_size = pool_size))\n",
    "    model.add(Conv2D(nb_filters*4, kernel_size, padding = \"same\"))\n",
    "    model.add(Activation('relu'))\n",
    "    model.add(MaxPooling2D(pool_size = pool_size))\n",
    "    model.add(AveragePooling2D(pool_size = pool_size))\n",
    "    model.add(Flatten())\n",
    "    model.add(Dense(128)) # generate a fully connected layer wiht 128 outputs (arbitrary value)\n",
    "    model.add(Activation('relu'))\n",
    "    model.add(Dropout(0.5))\n",
    "    model.add(Dense(3)) # output layer\n",
    "    model.add(Activation('softmax'))\n",
    "\n",
    "    ## compile! network\n",
    "    model.compile(loss='categorical_crossentropy',\n",
    "                  optimizer=\"adam\",\n",
    "                  metrics=['accuracy'])\n",
    "\n",
    "    return model"
   ]
  },
  {
   "cell_type": "code",
   "execution_count": 22,
   "metadata": {},
   "outputs": [
    {
     "name": "stdout",
     "output_type": "stream",
     "text": [
      "_________________________________________________________________\n",
      "Layer (type)                 Output Shape              Param #   \n",
      "=================================================================\n",
      "conv2d_1 (Conv2D)            (None, 32, 32, 128)       3584      \n",
      "_________________________________________________________________\n",
      "activation_1 (Activation)    (None, 32, 32, 128)       0         \n",
      "_________________________________________________________________\n",
      "max_pooling2d_1 (MaxPooling2 (None, 16, 16, 128)       0         \n",
      "_________________________________________________________________\n",
      "conv2d_2 (Conv2D)            (None, 16, 16, 256)       295168    \n",
      "_________________________________________________________________\n",
      "activation_2 (Activation)    (None, 16, 16, 256)       0         \n",
      "_________________________________________________________________\n",
      "max_pooling2d_2 (MaxPooling2 (None, 8, 8, 256)         0         \n",
      "_________________________________________________________________\n",
      "conv2d_3 (Conv2D)            (None, 8, 8, 512)         1180160   \n",
      "_________________________________________________________________\n",
      "activation_3 (Activation)    (None, 8, 8, 512)         0         \n",
      "_________________________________________________________________\n",
      "max_pooling2d_3 (MaxPooling2 (None, 4, 4, 512)         0         \n",
      "_________________________________________________________________\n",
      "average_pooling2d_1 (Average (None, 2, 2, 512)         0         \n",
      "_________________________________________________________________\n",
      "flatten_1 (Flatten)          (None, 2048)              0         \n",
      "_________________________________________________________________\n",
      "dense_1 (Dense)              (None, 128)               262272    \n",
      "_________________________________________________________________\n",
      "activation_4 (Activation)    (None, 128)               0         \n",
      "_________________________________________________________________\n",
      "dropout_1 (Dropout)          (None, 128)               0         \n",
      "_________________________________________________________________\n",
      "dense_2 (Dense)              (None, 3)                 387       \n",
      "_________________________________________________________________\n",
      "activation_5 (Activation)    (None, 3)                 0         \n",
      "=================================================================\n",
      "Total params: 1,741,571\n",
      "Trainable params: 1,741,571\n",
      "Non-trainable params: 0\n",
      "_________________________________________________________________\n"
     ]
    }
   ],
   "source": [
    "makeModel(128).summary()"
   ]
  },
  {
   "cell_type": "markdown",
   "metadata": {
    "slideshow": {
     "slide_type": "slide"
    }
   },
   "source": [
    "Build a set of 1000 testing instances taken from the testing dataset.\n",
    "\n",
    "Note: \"testing\" in this case is synonym with \"validation\" and \"evaluation\""
   ]
  },
  {
   "cell_type": "code",
   "execution_count": 23,
   "metadata": {
    "collapsed": true
   },
   "outputs": [],
   "source": [
    "(X_test,y_test) = mkbatch(dataset_te, 1000, patchsize)\n",
    "\n",
    "# Prepare the logs directory, if it does not exist\n",
    "(pathlib.Path(\".\")/\"logs\").mkdir(exist_ok=True)"
   ]
  },
  {
   "cell_type": "markdown",
   "metadata": {
    "slideshow": {
     "slide_type": "slide"
    }
   },
   "source": [
    "While the network trains, we can monitor training loss/accuracy and testing loss/accuracy using tensorboard at http://0.0.0.0:6006\n",
    "\n",
    "You may need to launch tensorboard first if it's not already running, by executing\n",
    "\n",
    "`tensorboard --logdir=logs`\n",
    "\n",
    "in a shell with the current working directory.  Check that you are within the proper conda environment, if applicable."
   ]
  },
  {
   "cell_type": "code",
   "execution_count": 24,
   "metadata": {},
   "outputs": [
    {
     "name": "stdout",
     "output_type": "stream",
     "text": [
      "Epoch 1/6\n",
      "50/50 [==============================] - ETA: 28s - loss: 1.0867 - acc: 0.40 - ETA: 20s - loss: 1.0940 - acc: 0.37 - ETA: 19s - loss: 1.0771 - acc: 0.41 - ETA: 18s - loss: 1.0865 - acc: 0.39 - ETA: 17s - loss: 1.0792 - acc: 0.42 - ETA: 16s - loss: 1.0821 - acc: 0.42 - ETA: 16s - loss: 1.0749 - acc: 0.42 - ETA: 15s - loss: 1.0898 - acc: 0.42 - ETA: 14s - loss: 1.0945 - acc: 0.41 - ETA: 14s - loss: 1.0989 - acc: 0.40 - ETA: 13s - loss: 1.0975 - acc: 0.40 - ETA: 13s - loss: 1.0945 - acc: 0.41 - ETA: 12s - loss: 1.0930 - acc: 0.41 - ETA: 12s - loss: 1.0936 - acc: 0.41 - ETA: 11s - loss: 1.0957 - acc: 0.40 - ETA: 11s - loss: 1.0958 - acc: 0.40 - ETA: 10s - loss: 1.0963 - acc: 0.40 - ETA: 10s - loss: 1.0973 - acc: 0.39 - ETA: 9s - loss: 1.0969 - acc: 0.3964 - ETA: 9s - loss: 1.0983 - acc: 0.389 - ETA: 8s - loss: 1.0991 - acc: 0.381 - ETA: 8s - loss: 1.0994 - acc: 0.369 - ETA: 7s - loss: 1.0991 - acc: 0.369 - ETA: 7s - loss: 1.0989 - acc: 0.365 - ETA: 7s - loss: 1.0991 - acc: 0.362 - ETA: 6s - loss: 1.0988 - acc: 0.365 - ETA: 6s - loss: 1.0987 - acc: 0.366 - ETA: 6s - loss: 1.0984 - acc: 0.367 - ETA: 5s - loss: 1.0984 - acc: 0.363 - ETA: 5s - loss: 1.0984 - acc: 0.360 - ETA: 5s - loss: 1.0985 - acc: 0.354 - ETA: 4s - loss: 1.0987 - acc: 0.353 - ETA: 4s - loss: 1.0987 - acc: 0.355 - ETA: 4s - loss: 1.0987 - acc: 0.352 - ETA: 3s - loss: 1.0986 - acc: 0.350 - ETA: 3s - loss: 1.0987 - acc: 0.349 - ETA: 3s - loss: 1.0988 - acc: 0.347 - ETA: 3s - loss: 1.0989 - acc: 0.344 - ETA: 2s - loss: 1.0989 - acc: 0.342 - ETA: 2s - loss: 1.0988 - acc: 0.345 - ETA: 2s - loss: 1.0988 - acc: 0.346 - ETA: 2s - loss: 1.0987 - acc: 0.346 - ETA: 1s - loss: 1.0986 - acc: 0.348 - ETA: 1s - loss: 1.0986 - acc: 0.347 - ETA: 1s - loss: 1.0986 - acc: 0.347 - ETA: 1s - loss: 1.0986 - acc: 0.347 - ETA: 0s - loss: 1.0986 - acc: 0.346 - ETA: 0s - loss: 1.0987 - acc: 0.344 - ETA: 0s - loss: 1.0988 - acc: 0.342 - 14s - loss: 1.0988 - acc: 0.3419 - val_loss: 1.0977 - val_acc: 0.3390\n",
      "Epoch 2/6\n",
      "50/50 [==============================] - ETA: 9s - loss: 1.0950 - acc: 0.375 - ETA: 8s - loss: 1.0974 - acc: 0.296 - ETA: 8s - loss: 1.0982 - acc: 0.333 - ETA: 8s - loss: 1.0974 - acc: 0.359 - ETA: 8s - loss: 1.0970 - acc: 0.356 - ETA: 8s - loss: 1.0979 - acc: 0.343 - ETA: 8s - loss: 1.0971 - acc: 0.357 - ETA: 8s - loss: 1.0972 - acc: 0.363 - ETA: 7s - loss: 1.0970 - acc: 0.361 - ETA: 7s - loss: 1.0972 - acc: 0.359 - ETA: 7s - loss: 1.0967 - acc: 0.355 - ETA: 7s - loss: 1.0969 - acc: 0.354 - ETA: 7s - loss: 1.0972 - acc: 0.348 - ETA: 7s - loss: 1.0973 - acc: 0.350 - ETA: 7s - loss: 1.0966 - acc: 0.364 - ETA: 7s - loss: 1.0968 - acc: 0.365 - ETA: 7s - loss: 1.0972 - acc: 0.365 - ETA: 7s - loss: 1.0968 - acc: 0.369 - ETA: 7s - loss: 1.0972 - acc: 0.365 - ETA: 7s - loss: 1.0977 - acc: 0.357 - ETA: 7s - loss: 1.0976 - acc: 0.357 - ETA: 6s - loss: 1.0978 - acc: 0.356 - ETA: 6s - loss: 1.0981 - acc: 0.351 - ETA: 6s - loss: 1.0986 - acc: 0.345 - ETA: 6s - loss: 1.0989 - acc: 0.340 - ETA: 5s - loss: 1.0990 - acc: 0.338 - ETA: 5s - loss: 1.0987 - acc: 0.341 - ETA: 5s - loss: 1.0987 - acc: 0.339 - ETA: 5s - loss: 1.0987 - acc: 0.341 - ETA: 4s - loss: 1.0985 - acc: 0.341 - ETA: 4s - loss: 1.0986 - acc: 0.342 - ETA: 4s - loss: 1.0987 - acc: 0.341 - ETA: 4s - loss: 1.0985 - acc: 0.340 - ETA: 4s - loss: 1.0985 - acc: 0.341 - ETA: 3s - loss: 1.0986 - acc: 0.340 - ETA: 3s - loss: 1.0983 - acc: 0.342 - ETA: 3s - loss: 1.0985 - acc: 0.339 - ETA: 3s - loss: 1.0984 - acc: 0.340 - ETA: 2s - loss: 1.0984 - acc: 0.339 - ETA: 2s - loss: 1.0983 - acc: 0.340 - ETA: 2s - loss: 1.0983 - acc: 0.342 - ETA: 2s - loss: 1.0985 - acc: 0.340 - ETA: 1s - loss: 1.0984 - acc: 0.342 - ETA: 1s - loss: 1.0985 - acc: 0.341 - ETA: 1s - loss: 1.0984 - acc: 0.343 - ETA: 1s - loss: 1.0983 - acc: 0.345 - ETA: 0s - loss: 1.0980 - acc: 0.347 - ETA: 0s - loss: 1.0980 - acc: 0.348 - ETA: 0s - loss: 1.0982 - acc: 0.345 - 15s - loss: 1.0982 - acc: 0.3444 - val_loss: 1.0984 - val_acc: 0.3330\n",
      "Epoch 3/6\n",
      "50/50 [==============================] - ETA: 8s - loss: 1.1166 - acc: 0.250 - ETA: 10s - loss: 1.1025 - acc: 0.34 - ETA: 10s - loss: 1.1025 - acc: 0.33 - ETA: 10s - loss: 1.1037 - acc: 0.32 - ETA: 10s - loss: 1.1007 - acc: 0.34 - ETA: 9s - loss: 1.1003 - acc: 0.3385 - ETA: 9s - loss: 1.1001 - acc: 0.334 - ETA: 9s - loss: 1.1001 - acc: 0.339 - ETA: 9s - loss: 1.0984 - acc: 0.347 - ETA: 8s - loss: 1.0982 - acc: 0.350 - ETA: 8s - loss: 1.1002 - acc: 0.329 - ETA: 8s - loss: 1.0999 - acc: 0.333 - ETA: 8s - loss: 1.0997 - acc: 0.336 - ETA: 8s - loss: 1.0997 - acc: 0.339 - ETA: 7s - loss: 1.0998 - acc: 0.341 - ETA: 7s - loss: 1.0998 - acc: 0.341 - ETA: 7s - loss: 1.0998 - acc: 0.336 - ETA: 7s - loss: 1.0992 - acc: 0.343 - ETA: 7s - loss: 1.0991 - acc: 0.342 - ETA: 7s - loss: 1.0993 - acc: 0.337 - ETA: 7s - loss: 1.0989 - acc: 0.340 - ETA: 6s - loss: 1.0989 - acc: 0.343 - ETA: 6s - loss: 1.0986 - acc: 0.345 - ETA: 6s - loss: 1.0986 - acc: 0.342 - ETA: 6s - loss: 1.0983 - acc: 0.342 - ETA: 5s - loss: 1.0982 - acc: 0.342 - ETA: 5s - loss: 1.0979 - acc: 0.340 - ETA: 5s - loss: 1.0979 - acc: 0.341 - ETA: 4s - loss: 1.0974 - acc: 0.345 - ETA: 4s - loss: 1.0976 - acc: 0.344 - ETA: 4s - loss: 1.0977 - acc: 0.346 - ETA: 4s - loss: 1.0974 - acc: 0.347 - ETA: 3s - loss: 1.0975 - acc: 0.346 - ETA: 3s - loss: 1.0975 - acc: 0.346 - ETA: 3s - loss: 1.0969 - acc: 0.350 - ETA: 3s - loss: 1.0972 - acc: 0.347 - ETA: 3s - loss: 1.0973 - acc: 0.345 - ETA: 2s - loss: 1.0974 - acc: 0.347 - ETA: 2s - loss: 1.0982 - acc: 0.349 - ETA: 2s - loss: 1.0980 - acc: 0.350 - ETA: 2s - loss: 1.0978 - acc: 0.350 - ETA: 1s - loss: 1.0971 - acc: 0.354 - ETA: 1s - loss: 1.0984 - acc: 0.351 - ETA: 1s - loss: 1.0980 - acc: 0.350 - ETA: 1s - loss: 1.0971 - acc: 0.355 - ETA: 0s - loss: 1.0973 - acc: 0.356 - ETA: 0s - loss: 1.0976 - acc: 0.355 - ETA: 0s - loss: 1.0968 - acc: 0.357 - ETA: 0s - loss: 1.0967 - acc: 0.355 - 13s - loss: 1.0966 - acc: 0.3563 - val_loss: 1.1032 - val_acc: 0.3330\n",
      "Epoch 4/6\n",
      "50/50 [==============================] - ETA: 8s - loss: 1.1027 - acc: 0.281 - ETA: 7s - loss: 1.0944 - acc: 0.343 - ETA: 8s - loss: 1.0983 - acc: 0.322 - ETA: 7s - loss: 1.1010 - acc: 0.335 - ETA: 7s - loss: 1.1049 - acc: 0.306 - ETA: 7s - loss: 1.0982 - acc: 0.328 - ETA: 7s - loss: 1.0980 - acc: 0.321 - ETA: 6s - loss: 1.0990 - acc: 0.312 - ETA: 6s - loss: 1.0982 - acc: 0.309 - ETA: 6s - loss: 1.0980 - acc: 0.321 - ETA: 6s - loss: 1.0987 - acc: 0.326 - ETA: 6s - loss: 1.0975 - acc: 0.328 - ETA: 6s - loss: 1.0977 - acc: 0.334 - ETA: 6s - loss: 1.0986 - acc: 0.321 - ETA: 5s - loss: 1.0985 - acc: 0.322 - ETA: 5s - loss: 1.0988 - acc: 0.314 - ETA: 5s - loss: 1.0985 - acc: 0.319 - ETA: 5s - loss: 1.0984 - acc: 0.319 - ETA: 5s - loss: 1.0977 - acc: 0.328 - ETA: 5s - loss: 1.0977 - acc: 0.331 - ETA: 5s - loss: 1.0968 - acc: 0.342 - ETA: 4s - loss: 1.0971 - acc: 0.339 - ETA: 4s - loss: 1.0963 - acc: 0.349 - ETA: 4s - loss: 1.0963 - acc: 0.350 - ETA: 4s - loss: 1.0960 - acc: 0.347 - ETA: 4s - loss: 1.0958 - acc: 0.348 - ETA: 4s - loss: 1.0965 - acc: 0.341 - ETA: 4s - loss: 1.0962 - acc: 0.346 - ETA: 4s - loss: 1.0964 - acc: 0.345 - ETA: 3s - loss: 1.0973 - acc: 0.343 - ETA: 3s - loss: 1.0969 - acc: 0.345 - ETA: 3s - loss: 1.0969 - acc: 0.346 - ETA: 3s - loss: 1.0966 - acc: 0.347 - ETA: 3s - loss: 1.0967 - acc: 0.347 - ETA: 3s - loss: 1.0966 - acc: 0.349 - ETA: 2s - loss: 1.0967 - acc: 0.344 - ETA: 2s - loss: 1.0964 - acc: 0.342 - ETA: 2s - loss: 1.0963 - acc: 0.343 - ETA: 2s - loss: 1.0963 - acc: 0.342 - ETA: 2s - loss: 1.0968 - acc: 0.343 - ETA: 1s - loss: 1.0961 - acc: 0.346 - ETA: 1s - loss: 1.0956 - acc: 0.347 - ETA: 1s - loss: 1.0956 - acc: 0.348 - ETA: 1s - loss: 1.0958 - acc: 0.346 - ETA: 1s - loss: 1.0959 - acc: 0.345 - ETA: 0s - loss: 1.0961 - acc: 0.343 - ETA: 0s - loss: 1.0960 - acc: 0.342 - ETA: 0s - loss: 1.0958 - acc: 0.345 - ETA: 0s - loss: 1.0957 - acc: 0.344 - 11s - loss: 1.0956 - acc: 0.3444 - val_loss: 1.0951 - val_acc: 0.3540\n",
      "Epoch 5/6\n"
     ]
    },
    {
     "name": "stdout",
     "output_type": "stream",
     "text": [
      "50/50 [==============================] - ETA: 7s - loss: 1.0996 - acc: 0.312 - ETA: 8s - loss: 1.1075 - acc: 0.296 - ETA: 7s - loss: 1.1000 - acc: 0.270 - ETA: 7s - loss: 1.0992 - acc: 0.289 - ETA: 7s - loss: 1.0913 - acc: 0.331 - ETA: 7s - loss: 1.0904 - acc: 0.343 - ETA: 6s - loss: 1.0854 - acc: 0.361 - ETA: 6s - loss: 1.0812 - acc: 0.351 - ETA: 6s - loss: 1.0785 - acc: 0.357 - ETA: 6s - loss: 1.0798 - acc: 0.359 - ETA: 6s - loss: 1.0872 - acc: 0.366 - ETA: 6s - loss: 1.0967 - acc: 0.359 - ETA: 6s - loss: 1.0939 - acc: 0.358 - ETA: 5s - loss: 1.0927 - acc: 0.377 - ETA: 5s - loss: 1.0946 - acc: 0.364 - ETA: 5s - loss: 1.0938 - acc: 0.371 - ETA: 5s - loss: 1.0939 - acc: 0.369 - ETA: 5s - loss: 1.0947 - acc: 0.364 - ETA: 5s - loss: 1.0940 - acc: 0.370 - ETA: 5s - loss: 1.0949 - acc: 0.359 - ETA: 4s - loss: 1.0951 - acc: 0.354 - ETA: 4s - loss: 1.0951 - acc: 0.352 - ETA: 4s - loss: 1.0954 - acc: 0.347 - ETA: 4s - loss: 1.0953 - acc: 0.349 - ETA: 4s - loss: 1.0956 - acc: 0.348 - ETA: 4s - loss: 1.0954 - acc: 0.351 - ETA: 4s - loss: 1.0950 - acc: 0.356 - ETA: 4s - loss: 1.0954 - acc: 0.352 - ETA: 3s - loss: 1.0951 - acc: 0.353 - ETA: 3s - loss: 1.0954 - acc: 0.350 - ETA: 3s - loss: 1.0953 - acc: 0.345 - ETA: 3s - loss: 1.0951 - acc: 0.345 - ETA: 3s - loss: 1.0948 - acc: 0.345 - ETA: 2s - loss: 1.0951 - acc: 0.343 - ETA: 2s - loss: 1.0951 - acc: 0.344 - ETA: 2s - loss: 1.0951 - acc: 0.345 - ETA: 2s - loss: 1.0950 - acc: 0.345 - ETA: 2s - loss: 1.0948 - acc: 0.345 - ETA: 2s - loss: 1.0951 - acc: 0.347 - ETA: 1s - loss: 1.0951 - acc: 0.345 - ETA: 1s - loss: 1.0953 - acc: 0.343 - ETA: 1s - loss: 1.0947 - acc: 0.346 - ETA: 1s - loss: 1.0954 - acc: 0.343 - ETA: 1s - loss: 1.0959 - acc: 0.345 - ETA: 0s - loss: 1.0959 - acc: 0.347 - ETA: 0s - loss: 1.0960 - acc: 0.347 - ETA: 0s - loss: 1.0955 - acc: 0.347 - ETA: 0s - loss: 1.0956 - acc: 0.347 - ETA: 0s - loss: 1.0960 - acc: 0.346 - 11s - loss: 1.0955 - acc: 0.3488 - val_loss: 1.0995 - val_acc: 0.3330\n",
      "Epoch 6/6\n",
      "50/50 [==============================] - ETA: 8s - loss: 1.1008 - acc: 0.437 - ETA: 8s - loss: 1.0977 - acc: 0.359 - ETA: 8s - loss: 1.0994 - acc: 0.395 - ETA: 7s - loss: 1.1018 - acc: 0.390 - ETA: 7s - loss: 1.1022 - acc: 0.356 - ETA: 7s - loss: 1.0984 - acc: 0.375 - ETA: 7s - loss: 1.0977 - acc: 0.388 - ETA: 7s - loss: 1.0962 - acc: 0.402 - ETA: 6s - loss: 1.0973 - acc: 0.378 - ETA: 6s - loss: 1.0978 - acc: 0.378 - ETA: 6s - loss: 1.0978 - acc: 0.377 - ETA: 6s - loss: 1.0971 - acc: 0.375 - ETA: 6s - loss: 1.0965 - acc: 0.375 - ETA: 6s - loss: 1.0950 - acc: 0.377 - ETA: 5s - loss: 1.0946 - acc: 0.377 - ETA: 5s - loss: 1.0929 - acc: 0.378 - ETA: 5s - loss: 1.0918 - acc: 0.378 - ETA: 5s - loss: 1.0907 - acc: 0.375 - ETA: 5s - loss: 1.0932 - acc: 0.373 - ETA: 5s - loss: 1.0911 - acc: 0.370 - ETA: 5s - loss: 1.0916 - acc: 0.369 - ETA: 4s - loss: 1.0906 - acc: 0.370 - ETA: 4s - loss: 1.0934 - acc: 0.369 - ETA: 4s - loss: 1.0927 - acc: 0.371 - ETA: 4s - loss: 1.0911 - acc: 0.375 - ETA: 4s - loss: 1.0922 - acc: 0.373 - ETA: 4s - loss: 1.0931 - acc: 0.372 - ETA: 4s - loss: 1.0942 - acc: 0.368 - ETA: 3s - loss: 1.0937 - acc: 0.371 - ETA: 3s - loss: 1.0945 - acc: 0.370 - ETA: 3s - loss: 1.0935 - acc: 0.374 - ETA: 3s - loss: 1.0934 - acc: 0.373 - ETA: 3s - loss: 1.0928 - acc: 0.372 - ETA: 3s - loss: 1.0941 - acc: 0.362 - ETA: 2s - loss: 1.0941 - acc: 0.360 - ETA: 2s - loss: 1.0938 - acc: 0.365 - ETA: 2s - loss: 1.0929 - acc: 0.368 - ETA: 2s - loss: 1.0935 - acc: 0.366 - ETA: 2s - loss: 1.0938 - acc: 0.363 - ETA: 1s - loss: 1.0937 - acc: 0.363 - ETA: 1s - loss: 1.0939 - acc: 0.362 - ETA: 1s - loss: 1.0948 - acc: 0.359 - ETA: 1s - loss: 1.0946 - acc: 0.361 - ETA: 1s - loss: 1.0945 - acc: 0.365 - ETA: 0s - loss: 1.0949 - acc: 0.363 - ETA: 0s - loss: 1.0949 - acc: 0.365 - ETA: 0s - loss: 1.0946 - acc: 0.367 - ETA: 0s - loss: 1.0943 - acc: 0.369 - ETA: 0s - loss: 1.0943 - acc: 0.368 - 11s - loss: 1.0930 - acc: 0.3700 - val_loss: 1.0934 - val_acc: 0.3560\n"
     ]
    }
   ],
   "source": [
    "modelid = time.strftime(\"%Y%m%d%H%M%S\")\n",
    "\n",
    "callbacks_list = [\n",
    "    keras.callbacks.EarlyStopping(\n",
    "        monitor='val_acc',\n",
    "        patience=50),\n",
    "    keras.callbacks.ModelCheckpoint(\n",
    "        filepath='model_checkpoint_best_{}.h5'.format(modelid),\n",
    "        monitor='val_loss',\n",
    "        save_best_only=True),\n",
    "    keras.callbacks.TensorBoard(\n",
    "        log_dir='./logs/'+modelid,\n",
    "        histogram_freq=0, write_graph=False, write_images=False)\n",
    "]\n",
    "\n",
    "model = makeModel(32)\n",
    "history=model.fit_generator(\n",
    "                    generator(dataset_tr, batch_size, patchsize),\n",
    "                    steps_per_epoch=50, \n",
    "                    epochs=6, \n",
    "                    verbose=1,\n",
    "                    validation_data=(X_test,y_test),\n",
    "                    callbacks=callbacks_list)"
   ]
  },
  {
   "cell_type": "markdown",
   "metadata": {
    "slideshow": {
     "slide_type": "slide"
    }
   },
   "source": [
    "After training our model, we can save it to disk"
   ]
  },
  {
   "cell_type": "code",
   "execution_count": 25,
   "metadata": {
    "collapsed": true
   },
   "outputs": [],
   "source": [
    "modelname = \"input32\"\n",
    "\n",
    "# Save model to a file\n",
    "keras.models.save_model(model,\"{}.model\".format(modelname))\n",
    "\n",
    "# Also save the testing dataset (may be large) so we can pick up from here later \n",
    "dataset_te.to_pickle(\"{}.testingdata.pickle\".format(modelname))"
   ]
  },
  {
   "cell_type": "markdown",
   "metadata": {
    "slideshow": {
     "slide_type": "slide"
    }
   },
   "source": [
    "If you have time and want to experiment, you may train many networks exploring the parameter space"
   ]
  },
  {
   "cell_type": "code",
   "execution_count": 26,
   "metadata": {},
   "outputs": [
    {
     "name": "stdout",
     "output_type": "stream",
     "text": [
      "_________________________________________________________________\n",
      "Layer (type)                 Output Shape              Param #   \n",
      "=================================================================\n",
      "conv2d_7 (Conv2D)            (None, 32, 32, 1)         28        \n",
      "_________________________________________________________________\n",
      "activation_11 (Activation)   (None, 32, 32, 1)         0         \n",
      "_________________________________________________________________\n",
      "max_pooling2d_7 (MaxPooling2 (None, 16, 16, 1)         0         \n",
      "_________________________________________________________________\n",
      "conv2d_8 (Conv2D)            (None, 16, 16, 2)         20        \n",
      "_________________________________________________________________\n",
      "activation_12 (Activation)   (None, 16, 16, 2)         0         \n",
      "_________________________________________________________________\n",
      "max_pooling2d_8 (MaxPooling2 (None, 8, 8, 2)           0         \n",
      "_________________________________________________________________\n",
      "conv2d_9 (Conv2D)            (None, 8, 8, 4)           76        \n",
      "_________________________________________________________________\n",
      "activation_13 (Activation)   (None, 8, 8, 4)           0         \n",
      "_________________________________________________________________\n",
      "max_pooling2d_9 (MaxPooling2 (None, 4, 4, 4)           0         \n",
      "_________________________________________________________________\n",
      "average_pooling2d_3 (Average (None, 2, 2, 4)           0         \n",
      "_________________________________________________________________\n",
      "flatten_3 (Flatten)          (None, 16)                0         \n",
      "_________________________________________________________________\n",
      "dense_5 (Dense)              (None, 128)               2176      \n",
      "_________________________________________________________________\n",
      "activation_14 (Activation)   (None, 128)               0         \n",
      "_________________________________________________________________\n",
      "dropout_3 (Dropout)          (None, 128)               0         \n",
      "_________________________________________________________________\n",
      "dense_6 (Dense)              (None, 3)                 387       \n",
      "_________________________________________________________________\n",
      "activation_15 (Activation)   (None, 3)                 0         \n",
      "=================================================================\n",
      "Total params: 2,687\n",
      "Trainable params: 2,687\n",
      "Non-trainable params: 0\n",
      "_________________________________________________________________\n",
      "None\n",
      "2687\n",
      "Epoch 1/1\n",
      "50/50 [==============================] - ETA: 12s - loss: 1.0961 - acc: 0.34 - ETA: 8s - loss: 1.0933 - acc: 0.3594 - ETA: 8s - loss: 1.0984 - acc: 0.333 - ETA: 8s - loss: 1.0993 - acc: 0.328 - ETA: 8s - loss: 1.0976 - acc: 0.350 - ETA: 8s - loss: 1.0976 - acc: 0.333 - ETA: 7s - loss: 1.0982 - acc: 0.321 - ETA: 7s - loss: 1.0974 - acc: 0.351 - ETA: 7s - loss: 1.0975 - acc: 0.347 - ETA: 7s - loss: 1.0975 - acc: 0.356 - ETA: 7s - loss: 1.0970 - acc: 0.363 - ETA: 6s - loss: 1.0973 - acc: 0.359 - ETA: 6s - loss: 1.0974 - acc: 0.358 - ETA: 6s - loss: 1.0974 - acc: 0.363 - ETA: 6s - loss: 1.0974 - acc: 0.360 - ETA: 6s - loss: 1.0971 - acc: 0.363 - ETA: 5s - loss: 1.0971 - acc: 0.364 - ETA: 5s - loss: 1.0974 - acc: 0.361 - ETA: 5s - loss: 1.0976 - acc: 0.356 - ETA: 5s - loss: 1.0975 - acc: 0.357 - ETA: 5s - loss: 1.0978 - acc: 0.357 - ETA: 4s - loss: 1.0977 - acc: 0.356 - ETA: 4s - loss: 1.0980 - acc: 0.353 - ETA: 4s - loss: 1.0984 - acc: 0.351 - ETA: 4s - loss: 1.0978 - acc: 0.357 - ETA: 3s - loss: 1.0979 - acc: 0.355 - ETA: 3s - loss: 1.0975 - acc: 0.358 - ETA: 3s - loss: 1.0976 - acc: 0.357 - ETA: 3s - loss: 1.0972 - acc: 0.359 - ETA: 3s - loss: 1.0970 - acc: 0.359 - ETA: 3s - loss: 1.0971 - acc: 0.356 - ETA: 2s - loss: 1.0965 - acc: 0.362 - ETA: 2s - loss: 1.0969 - acc: 0.358 - ETA: 2s - loss: 1.0967 - acc: 0.361 - ETA: 2s - loss: 1.0964 - acc: 0.364 - ETA: 2s - loss: 1.0961 - acc: 0.366 - ETA: 2s - loss: 1.0964 - acc: 0.365 - ETA: 1s - loss: 1.0967 - acc: 0.362 - ETA: 1s - loss: 1.0969 - acc: 0.363 - ETA: 1s - loss: 1.0971 - acc: 0.361 - ETA: 1s - loss: 1.0970 - acc: 0.362 - ETA: 1s - loss: 1.0972 - acc: 0.362 - ETA: 1s - loss: 1.0971 - acc: 0.361 - ETA: 0s - loss: 1.0967 - acc: 0.365 - ETA: 0s - loss: 1.0964 - acc: 0.366 - ETA: 0s - loss: 1.0963 - acc: 0.366 - ETA: 0s - loss: 1.0968 - acc: 0.363 - ETA: 0s - loss: 1.0969 - acc: 0.363 - ETA: 0s - loss: 1.0967 - acc: 0.366 - 8s - loss: 1.0968 - acc: 0.3644 - val_loss: 1.0981 - val_acc: 0.3330\n",
      "_________________________________________________________________\n",
      "Layer (type)                 Output Shape              Param #   \n",
      "=================================================================\n",
      "conv2d_10 (Conv2D)           (None, 32, 32, 2)         56        \n",
      "_________________________________________________________________\n",
      "activation_16 (Activation)   (None, 32, 32, 2)         0         \n",
      "_________________________________________________________________\n",
      "max_pooling2d_10 (MaxPooling (None, 16, 16, 2)         0         \n",
      "_________________________________________________________________\n",
      "conv2d_11 (Conv2D)           (None, 16, 16, 4)         76        \n",
      "_________________________________________________________________\n",
      "activation_17 (Activation)   (None, 16, 16, 4)         0         \n",
      "_________________________________________________________________\n",
      "max_pooling2d_11 (MaxPooling (None, 8, 8, 4)           0         \n",
      "_________________________________________________________________\n",
      "conv2d_12 (Conv2D)           (None, 8, 8, 8)           296       \n",
      "_________________________________________________________________\n",
      "activation_18 (Activation)   (None, 8, 8, 8)           0         \n",
      "_________________________________________________________________\n",
      "max_pooling2d_12 (MaxPooling (None, 4, 4, 8)           0         \n",
      "_________________________________________________________________\n",
      "average_pooling2d_4 (Average (None, 2, 2, 8)           0         \n",
      "_________________________________________________________________\n",
      "flatten_4 (Flatten)          (None, 32)                0         \n",
      "_________________________________________________________________\n",
      "dense_7 (Dense)              (None, 128)               4224      \n",
      "_________________________________________________________________\n",
      "activation_19 (Activation)   (None, 128)               0         \n",
      "_________________________________________________________________\n",
      "dropout_4 (Dropout)          (None, 128)               0         \n",
      "_________________________________________________________________\n",
      "dense_8 (Dense)              (None, 3)                 387       \n",
      "_________________________________________________________________\n",
      "activation_20 (Activation)   (None, 3)                 0         \n",
      "=================================================================\n",
      "Total params: 5,039\n",
      "Trainable params: 5,039\n",
      "Non-trainable params: 0\n",
      "_________________________________________________________________\n",
      "None\n",
      "5039\n",
      "Epoch 1/1\n"
     ]
    },
    {
     "name": "stdout",
     "output_type": "stream",
     "text": [
      "50/50 [==============================] - ETA: 13s - loss: 1.0989 - acc: 0.37 - ETA: 8s - loss: 1.1039 - acc: 0.3281 - ETA: 8s - loss: 1.1032 - acc: 0.302 - ETA: 8s - loss: 1.1018 - acc: 0.335 - ETA: 7s - loss: 1.1012 - acc: 0.343 - ETA: 7s - loss: 1.1009 - acc: 0.333 - ETA: 6s - loss: 1.0997 - acc: 0.343 - ETA: 6s - loss: 1.0990 - acc: 0.343 - ETA: 6s - loss: 1.0988 - acc: 0.343 - ETA: 6s - loss: 1.0986 - acc: 0.340 - ETA: 6s - loss: 1.0991 - acc: 0.326 - ETA: 5s - loss: 1.0995 - acc: 0.315 - ETA: 5s - loss: 1.0997 - acc: 0.302 - ETA: 5s - loss: 1.0998 - acc: 0.305 - ETA: 5s - loss: 1.0998 - acc: 0.310 - ETA: 5s - loss: 1.0998 - acc: 0.310 - ETA: 5s - loss: 1.0995 - acc: 0.316 - ETA: 5s - loss: 1.0994 - acc: 0.321 - ETA: 5s - loss: 1.0996 - acc: 0.324 - ETA: 5s - loss: 1.0992 - acc: 0.331 - ETA: 4s - loss: 1.0993 - acc: 0.322 - ETA: 4s - loss: 1.0993 - acc: 0.322 - ETA: 4s - loss: 1.0994 - acc: 0.319 - ETA: 4s - loss: 1.0995 - acc: 0.313 - ETA: 4s - loss: 1.0997 - acc: 0.312 - ETA: 4s - loss: 1.0997 - acc: 0.310 - ETA: 3s - loss: 1.0996 - acc: 0.307 - ETA: 3s - loss: 1.0996 - acc: 0.306 - ETA: 3s - loss: 1.0997 - acc: 0.305 - ETA: 3s - loss: 1.0997 - acc: 0.303 - ETA: 3s - loss: 1.0995 - acc: 0.310 - ETA: 3s - loss: 1.0994 - acc: 0.313 - ETA: 3s - loss: 1.0994 - acc: 0.314 - ETA: 2s - loss: 1.0994 - acc: 0.313 - ETA: 2s - loss: 1.0993 - acc: 0.317 - ETA: 2s - loss: 1.0991 - acc: 0.318 - ETA: 2s - loss: 1.0990 - acc: 0.321 - ETA: 2s - loss: 1.0989 - acc: 0.322 - ETA: 1s - loss: 1.0989 - acc: 0.319 - ETA: 1s - loss: 1.0988 - acc: 0.321 - ETA: 1s - loss: 1.0988 - acc: 0.326 - ETA: 1s - loss: 1.0988 - acc: 0.325 - ETA: 1s - loss: 1.0988 - acc: 0.324 - ETA: 1s - loss: 1.0988 - acc: 0.322 - ETA: 0s - loss: 1.0989 - acc: 0.322 - ETA: 0s - loss: 1.0989 - acc: 0.322 - ETA: 0s - loss: 1.0990 - acc: 0.321 - ETA: 0s - loss: 1.0990 - acc: 0.320 - ETA: 0s - loss: 1.0987 - acc: 0.325 - 9s - loss: 1.0987 - acc: 0.3256 - val_loss: 1.0988 - val_acc: 0.3330\n",
      "_________________________________________________________________\n",
      "Layer (type)                 Output Shape              Param #   \n",
      "=================================================================\n",
      "conv2d_13 (Conv2D)           (None, 32, 32, 4)         112       \n",
      "_________________________________________________________________\n",
      "activation_21 (Activation)   (None, 32, 32, 4)         0         \n",
      "_________________________________________________________________\n",
      "max_pooling2d_13 (MaxPooling (None, 16, 16, 4)         0         \n",
      "_________________________________________________________________\n",
      "conv2d_14 (Conv2D)           (None, 16, 16, 8)         296       \n",
      "_________________________________________________________________\n",
      "activation_22 (Activation)   (None, 16, 16, 8)         0         \n",
      "_________________________________________________________________\n",
      "max_pooling2d_14 (MaxPooling (None, 8, 8, 8)           0         \n",
      "_________________________________________________________________\n",
      "conv2d_15 (Conv2D)           (None, 8, 8, 16)          1168      \n",
      "_________________________________________________________________\n",
      "activation_23 (Activation)   (None, 8, 8, 16)          0         \n",
      "_________________________________________________________________\n",
      "max_pooling2d_15 (MaxPooling (None, 4, 4, 16)          0         \n",
      "_________________________________________________________________\n",
      "average_pooling2d_5 (Average (None, 2, 2, 16)          0         \n",
      "_________________________________________________________________\n",
      "flatten_5 (Flatten)          (None, 64)                0         \n",
      "_________________________________________________________________\n",
      "dense_9 (Dense)              (None, 128)               8320      \n",
      "_________________________________________________________________\n",
      "activation_24 (Activation)   (None, 128)               0         \n",
      "_________________________________________________________________\n",
      "dropout_5 (Dropout)          (None, 128)               0         \n",
      "_________________________________________________________________\n",
      "dense_10 (Dense)             (None, 3)                 387       \n",
      "_________________________________________________________________\n",
      "activation_25 (Activation)   (None, 3)                 0         \n",
      "=================================================================\n",
      "Total params: 10,283\n",
      "Trainable params: 10,283\n",
      "Non-trainable params: 0\n",
      "_________________________________________________________________\n",
      "None\n",
      "10283\n",
      "Epoch 1/1\n",
      "50/50 [==============================] - ETA: 8s - loss: 1.0860 - acc: 0.437 - ETA: 5s - loss: 1.0985 - acc: 0.406 - ETA: 5s - loss: 1.0997 - acc: 0.406 - ETA: 5s - loss: 1.0924 - acc: 0.406 - ETA: 5s - loss: 1.0951 - acc: 0.387 - ETA: 5s - loss: 1.0954 - acc: 0.375 - ETA: 5s - loss: 1.1023 - acc: 0.361 - ETA: 4s - loss: 1.1039 - acc: 0.355 - ETA: 4s - loss: 1.1045 - acc: 0.354 - ETA: 4s - loss: 1.1019 - acc: 0.359 - ETA: 4s - loss: 1.1018 - acc: 0.358 - ETA: 4s - loss: 1.1033 - acc: 0.354 - ETA: 4s - loss: 1.1014 - acc: 0.351 - ETA: 4s - loss: 1.1010 - acc: 0.352 - ETA: 4s - loss: 1.0996 - acc: 0.358 - ETA: 4s - loss: 1.1014 - acc: 0.353 - ETA: 3s - loss: 1.1006 - acc: 0.358 - ETA: 3s - loss: 1.1012 - acc: 0.354 - ETA: 3s - loss: 1.1017 - acc: 0.348 - ETA: 3s - loss: 1.1015 - acc: 0.346 - ETA: 3s - loss: 1.1013 - acc: 0.346 - ETA: 3s - loss: 1.1020 - acc: 0.342 - ETA: 3s - loss: 1.1018 - acc: 0.341 - ETA: 3s - loss: 1.1014 - acc: 0.341 - ETA: 3s - loss: 1.1016 - acc: 0.340 - ETA: 2s - loss: 1.1009 - acc: 0.345 - ETA: 2s - loss: 1.1017 - acc: 0.335 - ETA: 2s - loss: 1.1017 - acc: 0.335 - ETA: 2s - loss: 1.1015 - acc: 0.338 - ETA: 2s - loss: 1.1014 - acc: 0.336 - ETA: 2s - loss: 1.1013 - acc: 0.337 - ETA: 2s - loss: 1.1013 - acc: 0.335 - ETA: 2s - loss: 1.1012 - acc: 0.340 - ETA: 1s - loss: 1.1010 - acc: 0.341 - ETA: 1s - loss: 1.1008 - acc: 0.344 - ETA: 1s - loss: 1.1009 - acc: 0.344 - ETA: 1s - loss: 1.1010 - acc: 0.341 - ETA: 1s - loss: 1.1009 - acc: 0.342 - ETA: 1s - loss: 1.1008 - acc: 0.344 - ETA: 1s - loss: 1.1010 - acc: 0.341 - ETA: 1s - loss: 1.1009 - acc: 0.341 - ETA: 0s - loss: 1.1009 - acc: 0.340 - ETA: 0s - loss: 1.1008 - acc: 0.341 - ETA: 0s - loss: 1.1009 - acc: 0.340 - ETA: 0s - loss: 1.1008 - acc: 0.341 - ETA: 0s - loss: 1.1006 - acc: 0.342 - ETA: 0s - loss: 1.1003 - acc: 0.344 - ETA: 0s - loss: 1.1003 - acc: 0.344 - ETA: 0s - loss: 1.1001 - acc: 0.343 - 6s - loss: 1.1001 - acc: 0.3438 - val_loss: 1.0954 - val_acc: 0.3840\n",
      "_________________________________________________________________\n",
      "Layer (type)                 Output Shape              Param #   \n",
      "=================================================================\n",
      "conv2d_16 (Conv2D)           (None, 32, 32, 8)         224       \n",
      "_________________________________________________________________\n",
      "activation_26 (Activation)   (None, 32, 32, 8)         0         \n",
      "_________________________________________________________________\n",
      "max_pooling2d_16 (MaxPooling (None, 16, 16, 8)         0         \n",
      "_________________________________________________________________\n",
      "conv2d_17 (Conv2D)           (None, 16, 16, 16)        1168      \n",
      "_________________________________________________________________\n",
      "activation_27 (Activation)   (None, 16, 16, 16)        0         \n",
      "_________________________________________________________________\n",
      "max_pooling2d_17 (MaxPooling (None, 8, 8, 16)          0         \n",
      "_________________________________________________________________\n",
      "conv2d_18 (Conv2D)           (None, 8, 8, 32)          4640      \n",
      "_________________________________________________________________\n",
      "activation_28 (Activation)   (None, 8, 8, 32)          0         \n",
      "_________________________________________________________________\n",
      "max_pooling2d_18 (MaxPooling (None, 4, 4, 32)          0         \n",
      "_________________________________________________________________\n",
      "average_pooling2d_6 (Average (None, 2, 2, 32)          0         \n",
      "_________________________________________________________________\n",
      "flatten_6 (Flatten)          (None, 128)               0         \n",
      "_________________________________________________________________\n",
      "dense_11 (Dense)             (None, 128)               16512     \n"
     ]
    },
    {
     "name": "stdout",
     "output_type": "stream",
     "text": [
      "_________________________________________________________________\n",
      "activation_29 (Activation)   (None, 128)               0         \n",
      "_________________________________________________________________\n",
      "dropout_6 (Dropout)          (None, 128)               0         \n",
      "_________________________________________________________________\n",
      "dense_12 (Dense)             (None, 3)                 387       \n",
      "_________________________________________________________________\n",
      "activation_30 (Activation)   (None, 3)                 0         \n",
      "=================================================================\n",
      "Total params: 22,931\n",
      "Trainable params: 22,931\n",
      "Non-trainable params: 0\n",
      "_________________________________________________________________\n",
      "None\n",
      "22931\n",
      "Epoch 1/1\n",
      "50/50 [==============================] - ETA: 9s - loss: 1.0976 - acc: 0.281 - ETA: 6s - loss: 1.1014 - acc: 0.281 - ETA: 6s - loss: 1.1007 - acc: 0.281 - ETA: 6s - loss: 1.1012 - acc: 0.289 - ETA: 6s - loss: 1.0971 - acc: 0.325 - ETA: 6s - loss: 1.1026 - acc: 0.296 - ETA: 5s - loss: 1.1050 - acc: 0.290 - ETA: 5s - loss: 1.1014 - acc: 0.316 - ETA: 5s - loss: 1.1016 - acc: 0.322 - ETA: 5s - loss: 1.0999 - acc: 0.337 - ETA: 5s - loss: 1.1004 - acc: 0.340 - ETA: 5s - loss: 1.0986 - acc: 0.354 - ETA: 5s - loss: 1.0989 - acc: 0.355 - ETA: 5s - loss: 1.0989 - acc: 0.359 - ETA: 4s - loss: 1.1000 - acc: 0.354 - ETA: 4s - loss: 1.0998 - acc: 0.349 - ETA: 4s - loss: 1.1014 - acc: 0.340 - ETA: 4s - loss: 1.1020 - acc: 0.333 - ETA: 4s - loss: 1.1009 - acc: 0.338 - ETA: 4s - loss: 1.1008 - acc: 0.337 - ETA: 4s - loss: 1.1007 - acc: 0.336 - ETA: 3s - loss: 1.1001 - acc: 0.342 - ETA: 3s - loss: 1.1003 - acc: 0.339 - ETA: 3s - loss: 1.1001 - acc: 0.342 - ETA: 3s - loss: 1.0996 - acc: 0.340 - ETA: 3s - loss: 1.0997 - acc: 0.340 - ETA: 3s - loss: 1.1000 - acc: 0.338 - ETA: 3s - loss: 1.0996 - acc: 0.339 - ETA: 2s - loss: 1.0994 - acc: 0.340 - ETA: 2s - loss: 1.0996 - acc: 0.339 - ETA: 2s - loss: 1.0990 - acc: 0.344 - ETA: 2s - loss: 1.0991 - acc: 0.346 - ETA: 2s - loss: 1.0988 - acc: 0.349 - ETA: 2s - loss: 1.0990 - acc: 0.349 - ETA: 2s - loss: 1.0988 - acc: 0.347 - ETA: 1s - loss: 1.0991 - acc: 0.346 - ETA: 1s - loss: 1.0994 - acc: 0.343 - ETA: 1s - loss: 1.0995 - acc: 0.342 - ETA: 1s - loss: 1.0994 - acc: 0.342 - ETA: 1s - loss: 1.0993 - acc: 0.343 - ETA: 1s - loss: 1.0993 - acc: 0.340 - ETA: 1s - loss: 1.0993 - acc: 0.340 - ETA: 0s - loss: 1.0990 - acc: 0.340 - ETA: 0s - loss: 1.0990 - acc: 0.338 - ETA: 0s - loss: 1.0989 - acc: 0.342 - ETA: 0s - loss: 1.0991 - acc: 0.341 - ETA: 0s - loss: 1.0988 - acc: 0.344 - ETA: 0s - loss: 1.0986 - acc: 0.345 - ETA: 0s - loss: 1.0987 - acc: 0.346 - 7s - loss: 1.0987 - acc: 0.3475 - val_loss: 1.0999 - val_acc: 0.3460\n",
      "_________________________________________________________________\n",
      "Layer (type)                 Output Shape              Param #   \n",
      "=================================================================\n",
      "conv2d_19 (Conv2D)           (None, 32, 32, 16)        448       \n",
      "_________________________________________________________________\n",
      "activation_31 (Activation)   (None, 32, 32, 16)        0         \n",
      "_________________________________________________________________\n",
      "max_pooling2d_19 (MaxPooling (None, 16, 16, 16)        0         \n",
      "_________________________________________________________________\n",
      "conv2d_20 (Conv2D)           (None, 16, 16, 32)        4640      \n",
      "_________________________________________________________________\n",
      "activation_32 (Activation)   (None, 16, 16, 32)        0         \n",
      "_________________________________________________________________\n",
      "max_pooling2d_20 (MaxPooling (None, 8, 8, 32)          0         \n",
      "_________________________________________________________________\n",
      "conv2d_21 (Conv2D)           (None, 8, 8, 64)          18496     \n",
      "_________________________________________________________________\n",
      "activation_33 (Activation)   (None, 8, 8, 64)          0         \n",
      "_________________________________________________________________\n",
      "max_pooling2d_21 (MaxPooling (None, 4, 4, 64)          0         \n",
      "_________________________________________________________________\n",
      "average_pooling2d_7 (Average (None, 2, 2, 64)          0         \n",
      "_________________________________________________________________\n",
      "flatten_7 (Flatten)          (None, 256)               0         \n",
      "_________________________________________________________________\n",
      "dense_13 (Dense)             (None, 128)               32896     \n",
      "_________________________________________________________________\n",
      "activation_34 (Activation)   (None, 128)               0         \n",
      "_________________________________________________________________\n",
      "dropout_7 (Dropout)          (None, 128)               0         \n",
      "_________________________________________________________________\n",
      "dense_14 (Dense)             (None, 3)                 387       \n",
      "_________________________________________________________________\n",
      "activation_35 (Activation)   (None, 3)                 0         \n",
      "=================================================================\n",
      "Total params: 56,867\n",
      "Trainable params: 56,867\n",
      "Non-trainable params: 0\n",
      "_________________________________________________________________\n",
      "None\n",
      "56867\n",
      "Epoch 1/1\n",
      "50/50 [==============================] - ETA: 12s - loss: 1.1018 - acc: 0.31 - ETA: 7s - loss: 1.1072 - acc: 0.3125 - ETA: 7s - loss: 1.1018 - acc: 0.322 - ETA: 7s - loss: 1.1062 - acc: 0.328 - ETA: 7s - loss: 1.1054 - acc: 0.318 - ETA: 7s - loss: 1.1053 - acc: 0.302 - ETA: 6s - loss: 1.1058 - acc: 0.308 - ETA: 6s - loss: 1.1022 - acc: 0.328 - ETA: 6s - loss: 1.1006 - acc: 0.329 - ETA: 6s - loss: 1.1017 - acc: 0.321 - ETA: 6s - loss: 1.1014 - acc: 0.329 - ETA: 6s - loss: 1.0975 - acc: 0.341 - ETA: 5s - loss: 1.0957 - acc: 0.351 - ETA: 5s - loss: 1.0940 - acc: 0.352 - ETA: 5s - loss: 1.0981 - acc: 0.345 - ETA: 5s - loss: 1.0975 - acc: 0.351 - ETA: 5s - loss: 1.0984 - acc: 0.354 - ETA: 5s - loss: 1.0971 - acc: 0.359 - ETA: 4s - loss: 1.0968 - acc: 0.366 - ETA: 4s - loss: 1.0939 - acc: 0.370 - ETA: 4s - loss: 1.0960 - acc: 0.370 - ETA: 4s - loss: 1.0965 - acc: 0.363 - ETA: 4s - loss: 1.0964 - acc: 0.361 - ETA: 4s - loss: 1.0973 - acc: 0.360 - ETA: 3s - loss: 1.0968 - acc: 0.367 - ETA: 3s - loss: 1.0975 - acc: 0.366 - ETA: 3s - loss: 1.0969 - acc: 0.366 - ETA: 3s - loss: 1.0961 - acc: 0.370 - ETA: 3s - loss: 1.0951 - acc: 0.377 - ETA: 3s - loss: 1.0952 - acc: 0.377 - ETA: 3s - loss: 1.0946 - acc: 0.382 - ETA: 2s - loss: 1.0948 - acc: 0.384 - ETA: 2s - loss: 1.0951 - acc: 0.385 - ETA: 2s - loss: 1.0951 - acc: 0.382 - ETA: 2s - loss: 1.0948 - acc: 0.384 - ETA: 2s - loss: 1.0949 - acc: 0.384 - ETA: 2s - loss: 1.0945 - acc: 0.385 - ETA: 1s - loss: 1.0938 - acc: 0.386 - ETA: 1s - loss: 1.0942 - acc: 0.386 - ETA: 1s - loss: 1.0947 - acc: 0.385 - ETA: 1s - loss: 1.0953 - acc: 0.381 - ETA: 1s - loss: 1.0953 - acc: 0.379 - ETA: 1s - loss: 1.0954 - acc: 0.378 - ETA: 0s - loss: 1.0950 - acc: 0.379 - ETA: 0s - loss: 1.0946 - acc: 0.381 - ETA: 0s - loss: 1.0945 - acc: 0.381 - ETA: 0s - loss: 1.0944 - acc: 0.383 - ETA: 0s - loss: 1.0943 - acc: 0.382 - ETA: 0s - loss: 1.0944 - acc: 0.383 - 9s - loss: 1.0944 - acc: 0.3831 - val_loss: 1.0960 - val_acc: 0.4000\n",
      "_________________________________________________________________\n",
      "Layer (type)                 Output Shape              Param #   \n",
      "=================================================================\n",
      "conv2d_22 (Conv2D)           (None, 32, 32, 32)        896       \n",
      "_________________________________________________________________\n",
      "activation_36 (Activation)   (None, 32, 32, 32)        0         \n",
      "_________________________________________________________________\n",
      "max_pooling2d_22 (MaxPooling (None, 16, 16, 32)        0         \n",
      "_________________________________________________________________\n",
      "conv2d_23 (Conv2D)           (None, 16, 16, 64)        18496     \n",
      "_________________________________________________________________\n",
      "activation_37 (Activation)   (None, 16, 16, 64)        0         \n",
      "_________________________________________________________________\n",
      "max_pooling2d_23 (MaxPooling (None, 8, 8, 64)          0         \n",
      "_________________________________________________________________\n"
     ]
    },
    {
     "name": "stdout",
     "output_type": "stream",
     "text": [
      "conv2d_24 (Conv2D)           (None, 8, 8, 128)         73856     \n",
      "_________________________________________________________________\n",
      "activation_38 (Activation)   (None, 8, 8, 128)         0         \n",
      "_________________________________________________________________\n",
      "max_pooling2d_24 (MaxPooling (None, 4, 4, 128)         0         \n",
      "_________________________________________________________________\n",
      "average_pooling2d_8 (Average (None, 2, 2, 128)         0         \n",
      "_________________________________________________________________\n",
      "flatten_8 (Flatten)          (None, 512)               0         \n",
      "_________________________________________________________________\n",
      "dense_15 (Dense)             (None, 128)               65664     \n",
      "_________________________________________________________________\n",
      "activation_39 (Activation)   (None, 128)               0         \n",
      "_________________________________________________________________\n",
      "dropout_8 (Dropout)          (None, 128)               0         \n",
      "_________________________________________________________________\n",
      "dense_16 (Dense)             (None, 3)                 387       \n",
      "_________________________________________________________________\n",
      "activation_40 (Activation)   (None, 3)                 0         \n",
      "=================================================================\n",
      "Total params: 159,299\n",
      "Trainable params: 159,299\n",
      "Non-trainable params: 0\n",
      "_________________________________________________________________\n",
      "None\n",
      "159299\n",
      "Epoch 1/1\n",
      "50/50 [==============================] - ETA: 16s - loss: 1.1021 - acc: 0.28 - ETA: 11s - loss: 1.0994 - acc: 0.34 - ETA: 11s - loss: 1.0999 - acc: 0.38 - ETA: 10s - loss: 1.0963 - acc: 0.38 - ETA: 9s - loss: 1.0942 - acc: 0.3812 - ETA: 9s - loss: 1.1016 - acc: 0.369 - ETA: 9s - loss: 1.0985 - acc: 0.379 - ETA: 9s - loss: 1.0960 - acc: 0.390 - ETA: 8s - loss: 1.0964 - acc: 0.399 - ETA: 8s - loss: 1.0972 - acc: 0.396 - ETA: 8s - loss: 1.1017 - acc: 0.380 - ETA: 8s - loss: 1.1006 - acc: 0.377 - ETA: 8s - loss: 1.0970 - acc: 0.379 - ETA: 7s - loss: 1.0950 - acc: 0.381 - ETA: 7s - loss: 1.0956 - acc: 0.375 - ETA: 7s - loss: 1.0990 - acc: 0.367 - ETA: 7s - loss: 1.0977 - acc: 0.375 - ETA: 6s - loss: 1.0986 - acc: 0.378 - ETA: 6s - loss: 1.0999 - acc: 0.373 - ETA: 6s - loss: 1.0997 - acc: 0.371 - ETA: 6s - loss: 1.0994 - acc: 0.372 - ETA: 6s - loss: 1.1007 - acc: 0.367 - ETA: 5s - loss: 1.1010 - acc: 0.368 - ETA: 5s - loss: 1.1017 - acc: 0.363 - ETA: 5s - loss: 1.1019 - acc: 0.363 - ETA: 5s - loss: 1.1012 - acc: 0.365 - ETA: 4s - loss: 1.1008 - acc: 0.369 - ETA: 4s - loss: 1.1015 - acc: 0.363 - ETA: 4s - loss: 1.1012 - acc: 0.362 - ETA: 4s - loss: 1.1008 - acc: 0.364 - ETA: 4s - loss: 1.1010 - acc: 0.362 - ETA: 3s - loss: 1.1009 - acc: 0.364 - ETA: 3s - loss: 1.1007 - acc: 0.361 - ETA: 3s - loss: 1.1005 - acc: 0.364 - ETA: 3s - loss: 1.1004 - acc: 0.363 - ETA: 2s - loss: 1.1001 - acc: 0.363 - ETA: 2s - loss: 1.1003 - acc: 0.360 - ETA: 2s - loss: 1.1002 - acc: 0.361 - ETA: 2s - loss: 1.0998 - acc: 0.363 - ETA: 2s - loss: 1.0998 - acc: 0.362 - ETA: 1s - loss: 1.0998 - acc: 0.361 - ETA: 1s - loss: 1.0997 - acc: 0.363 - ETA: 1s - loss: 1.0998 - acc: 0.360 - ETA: 1s - loss: 1.0998 - acc: 0.358 - ETA: 1s - loss: 1.0997 - acc: 0.359 - ETA: 0s - loss: 1.0997 - acc: 0.358 - ETA: 0s - loss: 1.0998 - acc: 0.356 - ETA: 0s - loss: 1.0997 - acc: 0.357 - ETA: 0s - loss: 1.0994 - acc: 0.359 - 12s - loss: 1.0994 - acc: 0.3575 - val_loss: 1.0991 - val_acc: 0.3330\n",
      "_________________________________________________________________\n",
      "Layer (type)                 Output Shape              Param #   \n",
      "=================================================================\n",
      "conv2d_25 (Conv2D)           (None, 32, 32, 48)        1344      \n",
      "_________________________________________________________________\n",
      "activation_41 (Activation)   (None, 32, 32, 48)        0         \n",
      "_________________________________________________________________\n",
      "max_pooling2d_25 (MaxPooling (None, 16, 16, 48)        0         \n",
      "_________________________________________________________________\n",
      "conv2d_26 (Conv2D)           (None, 16, 16, 96)        41568     \n",
      "_________________________________________________________________\n",
      "activation_42 (Activation)   (None, 16, 16, 96)        0         \n",
      "_________________________________________________________________\n",
      "max_pooling2d_26 (MaxPooling (None, 8, 8, 96)          0         \n",
      "_________________________________________________________________\n",
      "conv2d_27 (Conv2D)           (None, 8, 8, 192)         166080    \n",
      "_________________________________________________________________\n",
      "activation_43 (Activation)   (None, 8, 8, 192)         0         \n",
      "_________________________________________________________________\n",
      "max_pooling2d_27 (MaxPooling (None, 4, 4, 192)         0         \n",
      "_________________________________________________________________\n",
      "average_pooling2d_9 (Average (None, 2, 2, 192)         0         \n",
      "_________________________________________________________________\n",
      "flatten_9 (Flatten)          (None, 768)               0         \n",
      "_________________________________________________________________\n",
      "dense_17 (Dense)             (None, 128)               98432     \n",
      "_________________________________________________________________\n",
      "activation_44 (Activation)   (None, 128)               0         \n",
      "_________________________________________________________________\n",
      "dropout_9 (Dropout)          (None, 128)               0         \n",
      "_________________________________________________________________\n",
      "dense_18 (Dense)             (None, 3)                 387       \n",
      "_________________________________________________________________\n",
      "activation_45 (Activation)   (None, 3)                 0         \n",
      "=================================================================\n",
      "Total params: 307,811\n",
      "Trainable params: 307,811\n",
      "Non-trainable params: 0\n",
      "_________________________________________________________________\n",
      "None\n",
      "307811\n",
      "Epoch 1/1\n",
      "50/50 [==============================] - ETA: 29s - loss: 1.0787 - acc: 0.37 - ETA: 21s - loss: 1.1147 - acc: 0.32 - ETA: 18s - loss: 1.1362 - acc: 0.28 - ETA: 16s - loss: 1.1338 - acc: 0.27 - ETA: 15s - loss: 1.1250 - acc: 0.30 - ETA: 15s - loss: 1.1199 - acc: 0.31 - ETA: 14s - loss: 1.1149 - acc: 0.32 - ETA: 13s - loss: 1.1110 - acc: 0.33 - ETA: 13s - loss: 1.1133 - acc: 0.33 - ETA: 13s - loss: 1.1138 - acc: 0.33 - ETA: 12s - loss: 1.1142 - acc: 0.34 - ETA: 12s - loss: 1.1147 - acc: 0.34 - ETA: 11s - loss: 1.1153 - acc: 0.33 - ETA: 11s - loss: 1.1133 - acc: 0.33 - ETA: 11s - loss: 1.1128 - acc: 0.33 - ETA: 10s - loss: 1.1119 - acc: 0.33 - ETA: 10s - loss: 1.1108 - acc: 0.33 - ETA: 9s - loss: 1.1103 - acc: 0.3299 - ETA: 9s - loss: 1.1095 - acc: 0.330 - ETA: 9s - loss: 1.1092 - acc: 0.323 - ETA: 8s - loss: 1.1092 - acc: 0.321 - ETA: 8s - loss: 1.1085 - acc: 0.325 - ETA: 8s - loss: 1.1084 - acc: 0.322 - ETA: 7s - loss: 1.1078 - acc: 0.321 - ETA: 7s - loss: 1.1070 - acc: 0.327 - ETA: 7s - loss: 1.1067 - acc: 0.324 - ETA: 6s - loss: 1.1062 - acc: 0.324 - ETA: 6s - loss: 1.1059 - acc: 0.323 - ETA: 6s - loss: 1.1058 - acc: 0.323 - ETA: 6s - loss: 1.1046 - acc: 0.330 - ETA: 5s - loss: 1.1045 - acc: 0.332 - ETA: 5s - loss: 1.1041 - acc: 0.334 - ETA: 5s - loss: 1.1042 - acc: 0.334 - ETA: 4s - loss: 1.1040 - acc: 0.337 - ETA: 4s - loss: 1.1036 - acc: 0.341 - ETA: 4s - loss: 1.1038 - acc: 0.340 - ETA: 4s - loss: 1.1043 - acc: 0.337 - ETA: 3s - loss: 1.1039 - acc: 0.338 - ETA: 3s - loss: 1.1045 - acc: 0.335 - ETA: 3s - loss: 1.1046 - acc: 0.339 - ETA: 3s - loss: 1.1046 - acc: 0.339 - ETA: 2s - loss: 1.1043 - acc: 0.342 - ETA: 2s - loss: 1.1045 - acc: 0.340 - ETA: 2s - loss: 1.1042 - acc: 0.342 - ETA: 1s - loss: 1.1042 - acc: 0.341 - ETA: 1s - loss: 1.1042 - acc: 0.340 - ETA: 1s - loss: 1.1040 - acc: 0.339 - ETA: 0s - loss: 1.1038 - acc: 0.343 - ETA: 0s - loss: 1.1037 - acc: 0.345 - 20s - loss: 1.1037 - acc: 0.3431 - val_loss: 1.0982 - val_acc: 0.3620\n",
      "_________________________________________________________________\n",
      "Layer (type)                 Output Shape              Param #   \n",
      "=================================================================\n",
      "conv2d_28 (Conv2D)           (None, 32, 32, 64)        1792      \n"
     ]
    },
    {
     "name": "stdout",
     "output_type": "stream",
     "text": [
      "_________________________________________________________________\n",
      "activation_46 (Activation)   (None, 32, 32, 64)        0         \n",
      "_________________________________________________________________\n",
      "max_pooling2d_28 (MaxPooling (None, 16, 16, 64)        0         \n",
      "_________________________________________________________________\n",
      "conv2d_29 (Conv2D)           (None, 16, 16, 128)       73856     \n",
      "_________________________________________________________________\n",
      "activation_47 (Activation)   (None, 16, 16, 128)       0         \n",
      "_________________________________________________________________\n",
      "max_pooling2d_29 (MaxPooling (None, 8, 8, 128)         0         \n",
      "_________________________________________________________________\n",
      "conv2d_30 (Conv2D)           (None, 8, 8, 256)         295168    \n",
      "_________________________________________________________________\n",
      "activation_48 (Activation)   (None, 8, 8, 256)         0         \n",
      "_________________________________________________________________\n",
      "max_pooling2d_30 (MaxPooling (None, 4, 4, 256)         0         \n",
      "_________________________________________________________________\n",
      "average_pooling2d_10 (Averag (None, 2, 2, 256)         0         \n",
      "_________________________________________________________________\n",
      "flatten_10 (Flatten)         (None, 1024)              0         \n",
      "_________________________________________________________________\n",
      "dense_19 (Dense)             (None, 128)               131200    \n",
      "_________________________________________________________________\n",
      "activation_49 (Activation)   (None, 128)               0         \n",
      "_________________________________________________________________\n",
      "dropout_10 (Dropout)         (None, 128)               0         \n",
      "_________________________________________________________________\n",
      "dense_20 (Dense)             (None, 3)                 387       \n",
      "_________________________________________________________________\n",
      "activation_50 (Activation)   (None, 3)                 0         \n",
      "=================================================================\n",
      "Total params: 502,403\n",
      "Trainable params: 502,403\n",
      "Non-trainable params: 0\n",
      "_________________________________________________________________\n",
      "None\n",
      "502403\n",
      "Epoch 1/1\n",
      "50/50 [==============================] - ETA: 38s - loss: 1.1029 - acc: 0.37 - ETA: 30s - loss: 1.0975 - acc: 0.40 - ETA: 28s - loss: 1.1626 - acc: 0.36 - ETA: 27s - loss: 1.1498 - acc: 0.36 - ETA: 27s - loss: 1.1460 - acc: 0.36 - ETA: 27s - loss: 1.1369 - acc: 0.38 - ETA: 26s - loss: 1.1425 - acc: 0.38 - ETA: 26s - loss: 1.1424 - acc: 0.37 - ETA: 25s - loss: 1.1323 - acc: 0.38 - ETA: 24s - loss: 1.1386 - acc: 0.38 - ETA: 23s - loss: 1.1362 - acc: 0.37 - ETA: 23s - loss: 1.1384 - acc: 0.37 - ETA: 22s - loss: 1.1340 - acc: 0.37 - ETA: 21s - loss: 1.1318 - acc: 0.37 - ETA: 21s - loss: 1.1322 - acc: 0.36 - ETA: 20s - loss: 1.1321 - acc: 0.35 - ETA: 19s - loss: 1.1310 - acc: 0.35 - ETA: 18s - loss: 1.1299 - acc: 0.34 - ETA: 17s - loss: 1.1286 - acc: 0.34 - ETA: 17s - loss: 1.1271 - acc: 0.34 - ETA: 16s - loss: 1.1257 - acc: 0.34 - ETA: 15s - loss: 1.1243 - acc: 0.34 - ETA: 14s - loss: 1.1231 - acc: 0.34 - ETA: 14s - loss: 1.1222 - acc: 0.34 - ETA: 13s - loss: 1.1216 - acc: 0.33 - ETA: 13s - loss: 1.1206 - acc: 0.33 - ETA: 12s - loss: 1.1198 - acc: 0.33 - ETA: 12s - loss: 1.1189 - acc: 0.33 - ETA: 11s - loss: 1.1183 - acc: 0.33 - ETA: 10s - loss: 1.1177 - acc: 0.33 - ETA: 10s - loss: 1.1170 - acc: 0.33 - ETA: 9s - loss: 1.1164 - acc: 0.3330 - ETA: 9s - loss: 1.1160 - acc: 0.327 - ETA: 8s - loss: 1.1157 - acc: 0.322 - ETA: 8s - loss: 1.1151 - acc: 0.322 - ETA: 7s - loss: 1.1145 - acc: 0.325 - ETA: 7s - loss: 1.1142 - acc: 0.325 - ETA: 6s - loss: 1.1139 - acc: 0.324 - ETA: 6s - loss: 1.1138 - acc: 0.319 - ETA: 5s - loss: 1.1133 - acc: 0.321 - ETA: 4s - loss: 1.1128 - acc: 0.323 - ETA: 4s - loss: 1.1123 - acc: 0.325 - ETA: 3s - loss: 1.1122 - acc: 0.324 - ETA: 3s - loss: 1.1120 - acc: 0.326 - ETA: 2s - loss: 1.1116 - acc: 0.328 - ETA: 2s - loss: 1.1112 - acc: 0.329 - ETA: 1s - loss: 1.1110 - acc: 0.329 - ETA: 1s - loss: 1.1105 - acc: 0.332 - ETA: 0s - loss: 1.1102 - acc: 0.334 - 31s - loss: 1.1100 - acc: 0.3350 - val_loss: 1.1031 - val_acc: 0.3300\n",
      "_________________________________________________________________\n",
      "Layer (type)                 Output Shape              Param #   \n",
      "=================================================================\n",
      "conv2d_31 (Conv2D)           (None, 32, 32, 96)        2688      \n",
      "_________________________________________________________________\n",
      "activation_51 (Activation)   (None, 32, 32, 96)        0         \n",
      "_________________________________________________________________\n",
      "max_pooling2d_31 (MaxPooling (None, 16, 16, 96)        0         \n",
      "_________________________________________________________________\n",
      "conv2d_32 (Conv2D)           (None, 16, 16, 192)       166080    \n",
      "_________________________________________________________________\n",
      "activation_52 (Activation)   (None, 16, 16, 192)       0         \n",
      "_________________________________________________________________\n",
      "max_pooling2d_32 (MaxPooling (None, 8, 8, 192)         0         \n",
      "_________________________________________________________________\n",
      "conv2d_33 (Conv2D)           (None, 8, 8, 384)         663936    \n",
      "_________________________________________________________________\n",
      "activation_53 (Activation)   (None, 8, 8, 384)         0         \n",
      "_________________________________________________________________\n",
      "max_pooling2d_33 (MaxPooling (None, 4, 4, 384)         0         \n",
      "_________________________________________________________________\n",
      "average_pooling2d_11 (Averag (None, 2, 2, 384)         0         \n",
      "_________________________________________________________________\n",
      "flatten_11 (Flatten)         (None, 1536)              0         \n",
      "_________________________________________________________________\n",
      "dense_21 (Dense)             (None, 128)               196736    \n",
      "_________________________________________________________________\n",
      "activation_54 (Activation)   (None, 128)               0         \n",
      "_________________________________________________________________\n",
      "dropout_11 (Dropout)         (None, 128)               0         \n",
      "_________________________________________________________________\n",
      "dense_22 (Dense)             (None, 3)                 387       \n",
      "_________________________________________________________________\n",
      "activation_55 (Activation)   (None, 3)                 0         \n",
      "=================================================================\n",
      "Total params: 1,029,827\n",
      "Trainable params: 1,029,827\n",
      "Non-trainable params: 0\n",
      "_________________________________________________________________\n",
      "None\n",
      "1029827\n",
      "Epoch 1/1\n"
     ]
    },
    {
     "name": "stdout",
     "output_type": "stream",
     "text": [
      "50/50 [==============================] - ETA: 63s - loss: 1.0978 - acc: 0.43 - ETA: 58s - loss: 1.0797 - acc: 0.39 - ETA: 56s - loss: 1.1842 - acc: 0.38 - ETA: 52s - loss: 1.2114 - acc: 0.36 - ETA: 48s - loss: 1.1886 - acc: 0.36 - ETA: 46s - loss: 1.1730 - acc: 0.35 - ETA: 44s - loss: 1.1662 - acc: 0.34 - ETA: 42s - loss: 1.1588 - acc: 0.33 - ETA: 41s - loss: 1.1512 - acc: 0.33 - ETA: 40s - loss: 1.1477 - acc: 0.33 - ETA: 38s - loss: 1.1443 - acc: 0.33 - ETA: 37s - loss: 1.1387 - acc: 0.34 - ETA: 36s - loss: 1.1351 - acc: 0.34 - ETA: 35s - loss: 1.1324 - acc: 0.34 - ETA: 33s - loss: 1.1305 - acc: 0.35 - ETA: 32s - loss: 1.1286 - acc: 0.35 - ETA: 31s - loss: 1.1259 - acc: 0.35 - ETA: 30s - loss: 1.1217 - acc: 0.36 - ETA: 30s - loss: 1.1213 - acc: 0.36 - ETA: 29s - loss: 1.1184 - acc: 0.36 - ETA: 28s - loss: 1.1191 - acc: 0.36 - ETA: 26s - loss: 1.1200 - acc: 0.35 - ETA: 25s - loss: 1.1201 - acc: 0.35 - ETA: 24s - loss: 1.1210 - acc: 0.35 - ETA: 23s - loss: 1.1207 - acc: 0.34 - ETA: 22s - loss: 1.1199 - acc: 0.34 - ETA: 21s - loss: 1.1194 - acc: 0.34 - ETA: 20s - loss: 1.1183 - acc: 0.34 - ETA: 19s - loss: 1.1176 - acc: 0.34 - ETA: 18s - loss: 1.1165 - acc: 0.35 - ETA: 17s - loss: 1.1160 - acc: 0.35 - ETA: 16s - loss: 1.1150 - acc: 0.35 - ETA: 15s - loss: 1.1146 - acc: 0.35 - ETA: 14s - loss: 1.1143 - acc: 0.35 - ETA: 13s - loss: 1.1140 - acc: 0.35 - ETA: 13s - loss: 1.1137 - acc: 0.35 - ETA: 12s - loss: 1.1132 - acc: 0.35 - ETA: 11s - loss: 1.1127 - acc: 0.35 - ETA: 10s - loss: 1.1126 - acc: 0.34 - ETA: 9s - loss: 1.1121 - acc: 0.3500 - ETA: 8s - loss: 1.1114 - acc: 0.352 - ETA: 7s - loss: 1.1109 - acc: 0.354 - ETA: 6s - loss: 1.1101 - acc: 0.355 - ETA: 5s - loss: 1.1105 - acc: 0.351 - ETA: 4s - loss: 1.1103 - acc: 0.350 - ETA: 3s - loss: 1.1101 - acc: 0.351 - ETA: 2s - loss: 1.1095 - acc: 0.354 - ETA: 1s - loss: 1.1093 - acc: 0.354 - ETA: 0s - loss: 1.1091 - acc: 0.355 - 54s - loss: 1.1090 - acc: 0.3538 - val_loss: 1.0994 - val_acc: 0.3330\n"
     ]
    }
   ],
   "source": [
    "# Train many models\n",
    "for filters in [1,2,4,8,16,32,48,64,96]:\n",
    "    modelid = \"filters{:03d}_timestamp{}\".format(filters,time.strftime(\"%Y%m%d%H%M%S\"))\n",
    "\n",
    "    callbacks_list = [\n",
    "        keras.callbacks.EarlyStopping(\n",
    "            monitor='val_acc',\n",
    "            patience=50),\n",
    "        keras.callbacks.ModelCheckpoint(\n",
    "            filepath='model_checkpoint_best_{}.h5'.format(modelid),\n",
    "            monitor='val_loss',\n",
    "            save_best_only=True),\n",
    "        keras.callbacks.TensorBoard(\n",
    "            log_dir='./logs/'+modelid,\n",
    "            histogram_freq=0, write_graph=False, write_images=False)\n",
    "    ]\n",
    "    \n",
    "    model = makeModel(filters)\n",
    "    print(model.summary())\n",
    "    print(model.count_params())\n",
    "\n",
    "    history=model.fit_generator(\n",
    "                        generator(dataset_tr, batch_size, patchsize),\n",
    "                        steps_per_epoch=50, \n",
    "                        epochs=1, \n",
    "                        verbose=1,\n",
    "                        validation_data=(X_test,y_test),\n",
    "                        callbacks=callbacks_list)\n",
    "    "
   ]
  },
  {
   "cell_type": "markdown",
   "metadata": {
    "slideshow": {
     "slide_type": "slide"
    }
   },
   "source": [
    "## Step 6: Process the images of the testing set one by one\n",
    "And visualize the results"
   ]
  },
  {
   "cell_type": "code",
   "execution_count": 28,
   "metadata": {},
   "outputs": [
    {
     "ename": "OSError",
     "evalue": "Unable to open file (Unable to open file: name = 'models/model_venus.model', errno = 2, error message = 'no such file or directory', flags = 0, o_flags = 0)",
     "output_type": "error",
     "traceback": [
      "\u001b[1;31m---------------------------------------------------------------------------\u001b[0m",
      "\u001b[1;31mOSError\u001b[0m                                   Traceback (most recent call last)",
      "\u001b[1;32m<ipython-input-28-dd3a97182d8c>\u001b[0m in \u001b[0;36m<module>\u001b[1;34m()\u001b[0m\n\u001b[0;32m      2\u001b[0m \u001b[0mmodelname\u001b[0m \u001b[1;33m=\u001b[0m \u001b[1;34m\"models/model_venus\"\u001b[0m\u001b[1;33m\u001b[0m\u001b[0m\n\u001b[0;32m      3\u001b[0m \u001b[1;33m\u001b[0m\u001b[0m\n\u001b[1;32m----> 4\u001b[1;33m \u001b[0mmodel\u001b[0m \u001b[1;33m=\u001b[0m \u001b[0mkeras\u001b[0m\u001b[1;33m.\u001b[0m\u001b[0mmodels\u001b[0m\u001b[1;33m.\u001b[0m\u001b[0mload_model\u001b[0m\u001b[1;33m(\u001b[0m\u001b[1;34m\"{}.model\"\u001b[0m\u001b[1;33m.\u001b[0m\u001b[0mformat\u001b[0m\u001b[1;33m(\u001b[0m\u001b[0mmodelname\u001b[0m\u001b[1;33m)\u001b[0m\u001b[1;33m)\u001b[0m\u001b[1;33m\u001b[0m\u001b[0m\n\u001b[0m\u001b[0;32m      5\u001b[0m \u001b[0mpatchsize\u001b[0m \u001b[1;33m=\u001b[0m \u001b[0mmodel\u001b[0m\u001b[1;33m.\u001b[0m\u001b[0minput\u001b[0m\u001b[1;33m.\u001b[0m\u001b[0mshape\u001b[0m\u001b[1;33m[\u001b[0m\u001b[1;36m1\u001b[0m\u001b[1;33m]\u001b[0m\u001b[1;33m.\u001b[0m\u001b[0mvalue\u001b[0m\u001b[1;33m\u001b[0m\u001b[0m\n\u001b[0;32m      6\u001b[0m \u001b[0mdataset_te\u001b[0m \u001b[1;33m=\u001b[0m \u001b[0mpd\u001b[0m\u001b[1;33m.\u001b[0m\u001b[0mread_pickle\u001b[0m\u001b[1;33m(\u001b[0m\u001b[1;34m\"{}.testingdata.pickle\"\u001b[0m\u001b[1;33m.\u001b[0m\u001b[0mformat\u001b[0m\u001b[1;33m(\u001b[0m\u001b[0mmodelname\u001b[0m\u001b[1;33m)\u001b[0m\u001b[1;33m)\u001b[0m\u001b[1;33m\u001b[0m\u001b[0m\n",
      "\u001b[1;32m~\\Anaconda3\\lib\\site-packages\\keras\\models.py\u001b[0m in \u001b[0;36mload_model\u001b[1;34m(filepath, custom_objects, compile)\u001b[0m\n\u001b[0;32m    225\u001b[0m             \u001b[1;32mreturn\u001b[0m \u001b[0mcustom_objects\u001b[0m\u001b[1;33m[\u001b[0m\u001b[0mobj\u001b[0m\u001b[1;33m]\u001b[0m\u001b[1;33m\u001b[0m\u001b[0m\n\u001b[0;32m    226\u001b[0m         \u001b[1;32mreturn\u001b[0m \u001b[0mobj\u001b[0m\u001b[1;33m\u001b[0m\u001b[0m\n\u001b[1;32m--> 227\u001b[1;33m     \u001b[1;32mwith\u001b[0m \u001b[0mh5py\u001b[0m\u001b[1;33m.\u001b[0m\u001b[0mFile\u001b[0m\u001b[1;33m(\u001b[0m\u001b[0mfilepath\u001b[0m\u001b[1;33m,\u001b[0m \u001b[0mmode\u001b[0m\u001b[1;33m=\u001b[0m\u001b[1;34m'r'\u001b[0m\u001b[1;33m)\u001b[0m \u001b[1;32mas\u001b[0m \u001b[0mf\u001b[0m\u001b[1;33m:\u001b[0m\u001b[1;33m\u001b[0m\u001b[0m\n\u001b[0m\u001b[0;32m    228\u001b[0m         \u001b[1;31m# instantiate model\u001b[0m\u001b[1;33m\u001b[0m\u001b[1;33m\u001b[0m\u001b[0m\n\u001b[0;32m    229\u001b[0m         \u001b[0mmodel_config\u001b[0m \u001b[1;33m=\u001b[0m \u001b[0mf\u001b[0m\u001b[1;33m.\u001b[0m\u001b[0mattrs\u001b[0m\u001b[1;33m.\u001b[0m\u001b[0mget\u001b[0m\u001b[1;33m(\u001b[0m\u001b[1;34m'model_config'\u001b[0m\u001b[1;33m)\u001b[0m\u001b[1;33m\u001b[0m\u001b[0m\n",
      "\u001b[1;32m~\\Anaconda3\\lib\\site-packages\\h5py\\_hl\\files.py\u001b[0m in \u001b[0;36m__init__\u001b[1;34m(self, name, mode, driver, libver, userblock_size, swmr, **kwds)\u001b[0m\n\u001b[0;32m    269\u001b[0m \u001b[1;33m\u001b[0m\u001b[0m\n\u001b[0;32m    270\u001b[0m                 \u001b[0mfapl\u001b[0m \u001b[1;33m=\u001b[0m \u001b[0mmake_fapl\u001b[0m\u001b[1;33m(\u001b[0m\u001b[0mdriver\u001b[0m\u001b[1;33m,\u001b[0m \u001b[0mlibver\u001b[0m\u001b[1;33m,\u001b[0m \u001b[1;33m**\u001b[0m\u001b[0mkwds\u001b[0m\u001b[1;33m)\u001b[0m\u001b[1;33m\u001b[0m\u001b[0m\n\u001b[1;32m--> 271\u001b[1;33m                 \u001b[0mfid\u001b[0m \u001b[1;33m=\u001b[0m \u001b[0mmake_fid\u001b[0m\u001b[1;33m(\u001b[0m\u001b[0mname\u001b[0m\u001b[1;33m,\u001b[0m \u001b[0mmode\u001b[0m\u001b[1;33m,\u001b[0m \u001b[0muserblock_size\u001b[0m\u001b[1;33m,\u001b[0m \u001b[0mfapl\u001b[0m\u001b[1;33m,\u001b[0m \u001b[0mswmr\u001b[0m\u001b[1;33m=\u001b[0m\u001b[0mswmr\u001b[0m\u001b[1;33m)\u001b[0m\u001b[1;33m\u001b[0m\u001b[0m\n\u001b[0m\u001b[0;32m    272\u001b[0m \u001b[1;33m\u001b[0m\u001b[0m\n\u001b[0;32m    273\u001b[0m                 \u001b[1;32mif\u001b[0m \u001b[0mswmr_support\u001b[0m\u001b[1;33m:\u001b[0m\u001b[1;33m\u001b[0m\u001b[0m\n",
      "\u001b[1;32m~\\Anaconda3\\lib\\site-packages\\h5py\\_hl\\files.py\u001b[0m in \u001b[0;36mmake_fid\u001b[1;34m(name, mode, userblock_size, fapl, fcpl, swmr)\u001b[0m\n\u001b[0;32m     99\u001b[0m         \u001b[1;32mif\u001b[0m \u001b[0mswmr\u001b[0m \u001b[1;32mand\u001b[0m \u001b[0mswmr_support\u001b[0m\u001b[1;33m:\u001b[0m\u001b[1;33m\u001b[0m\u001b[0m\n\u001b[0;32m    100\u001b[0m             \u001b[0mflags\u001b[0m \u001b[1;33m|=\u001b[0m \u001b[0mh5f\u001b[0m\u001b[1;33m.\u001b[0m\u001b[0mACC_SWMR_READ\u001b[0m\u001b[1;33m\u001b[0m\u001b[0m\n\u001b[1;32m--> 101\u001b[1;33m         \u001b[0mfid\u001b[0m \u001b[1;33m=\u001b[0m \u001b[0mh5f\u001b[0m\u001b[1;33m.\u001b[0m\u001b[0mopen\u001b[0m\u001b[1;33m(\u001b[0m\u001b[0mname\u001b[0m\u001b[1;33m,\u001b[0m \u001b[0mflags\u001b[0m\u001b[1;33m,\u001b[0m \u001b[0mfapl\u001b[0m\u001b[1;33m=\u001b[0m\u001b[0mfapl\u001b[0m\u001b[1;33m)\u001b[0m\u001b[1;33m\u001b[0m\u001b[0m\n\u001b[0m\u001b[0;32m    102\u001b[0m     \u001b[1;32melif\u001b[0m \u001b[0mmode\u001b[0m \u001b[1;33m==\u001b[0m \u001b[1;34m'r+'\u001b[0m\u001b[1;33m:\u001b[0m\u001b[1;33m\u001b[0m\u001b[0m\n\u001b[0;32m    103\u001b[0m         \u001b[0mfid\u001b[0m \u001b[1;33m=\u001b[0m \u001b[0mh5f\u001b[0m\u001b[1;33m.\u001b[0m\u001b[0mopen\u001b[0m\u001b[1;33m(\u001b[0m\u001b[0mname\u001b[0m\u001b[1;33m,\u001b[0m \u001b[0mh5f\u001b[0m\u001b[1;33m.\u001b[0m\u001b[0mACC_RDWR\u001b[0m\u001b[1;33m,\u001b[0m \u001b[0mfapl\u001b[0m\u001b[1;33m=\u001b[0m\u001b[0mfapl\u001b[0m\u001b[1;33m)\u001b[0m\u001b[1;33m\u001b[0m\u001b[0m\n",
      "\u001b[1;32mh5py\\_objects.pyx\u001b[0m in \u001b[0;36mh5py._objects.with_phil.wrapper (C:\\Minonda\\conda-bld\\h5py_1490029679460\\work\\h5py\\_objects.c:2867)\u001b[1;34m()\u001b[0m\n",
      "\u001b[1;32mh5py\\_objects.pyx\u001b[0m in \u001b[0;36mh5py._objects.with_phil.wrapper (C:\\Minonda\\conda-bld\\h5py_1490029679460\\work\\h5py\\_objects.c:2825)\u001b[1;34m()\u001b[0m\n",
      "\u001b[1;32mh5py\\h5f.pyx\u001b[0m in \u001b[0;36mh5py.h5f.open (C:\\Minonda\\conda-bld\\h5py_1490029679460\\work\\h5py\\h5f.c:2140)\u001b[1;34m()\u001b[0m\n",
      "\u001b[1;31mOSError\u001b[0m: Unable to open file (Unable to open file: name = 'models/model_venus.model', errno = 2, error message = 'no such file or directory', flags = 0, o_flags = 0)"
     ]
    }
   ],
   "source": [
    "# Optionally, load a saved model and testing dataset\n",
    "modelname = \"models/model_venus\"\n",
    "\n",
    "model = keras.models.load_model(\"{}.model\".format(modelname))\n",
    "patchsize = model.input.shape[1].value\n",
    "dataset_te = pd.read_pickle(\"{}.testingdata.pickle\".format(modelname))"
   ]
  },
  {
   "cell_type": "code",
   "execution_count": 29,
   "metadata": {
    "slideshow": {
     "slide_type": "slide"
    }
   },
   "outputs": [
    {
     "data": {
      "application/vnd.jupyter.widget-view+json": {
       "model_id": "222e5d4dabfd4374bff81b91b36b549b"
      }
     },
     "metadata": {},
     "output_type": "display_data"
    },
    {
     "data": {
      "text/plain": [
       "<function __main__.resultsShow>"
      ]
     },
     "execution_count": 29,
     "metadata": {},
     "output_type": "execute_result"
    }
   ],
   "source": [
    "# Show results by processing a single variation of the testing image\n",
    "import warnings\n",
    "\n",
    "%matplotlib inline\n",
    "def resultsShow(i, data, model):\n",
    "    d = data.iloc[i]\n",
    "    im = d[\"image\"]\n",
    "    l = d[\"label\"]\n",
    "    fig,axs = plt.subplots(nrows=1,ncols=3,figsize=(15,5),gridspec_kw={'width_ratios':[1,1,0.5]})\n",
    "    \n",
    "    imt = transform_simple(im, patchsize)\n",
    "    axs[0].imshow(im)\n",
    "    axs[0].set_title(\"Image (true class: {})\".format(names[l]))\n",
    "    \n",
    "    axs[1].imshow(imt,interpolation=\"nearest\")\n",
    "    axs[1].set_title(\"Network input\")\n",
    "    \n",
    "    outs = model.predict(np.array([imt]))\n",
    "    print(outs)\n",
    "    predicted = np.argmax(outs)\n",
    "    axs[2].bar(np.array(range(len(names))), outs[0,:], 1, color=\"gray\")\n",
    "    axs[2].set_ylim([0,1])\n",
    "    axs[2].set_xticks(range(len(names)))\n",
    "    axs[2].set_xticklabels(names)\n",
    "    axs[2].set_ylabel(\"probability\")\n",
    "    axs[2].set_xlabel(\"class\")\n",
    "    axs[2].set_title(\"Network output\")\n",
    "    fig.tight_layout()\n",
    "    plt.show()\n",
    "    fig.savefig(\"out_{:05d}_{}.png\".format(i,(\"ok\" if predicted==l else \"ko\")))\n",
    "    print(outs)\n",
    "\n",
    "interact(resultsShow, i=widgets.IntSlider(min=0,max=len(dataset_te)-1, step=1, value=0, continuous_update=False), data=fixed(dataset_te.sample(len(dataset_te))), model=fixed(model))\n"
   ]
  },
  {
   "cell_type": "markdown",
   "metadata": {
    "slideshow": {
     "slide_type": "slide"
    }
   },
   "source": [
    "## Let's visualize the filters learned by the NN"
   ]
  },
  {
   "cell_type": "code",
   "execution_count": 30,
   "metadata": {
    "slideshow": {
     "slide_type": "-"
    }
   },
   "outputs": [
    {
     "name": "stdout",
     "output_type": "stream",
     "text": [
      "_________________________________________________________________\n",
      "Layer (type)                 Output Shape              Param #   \n",
      "=================================================================\n",
      "conv2d_31 (Conv2D)           (None, 32, 32, 96)        2688      \n",
      "_________________________________________________________________\n",
      "activation_51 (Activation)   (None, 32, 32, 96)        0         \n",
      "_________________________________________________________________\n",
      "max_pooling2d_31 (MaxPooling (None, 16, 16, 96)        0         \n",
      "_________________________________________________________________\n",
      "conv2d_32 (Conv2D)           (None, 16, 16, 192)       166080    \n",
      "_________________________________________________________________\n",
      "activation_52 (Activation)   (None, 16, 16, 192)       0         \n",
      "_________________________________________________________________\n",
      "max_pooling2d_32 (MaxPooling (None, 8, 8, 192)         0         \n",
      "_________________________________________________________________\n",
      "conv2d_33 (Conv2D)           (None, 8, 8, 384)         663936    \n",
      "_________________________________________________________________\n",
      "activation_53 (Activation)   (None, 8, 8, 384)         0         \n",
      "_________________________________________________________________\n",
      "max_pooling2d_33 (MaxPooling (None, 4, 4, 384)         0         \n",
      "_________________________________________________________________\n",
      "average_pooling2d_11 (Averag (None, 2, 2, 384)         0         \n",
      "_________________________________________________________________\n",
      "flatten_11 (Flatten)         (None, 1536)              0         \n",
      "_________________________________________________________________\n",
      "dense_21 (Dense)             (None, 128)               196736    \n",
      "_________________________________________________________________\n",
      "activation_54 (Activation)   (None, 128)               0         \n",
      "_________________________________________________________________\n",
      "dropout_11 (Dropout)         (None, 128)               0         \n",
      "_________________________________________________________________\n",
      "dense_22 (Dense)             (None, 3)                 387       \n",
      "_________________________________________________________________\n",
      "activation_55 (Activation)   (None, 3)                 0         \n",
      "=================================================================\n",
      "Total params: 1,029,827\n",
      "Trainable params: 1,029,827\n",
      "Non-trainable params: 0\n",
      "_________________________________________________________________\n"
     ]
    }
   ],
   "source": [
    "model.summary()"
   ]
  },
  {
   "cell_type": "code",
   "execution_count": 31,
   "metadata": {},
   "outputs": [
    {
     "data": {
      "text/plain": [
       "array([[-0.06982982,  0.05976203,  0.07515687],\n",
       "       [-0.00157245, -0.03450482,  0.02439579],\n",
       "       [ 0.066213  ,  0.05729593,  0.0252305 ]], dtype=float32)"
      ]
     },
     "execution_count": 31,
     "metadata": {},
     "output_type": "execute_result"
    }
   ],
   "source": [
    "model.layers[0].get_weights()[0][:,:,1,0]"
   ]
  },
  {
   "cell_type": "code",
   "execution_count": 32,
   "metadata": {
    "slideshow": {
     "slide_type": "slide"
    }
   },
   "outputs": [
    {
     "ename": "IndexError",
     "evalue": "list index out of range",
     "output_type": "error",
     "traceback": [
      "\u001b[1;31m---------------------------------------------------------------------------\u001b[0m",
      "\u001b[1;31mIndexError\u001b[0m                                Traceback (most recent call last)",
      "\u001b[1;32m<ipython-input-32-4e3620ba1b6d>\u001b[0m in \u001b[0;36m<module>\u001b[1;34m()\u001b[0m\n\u001b[0;32m      1\u001b[0m \u001b[1;31m# Visualize filters in a layer\u001b[0m\u001b[1;33m\u001b[0m\u001b[1;33m\u001b[0m\u001b[0m\n\u001b[0;32m      2\u001b[0m \u001b[1;32mimport\u001b[0m \u001b[0mitertools\u001b[0m\u001b[1;33m\u001b[0m\u001b[0m\n\u001b[1;32m----> 3\u001b[1;33m \u001b[0mfilters\u001b[0m \u001b[1;33m=\u001b[0m \u001b[0mmodel\u001b[0m\u001b[1;33m.\u001b[0m\u001b[0mlayers\u001b[0m\u001b[1;33m[\u001b[0m\u001b[1;36m2\u001b[0m\u001b[1;33m]\u001b[0m\u001b[1;33m.\u001b[0m\u001b[0mget_weights\u001b[0m\u001b[1;33m(\u001b[0m\u001b[1;33m)\u001b[0m\u001b[1;33m[\u001b[0m\u001b[1;36m0\u001b[0m\u001b[1;33m]\u001b[0m\u001b[1;33m\u001b[0m\u001b[0m\n\u001b[0m\u001b[0;32m      4\u001b[0m \u001b[0mfilters\u001b[0m\u001b[1;33m.\u001b[0m\u001b[0mshape\u001b[0m\u001b[1;33m\u001b[0m\u001b[0m\n\u001b[0;32m      5\u001b[0m \u001b[0mfig\u001b[0m\u001b[1;33m,\u001b[0m \u001b[0maxs\u001b[0m \u001b[1;33m=\u001b[0m \u001b[0mplt\u001b[0m\u001b[1;33m.\u001b[0m\u001b[0msubplots\u001b[0m\u001b[1;33m(\u001b[0m\u001b[0mnrows\u001b[0m \u001b[1;33m=\u001b[0m \u001b[0mfilters\u001b[0m\u001b[1;33m.\u001b[0m\u001b[0mshape\u001b[0m\u001b[1;33m[\u001b[0m\u001b[1;36m2\u001b[0m\u001b[1;33m]\u001b[0m\u001b[1;33m,\u001b[0m \u001b[0mncols\u001b[0m \u001b[1;33m=\u001b[0m \u001b[0mfilters\u001b[0m\u001b[1;33m.\u001b[0m\u001b[0mshape\u001b[0m\u001b[1;33m[\u001b[0m\u001b[1;36m3\u001b[0m\u001b[1;33m]\u001b[0m\u001b[1;33m,\u001b[0m \u001b[0mfigsize\u001b[0m\u001b[1;33m=\u001b[0m\u001b[1;33m(\u001b[0m\u001b[1;36m20\u001b[0m\u001b[1;33m,\u001b[0m\u001b[1;36m10\u001b[0m\u001b[1;33m)\u001b[0m\u001b[1;33m)\u001b[0m\u001b[1;33m\u001b[0m\u001b[0m\n",
      "\u001b[1;31mIndexError\u001b[0m: list index out of range"
     ]
    }
   ],
   "source": [
    "# Visualize filters in a layer\n",
    "import itertools\n",
    "filters = model.layers[2].get_weights()[0]\n",
    "filters.shape\n",
    "fig, axs = plt.subplots(nrows = filters.shape[2], ncols = filters.shape[3], figsize=(20,10))\n",
    "for i,j in itertools.product(range(filters.shape[2]),range(filters.shape[3])):\n",
    "    axs[i,j].imshow(filters[:,:,i,j],vmin=-0.5,vmax=+0.5,cmap=\"gray\")\n",
    "    axs[i,j].axis(\"off\")"
   ]
  },
  {
   "cell_type": "markdown",
   "metadata": {
    "slideshow": {
     "slide_type": "slide"
    }
   },
   "source": [
    "## Let's visualize the activations in the intermediate layers"
   ]
  },
  {
   "cell_type": "code",
   "execution_count": 33,
   "metadata": {},
   "outputs": [
    {
     "data": {
      "image/png": "[encoded data removed]",
      "text/plain": [
       "<matplotlib.figure.Figure at 0x20328367cc0>"
      ]
     },
     "metadata": {},
     "output_type": "display_data"
    }
   ],
   "source": [
    "from keras import backend as K\n",
    "\n",
    "def plot_hidden_layers(imt,nmaps=4):\n",
    "    fig = plt.figure(figsize=(15, 10))\n",
    "    plt.title('Hidden layers', loc='center')\n",
    "    plt.axis('off')\n",
    "    layers = [model.layers[0].input] + [model.layers[i].output for i in [0,2,5,7,9]]\n",
    "    for layeri,layer in enumerate(layers):\n",
    "        get = K.function([model.layers[0].input], [layer])\n",
    "        layeroutputs = get([imt[np.newaxis,:,:,:]])[0][0]\n",
    "        for j in range(nmaps): # for each map\n",
    "            sp2=fig.add_subplot(nmaps,len(layers),layeri+1+j*len(layers))\n",
    "            sp2.axis('off')\n",
    "            if (layeroutputs.shape[2]>j):\n",
    "                vmin,vmax = ((0,1) if layeri == 0 else (-0.3,+0.3))\n",
    "                sp2.imshow(layeroutputs[:,:,j],\n",
    "                           cmap=\"gray\",\n",
    "                           interpolation=\"nearest\")\n",
    "    fig.tight_layout()\n",
    "\n",
    "imt=transform(dataset_te[\"image\"].iloc[0],patchsize)\n",
    "plot_hidden_layers(imt)\n"
   ]
  },
  {
   "cell_type": "markdown",
   "metadata": {
    "slideshow": {
     "slide_type": "slide"
    }
   },
   "source": [
    "## We now search for the inputs maximizing a given neuron or set of neurons"
   ]
  },
  {
   "cell_type": "code",
   "execution_count": 34,
   "metadata": {
    "slideshow": {
     "slide_type": "slide"
    }
   },
   "outputs": [
    {
     "name": "stdout",
     "output_type": "stream",
     "text": [
      "_________________________________________________________________\n",
      "Layer (type)                 Output Shape              Param #   \n",
      "=================================================================\n",
      "conv2d_31 (Conv2D)           (None, 32, 32, 96)        2688      \n",
      "_________________________________________________________________\n",
      "activation_51 (Activation)   (None, 32, 32, 96)        0         \n",
      "_________________________________________________________________\n",
      "max_pooling2d_31 (MaxPooling (None, 16, 16, 96)        0         \n",
      "_________________________________________________________________\n",
      "conv2d_32 (Conv2D)           (None, 16, 16, 192)       166080    \n",
      "_________________________________________________________________\n",
      "activation_52 (Activation)   (None, 16, 16, 192)       0         \n",
      "_________________________________________________________________\n",
      "max_pooling2d_32 (MaxPooling (None, 8, 8, 192)         0         \n",
      "_________________________________________________________________\n",
      "conv2d_33 (Conv2D)           (None, 8, 8, 384)         663936    \n",
      "_________________________________________________________________\n",
      "activation_53 (Activation)   (None, 8, 8, 384)         0         \n",
      "_________________________________________________________________\n",
      "max_pooling2d_33 (MaxPooling (None, 4, 4, 384)         0         \n",
      "_________________________________________________________________\n",
      "average_pooling2d_11 (Averag (None, 2, 2, 384)         0         \n",
      "_________________________________________________________________\n",
      "flatten_11 (Flatten)         (None, 1536)              0         \n",
      "_________________________________________________________________\n",
      "dense_21 (Dense)             (None, 128)               196736    \n",
      "_________________________________________________________________\n",
      "activation_54 (Activation)   (None, 128)               0         \n",
      "_________________________________________________________________\n",
      "dropout_11 (Dropout)         (None, 128)               0         \n",
      "_________________________________________________________________\n",
      "dense_22 (Dense)             (None, 3)                 387       \n",
      "_________________________________________________________________\n",
      "activation_55 (Activation)   (None, 3)                 0         \n",
      "=================================================================\n",
      "Total params: 1,029,827\n",
      "Trainable params: 1,029,827\n",
      "Non-trainable params: 0\n",
      "_________________________________________________________________\n"
     ]
    }
   ],
   "source": [
    "model.summary()"
   ]
  },
  {
   "cell_type": "code",
   "execution_count": 64,
   "metadata": {
    "collapsed": true,
    "slideshow": {
     "slide_type": "slide"
    }
   },
   "outputs": [],
   "source": [
    "def makeinputmaximizing(loss, gradstep = 0.01, steps = 20):\n",
    "    grads = K.gradients(loss, model.input)[0]\n",
    "    grads /= K.sqrt(K.mean(K.square(grads)) + 1e-5)\n",
    "    iterate = K.function([model.input, K.learning_phase()],[loss, grads])\n",
    "\n",
    "    # img = transform_simple(dataset_te[\"image\"].iloc[0],patchsize)[np.newaxis,:,:,:]\n",
    "    img = 0.5+0.01*np.random.rand(1,patchsize,patchsize,3)\n",
    "    \n",
    "    for i in range(steps):\n",
    "        loss_value, grads_value = iterate([img, 1])\n",
    "#        if np.max(grads_value)>0:\n",
    "#            gradstep=1/np.max(grads_value)            \n",
    "        img += grads_value * gradstep\n",
    "        img = np.clip(img,0,1)\n",
    "    return img[0,:,:,:]"
   ]
  },
  {
   "cell_type": "code",
   "execution_count": 36,
   "metadata": {},
   "outputs": [
    {
     "data": {
      "text/plain": [
       "<matplotlib.image.AxesImage at 0x2032c63e668>"
      ]
     },
     "execution_count": 36,
     "metadata": {},
     "output_type": "execute_result"
    },
    {
     "data": {
      "image/png": "[encoded data removed]",
      "text/plain": [
       "<matplotlib.figure.Figure at 0x2032c57f320>"
      ]
     },
     "metadata": {},
     "output_type": "display_data"
    }
   ],
   "source": [
    "plt.imshow(makeinputmaximizing(model.layers[6].output[0,2], steps = 1000, gradstep = 0.1))"
   ]
  },
  {
   "cell_type": "code",
   "execution_count": 37,
   "metadata": {},
   "outputs": [
    {
     "name": "stderr",
     "output_type": "stream",
     "text": [
      "100%|██████████| 10/10 [00:09<00:00,  1.11it/s]\n"
     ]
    },
    {
     "data": {
      "image/png": "[encoded data removed]",
      "text/plain": [
       "<matplotlib.figure.Figure at 0x20327b9d358>"
      ]
     },
     "metadata": {},
     "output_type": "display_data"
    }
   ],
   "source": [
    "import tqdm\n",
    "out = model.layers[6].output\n",
    "fig, axs = plt.subplots(nrows = 2, ncols = 5, figsize=(20,5), squeeze = False)\n",
    "for i,j in tqdm.tqdm(list(itertools.product(range(axs.shape[0]), range(axs.shape[1])))):\n",
    "    loss = K.mean(out[:,j])\n",
    "    img = makeinputmaximizing(loss, gradstep = 0.03, steps = 20)\n",
    "    axs[i,j].imshow(img)\n",
    "    axs[i,j].axis(\"off\")"
   ]
  },
  {
   "cell_type": "markdown",
   "metadata": {
    "slideshow": {
     "slide_type": "slide"
    }
   },
   "source": [
    "## Let us look for what the convnet considers an 'ideal paper'"
   ]
  },
  {
   "cell_type": "code",
   "execution_count": 66,
   "metadata": {},
   "outputs": [
    {
     "data": {
      "text/plain": [
       "<matplotlib.image.AxesImage at 0x2033ac67470>"
      ]
     },
     "execution_count": 66,
     "metadata": {},
     "output_type": "execute_result"
    },
    {
     "data": {
      "image/png": "[encoded data removed]",
      "text/plain": [
       "<matplotlib.figure.Figure at 0x203398dce10>"
      ]
     },
     "metadata": {},
     "output_type": "display_data"
    }
   ],
   "source": [
    "\n",
    "final_output=np.zeros((patchsize*3, patchsize, 3))\n",
    "\n",
    "for k in range(3):\n",
    "    loss = model.output[0,k]        \n",
    "    final_output[0+k*patchsize:patchsize+k*patchsize,0:patchsize]=makeinputmaximizing(loss, gradstep=0.01, steps=20)\n",
    "plt.imshow(final_output[:,:,:], vmin=0, vmax=1)\n",
    "    "
   ]
  },
  {
   "cell_type": "markdown",
   "metadata": {
    "slideshow": {
     "slide_type": "slide"
    }
   },
   "source": [
    "## Let us try to locate the gesture in the image\n",
    "- First, we feed an image of a paper gesture to the network;\n",
    "- Second, we assign to each channel in the output of the last convolution a value corresponding ot its contribution to the class \"paper\";\n",
    "- Third, we consider which parts in the input image activate the channels that lead to the decision: this is a paper. "
   ]
  },
  {
   "cell_type": "code",
   "execution_count": 39,
   "metadata": {},
   "outputs": [
    {
     "name": "stdout",
     "output_type": "stream",
     "text": [
      "(32, 32)\n"
     ]
    },
    {
     "data": {
      "text/plain": [
       "<matplotlib.image.AxesImage at 0x2032c4fdf28>"
      ]
     },
     "execution_count": 39,
     "metadata": {},
     "output_type": "execute_result"
    },
    {
     "data": {
      "image/png": "[encoded data removed]",
      "text/plain": [
       "<matplotlib.figure.Figure at 0x2032e5cac18>"
      ]
     },
     "metadata": {},
     "output_type": "display_data"
    }
   ],
   "source": [
    "import cv2\n",
    "\n",
    "img=skimage.img_as_float(skimage.io.imread(\"paper.jpg\"))\n",
    "img=np.expand_dims(img, axis=0)\n",
    "preds=model.predict(img)\n",
    "rps_output=model.output[:, np.argmax(preds[0])]\n",
    "last_conv_layer=model.layers[6]\n",
    "grads=K.gradients(rps_output, last_conv_layer.output)[0]\n",
    "pooled_grads=K.mean(grads, axis=(0, 1, 2))\n",
    "\n",
    "iterate=K.function([model.input, K.learning_phase()], [pooled_grads, last_conv_layer.output[0]])\n",
    "pooled_grads_value, conv_layer_output_value = iterate([img, 1])\n",
    "##\n",
    "for i in range(5):\n",
    "    conv_layer_output_value[:,:,i] *= pooled_grads_value[i]\n",
    "heatmap = np.mean(conv_layer_output_value, axis=-1)\n",
    "heatmap = np.maximum(heatmap, 0)\n",
    "heatmap=cv2.resize(heatmap, (img.shape[1], img.shape[2]))\n",
    "plt.imshow(heatmap)\n",
    "print(heatmap.shape)\n",
    "\n",
    "img=skimage.img_as_float(skimage.io.imread(\"paper.jpg\"))\n",
    "heatmap=np.expand_dims(heatmap, axis=3)\n",
    "superimposed_img= np.clip(img * 0.6 + heatmap , 0, 1)\n",
    "plt.imshow(superimposed_img)\n"
   ]
  },
  {
   "cell_type": "code",
   "execution_count": null,
   "metadata": {
    "collapsed": true
   },
   "outputs": [],
   "source": []
  }
 ],
 "metadata": {
  "celltoolbar": "Slideshow",
  "kernelspec": {
   "display_name": "Python 3",
   "language": "python",
   "name": "python3"
  },
  "language_info": {
   "codemirror_mode": {
    "name": "ipython",
    "version": 3
   },
   "file_extension": ".py",
   "mimetype": "text/x-python",
   "name": "python",
   "nbconvert_exporter": "python",
   "pygments_lexer": "ipython3",
   "version": "3.5.3"
  },
  "livereveal": {
   "scroll": true
  }
 },
 "nbformat": 4,
 "nbformat_minor": 2
}
