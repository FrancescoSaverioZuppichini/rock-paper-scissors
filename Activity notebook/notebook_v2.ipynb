{
 "cells": [
  {
   "cell_type": "markdown",
   "metadata": {
    "slideshow": {
     "slide_type": "slide"
    }
   },
   "source": [
    "# Building a convnet for ✊✋✌\n",
    "This presents how to build a convnet from scratch to classify images of rock-paper-scissors.  It is meant as a teaching activity to demonstrate the following concepts in practice:\n",
    "- how images are represented and handled in software\n",
    "- how to prepare a machine learning dataset\n",
    "- how a full machine learning pipeline looks\n",
    "- data preprocessing\n",
    "- data augmentation and its importance in a \n",
    "- overfitting, underfitting\n",
    "\n",
    "We use the high-level deep learning library Keras, but the concepts are general and we don't put much focus on the specifics of the code."
   ]
  },
  {
   "cell_type": "markdown",
   "metadata": {
    "slideshow": {
     "slide_type": "slide"
    }
   },
   "source": [
    "## Step 0: defining the problem\n",
    "What problem do we want to solve, exactly?  We want to build a piece of software that, given an image as input that represents an hand making one of the three ✊✋✌ gestures, produces as output a classification of the image in one of the three classes.\n",
    "\n",
    "In the following, we will adopt this convention\n",
    "- class 0 is ✊ rock\n",
    "- class 1 is ✋ paper\n",
    "- class 2 is ✌ scissors"
   ]
  },
  {
   "cell_type": "markdown",
   "metadata": {
    "slideshow": {
     "slide_type": "slide"
    }
   },
   "source": [
    "## Step 1: building a dataset\n",
    "We are starting from scratch, so we need to shoot our own dataset; the best option is that multiple students/groups shoot plenty of images in parallel and then the data is somehow collected.  Whatever the process, in the end we want to have all pics in three different directories, one per class.  Format can be either jpg or png, and landscape/portrait, aspect ratio and resolution don't matter and can be mixed.\n",
    "\n",
    "With some attention to logistics, this can be done in about 10-30 minutes.\n",
    "\n",
    "Guidelines for shooting images. \n",
    "- We don't need high resolution: use the lowest resolution/quality allowed by the phone (this reduces the size of the dataset and speeds up data transfer).\n",
    "- The hand must be more or less in the center of the image; it should not fill the whole image, but it should not be too small either.  ![caption](figures/guidelines.jpg)\n",
    "- we want the dataset to represent as much variability as possible: if we want the classifier to work for all hand orientations, try to have examples for all of them; if we want to handle many different lightling conditions, try to have some pictures for different lightings;\n",
    "- avoid poses that are ambiguous, unless you want to make your job harder: e.g., don't include in the dataset images of paper or scissors taken from the side;\n",
    "- avoid having two images in the dataset that are almost the same: change the camera and hand pose at least a little bit; this is important because in the following code we randomly split training and testing data.\n",
    "\n",
    "Remember that we need the images for each class to be in its own directory. To make this simpler, it helps to shoot first all images of rock, then all images of paper, then all images of scissors, and finally sort the images by time in the file manager and group them accordingly.\n",
    "\n",
    "Place all images in three directories named `c0/`, `c1/`, and `c2/`.  Make sure that each directory only contains image files."
   ]
  },
  {
   "cell_type": "markdown",
   "metadata": {
    "slideshow": {
     "slide_type": "slide"
    }
   },
   "source": [
    "## Step 2: read in images and have a look at them\n",
    "Let's first import what we need"
   ]
  },
  {
   "cell_type": "code",
   "execution_count": 1,
   "metadata": {},
   "outputs": [
    {
     "name": "stderr",
     "output_type": "stream",
     "text": [
      "C:\\Users\\Fabrizio\\Anaconda3\\lib\\site-packages\\skimage\\viewer\\utils\\core.py:10: UserWarning: Recommended matplotlib backend is `Agg` for full skimage.viewer functionality.\n",
      "  warn(\"Recommended matplotlib backend is `Agg` for full \"\n",
      "Using TensorFlow backend.\n"
     ]
    }
   ],
   "source": [
    "%matplotlib inline\n",
    "\n",
    "# General imports\n",
    "import matplotlib.pyplot as plt\n",
    "import pathlib\n",
    "import skimage\n",
    "import skimage.transform\n",
    "import skimage.viewer\n",
    "import pandas as pd\n",
    "import numpy as np\n",
    "import time\n",
    "import keras.utils.np_utils\n",
    "from tqdm import tqdm\n",
    "\n",
    "# Setup to show interactive jupyter widgets\n",
    "from IPython.display import Image, display\n",
    "from ipywidgets import interact, fixed\n",
    "import ipywidgets as widgets\n",
    "def imgplotList(i,data):\n",
    "    plt.figure(figsize=(10,10))\n",
    "    plt.imshow(data[i],interpolation=\"nearest\")\n",
    "    plt.show()"
   ]
  },
  {
   "cell_type": "code",
   "execution_count": 2,
   "metadata": {
    "slideshow": {
     "slide_type": "slide"
    }
   },
   "outputs": [
    {
     "name": "stdout",
     "output_type": "stream",
     "text": [
      "Found directory ..\\datasets\\final\\D6\\c2 containing class scissors\n",
      "Found directory ..\\datasets\\final\\D3\\c0 containing class rock\n",
      "Found directory ..\\datasets\\final\\D1\\c0 containing class rock\n",
      "Found directory ..\\datasets\\final\\D4\\c2 containing class scissors\n",
      "Found directory ..\\datasets\\final\\D3\\c1 containing class paper\n",
      "Found directory ..\\datasets\\final\\testing\\c1 containing class paper\n",
      "Found directory ..\\datasets\\final\\testing\\c2 containing class scissors\n",
      "Found directory ..\\datasets\\final\\testing\\c0 containing class rock\n",
      "Found directory ..\\datasets\\final\\D5\\c1 containing class paper\n",
      "Found directory ..\\datasets\\final\\D7\\c2 containing class scissors\n",
      "Found directory ..\\datasets\\final\\D4\\c1 containing class paper\n",
      "Found directory ..\\datasets\\final\\D2\\c1 containing class paper\n",
      "Found directory ..\\datasets\\final\\D7\\c1 containing class paper\n",
      "Found directory ..\\datasets\\final\\D6\\c0 containing class rock\n",
      "Found directory ..\\datasets\\final\\D4\\c0 containing class rock\n",
      "Found directory ..\\datasets\\final\\D2\\c2 containing class scissors\n",
      "Found directory ..\\datasets\\final\\D5\\c2 containing class scissors\n",
      "Found directory ..\\datasets\\final\\D1\\c1 containing class paper\n",
      "Found directory ..\\datasets\\final\\D1\\c2 containing class scissors\n",
      "Found directory ..\\datasets\\final\\D3\\c2 containing class scissors\n",
      "Found directory ..\\datasets\\final\\D5\\c0 containing class rock\n",
      "Found directory ..\\datasets\\final\\D2\\c0 containing class rock\n",
      "Found directory ..\\datasets\\final\\D6\\c1 containing class paper\n",
      "Found directory ..\\datasets\\final\\D7\\c0 containing class rock\n"
     ]
    }
   ],
   "source": [
    "# Define where datasets are located\n",
    "dataset_directory = pathlib.Path(\"..\")/\"datasets\"/\"final\"\n",
    "\n",
    "# Define which datasets we should consider.\n",
    "# Each dataset is a directory withing dataset_directory\n",
    "# and must contain three subdirectories: (c0, c1, c2) for (rock, paper, scissors).\n",
    "dnames = [\"D{}\".format(n) for n in range(1,8)] + [\"testing\"]\n",
    "\n",
    "\n",
    "# Now check the data\n",
    "ddirs=[dataset_directory/dn for dn in dnames] # directories of the dataset\n",
    "cdirs={}\n",
    "for ddir in ddirs:\n",
    "    cdirs.update({ddir/\"c0\":0,\n",
    "                  ddir/\"c1\":1,\n",
    "                  ddir/\"c2\":2})\n",
    "names = [\"rock\", \"paper\", \"scissors\"]\n",
    "for cdir,cdir_class in cdirs.items():\n",
    "    assert(cdir.exists())\n",
    "    print(\"Found directory {} containing class {}\".format(cdir,names[cdir_class]))"
   ]
  },
  {
   "cell_type": "markdown",
   "metadata": {
    "slideshow": {
     "slide_type": "slide"
    }
   },
   "source": [
    "Let's try to read the first image from the first directory, and visualize it.  Note that the tool allows you to zoom in order to see the individual pixels."
   ]
  },
  {
   "cell_type": "code",
   "execution_count": 3,
   "metadata": {},
   "outputs": [
    {
     "data": {
      "text/plain": [
       "[]"
      ]
     },
     "execution_count": 3,
     "metadata": {},
     "output_type": "execute_result"
    }
   ],
   "source": [
    "im = skimage.io.imread(list(list(cdirs.keys())[0].glob(\"*\"))[0])\n",
    "viewer=skimage.viewer.ImageViewer(im)\n",
    "viewer.show()\n",
    "# Note: you have to close the window to continue"
   ]
  },
  {
   "cell_type": "markdown",
   "metadata": {
    "slideshow": {
     "slide_type": "slide"
    }
   },
   "source": [
    "We now read in all images, cut the central square (with an edge as long as the shorter dimension), and resize it to 200x200 pixels.  Whatever the initial size and orientation of the images, we will end up with a bunch of 200x200 RGB squares in uint8.  These should be small enough that unless the dataset is huge, all should fit in memory.\n",
    "\n",
    "We make a pandas dataframe with the data, with two columns:\n",
    "* image: a $200 \\times 200 \\times 3$ uint8 numpy array\n",
    "* label: on of 0, 1 or 2\n",
    "* file: the full path of the image"
   ]
  },
  {
   "cell_type": "code",
   "execution_count": 4,
   "metadata": {
    "scrolled": false
   },
   "outputs": [
    {
     "name": "stderr",
     "output_type": "stream",
     "text": [
      " 38%|███▊      | 9/24 [00:17<00:29,  2.00s/it]C:\\Users\\Fabrizio\\Anaconda3\\lib\\site-packages\\ipykernel_launcher.py:12: UserWarning: ignoring ..\\datasets\\final\\D7\\c2\\.DS_Store due to exception cannot identify image file 'C:\\\\Users\\\\Fabrizio\\\\Documents\\\\GitHub\\\\rock-paper-scissors\\\\datasets\\\\final\\\\D7\\\\c2\\\\.DS_Store'\n",
      "  if sys.path[0] == '':\n",
      " 50%|█████     | 12/24 [00:27<00:27,  2.30s/it]C:\\Users\\Fabrizio\\Anaconda3\\lib\\site-packages\\ipykernel_launcher.py:12: UserWarning: ignoring ..\\datasets\\final\\D7\\c1\\.DS_Store due to exception cannot identify image file 'C:\\\\Users\\\\Fabrizio\\\\Documents\\\\GitHub\\\\rock-paper-scissors\\\\datasets\\\\final\\\\D7\\\\c1\\\\.DS_Store'\n",
      "  if sys.path[0] == '':\n",
      " 96%|█████████▌| 23/24 [00:53<00:02,  2.30s/it]C:\\Users\\Fabrizio\\Anaconda3\\lib\\site-packages\\ipykernel_launcher.py:12: UserWarning: ignoring ..\\datasets\\final\\D7\\c0\\.DS_Store due to exception cannot identify image file 'C:\\\\Users\\\\Fabrizio\\\\Documents\\\\GitHub\\\\rock-paper-scissors\\\\datasets\\\\final\\\\D7\\\\c0\\\\.DS_Store'\n",
      "  if sys.path[0] == '':\n",
      "100%|██████████| 24/24 [00:59<00:00,  2.46s/it]\n"
     ]
    },
    {
     "name": "stdout",
     "output_type": "stream",
     "text": [
      "Done\n"
     ]
    }
   ],
   "source": [
    "imagesize = 200\n",
    "\n",
    "dataset=[]\n",
    "\n",
    "import warnings\n",
    "\n",
    "for cdir,cn in tqdm(list(cdirs.items())):\n",
    "    for f in list(cdir.glob(\"*\")):\n",
    "        try:\n",
    "            im=skimage.io.imread(f)\n",
    "        except (OSError, ValueError) as e:\n",
    "            warnings.warn(\"ignoring {} due to exception {}\".format(f,str(e)))\n",
    "            continue\n",
    "            \n",
    "        h,w=im.shape[0:2] # height, width\n",
    "        sz=min(h,w)\n",
    "        im=im[(h//2-sz//2):(h//2+sz//2),(w//2-sz//2):(w//2+sz//2),:] # defines the central square        \n",
    "        with warnings.catch_warnings():\n",
    "            warnings.simplefilter(\"ignore\")\n",
    "            im=skimage.img_as_ubyte(skimage.transform.resize(im,(imagesize,imagesize))) # resize it to 500x500, whatever the original resolution\n",
    "            \n",
    "        dataset.append({\n",
    "            \"file\":f,\n",
    "            \"label\":cn,\n",
    "            \"image\":im})\n",
    "        \n",
    "print(\"Done\")"
   ]
  },
  {
   "cell_type": "markdown",
   "metadata": {
    "slideshow": {
     "slide_type": "slide"
    }
   },
   "source": [
    "We make a pandas dataframe for the dataset, and create a \"dn\" field containing the name of the dataset from which each image comes (as the name of the directory it was read from)."
   ]
  },
  {
   "cell_type": "code",
   "execution_count": 5,
   "metadata": {
    "collapsed": true
   },
   "outputs": [],
   "source": [
    "dataset=pd.DataFrame(dataset)\n",
    "dataset[\"dn\"]=dataset[\"file\"].apply(lambda x: x.parent.parts[-2])"
   ]
  },
  {
   "cell_type": "markdown",
   "metadata": {
    "slideshow": {
     "slide_type": "fragment"
    }
   },
   "source": [
    "Here are 10 random rows from that dataset"
   ]
  },
  {
   "cell_type": "code",
   "execution_count": 6,
   "metadata": {},
   "outputs": [
    {
     "data": {
      "text/html": [
       "<style  type=\"text/css\" >\n",
       "</style>  \n",
       "<table id=\"T_93057c18_2843_11e8_92db_dd1222abc21e\" > \n",
       "<thead>    <tr> \n",
       "        <th class=\"blank level0\" ></th> \n",
       "        <th class=\"col_heading level0 col0\" >image</th> \n",
       "        <th class=\"col_heading level0 col1\" >label</th> \n",
       "        <th class=\"col_heading level0 col2\" >file</th> \n",
       "        <th class=\"col_heading level0 col3\" >dn</th> \n",
       "    </tr></thead> \n",
       "<tbody>    <tr> \n",
       "        <th id=\"T_93057c18_2843_11e8_92db_dd1222abc21e\" class=\"row_heading level0 row0\" >525</th> \n",
       "        <td id=\"T_93057c18_2843_11e8_92db_dd1222abc21erow0_col0\" class=\"data row0 col0\" >[[[ 48  37  26]\n",
       "  [ 79  56  45]\n",
       "  [130  93  83]\n",
       "  ..., \n",
       "  [ 75  65  50]\n",
       "  [ 72  58  46]\n",
       "  [ 73  59  48]]\n",
       "\n",
       " [[ 47  33  19]\n",
       "  [101  75  63]\n",
       "  [140 103  89]\n",
       "  ..., \n",
       "  [ 46  38  28]\n",
       "  [ 54  43  31]\n",
       "  [ 57  45  34]]\n",
       "\n",
       " [[ 74  56  41]\n",
       "  [114  85  71]\n",
       "  [146 108  92]\n",
       "  ..., \n",
       "  [ 16  12   7]\n",
       "  [ 15  10   2]\n",
       "  [ 22  17   8]]\n",
       "\n",
       " ..., \n",
       " [[ 61  61  59]\n",
       "  [ 66  66  64]\n",
       "  [ 69  69  67]\n",
       "  ..., \n",
       "  [ 18  17  31]\n",
       "  [ 13  12  29]\n",
       "  [ 16  15  33]]\n",
       "\n",
       " [[ 66  64  65]\n",
       "  [ 67  67  65]\n",
       "  [ 73  72  69]\n",
       "  ..., \n",
       "  [ 26  23  37]\n",
       "  [ 23  22  36]\n",
       "  [ 23  22  37]]\n",
       "\n",
       " [[ 69  67  68]\n",
       "  [ 73  72  70]\n",
       "  [ 72  71  67]\n",
       "  ..., \n",
       "  [ 22  19  32]\n",
       "  [ 27  24  38]\n",
       "  [ 53  51  65]]]</td> \n",
       "        <td id=\"T_93057c18_2843_11e8_92db_dd1222abc21erow0_col1\" class=\"data row0 col1\" >1</td> \n",
       "        <td id=\"T_93057c18_2843_11e8_92db_dd1222abc21erow0_col2\" class=\"data row0 col2\" >..\\datasets\\final\\D5\\c1\\20140828_184410.jpg</td> \n",
       "        <td id=\"T_93057c18_2843_11e8_92db_dd1222abc21erow0_col3\" class=\"data row0 col3\" >D5</td> \n",
       "    </tr>    <tr> \n",
       "        <th id=\"T_93057c18_2843_11e8_92db_dd1222abc21e\" class=\"row_heading level0 row1\" >593</th> \n",
       "        <td id=\"T_93057c18_2843_11e8_92db_dd1222abc21erow1_col0\" class=\"data row1 col0\" >[[[254 218 170]\n",
       "  [255 219 170]\n",
       "  [255 219 171]\n",
       "  ..., \n",
       "  [ 68  65  62]\n",
       "  [ 66  65  60]\n",
       "  [ 66  63  58]]\n",
       "\n",
       " [[255 219 171]\n",
       "  [254 219 171]\n",
       "  [255 219 171]\n",
       "  ..., \n",
       "  [ 67  66  62]\n",
       "  [ 64  63  60]\n",
       "  [ 67  63  58]]\n",
       "\n",
       " [[251 218 169]\n",
       "  [254 218 169]\n",
       "  [255 219 169]\n",
       "  ..., \n",
       "  [ 66  64  57]\n",
       "  [ 66  62  60]\n",
       "  [ 64  58  57]]\n",
       "\n",
       " ..., \n",
       " [[129 102 110]\n",
       "  [138 112 119]\n",
       "  [160 133 138]\n",
       "  ..., \n",
       "  [192 164 102]\n",
       "  [193 163 100]\n",
       "  [192 162  99]]\n",
       "\n",
       " [[140 112 119]\n",
       "  [152 126 132]\n",
       "  [141 115 123]\n",
       "  ..., \n",
       "  [193 166 104]\n",
       "  [196 166 105]\n",
       "  [192 162 103]]\n",
       "\n",
       " [[154 124 134]\n",
       "  [137 106 115]\n",
       "  [121  89 100]\n",
       "  ..., \n",
       "  [195 166 108]\n",
       "  [194 166 105]\n",
       "  [195 166 108]]]</td> \n",
       "        <td id=\"T_93057c18_2843_11e8_92db_dd1222abc21erow1_col1\" class=\"data row1 col1\" >2</td> \n",
       "        <td id=\"T_93057c18_2843_11e8_92db_dd1222abc21erow1_col2\" class=\"data row1 col2\" >..\\datasets\\final\\D7\\c2\\20180219111213-Scissors-31b718cd52609698.jpg</td> \n",
       "        <td id=\"T_93057c18_2843_11e8_92db_dd1222abc21erow1_col3\" class=\"data row1 col3\" >D7</td> \n",
       "    </tr>    <tr> \n",
       "        <th id=\"T_93057c18_2843_11e8_92db_dd1222abc21e\" class=\"row_heading level0 row2\" >761</th> \n",
       "        <td id=\"T_93057c18_2843_11e8_92db_dd1222abc21erow2_col0\" class=\"data row2 col0\" >[[[148 150 149]\n",
       "  [149 151 150]\n",
       "  [152 154 153]\n",
       "  ..., \n",
       "  [137 136 132]\n",
       "  [136 137 132]\n",
       "  [135 136 131]]\n",
       "\n",
       " [[148 150 149]\n",
       "  [150 152 151]\n",
       "  [151 153 152]\n",
       "  ..., \n",
       "  [138 137 133]\n",
       "  [139 138 134]\n",
       "  [137 136 132]]\n",
       "\n",
       " [[149 151 150]\n",
       "  [150 152 151]\n",
       "  [152 154 153]\n",
       "  ..., \n",
       "  [138 137 133]\n",
       "  [139 138 136]\n",
       "  [136 135 133]]\n",
       "\n",
       " ..., \n",
       " [[134 135 137]\n",
       "  [135 136 138]\n",
       "  [136 137 139]\n",
       "  ..., \n",
       "  [ 99  99 101]\n",
       "  [ 98  98 100]\n",
       "  [ 97  97  99]]\n",
       "\n",
       " [[132 133 135]\n",
       "  [133 134 136]\n",
       "  [134 135 137]\n",
       "  ..., \n",
       "  [ 99  99  99]\n",
       "  [ 98  97  98]\n",
       "  [ 98  96  97]]\n",
       "\n",
       " [[132 133 135]\n",
       "  [133 134 136]\n",
       "  [134 135 137]\n",
       "  ..., \n",
       "  [ 98  98  98]\n",
       "  [ 97  96  97]\n",
       "  [ 95  93  94]]]</td> \n",
       "        <td id=\"T_93057c18_2843_11e8_92db_dd1222abc21erow2_col1\" class=\"data row2 col1\" >1</td> \n",
       "        <td id=\"T_93057c18_2843_11e8_92db_dd1222abc21erow2_col2\" class=\"data row2 col2\" >..\\datasets\\final\\D4\\c1\\20170802_161238.jpg</td> \n",
       "        <td id=\"T_93057c18_2843_11e8_92db_dd1222abc21erow2_col3\" class=\"data row2 col3\" >D4</td> \n",
       "    </tr>    <tr> \n",
       "        <th id=\"T_93057c18_2843_11e8_92db_dd1222abc21e\" class=\"row_heading level0 row3\" >356</th> \n",
       "        <td id=\"T_93057c18_2843_11e8_92db_dd1222abc21erow3_col0\" class=\"data row3 col0\" >[[[164 169 149]\n",
       "  [166 171 151]\n",
       "  [169 174 154]\n",
       "  ..., \n",
       "  [142 156 157]\n",
       "  [143 155 157]\n",
       "  [142 153 155]]\n",
       "\n",
       " [[168 173 153]\n",
       "  [168 173 153]\n",
       "  [169 174 154]\n",
       "  ..., \n",
       "  [146 156 158]\n",
       "  [144 154 156]\n",
       "  [145 155 157]]\n",
       "\n",
       " [[167 172 152]\n",
       "  [168 173 153]\n",
       "  [170 175 155]\n",
       "  ..., \n",
       "  [148 158 159]\n",
       "  [148 156 158]\n",
       "  [148 156 159]]\n",
       "\n",
       " ..., \n",
       " [[155 121  75]\n",
       "  [156 122  76]\n",
       "  [157 123  75]\n",
       "  ..., \n",
       "  [135 135 137]\n",
       "  [136 136 138]\n",
       "  [135 135 137]]\n",
       "\n",
       " [[154 118  70]\n",
       "  [156 121  74]\n",
       "  [152 119  71]\n",
       "  ..., \n",
       "  [133 133 135]\n",
       "  [134 134 136]\n",
       "  [134 134 136]]\n",
       "\n",
       " [[153 117  69]\n",
       "  [154 119  71]\n",
       "  [149 117  68]\n",
       "  ..., \n",
       "  [133 133 135]\n",
       "  [133 133 135]\n",
       "  [131 131 133]]]</td> \n",
       "        <td id=\"T_93057c18_2843_11e8_92db_dd1222abc21erow3_col1\" class=\"data row3 col1\" >1</td> \n",
       "        <td id=\"T_93057c18_2843_11e8_92db_dd1222abc21erow3_col2\" class=\"data row3 col2\" >..\\datasets\\final\\D3\\c1\\20170705_121834.jpg</td> \n",
       "        <td id=\"T_93057c18_2843_11e8_92db_dd1222abc21erow3_col3\" class=\"data row3 col3\" >D3</td> \n",
       "    </tr>    <tr> \n",
       "        <th id=\"T_93057c18_2843_11e8_92db_dd1222abc21e\" class=\"row_heading level0 row4\" >310</th> \n",
       "        <td id=\"T_93057c18_2843_11e8_92db_dd1222abc21erow4_col0\" class=\"data row4 col0\" >[[[156 157 151]\n",
       "  [155 156 151]\n",
       "  [159 160 155]\n",
       "  ..., \n",
       "  [154 156 155]\n",
       "  [154 157 156]\n",
       "  [153 156 155]]\n",
       "\n",
       " [[157 158 152]\n",
       "  [157 158 153]\n",
       "  [160 161 156]\n",
       "  ..., \n",
       "  [156 158 158]\n",
       "  [155 157 156]\n",
       "  [153 155 154]]\n",
       "\n",
       " [[157 159 152]\n",
       "  [159 161 156]\n",
       "  [159 161 156]\n",
       "  ..., \n",
       "  [157 159 158]\n",
       "  [158 158 158]\n",
       "  [155 155 155]]\n",
       "\n",
       " ..., \n",
       " [[ 80  55  48]\n",
       "  [ 82  54  48]\n",
       "  [ 83  53  47]\n",
       "  ..., \n",
       "  [126 126 128]\n",
       "  [126 125 130]\n",
       "  [128 127 132]]\n",
       "\n",
       " [[ 80  59  50]\n",
       "  [ 82  57  50]\n",
       "  [ 82  56  49]\n",
       "  ..., \n",
       "  [123 122 127]\n",
       "  [128 127 132]\n",
       "  [126 125 131]]\n",
       "\n",
       " [[ 84  64  56]\n",
       "  [ 87  64  56]\n",
       "  [ 83  58  51]\n",
       "  ..., \n",
       "  [124 123 128]\n",
       "  [123 122 128]\n",
       "  [122 121 127]]]</td> \n",
       "        <td id=\"T_93057c18_2843_11e8_92db_dd1222abc21erow4_col1\" class=\"data row4 col1\" >2</td> \n",
       "        <td id=\"T_93057c18_2843_11e8_92db_dd1222abc21erow4_col2\" class=\"data row4 col2\" >..\\datasets\\final\\D4\\c2\\20170802_151501.jpg</td> \n",
       "        <td id=\"T_93057c18_2843_11e8_92db_dd1222abc21erow4_col3\" class=\"data row4 col3\" >D4</td> \n",
       "    </tr>    <tr> \n",
       "        <th id=\"T_93057c18_2843_11e8_92db_dd1222abc21e\" class=\"row_heading level0 row5\" >631</th> \n",
       "        <td id=\"T_93057c18_2843_11e8_92db_dd1222abc21erow5_col0\" class=\"data row5 col0\" >[[[211 213 212]\n",
       "  [206 210 211]\n",
       "  [205 207 209]\n",
       "  ..., \n",
       "  [143 144 115]\n",
       "  [169 181 153]\n",
       "  [109 127  83]]\n",
       "\n",
       " [[206 210 211]\n",
       "  [205 209 214]\n",
       "  [204 206 208]\n",
       "  ..., \n",
       "  [204 207 190]\n",
       "  [149 156 120]\n",
       "  [152 163 128]]\n",
       "\n",
       " [[202 205 208]\n",
       "  [202 206 210]\n",
       "  [217 219 219]\n",
       "  ..., \n",
       "  [167 175 148]\n",
       "  [153 157 133]\n",
       "  [142 156 121]]\n",
       "\n",
       " ..., \n",
       " [[ 19  25  37]\n",
       "  [ 17  28  37]\n",
       "  [ 26  35  47]\n",
       "  ..., \n",
       "  [ 67 107  74]\n",
       "  [ 53  82  40]\n",
       "  [ 67  90  51]]\n",
       "\n",
       " [[ 26  32  42]\n",
       "  [ 25  33  42]\n",
       "  [ 25  33  43]\n",
       "  ..., \n",
       "  [ 58 112 103]\n",
       "  [ 60 103  45]\n",
       "  [ 70 105  54]]\n",
       "\n",
       " [[ 13  20  30]\n",
       "  [ 25  32  42]\n",
       "  [ 21  30  39]\n",
       "  ..., \n",
       "  [ 51  97  86]\n",
       "  [ 73 121  74]\n",
       "  [ 65 104  51]]]</td> \n",
       "        <td id=\"T_93057c18_2843_11e8_92db_dd1222abc21erow5_col1\" class=\"data row5 col1\" >2</td> \n",
       "        <td id=\"T_93057c18_2843_11e8_92db_dd1222abc21erow5_col2\" class=\"data row5 col2\" >..\\datasets\\final\\D7\\c2\\20180219134400-Scissors-755f029b7e2a43e1.jpg</td> \n",
       "        <td id=\"T_93057c18_2843_11e8_92db_dd1222abc21erow5_col3\" class=\"data row5 col3\" >D7</td> \n",
       "    </tr>    <tr> \n",
       "        <th id=\"T_93057c18_2843_11e8_92db_dd1222abc21e\" class=\"row_heading level0 row6\" >1735</th> \n",
       "        <td id=\"T_93057c18_2843_11e8_92db_dd1222abc21erow6_col0\" class=\"data row6 col0\" >[[[ 90  86  92]\n",
       "  [ 93  89  96]\n",
       "  [ 94  93 101]\n",
       "  ..., \n",
       "  [ 28  26  38]\n",
       "  [ 23  22  31]\n",
       "  [ 24  24  31]]\n",
       "\n",
       " [[ 34  30  27]\n",
       "  [ 40  36  39]\n",
       "  [ 49  45  48]\n",
       "  ..., \n",
       "  [ 23  21  32]\n",
       "  [ 19  19  28]\n",
       "  [ 29  31  38]]\n",
       "\n",
       " [[ 34  30  28]\n",
       "  [ 40  35  34]\n",
       "  [ 40  34  34]\n",
       "  ..., \n",
       "  [ 16  15  24]\n",
       "  [ 28  31  42]\n",
       "  [ 19  25  34]]\n",
       "\n",
       " ..., \n",
       " [[252 252 250]\n",
       "  [254 253 251]\n",
       "  [254 252 252]\n",
       "  ..., \n",
       "  [ 28  19  20]\n",
       "  [ 34  24  28]\n",
       "  [ 29  19  20]]\n",
       "\n",
       " [[254 252 247]\n",
       "  [254 251 248]\n",
       "  [249 243 241]\n",
       "  ..., \n",
       "  [ 36  26  27]\n",
       "  [ 27  17  19]\n",
       "  [ 34  22  25]]\n",
       "\n",
       " [[251 244 242]\n",
       "  [250 242 240]\n",
       "  [253 249 247]\n",
       "  ..., \n",
       "  [ 25  16  19]\n",
       "  [ 29  20  22]\n",
       "  [ 25  14  18]]]</td> \n",
       "        <td id=\"T_93057c18_2843_11e8_92db_dd1222abc21erow6_col1\" class=\"data row6 col1\" >0</td> \n",
       "        <td id=\"T_93057c18_2843_11e8_92db_dd1222abc21erow6_col2\" class=\"data row6 col2\" >..\\datasets\\final\\D7\\c0\\20180219133936-Rock-3e432e7eb2b46156.jpg</td> \n",
       "        <td id=\"T_93057c18_2843_11e8_92db_dd1222abc21erow6_col3\" class=\"data row6 col3\" >D7</td> \n",
       "    </tr>    <tr> \n",
       "        <th id=\"T_93057c18_2843_11e8_92db_dd1222abc21e\" class=\"row_heading level0 row7\" >911</th> \n",
       "        <td id=\"T_93057c18_2843_11e8_92db_dd1222abc21erow7_col0\" class=\"data row7 col0\" >[[[29 28 21]\n",
       "  [37 37 29]\n",
       "  [41 38 30]\n",
       "  ..., \n",
       "  [ 6  6  6]\n",
       "  [ 6  6  6]\n",
       "  [ 6  6  6]]\n",
       "\n",
       " [[27 27 19]\n",
       "  [36 34 30]\n",
       "  [41 38 31]\n",
       "  ..., \n",
       "  [ 7  7  7]\n",
       "  [ 5  5  5]\n",
       "  [ 7  7  7]]\n",
       "\n",
       " [[26 27 21]\n",
       "  [28 29 23]\n",
       "  [35 33 27]\n",
       "  ..., \n",
       "  [ 6  6  6]\n",
       "  [ 6  6  6]\n",
       "  [ 6  6  6]]\n",
       "\n",
       " ..., \n",
       " [[ 5  5  7]\n",
       "  [ 5  5  7]\n",
       "  [ 6  5  7]\n",
       "  ..., \n",
       "  [ 8 10 22]\n",
       "  [10 13 24]\n",
       "  [10 14 31]]\n",
       "\n",
       " [[ 4  5  7]\n",
       "  [ 6  6  8]\n",
       "  [ 4  6  8]\n",
       "  ..., \n",
       "  [ 9 12 23]\n",
       "  [10 13 25]\n",
       "  [14 17 34]]\n",
       "\n",
       " [[ 4  5  7]\n",
       "  [ 5  5  7]\n",
       "  [ 5  6  8]\n",
       "  ..., \n",
       "  [13 17 29]\n",
       "  [12 14 27]\n",
       "  [11 13 28]]]</td> \n",
       "        <td id=\"T_93057c18_2843_11e8_92db_dd1222abc21erow7_col1\" class=\"data row7 col1\" >1</td> \n",
       "        <td id=\"T_93057c18_2843_11e8_92db_dd1222abc21erow7_col2\" class=\"data row7 col2\" >..\\datasets\\final\\D7\\c1\\20180219134025-Paper-7f0bce083085f94c.jpg</td> \n",
       "        <td id=\"T_93057c18_2843_11e8_92db_dd1222abc21erow7_col3\" class=\"data row7 col3\" >D7</td> \n",
       "    </tr>    <tr> \n",
       "        <th id=\"T_93057c18_2843_11e8_92db_dd1222abc21e\" class=\"row_heading level0 row8\" >713</th> \n",
       "        <td id=\"T_93057c18_2843_11e8_92db_dd1222abc21erow8_col0\" class=\"data row8 col0\" >[[[161 147 112]\n",
       "  [161 145 111]\n",
       "  [167 150 111]\n",
       "  ..., \n",
       "  [182 178 166]\n",
       "  [181 176 164]\n",
       "  [177 172 159]]\n",
       "\n",
       " [[161 144 111]\n",
       "  [166 146 109]\n",
       "  [168 149 109]\n",
       "  ..., \n",
       "  [181 176 166]\n",
       "  [179 177 163]\n",
       "  [182 175 161]]\n",
       "\n",
       " [[162 143 111]\n",
       "  [166 144 110]\n",
       "  [167 147 109]\n",
       "  ..., \n",
       "  [181 176 166]\n",
       "  [180 175 163]\n",
       "  [183 177 165]]\n",
       "\n",
       " ..., \n",
       " [[159  95  59]\n",
       "  [151  90  62]\n",
       "  [148  86  64]\n",
       "  ..., \n",
       "  [206 213 219]\n",
       "  [202 210 215]\n",
       "  [196 205 214]]\n",
       "\n",
       " [[153  87  58]\n",
       "  [149  89  65]\n",
       "  [147  86  62]\n",
       "  ..., \n",
       "  [204 212 217]\n",
       "  [203 210 216]\n",
       "  [196 205 212]]\n",
       "\n",
       " [[145  88  59]\n",
       "  [144  86  60]\n",
       "  [138  80  54]\n",
       "  ..., \n",
       "  [203 212 217]\n",
       "  [205 212 218]\n",
       "  [199 207 214]]]</td> \n",
       "        <td id=\"T_93057c18_2843_11e8_92db_dd1222abc21erow8_col1\" class=\"data row8 col1\" >2</td> \n",
       "        <td id=\"T_93057c18_2843_11e8_92db_dd1222abc21erow8_col2\" class=\"data row8 col2\" >..\\datasets\\final\\D7\\c2\\20180219140108-Scissors-f981ba423d564f6c.jpg</td> \n",
       "        <td id=\"T_93057c18_2843_11e8_92db_dd1222abc21erow8_col3\" class=\"data row8 col3\" >D7</td> \n",
       "    </tr>    <tr> \n",
       "        <th id=\"T_93057c18_2843_11e8_92db_dd1222abc21e\" class=\"row_heading level0 row9\" >1822</th> \n",
       "        <td id=\"T_93057c18_2843_11e8_92db_dd1222abc21erow9_col0\" class=\"data row9 col0\" >[[[ 26   9   7]\n",
       "  [142 109  95]\n",
       "  [147 109  90]\n",
       "  ..., \n",
       "  [ 69  24  55]\n",
       "  [ 67  25  56]\n",
       "  [ 68  24  54]]\n",
       "\n",
       " [[ 17   4   4]\n",
       "  [145 116 103]\n",
       "  [151 113  95]\n",
       "  ..., \n",
       "  [ 67  24  54]\n",
       "  [ 69  26  56]\n",
       "  [ 71  26  57]]\n",
       "\n",
       " [[ 13   5   5]\n",
       "  [145 114 101]\n",
       "  [153 115  95]\n",
       "  ..., \n",
       "  [ 69  24  55]\n",
       "  [ 71  25  55]\n",
       "  [ 68  23  53]]\n",
       "\n",
       " ..., \n",
       " [[  5  14  11]\n",
       "  [  7  16  14]\n",
       "  [  6  15  12]\n",
       "  ..., \n",
       "  [ 23  22  18]\n",
       "  [ 23  21  17]\n",
       "  [ 23  19  15]]\n",
       "\n",
       " [[  7  16  13]\n",
       "  [  7  17  15]\n",
       "  [  4  13  10]\n",
       "  ..., \n",
       "  [ 20  21  16]\n",
       "  [ 22  19  15]\n",
       "  [ 21  17  14]]\n",
       "\n",
       " [[  7  16  14]\n",
       "  [  6  16  12]\n",
       "  [  6  16  13]\n",
       "  ..., \n",
       "  [ 21  20  16]\n",
       "  [ 22  21  17]\n",
       "  [ 23  19  16]]]</td> \n",
       "        <td id=\"T_93057c18_2843_11e8_92db_dd1222abc21erow9_col1\" class=\"data row9 col1\" >0</td> \n",
       "        <td id=\"T_93057c18_2843_11e8_92db_dd1222abc21erow9_col2\" class=\"data row9 col2\" >..\\datasets\\final\\D7\\c0\\20180219141947-Rock-2700eab94ebb663e.jpg</td> \n",
       "        <td id=\"T_93057c18_2843_11e8_92db_dd1222abc21erow9_col3\" class=\"data row9 col3\" >D7</td> \n",
       "    </tr></tbody> \n",
       "</table> "
      ],
      "text/plain": [
       "<pandas.io.formats.style.Styler at 0x2180e02e828>"
      ]
     },
     "execution_count": 6,
     "metadata": {},
     "output_type": "execute_result"
    }
   ],
   "source": [
    "dataset.sample(n=10)[[\"image\",\"label\",\"file\",\"dn\"]].style"
   ]
  },
  {
   "cell_type": "markdown",
   "metadata": {
    "slideshow": {
     "slide_type": "slide"
    }
   },
   "source": [
    "Optionally, we can quickly scroll through the images in our dataset."
   ]
  },
  {
   "cell_type": "code",
   "execution_count": 7,
   "metadata": {},
   "outputs": [
    {
     "data": {
      "text/plain": [
       "[]"
      ]
     },
     "execution_count": 7,
     "metadata": {},
     "output_type": "execute_result"
    }
   ],
   "source": [
    "viewer=skimage.viewer.CollectionViewer([r[1][\"image\"] for r in dataset.iterrows()])\n",
    "viewer.show()\n",
    "# Note: you have to close the window to continue"
   ]
  },
  {
   "cell_type": "markdown",
   "metadata": {
    "slideshow": {
     "slide_type": "slide"
    }
   },
   "source": [
    "## Step 3: Prepare training and testing sets\n",
    "\n",
    "How should we split training and testing data?  The code below implements a few options (run only one of the cells)."
   ]
  },
  {
   "cell_type": "code",
   "execution_count": 8,
   "metadata": {
    "collapsed": true
   },
   "outputs": [],
   "source": [
    "# Option one (hard): use all samples from dataset named \"testing\"\n",
    "# which contains some images taken in the same days as D1--D4, but not contained in these dirs.\n",
    "te_mask = dataset[\"dn\"]==\"testing\"\n",
    "dataset_te=dataset[te_mask]"
   ]
  },
  {
   "cell_type": "code",
   "execution_count": 9,
   "metadata": {
    "collapsed": true
   },
   "outputs": [],
   "source": [
    "# Option two (hard): test on all samples from one specific dataset\n",
    "te_mask = dataset[\"dn\"]==\"D2\"\n",
    "dataset_te=dataset[te_mask]"
   ]
  },
  {
   "cell_type": "code",
   "execution_count": 10,
   "metadata": {
    "collapsed": true,
    "slideshow": {
     "slide_type": "slide"
    }
   },
   "outputs": [],
   "source": [
    "# In any case, training samples are all other samples\n",
    "dataset_tr=dataset.loc[dataset.index.difference(dataset_te.index)]"
   ]
  },
  {
   "cell_type": "code",
   "execution_count": 11,
   "metadata": {
    "slideshow": {
     "slide_type": "slide"
    }
   },
   "outputs": [
    {
     "data": {
      "text/html": [
       "<div>\n",
       "<style>\n",
       "    .dataframe thead tr:only-child th {\n",
       "        text-align: right;\n",
       "    }\n",
       "\n",
       "    .dataframe thead th {\n",
       "        text-align: left;\n",
       "    }\n",
       "\n",
       "    .dataframe tbody tr th {\n",
       "        vertical-align: top;\n",
       "    }\n",
       "</style>\n",
       "<table border=\"1\" class=\"dataframe\">\n",
       "  <thead>\n",
       "    <tr style=\"text-align: right;\">\n",
       "      <th></th>\n",
       "      <th># Training images</th>\n",
       "      <th># Testing images</th>\n",
       "    </tr>\n",
       "    <tr>\n",
       "      <th>Class name</th>\n",
       "      <th></th>\n",
       "      <th></th>\n",
       "    </tr>\n",
       "  </thead>\n",
       "  <tbody>\n",
       "    <tr>\n",
       "      <th>rock</th>\n",
       "      <td>543</td>\n",
       "      <td>69</td>\n",
       "    </tr>\n",
       "    <tr>\n",
       "      <th>paper</th>\n",
       "      <td>504</td>\n",
       "      <td>71</td>\n",
       "    </tr>\n",
       "    <tr>\n",
       "      <th>scissors</th>\n",
       "      <td>578</td>\n",
       "      <td>63</td>\n",
       "    </tr>\n",
       "  </tbody>\n",
       "</table>\n",
       "</div>"
      ],
      "text/plain": [
       "            # Training images  # Testing images\n",
       "Class name                                     \n",
       "rock                      543                69\n",
       "paper                     504                71\n",
       "scissors                  578                63"
      ]
     },
     "execution_count": 11,
     "metadata": {},
     "output_type": "execute_result"
    }
   ],
   "source": [
    "# Print a summary of how many training and testing images we have sampled\n",
    "import collections\n",
    "pd.DataFrame(index=[0,1,2],data=collections.OrderedDict((\n",
    "    (\"Class name\",           names),\n",
    "    (\"# Training images\", dataset_tr[\"label\"].value_counts()),\n",
    "    (\"# Testing images\",  dataset_te[\"label\"].value_counts())))).set_index(\"Class name\")"
   ]
  },
  {
   "cell_type": "code",
   "execution_count": 12,
   "metadata": {
    "slideshow": {
     "slide_type": "slide"
    }
   },
   "outputs": [
    {
     "data": {
      "application/vnd.jupyter.widget-view+json": {
       "model_id": "cd9ba7fdac2a4a78942c48bcbdde58e6"
      }
     },
     "metadata": {},
     "output_type": "display_data"
    },
    {
     "data": {
      "text/plain": [
       "<function __main__.imgplotList>"
      ]
     },
     "execution_count": 12,
     "metadata": {},
     "output_type": "execute_result"
    }
   ],
   "source": [
    "%matplotlib inline\n",
    "examples=list(dataset_te[\"image\"])\n",
    "interact(\n",
    "    imgplotList, \n",
    "    i=widgets.IntSlider(min=0,max=len(examples)-1, step=1, value=0,continuous_update=True), \n",
    "    data=fixed(examples))"
   ]
  },
  {
   "cell_type": "markdown",
   "metadata": {
    "slideshow": {
     "slide_type": "slide"
    }
   },
   "source": [
    "## Step 4: define what we feed to the Neural Network"
   ]
  },
  {
   "cell_type": "code",
   "execution_count": 13,
   "metadata": {
    "slideshow": {
     "slide_type": "-"
    }
   },
   "outputs": [
    {
     "name": "stdout",
     "output_type": "stream",
     "text": [
      "(200, 200, 3) uint8\n"
     ]
    }
   ],
   "source": [
    "im = dataset_tr.sample(1).iloc[0][\"image\"]\n",
    "print(im.shape, im.dtype)"
   ]
  },
  {
   "cell_type": "code",
   "execution_count": 14,
   "metadata": {
    "collapsed": true,
    "slideshow": {
     "slide_type": "slide"
    }
   },
   "outputs": [],
   "source": [
    "# Take image and resize to a specified size\n",
    "def transform_simple(im,sz):\n",
    "    with warnings.catch_warnings():\n",
    "        warnings.simplefilter(\"ignore\")\n",
    "        imr = skimage.transform.resize(im, (sz,sz))\n",
    "    return imr\n",
    "\n",
    "transform = transform_simple"
   ]
  },
  {
   "cell_type": "code",
   "execution_count": 15,
   "metadata": {
    "collapsed": true,
    "slideshow": {
     "slide_type": "slide"
    }
   },
   "outputs": [],
   "source": [
    "# Take image and resize to a specified size, after applying data augmentation\n",
    "def transform_complex(im,sz):\n",
    "    if(np.random.rand()<0.5):\n",
    "        im=np.fliplr(im)\n",
    "    with warnings.catch_warnings():\n",
    "        warnings.simplefilter(\"ignore\")\n",
    "        tf1 = skimage.transform.SimilarityTransform(scale = 1 / im.shape[0])\n",
    "        tf2 = skimage.transform.SimilarityTransform(translation=[-0.5, -0.5])\n",
    "        tf3 = skimage.transform.SimilarityTransform(rotation=np.deg2rad(np.random.uniform(0,360)))\n",
    "        tf4 = skimage.transform.SimilarityTransform(scale=np.random.uniform(1,1.6))\n",
    "        tf5 = skimage.transform.SimilarityTransform(translation=np.array([0.5, 0.5])+np.random.uniform(-0.1,0.1,size=2))\n",
    "        tf6 = skimage.transform.SimilarityTransform(scale=sz)\n",
    "        imr = skimage.transform.warp(im, (tf1+(tf2+(tf3+(tf4+(tf5+tf6))))).inverse, output_shape=(sz,sz),mode=\"edge\")\n",
    "        imr = imr*np.random.uniform(0.9,1.1,size=(1,1,3))\n",
    "        imr = np.clip(imr,0,1)\n",
    "    return imr\n",
    "\n",
    "transform = transform_complex"
   ]
  },
  {
   "cell_type": "code",
   "execution_count": 16,
   "metadata": {
    "slideshow": {
     "slide_type": "slide"
    }
   },
   "outputs": [
    {
     "data": {
      "application/vnd.jupyter.widget-view+json": {
       "model_id": "2cf8742535a54acaa46d0bc6c552d297"
      }
     },
     "metadata": {},
     "output_type": "display_data"
    },
    {
     "data": {
      "image/png": "[encoded data removed]",
      "text/plain": [
       "<matplotlib.figure.Figure at 0x2180f3a1748>"
      ]
     },
     "metadata": {},
     "output_type": "display_data"
    }
   ],
   "source": [
    "# The resolution challenge\n",
    "@interact(sz = widgets.IntSlider(min=2,max=100),\n",
    "          seed = widgets.IntSlider(min=0,max=100),\n",
    "          reveal = widgets.widgets.ToggleButton(value=False,description='Reveal'))\n",
    "def f(sz,seed,reveal):\n",
    "    fig,axs = plt.subplots(nrows = 2, ncols = 5,figsize=(6,3),dpi=150)\n",
    "    ims = dataset_tr.sample(len(axs.flatten()), random_state=sz*100+seed)\n",
    "    for ax,(_,row) in zip(axs.flatten(),ims.iterrows()):\n",
    "        ax.imshow(transform_simple(row[\"image\"],sz))\n",
    "        ax.axis(\"off\")\n",
    "        if(reveal):\n",
    "            ax.set_title(names[row[\"label\"]])\n",
    "    #fig.tight_layout()"
   ]
  },
  {
   "cell_type": "code",
   "execution_count": 17,
   "metadata": {
    "collapsed": true,
    "slideshow": {
     "slide_type": "slide"
    }
   },
   "outputs": [],
   "source": [
    "def sample(df,sz):\n",
    "    r=df.sample(n=1)\n",
    "    l=r[\"label\"].iloc[0]\n",
    "    im=r[\"image\"].iloc[0]\n",
    "    im=transform(im,sz)\n",
    "    return im,l\n",
    "\n",
    "def mkbatch(df,N,sz):\n",
    "    X = []\n",
    "    y = []\n",
    "    for i in range(N):\n",
    "        im,l=sample(df,sz)\n",
    "        X.append(im)\n",
    "        y.append(l)\n",
    "    X=np.array(X).astype('float32')\n",
    "    y=np.array(y)\n",
    "    y=keras.utils.np_utils.to_categorical(y,3)\n",
    "    return X,y\n",
    "\n",
    "def generator(df,batch_size,sz):\n",
    "    while True:\n",
    "        X,y = mkbatch(df,batch_size,sz)\n",
    "        yield (X,y)"
   ]
  },
  {
   "cell_type": "code",
   "execution_count": 18,
   "metadata": {
    "slideshow": {
     "slide_type": "slide"
    }
   },
   "outputs": [
    {
     "data": {
      "text/plain": [
       "array([[ 1.,  0.,  0.],\n",
       "       [ 0.,  0.,  1.],\n",
       "       [ 0.,  0.,  1.],\n",
       "       [ 0.,  1.,  0.],\n",
       "       [ 0.,  0.,  1.],\n",
       "       [ 0.,  1.,  0.],\n",
       "       [ 0.,  0.,  1.],\n",
       "       [ 1.,  0.,  0.],\n",
       "       [ 0.,  1.,  0.],\n",
       "       [ 0.,  0.,  1.],\n",
       "       [ 0.,  0.,  1.],\n",
       "       [ 0.,  0.,  1.],\n",
       "       [ 0.,  0.,  1.],\n",
       "       [ 0.,  1.,  0.],\n",
       "       [ 0.,  0.,  1.],\n",
       "       [ 1.,  0.,  0.],\n",
       "       [ 0.,  1.,  0.],\n",
       "       [ 1.,  0.,  0.],\n",
       "       [ 0.,  1.,  0.],\n",
       "       [ 1.,  0.,  0.]])"
      ]
     },
     "execution_count": 18,
     "metadata": {},
     "output_type": "execute_result"
    }
   ],
   "source": [
    "b = mkbatch(dataset_tr,20,32)\n",
    "b[1]"
   ]
  },
  {
   "cell_type": "code",
   "execution_count": 19,
   "metadata": {
    "slideshow": {
     "slide_type": "slide"
    }
   },
   "outputs": [
    {
     "data": {
      "application/vnd.jupyter.widget-view+json": {
       "model_id": "a87d48411f754bec93b4074ec60f0e3c"
      }
     },
     "metadata": {},
     "output_type": "display_data"
    },
    {
     "data": {
      "text/plain": [
       "<function __main__.imgplotList>"
      ]
     },
     "execution_count": 19,
     "metadata": {},
     "output_type": "execute_result"
    }
   ],
   "source": [
    "# Visualize 100 images from our input dataset\n",
    "examples = list(mkbatch(dataset_tr,100,32)[0])\n",
    "interact(imgplotList, i=widgets.IntSlider(min=0, max=len(examples)-1, step=1, value=0,continuous_update=False), data=fixed(examples))"
   ]
  },
  {
   "cell_type": "code",
   "execution_count": 20,
   "metadata": {
    "scrolled": false,
    "slideshow": {
     "slide_type": "slide"
    }
   },
   "outputs": [
    {
     "data": {
      "application/vnd.jupyter.widget-view+json": {
       "model_id": "8720f102c93a48caa6b2eba2ca52e45f"
      }
     },
     "metadata": {},
     "output_type": "display_data"
    },
    {
     "data": {
      "text/plain": [
       "<function __main__.imgplotList>"
      ]
     },
     "execution_count": 20,
     "metadata": {},
     "output_type": "execute_result"
    }
   ],
   "source": [
    "# Visualize 100 variations from our first input image (makes sense only if transform==transform_complex, i.e. if we are using data augmentation)\n",
    "examples = list(mkbatch(dataset_tr.iloc[[0]],100,32)[0])\n",
    "interact(imgplotList, i=widgets.IntSlider(min=0, max=len(examples)-1, step=1, value=0,continuous_update=False), data=fixed(examples))"
   ]
  },
  {
   "cell_type": "markdown",
   "metadata": {
    "slideshow": {
     "slide_type": "slide"
    }
   },
   "source": [
    "## Step 5: build and train the neural network"
   ]
  },
  {
   "cell_type": "code",
   "execution_count": 21,
   "metadata": {
    "collapsed": true
   },
   "outputs": [],
   "source": [
    "# Keras: Deep Learning library for Theano and TensorFlow\n",
    "import keras\n",
    "from keras.utils  import np_utils\n",
    "from keras.models import Sequential\n",
    "from keras.layers import Dense, Activation, Flatten\n",
    "from keras.layers import Conv2D, MaxPooling2D, AveragePooling2D, Dropout\n",
    "\n",
    "# NN settings\n",
    "patchsize          = 32\n",
    "batch_size         = 32\n",
    "pool_size          = (2,2) # size of pooling area for max pooling\n",
    "kernel_size        = (3,3) # convolution kernel size\n",
    "\n",
    "def makeModel(nb_filters):\n",
    "    model = Sequential()\n",
    "    model.add(Conv2D(nb_filters, kernel_size, input_shape=(patchsize,patchsize,3), padding = \"same\"))\n",
    "    model.add(Activation('relu'))\n",
    "    model.add(MaxPooling2D(pool_size = pool_size))\n",
    "    model.add(Conv2D(nb_filters*2, kernel_size, padding = \"same\"))\n",
    "    model.add(Activation('relu'))\n",
    "    model.add(MaxPooling2D(pool_size = pool_size))\n",
    "    model.add(Conv2D(nb_filters*4, kernel_size, padding = \"same\"))\n",
    "    model.add(Activation('relu'))\n",
    "    model.add(MaxPooling2D(pool_size = pool_size))\n",
    "    model.add(AveragePooling2D(pool_size = pool_size))\n",
    "    model.add(Flatten())\n",
    "    model.add(Dense(128)) # generate a fully connected layer wiht 128 outputs (arbitrary value)\n",
    "    model.add(Activation('relu'))\n",
    "    model.add(Dropout(0.5))\n",
    "    model.add(Dense(3)) # output layer\n",
    "    model.add(Activation('softmax'))\n",
    "\n",
    "    ## compile! network\n",
    "    model.compile(loss='categorical_crossentropy',\n",
    "                  optimizer=\"adam\",\n",
    "                  metrics=['accuracy'])\n",
    "\n",
    "    return model"
   ]
  },
  {
   "cell_type": "code",
   "execution_count": 22,
   "metadata": {},
   "outputs": [
    {
     "name": "stdout",
     "output_type": "stream",
     "text": [
      "_________________________________________________________________\n",
      "Layer (type)                 Output Shape              Param #   \n",
      "=================================================================\n",
      "conv2d_1 (Conv2D)            (None, 32, 32, 128)       3584      \n",
      "_________________________________________________________________\n",
      "activation_1 (Activation)    (None, 32, 32, 128)       0         \n",
      "_________________________________________________________________\n",
      "max_pooling2d_1 (MaxPooling2 (None, 16, 16, 128)       0         \n",
      "_________________________________________________________________\n",
      "conv2d_2 (Conv2D)            (None, 16, 16, 256)       295168    \n",
      "_________________________________________________________________\n",
      "activation_2 (Activation)    (None, 16, 16, 256)       0         \n",
      "_________________________________________________________________\n",
      "max_pooling2d_2 (MaxPooling2 (None, 8, 8, 256)         0         \n",
      "_________________________________________________________________\n",
      "conv2d_3 (Conv2D)            (None, 8, 8, 512)         1180160   \n",
      "_________________________________________________________________\n",
      "activation_3 (Activation)    (None, 8, 8, 512)         0         \n",
      "_________________________________________________________________\n",
      "max_pooling2d_3 (MaxPooling2 (None, 4, 4, 512)         0         \n",
      "_________________________________________________________________\n",
      "average_pooling2d_1 (Average (None, 2, 2, 512)         0         \n",
      "_________________________________________________________________\n",
      "flatten_1 (Flatten)          (None, 2048)              0         \n",
      "_________________________________________________________________\n",
      "dense_1 (Dense)              (None, 128)               262272    \n",
      "_________________________________________________________________\n",
      "activation_4 (Activation)    (None, 128)               0         \n",
      "_________________________________________________________________\n",
      "dropout_1 (Dropout)          (None, 128)               0         \n",
      "_________________________________________________________________\n",
      "dense_2 (Dense)              (None, 3)                 387       \n",
      "_________________________________________________________________\n",
      "activation_5 (Activation)    (None, 3)                 0         \n",
      "=================================================================\n",
      "Total params: 1,741,571\n",
      "Trainable params: 1,741,571\n",
      "Non-trainable params: 0\n",
      "_________________________________________________________________\n"
     ]
    }
   ],
   "source": [
    "makeModel(128).summary()"
   ]
  },
  {
   "cell_type": "markdown",
   "metadata": {
    "slideshow": {
     "slide_type": "slide"
    }
   },
   "source": [
    "Build a set of 1000 testing instances taken from the testing dataset.\n",
    "\n",
    "Note: \"testing\" in this case is synonym with \"validation\" and \"evaluation\""
   ]
  },
  {
   "cell_type": "code",
   "execution_count": 23,
   "metadata": {
    "collapsed": true
   },
   "outputs": [],
   "source": [
    "(X_test,y_test) = mkbatch(dataset_te, 1000, patchsize)\n",
    "\n",
    "# Prepare the logs directory, if it does not exist\n",
    "(pathlib.Path(\".\")/\"logs\").mkdir(exist_ok=True)"
   ]
  },
  {
   "cell_type": "markdown",
   "metadata": {
    "slideshow": {
     "slide_type": "slide"
    }
   },
   "source": [
    "While the network trains, we can monitor training loss/accuracy and testing loss/accuracy using tensorboard at http://0.0.0.0:6006\n",
    "\n",
    "You may need to launch tensorboard first if it's not already running, by executing\n",
    "\n",
    "`tensorboard --logdir=logs`\n",
    "\n",
    "in a shell with the current working directory.  Check that you are within the proper conda environment, if applicable."
   ]
  },
  {
   "cell_type": "code",
   "execution_count": 25,
   "metadata": {},
   "outputs": [
    {
     "name": "stdout",
     "output_type": "stream",
     "text": [
      "Epoch 1/5\n",
      "50/50 [==============================] - ETA: 12s - loss: 1.0848 - acc: 0.34 - ETA: 9s - loss: 1.1017 - acc: 0.3750 - ETA: 9s - loss: 1.0891 - acc: 0.406 - ETA: 8s - loss: 1.0985 - acc: 0.406 - ETA: 8s - loss: 1.1241 - acc: 0.375 - ETA: 7s - loss: 1.1111 - acc: 0.385 - ETA: 7s - loss: 1.1187 - acc: 0.375 - ETA: 7s - loss: 1.1220 - acc: 0.363 - ETA: 6s - loss: 1.1211 - acc: 0.347 - ETA: 6s - loss: 1.1176 - acc: 0.356 - ETA: 6s - loss: 1.1191 - acc: 0.338 - ETA: 6s - loss: 1.1191 - acc: 0.328 - ETA: 6s - loss: 1.1190 - acc: 0.324 - ETA: 5s - loss: 1.1190 - acc: 0.319 - ETA: 5s - loss: 1.1183 - acc: 0.316 - ETA: 5s - loss: 1.1174 - acc: 0.316 - ETA: 5s - loss: 1.1157 - acc: 0.321 - ETA: 5s - loss: 1.1148 - acc: 0.322 - ETA: 5s - loss: 1.1141 - acc: 0.322 - ETA: 4s - loss: 1.1136 - acc: 0.325 - ETA: 4s - loss: 1.1131 - acc: 0.324 - ETA: 4s - loss: 1.1129 - acc: 0.322 - ETA: 4s - loss: 1.1121 - acc: 0.326 - ETA: 4s - loss: 1.1117 - acc: 0.324 - ETA: 4s - loss: 1.1110 - acc: 0.327 - ETA: 3s - loss: 1.1104 - acc: 0.326 - ETA: 3s - loss: 1.1103 - acc: 0.327 - ETA: 3s - loss: 1.1097 - acc: 0.335 - ETA: 3s - loss: 1.1090 - acc: 0.337 - ETA: 3s - loss: 1.1086 - acc: 0.339 - ETA: 3s - loss: 1.1086 - acc: 0.334 - ETA: 2s - loss: 1.1084 - acc: 0.332 - ETA: 2s - loss: 1.1082 - acc: 0.330 - ETA: 2s - loss: 1.1078 - acc: 0.333 - ETA: 2s - loss: 1.1076 - acc: 0.331 - ETA: 2s - loss: 1.1070 - acc: 0.335 - ETA: 2s - loss: 1.1071 - acc: 0.333 - ETA: 1s - loss: 1.1067 - acc: 0.335 - ETA: 1s - loss: 1.1065 - acc: 0.334 - ETA: 1s - loss: 1.1062 - acc: 0.335 - ETA: 1s - loss: 1.1062 - acc: 0.333 - ETA: 1s - loss: 1.1062 - acc: 0.332 - ETA: 1s - loss: 1.1060 - acc: 0.331 - ETA: 0s - loss: 1.1057 - acc: 0.334 - ETA: 0s - loss: 1.1057 - acc: 0.333 - ETA: 0s - loss: 1.1053 - acc: 0.334 - ETA: 0s - loss: 1.1053 - acc: 0.333 - ETA: 0s - loss: 1.1053 - acc: 0.332 - ETA: 0s - loss: 1.1050 - acc: 0.334 - 9s - loss: 1.1049 - acc: 0.3356 - val_loss: 1.1000 - val_acc: 0.3120\n",
      "Epoch 2/5\n",
      "50/50 [==============================] - ETA: 6s - loss: 1.0882 - acc: 0.437 - ETA: 6s - loss: 1.0897 - acc: 0.421 - ETA: 6s - loss: 1.0897 - acc: 0.416 - ETA: 6s - loss: 1.0923 - acc: 0.398 - ETA: 5s - loss: 1.0927 - acc: 0.393 - ETA: 5s - loss: 1.0908 - acc: 0.411 - ETA: 5s - loss: 1.0939 - acc: 0.383 - ETA: 5s - loss: 1.0965 - acc: 0.355 - ETA: 5s - loss: 1.0962 - acc: 0.350 - ETA: 5s - loss: 1.0964 - acc: 0.350 - ETA: 5s - loss: 1.0964 - acc: 0.358 - ETA: 5s - loss: 1.0975 - acc: 0.351 - ETA: 4s - loss: 1.0972 - acc: 0.351 - ETA: 4s - loss: 1.0957 - acc: 0.366 - ETA: 4s - loss: 1.0966 - acc: 0.360 - ETA: 4s - loss: 1.0959 - acc: 0.365 - ETA: 4s - loss: 1.0966 - acc: 0.356 - ETA: 4s - loss: 1.0974 - acc: 0.352 - ETA: 4s - loss: 1.0977 - acc: 0.353 - ETA: 3s - loss: 1.0981 - acc: 0.350 - ETA: 3s - loss: 1.0981 - acc: 0.352 - ETA: 3s - loss: 1.0979 - acc: 0.352 - ETA: 3s - loss: 1.0975 - acc: 0.358 - ETA: 3s - loss: 1.0973 - acc: 0.362 - ETA: 3s - loss: 1.0971 - acc: 0.365 - ETA: 3s - loss: 1.0972 - acc: 0.364 - ETA: 3s - loss: 1.0975 - acc: 0.361 - ETA: 3s - loss: 1.0971 - acc: 0.363 - ETA: 2s - loss: 1.0973 - acc: 0.362 - ETA: 2s - loss: 1.0974 - acc: 0.360 - ETA: 2s - loss: 1.0978 - acc: 0.356 - ETA: 2s - loss: 1.0978 - acc: 0.358 - ETA: 2s - loss: 1.0977 - acc: 0.358 - ETA: 2s - loss: 1.0979 - acc: 0.355 - ETA: 2s - loss: 1.0976 - acc: 0.357 - ETA: 2s - loss: 1.0974 - acc: 0.360 - ETA: 1s - loss: 1.0971 - acc: 0.363 - ETA: 1s - loss: 1.0971 - acc: 0.362 - ETA: 1s - loss: 1.0972 - acc: 0.363 - ETA: 1s - loss: 1.0975 - acc: 0.360 - ETA: 1s - loss: 1.0975 - acc: 0.358 - ETA: 1s - loss: 1.0974 - acc: 0.359 - ETA: 1s - loss: 1.0973 - acc: 0.359 - ETA: 0s - loss: 1.0973 - acc: 0.358 - ETA: 0s - loss: 1.0973 - acc: 0.357 - ETA: 0s - loss: 1.0976 - acc: 0.356 - ETA: 0s - loss: 1.0976 - acc: 0.356 - ETA: 0s - loss: 1.0975 - acc: 0.357 - ETA: 0s - loss: 1.0977 - acc: 0.354 - 8s - loss: 1.0978 - acc: 0.3544 - val_loss: 1.0995 - val_acc: 0.3120\n",
      "Epoch 3/5\n",
      "50/50 [==============================] - ETA: 6s - loss: 1.1019 - acc: 0.312 - ETA: 6s - loss: 1.1040 - acc: 0.328 - ETA: 6s - loss: 1.1042 - acc: 0.291 - ETA: 6s - loss: 1.1024 - acc: 0.304 - ETA: 6s - loss: 1.1006 - acc: 0.312 - ETA: 6s - loss: 1.1007 - acc: 0.312 - ETA: 5s - loss: 1.0997 - acc: 0.308 - ETA: 5s - loss: 1.1004 - acc: 0.300 - ETA: 5s - loss: 1.1004 - acc: 0.305 - ETA: 5s - loss: 1.1002 - acc: 0.300 - ETA: 5s - loss: 1.1004 - acc: 0.289 - ETA: 5s - loss: 1.1003 - acc: 0.283 - ETA: 5s - loss: 1.1005 - acc: 0.283 - ETA: 4s - loss: 1.1000 - acc: 0.287 - ETA: 4s - loss: 1.1004 - acc: 0.289 - ETA: 4s - loss: 1.1001 - acc: 0.296 - ETA: 4s - loss: 1.1000 - acc: 0.296 - ETA: 4s - loss: 1.0998 - acc: 0.300 - ETA: 4s - loss: 1.0997 - acc: 0.301 - ETA: 4s - loss: 1.0997 - acc: 0.303 - ETA: 3s - loss: 1.0994 - acc: 0.305 - ETA: 3s - loss: 1.0992 - acc: 0.306 - ETA: 3s - loss: 1.0991 - acc: 0.309 - ETA: 3s - loss: 1.0991 - acc: 0.312 - ETA: 3s - loss: 1.0990 - acc: 0.313 - ETA: 3s - loss: 1.0990 - acc: 0.317 - ETA: 3s - loss: 1.0990 - acc: 0.318 - ETA: 3s - loss: 1.0989 - acc: 0.321 - ETA: 2s - loss: 1.0991 - acc: 0.317 - ETA: 2s - loss: 1.0987 - acc: 0.322 - ETA: 2s - loss: 1.0987 - acc: 0.323 - ETA: 2s - loss: 1.0983 - acc: 0.329 - ETA: 2s - loss: 1.0983 - acc: 0.328 - ETA: 2s - loss: 1.0978 - acc: 0.331 - ETA: 2s - loss: 1.0977 - acc: 0.333 - ETA: 2s - loss: 1.0973 - acc: 0.336 - ETA: 1s - loss: 1.0973 - acc: 0.336 - ETA: 1s - loss: 1.0964 - acc: 0.340 - ETA: 1s - loss: 1.0974 - acc: 0.336 - ETA: 1s - loss: 1.0971 - acc: 0.337 - ETA: 1s - loss: 1.0969 - acc: 0.338 - ETA: 1s - loss: 1.0965 - acc: 0.337 - ETA: 1s - loss: 1.0964 - acc: 0.339 - ETA: 0s - loss: 1.0965 - acc: 0.338 - ETA: 0s - loss: 1.0964 - acc: 0.338 - ETA: 0s - loss: 1.0975 - acc: 0.337 - ETA: 0s - loss: 1.0978 - acc: 0.338 - ETA: 0s - loss: 1.0977 - acc: 0.339 - ETA: 0s - loss: 1.0974 - acc: 0.341 - 9s - loss: 1.0975 - acc: 0.3400 - val_loss: 1.0977 - val_acc: 0.3270\n",
      "Epoch 4/5\n",
      "50/50 [==============================] - ETA: 7s - loss: 1.0869 - acc: 0.437 - ETA: 8s - loss: 1.0928 - acc: 0.453 - ETA: 8s - loss: 1.0902 - acc: 0.447 - ETA: 8s - loss: 1.0881 - acc: 0.453 - ETA: 8s - loss: 1.0882 - acc: 0.450 - ETA: 8s - loss: 1.0858 - acc: 0.453 - ETA: 7s - loss: 1.0838 - acc: 0.446 - ETA: 8s - loss: 1.0844 - acc: 0.433 - ETA: 7s - loss: 1.0844 - acc: 0.427 - ETA: 7s - loss: 1.0834 - acc: 0.425 - ETA: 7s - loss: 1.0891 - acc: 0.411 - ETA: 7s - loss: 1.0933 - acc: 0.398 - ETA: 7s - loss: 1.0933 - acc: 0.401 - ETA: 6s - loss: 1.0933 - acc: 0.406 - ETA: 6s - loss: 1.0932 - acc: 0.410 - ETA: 6s - loss: 1.0925 - acc: 0.410 - ETA: 6s - loss: 1.0933 - acc: 0.400 - ETA: 6s - loss: 1.0939 - acc: 0.399 - ETA: 5s - loss: 1.0941 - acc: 0.394 - ETA: 5s - loss: 1.0939 - acc: 0.395 - ETA: 5s - loss: 1.0941 - acc: 0.394 - ETA: 5s - loss: 1.0939 - acc: 0.394 - ETA: 5s - loss: 1.0941 - acc: 0.391 - ETA: 4s - loss: 1.0935 - acc: 0.397 - ETA: 4s - loss: 1.0935 - acc: 0.395 - ETA: 4s - loss: 1.0934 - acc: 0.395 - ETA: 4s - loss: 1.0940 - acc: 0.391 - ETA: 4s - loss: 1.0933 - acc: 0.394 - ETA: 4s - loss: 1.0935 - acc: 0.389 - ETA: 3s - loss: 1.0937 - acc: 0.388 - ETA: 3s - loss: 1.0938 - acc: 0.386 - ETA: 3s - loss: 1.0950 - acc: 0.381 - ETA: 3s - loss: 1.0955 - acc: 0.380 - ETA: 3s - loss: 1.0956 - acc: 0.380 - ETA: 3s - loss: 1.0956 - acc: 0.379 - ETA: 2s - loss: 1.0950 - acc: 0.384 - ETA: 2s - loss: 1.0950 - acc: 0.384 - ETA: 2s - loss: 1.0948 - acc: 0.384 - ETA: 2s - loss: 1.0951 - acc: 0.381 - ETA: 1s - loss: 1.0953 - acc: 0.380 - ETA: 1s - loss: 1.0948 - acc: 0.383 - ETA: 1s - loss: 1.0949 - acc: 0.381 - ETA: 1s - loss: 1.0951 - acc: 0.380 - ETA: 1s - loss: 1.0954 - acc: 0.379 - ETA: 0s - loss: 1.0952 - acc: 0.379 - ETA: 0s - loss: 1.0952 - acc: 0.379 - ETA: 0s - loss: 1.0951 - acc: 0.379 - ETA: 0s - loss: 1.0954 - acc: 0.378 - ETA: 0s - loss: 1.0959 - acc: 0.375 - 10s - loss: 1.0954 - acc: 0.3775 - val_loss: 1.1053 - val_acc: 0.3120\n",
      "Epoch 5/5\n"
     ]
    },
    {
     "name": "stdout",
     "output_type": "stream",
     "text": [
      "50/50 [==============================] - ETA: 6s - loss: 1.0970 - acc: 0.343 - ETA: 6s - loss: 1.1064 - acc: 0.296 - ETA: 7s - loss: 1.1044 - acc: 0.312 - ETA: 6s - loss: 1.0985 - acc: 0.343 - ETA: 6s - loss: 1.0966 - acc: 0.350 - ETA: 7s - loss: 1.0915 - acc: 0.364 - ETA: 7s - loss: 1.0893 - acc: 0.370 - ETA: 7s - loss: 1.0922 - acc: 0.367 - ETA: 6s - loss: 1.0941 - acc: 0.368 - ETA: 6s - loss: 1.0895 - acc: 0.387 - ETA: 6s - loss: 1.0922 - acc: 0.380 - ETA: 6s - loss: 1.0896 - acc: 0.390 - ETA: 5s - loss: 1.0912 - acc: 0.382 - ETA: 5s - loss: 1.0916 - acc: 0.379 - ETA: 5s - loss: 1.0914 - acc: 0.383 - ETA: 5s - loss: 1.0894 - acc: 0.388 - ETA: 5s - loss: 1.0904 - acc: 0.382 - ETA: 4s - loss: 1.0897 - acc: 0.387 - ETA: 4s - loss: 1.0894 - acc: 0.388 - ETA: 4s - loss: 1.0896 - acc: 0.387 - ETA: 4s - loss: 1.0897 - acc: 0.388 - ETA: 4s - loss: 1.0895 - acc: 0.390 - ETA: 4s - loss: 1.0900 - acc: 0.388 - ETA: 4s - loss: 1.0895 - acc: 0.391 - ETA: 3s - loss: 1.0893 - acc: 0.393 - ETA: 3s - loss: 1.0891 - acc: 0.393 - ETA: 3s - loss: 1.0897 - acc: 0.388 - ETA: 3s - loss: 1.0909 - acc: 0.386 - ETA: 3s - loss: 1.0906 - acc: 0.387 - ETA: 3s - loss: 1.0906 - acc: 0.388 - ETA: 3s - loss: 1.0901 - acc: 0.390 - ETA: 2s - loss: 1.0902 - acc: 0.390 - ETA: 2s - loss: 1.0899 - acc: 0.393 - ETA: 2s - loss: 1.0905 - acc: 0.389 - ETA: 2s - loss: 1.0903 - acc: 0.391 - ETA: 2s - loss: 1.0900 - acc: 0.389 - ETA: 2s - loss: 1.0905 - acc: 0.386 - ETA: 1s - loss: 1.0904 - acc: 0.384 - ETA: 1s - loss: 1.0905 - acc: 0.385 - ETA: 1s - loss: 1.0906 - acc: 0.385 - ETA: 1s - loss: 1.0913 - acc: 0.381 - ETA: 1s - loss: 1.0921 - acc: 0.376 - ETA: 1s - loss: 1.0923 - acc: 0.376 - ETA: 0s - loss: 1.0926 - acc: 0.375 - ETA: 0s - loss: 1.0925 - acc: 0.373 - ETA: 0s - loss: 1.0924 - acc: 0.373 - ETA: 0s - loss: 1.0926 - acc: 0.373 - ETA: 0s - loss: 1.0926 - acc: 0.373 - ETA: 0s - loss: 1.0929 - acc: 0.371 - 9s - loss: 1.0930 - acc: 0.3706 - val_loss: 1.0926 - val_acc: 0.3840\n"
     ]
    }
   ],
   "source": [
    "modelid = time.strftime(\"%Y%m%d%H%M%S\")\n",
    "\n",
    "callbacks_list = [\n",
    "    keras.callbacks.EarlyStopping(\n",
    "        monitor='val_acc',\n",
    "        patience=50),\n",
    "    keras.callbacks.ModelCheckpoint(\n",
    "        filepath='model_checkpoint_best_{}.h5'.format(modelid),\n",
    "        monitor='val_loss',\n",
    "        save_best_only=True),\n",
    "    keras.callbacks.TensorBoard(\n",
    "        log_dir='./logs/'+modelid,\n",
    "        histogram_freq=0, write_graph=False, write_images=False)\n",
    "]\n",
    "\n",
    "model = makeModel(32)\n",
    "history=model.fit_generator(\n",
    "                    generator(dataset_tr, batch_size, patchsize),\n",
    "                    steps_per_epoch=50, \n",
    "                    epochs=5, \n",
    "                    verbose=1,\n",
    "                    validation_data=(X_test,y_test),\n",
    "                    callbacks=callbacks_list)"
   ]
  },
  {
   "cell_type": "markdown",
   "metadata": {
    "slideshow": {
     "slide_type": "slide"
    }
   },
   "source": [
    "After training our model, we can save it to disk"
   ]
  },
  {
   "cell_type": "code",
   "execution_count": 26,
   "metadata": {
    "collapsed": true
   },
   "outputs": [],
   "source": [
    "modelname = \"input32\"\n",
    "\n",
    "# Save model to a file\n",
    "keras.models.save_model(model,\"{}.model\".format(modelname))\n",
    "\n",
    "# Also save the testing dataset (may be large) so we can pick up from here later \n",
    "dataset_te.to_pickle(\"{}.testingdata.pickle\".format(modelname))"
   ]
  },
  {
   "cell_type": "markdown",
   "metadata": {
    "slideshow": {
     "slide_type": "slide"
    }
   },
   "source": [
    "If you have time and want to experiment, you may train many networks exploring the parameter space"
   ]
  },
  {
   "cell_type": "code",
   "execution_count": 30,
   "metadata": {},
   "outputs": [
    {
     "name": "stdout",
     "output_type": "stream",
     "text": [
      "_________________________________________________________________\n",
      "Layer (type)                 Output Shape              Param #   \n",
      "=================================================================\n",
      "conv2d_34 (Conv2D)           (None, 32, 32, 1)         28        \n",
      "_________________________________________________________________\n",
      "activation_56 (Activation)   (None, 32, 32, 1)         0         \n",
      "_________________________________________________________________\n",
      "max_pooling2d_34 (MaxPooling (None, 16, 16, 1)         0         \n",
      "_________________________________________________________________\n",
      "conv2d_35 (Conv2D)           (None, 16, 16, 2)         20        \n",
      "_________________________________________________________________\n",
      "activation_57 (Activation)   (None, 16, 16, 2)         0         \n",
      "_________________________________________________________________\n",
      "max_pooling2d_35 (MaxPooling (None, 8, 8, 2)           0         \n",
      "_________________________________________________________________\n",
      "conv2d_36 (Conv2D)           (None, 8, 8, 4)           76        \n",
      "_________________________________________________________________\n",
      "activation_58 (Activation)   (None, 8, 8, 4)           0         \n",
      "_________________________________________________________________\n",
      "max_pooling2d_36 (MaxPooling (None, 4, 4, 4)           0         \n",
      "_________________________________________________________________\n",
      "average_pooling2d_12 (Averag (None, 2, 2, 4)           0         \n",
      "_________________________________________________________________\n",
      "flatten_12 (Flatten)         (None, 16)                0         \n",
      "_________________________________________________________________\n",
      "dense_23 (Dense)             (None, 128)               2176      \n",
      "_________________________________________________________________\n",
      "activation_59 (Activation)   (None, 128)               0         \n",
      "_________________________________________________________________\n",
      "dropout_12 (Dropout)         (None, 128)               0         \n",
      "_________________________________________________________________\n",
      "dense_24 (Dense)             (None, 3)                 387       \n",
      "_________________________________________________________________\n",
      "activation_60 (Activation)   (None, 3)                 0         \n",
      "=================================================================\n",
      "Total params: 2,687\n",
      "Trainable params: 2,687\n",
      "Non-trainable params: 0\n",
      "_________________________________________________________________\n",
      "None\n",
      "2687\n",
      "Epoch 1/1\n",
      "50/50 [==============================] - ETA: 16s - loss: 1.1012 - acc: 0.37 - ETA: 9s - loss: 1.1036 - acc: 0.3750 - ETA: 7s - loss: 1.0999 - acc: 0.385 - ETA: 6s - loss: 1.0964 - acc: 0.382 - ETA: 6s - loss: 1.0985 - acc: 0.356 - ETA: 5s - loss: 1.0982 - acc: 0.359 - ETA: 5s - loss: 1.0992 - acc: 0.343 - ETA: 5s - loss: 1.0995 - acc: 0.355 - ETA: 4s - loss: 1.0987 - acc: 0.357 - ETA: 4s - loss: 1.0984 - acc: 0.346 - ETA: 4s - loss: 1.0982 - acc: 0.343 - ETA: 4s - loss: 1.0969 - acc: 0.362 - ETA: 4s - loss: 1.0964 - acc: 0.363 - ETA: 3s - loss: 1.0960 - acc: 0.368 - ETA: 3s - loss: 1.0955 - acc: 0.372 - ETA: 3s - loss: 1.0959 - acc: 0.365 - ETA: 3s - loss: 1.0965 - acc: 0.358 - ETA: 3s - loss: 1.0962 - acc: 0.362 - ETA: 3s - loss: 1.0964 - acc: 0.363 - ETA: 3s - loss: 1.0966 - acc: 0.360 - ETA: 3s - loss: 1.0963 - acc: 0.358 - ETA: 2s - loss: 1.0967 - acc: 0.358 - ETA: 2s - loss: 1.0971 - acc: 0.358 - ETA: 2s - loss: 1.0969 - acc: 0.362 - ETA: 2s - loss: 1.0976 - acc: 0.357 - ETA: 2s - loss: 1.0974 - acc: 0.358 - ETA: 2s - loss: 1.0974 - acc: 0.356 - ETA: 2s - loss: 1.0969 - acc: 0.359 - ETA: 2s - loss: 1.0976 - acc: 0.355 - ETA: 2s - loss: 1.0979 - acc: 0.354 - ETA: 1s - loss: 1.0974 - acc: 0.355 - ETA: 1s - loss: 1.0974 - acc: 0.356 - ETA: 1s - loss: 1.0977 - acc: 0.358 - ETA: 1s - loss: 1.0975 - acc: 0.363 - ETA: 1s - loss: 1.0976 - acc: 0.361 - ETA: 1s - loss: 1.0978 - acc: 0.360 - ETA: 1s - loss: 1.0976 - acc: 0.360 - ETA: 1s - loss: 1.0974 - acc: 0.363 - ETA: 1s - loss: 1.0977 - acc: 0.359 - ETA: 1s - loss: 1.0975 - acc: 0.361 - ETA: 0s - loss: 1.0972 - acc: 0.365 - ETA: 0s - loss: 1.0971 - acc: 0.367 - ETA: 0s - loss: 1.0968 - acc: 0.368 - ETA: 0s - loss: 1.0967 - acc: 0.369 - ETA: 0s - loss: 1.0964 - acc: 0.369 - ETA: 0s - loss: 1.0962 - acc: 0.371 - ETA: 0s - loss: 1.0963 - acc: 0.371 - ETA: 0s - loss: 1.0966 - acc: 0.367 - ETA: 0s - loss: 1.0967 - acc: 0.366 - 5s - loss: 1.0969 - acc: 0.3663 - val_loss: 1.0988 - val_acc: 0.3120\n",
      "_________________________________________________________________\n",
      "Layer (type)                 Output Shape              Param #   \n",
      "=================================================================\n",
      "conv2d_37 (Conv2D)           (None, 32, 32, 2)         56        \n",
      "_________________________________________________________________\n",
      "activation_61 (Activation)   (None, 32, 32, 2)         0         \n",
      "_________________________________________________________________\n",
      "max_pooling2d_37 (MaxPooling (None, 16, 16, 2)         0         \n",
      "_________________________________________________________________\n",
      "conv2d_38 (Conv2D)           (None, 16, 16, 4)         76        \n",
      "_________________________________________________________________\n",
      "activation_62 (Activation)   (None, 16, 16, 4)         0         \n",
      "_________________________________________________________________\n",
      "max_pooling2d_38 (MaxPooling (None, 8, 8, 4)           0         \n",
      "_________________________________________________________________\n",
      "conv2d_39 (Conv2D)           (None, 8, 8, 8)           296       \n",
      "_________________________________________________________________\n",
      "activation_63 (Activation)   (None, 8, 8, 8)           0         \n",
      "_________________________________________________________________\n",
      "max_pooling2d_39 (MaxPooling (None, 4, 4, 8)           0         \n",
      "_________________________________________________________________\n",
      "average_pooling2d_13 (Averag (None, 2, 2, 8)           0         \n",
      "_________________________________________________________________\n",
      "flatten_13 (Flatten)         (None, 32)                0         \n",
      "_________________________________________________________________\n",
      "dense_25 (Dense)             (None, 128)               4224      \n",
      "_________________________________________________________________\n",
      "activation_64 (Activation)   (None, 128)               0         \n",
      "_________________________________________________________________\n",
      "dropout_13 (Dropout)         (None, 128)               0         \n",
      "_________________________________________________________________\n",
      "dense_26 (Dense)             (None, 3)                 387       \n",
      "_________________________________________________________________\n",
      "activation_65 (Activation)   (None, 3)                 0         \n",
      "=================================================================\n",
      "Total params: 5,039\n",
      "Trainable params: 5,039\n",
      "Non-trainable params: 0\n",
      "_________________________________________________________________\n",
      "None\n",
      "5039\n",
      "Epoch 1/1\n"
     ]
    },
    {
     "name": "stdout",
     "output_type": "stream",
     "text": [
      "50/50 [==============================] - ETA: 9s - loss: 1.1009 - acc: 0.312 - ETA: 5s - loss: 1.0969 - acc: 0.406 - ETA: 5s - loss: 1.0964 - acc: 0.382 - ETA: 4s - loss: 1.0974 - acc: 0.368 - ETA: 4s - loss: 1.0973 - acc: 0.369 - ETA: 4s - loss: 1.0971 - acc: 0.379 - ETA: 4s - loss: 1.0975 - acc: 0.367 - ETA: 4s - loss: 1.0977 - acc: 0.361 - ETA: 4s - loss: 1.0992 - acc: 0.337 - ETA: 4s - loss: 1.0987 - acc: 0.343 - ETA: 3s - loss: 1.0989 - acc: 0.341 - ETA: 3s - loss: 1.0994 - acc: 0.338 - ETA: 3s - loss: 1.0995 - acc: 0.339 - ETA: 3s - loss: 1.0989 - acc: 0.352 - ETA: 3s - loss: 1.0986 - acc: 0.353 - ETA: 3s - loss: 1.0984 - acc: 0.352 - ETA: 3s - loss: 1.0987 - acc: 0.347 - ETA: 3s - loss: 1.0986 - acc: 0.350 - ETA: 3s - loss: 1.0987 - acc: 0.345 - ETA: 2s - loss: 1.0985 - acc: 0.349 - ETA: 2s - loss: 1.0987 - acc: 0.346 - ETA: 2s - loss: 1.0988 - acc: 0.347 - ETA: 2s - loss: 1.0986 - acc: 0.349 - ETA: 2s - loss: 1.0985 - acc: 0.350 - ETA: 2s - loss: 1.0980 - acc: 0.355 - ETA: 2s - loss: 1.0979 - acc: 0.356 - ETA: 2s - loss: 1.0979 - acc: 0.357 - ETA: 2s - loss: 1.0983 - acc: 0.352 - ETA: 2s - loss: 1.0983 - acc: 0.354 - ETA: 1s - loss: 1.0983 - acc: 0.351 - ETA: 1s - loss: 1.0986 - acc: 0.347 - ETA: 1s - loss: 1.0986 - acc: 0.347 - ETA: 1s - loss: 1.0984 - acc: 0.351 - ETA: 1s - loss: 1.0983 - acc: 0.351 - ETA: 1s - loss: 1.0983 - acc: 0.350 - ETA: 1s - loss: 1.0986 - acc: 0.348 - ETA: 1s - loss: 1.0987 - acc: 0.344 - ETA: 1s - loss: 1.0986 - acc: 0.346 - ETA: 1s - loss: 1.0984 - acc: 0.347 - ETA: 0s - loss: 1.0985 - acc: 0.347 - ETA: 0s - loss: 1.0982 - acc: 0.351 - ETA: 0s - loss: 1.0984 - acc: 0.348 - ETA: 0s - loss: 1.0983 - acc: 0.350 - ETA: 0s - loss: 1.0984 - acc: 0.350 - ETA: 0s - loss: 1.0985 - acc: 0.349 - ETA: 0s - loss: 1.0984 - acc: 0.349 - ETA: 0s - loss: 1.0987 - acc: 0.347 - ETA: 0s - loss: 1.0988 - acc: 0.345 - 5s - loss: 1.0989 - acc: 0.3425 - val_loss: 1.0995 - val_acc: 0.3120\n",
      "_________________________________________________________________\n",
      "Layer (type)                 Output Shape              Param #   \n",
      "=================================================================\n",
      "conv2d_40 (Conv2D)           (None, 32, 32, 4)         112       \n",
      "_________________________________________________________________\n",
      "activation_66 (Activation)   (None, 32, 32, 4)         0         \n",
      "_________________________________________________________________\n",
      "max_pooling2d_40 (MaxPooling (None, 16, 16, 4)         0         \n",
      "_________________________________________________________________\n",
      "conv2d_41 (Conv2D)           (None, 16, 16, 8)         296       \n",
      "_________________________________________________________________\n",
      "activation_67 (Activation)   (None, 16, 16, 8)         0         \n",
      "_________________________________________________________________\n",
      "max_pooling2d_41 (MaxPooling (None, 8, 8, 8)           0         \n",
      "_________________________________________________________________\n",
      "conv2d_42 (Conv2D)           (None, 8, 8, 16)          1168      \n",
      "_________________________________________________________________\n",
      "activation_68 (Activation)   (None, 8, 8, 16)          0         \n",
      "_________________________________________________________________\n",
      "max_pooling2d_42 (MaxPooling (None, 4, 4, 16)          0         \n",
      "_________________________________________________________________\n",
      "average_pooling2d_14 (Averag (None, 2, 2, 16)          0         \n",
      "_________________________________________________________________\n",
      "flatten_14 (Flatten)         (None, 64)                0         \n",
      "_________________________________________________________________\n",
      "dense_27 (Dense)             (None, 128)               8320      \n",
      "_________________________________________________________________\n",
      "activation_69 (Activation)   (None, 128)               0         \n",
      "_________________________________________________________________\n",
      "dropout_14 (Dropout)         (None, 128)               0         \n",
      "_________________________________________________________________\n",
      "dense_28 (Dense)             (None, 3)                 387       \n",
      "_________________________________________________________________\n",
      "activation_70 (Activation)   (None, 3)                 0         \n",
      "=================================================================\n",
      "Total params: 10,283\n",
      "Trainable params: 10,283\n",
      "Non-trainable params: 0\n",
      "_________________________________________________________________\n",
      "None\n",
      "10283\n",
      "Epoch 1/1\n",
      "50/50 [==============================] - ETA: 9s - loss: 1.1544 - acc: 0.281 - ETA: 4s - loss: 1.1692 - acc: 0.218 - ETA: 4s - loss: 1.1555 - acc: 0.250 - ETA: 4s - loss: 1.1411 - acc: 0.281 - ETA: 4s - loss: 1.1409 - acc: 0.281 - ETA: 4s - loss: 1.1355 - acc: 0.303 - ETA: 4s - loss: 1.1313 - acc: 0.312 - ETA: 4s - loss: 1.1300 - acc: 0.302 - ETA: 4s - loss: 1.1299 - acc: 0.287 - ETA: 4s - loss: 1.1291 - acc: 0.278 - ETA: 4s - loss: 1.1260 - acc: 0.281 - ETA: 4s - loss: 1.1255 - acc: 0.276 - ETA: 4s - loss: 1.1253 - acc: 0.274 - ETA: 4s - loss: 1.1232 - acc: 0.277 - ETA: 3s - loss: 1.1218 - acc: 0.289 - ETA: 3s - loss: 1.1204 - acc: 0.290 - ETA: 3s - loss: 1.1190 - acc: 0.296 - ETA: 3s - loss: 1.1191 - acc: 0.297 - ETA: 3s - loss: 1.1180 - acc: 0.298 - ETA: 3s - loss: 1.1177 - acc: 0.297 - ETA: 3s - loss: 1.1167 - acc: 0.299 - ETA: 2s - loss: 1.1165 - acc: 0.298 - ETA: 2s - loss: 1.1156 - acc: 0.302 - ETA: 2s - loss: 1.1147 - acc: 0.302 - ETA: 2s - loss: 1.1138 - acc: 0.308 - ETA: 2s - loss: 1.1136 - acc: 0.306 - ETA: 2s - loss: 1.1135 - acc: 0.303 - ETA: 2s - loss: 1.1129 - acc: 0.305 - ETA: 2s - loss: 1.1129 - acc: 0.303 - ETA: 2s - loss: 1.1126 - acc: 0.300 - ETA: 1s - loss: 1.1123 - acc: 0.300 - ETA: 1s - loss: 1.1120 - acc: 0.302 - ETA: 1s - loss: 1.1115 - acc: 0.305 - ETA: 1s - loss: 1.1107 - acc: 0.309 - ETA: 1s - loss: 1.1103 - acc: 0.315 - ETA: 1s - loss: 1.1101 - acc: 0.314 - ETA: 1s - loss: 1.1098 - acc: 0.315 - ETA: 1s - loss: 1.1093 - acc: 0.318 - ETA: 1s - loss: 1.1090 - acc: 0.318 - ETA: 0s - loss: 1.1089 - acc: 0.320 - ETA: 0s - loss: 1.1088 - acc: 0.317 - ETA: 0s - loss: 1.1087 - acc: 0.318 - ETA: 0s - loss: 1.1086 - acc: 0.318 - ETA: 0s - loss: 1.1085 - acc: 0.318 - ETA: 0s - loss: 1.1084 - acc: 0.317 - ETA: 0s - loss: 1.1085 - acc: 0.313 - ETA: 0s - loss: 1.1083 - acc: 0.315 - ETA: 0s - loss: 1.1081 - acc: 0.316 - 6s - loss: 1.1079 - acc: 0.3181 - val_loss: 1.0968 - val_acc: 0.3580\n",
      "_________________________________________________________________\n",
      "Layer (type)                 Output Shape              Param #   \n",
      "=================================================================\n",
      "conv2d_43 (Conv2D)           (None, 32, 32, 8)         224       \n",
      "_________________________________________________________________\n",
      "activation_71 (Activation)   (None, 32, 32, 8)         0         \n",
      "_________________________________________________________________\n",
      "max_pooling2d_43 (MaxPooling (None, 16, 16, 8)         0         \n",
      "_________________________________________________________________\n",
      "conv2d_44 (Conv2D)           (None, 16, 16, 16)        1168      \n",
      "_________________________________________________________________\n",
      "activation_72 (Activation)   (None, 16, 16, 16)        0         \n",
      "_________________________________________________________________\n",
      "max_pooling2d_44 (MaxPooling (None, 8, 8, 16)          0         \n",
      "_________________________________________________________________\n",
      "conv2d_45 (Conv2D)           (None, 8, 8, 32)          4640      \n",
      "_________________________________________________________________\n",
      "activation_73 (Activation)   (None, 8, 8, 32)          0         \n",
      "_________________________________________________________________\n",
      "max_pooling2d_45 (MaxPooling (None, 4, 4, 32)          0         \n",
      "_________________________________________________________________\n",
      "average_pooling2d_15 (Averag (None, 2, 2, 32)          0         \n",
      "_________________________________________________________________\n",
      "flatten_15 (Flatten)         (None, 128)               0         \n",
      "_________________________________________________________________\n",
      "dense_29 (Dense)             (None, 128)               16512     \n",
      "_________________________________________________________________\n",
      "activation_74 (Activation)   (None, 128)               0         \n"
     ]
    },
    {
     "name": "stdout",
     "output_type": "stream",
     "text": [
      "_________________________________________________________________\n",
      "dropout_15 (Dropout)         (None, 128)               0         \n",
      "_________________________________________________________________\n",
      "dense_30 (Dense)             (None, 3)                 387       \n",
      "_________________________________________________________________\n",
      "activation_75 (Activation)   (None, 3)                 0         \n",
      "=================================================================\n",
      "Total params: 22,931\n",
      "Trainable params: 22,931\n",
      "Non-trainable params: 0\n",
      "_________________________________________________________________\n",
      "None\n",
      "22931\n",
      "Epoch 1/1\n",
      "50/50 [==============================] - ETA: 8s - loss: 1.1272 - acc: 0.281 - ETA: 4s - loss: 1.1069 - acc: 0.302 - ETA: 4s - loss: 1.1161 - acc: 0.273 - ETA: 4s - loss: 1.1169 - acc: 0.275 - ETA: 4s - loss: 1.1162 - acc: 0.270 - ETA: 4s - loss: 1.1122 - acc: 0.281 - ETA: 4s - loss: 1.1187 - acc: 0.261 - ETA: 4s - loss: 1.1152 - acc: 0.281 - ETA: 3s - loss: 1.1118 - acc: 0.293 - ETA: 3s - loss: 1.1106 - acc: 0.298 - ETA: 3s - loss: 1.1099 - acc: 0.302 - ETA: 3s - loss: 1.1088 - acc: 0.305 - ETA: 3s - loss: 1.1081 - acc: 0.314 - ETA: 3s - loss: 1.1082 - acc: 0.314 - ETA: 3s - loss: 1.1079 - acc: 0.318 - ETA: 3s - loss: 1.1073 - acc: 0.319 - ETA: 3s - loss: 1.1075 - acc: 0.314 - ETA: 3s - loss: 1.1069 - acc: 0.315 - ETA: 2s - loss: 1.1064 - acc: 0.317 - ETA: 2s - loss: 1.1066 - acc: 0.314 - ETA: 2s - loss: 1.1059 - acc: 0.319 - ETA: 2s - loss: 1.1055 - acc: 0.319 - ETA: 2s - loss: 1.1051 - acc: 0.322 - ETA: 2s - loss: 1.1049 - acc: 0.320 - ETA: 2s - loss: 1.1045 - acc: 0.323 - ETA: 2s - loss: 1.1041 - acc: 0.325 - ETA: 2s - loss: 1.1036 - acc: 0.328 - ETA: 2s - loss: 1.1033 - acc: 0.331 - ETA: 2s - loss: 1.1038 - acc: 0.329 - ETA: 1s - loss: 1.1034 - acc: 0.331 - ETA: 1s - loss: 1.1031 - acc: 0.334 - ETA: 1s - loss: 1.1031 - acc: 0.334 - ETA: 1s - loss: 1.1030 - acc: 0.333 - ETA: 1s - loss: 1.1023 - acc: 0.337 - ETA: 1s - loss: 1.1014 - acc: 0.342 - ETA: 1s - loss: 1.1010 - acc: 0.343 - ETA: 1s - loss: 1.1014 - acc: 0.342 - ETA: 1s - loss: 1.1014 - acc: 0.342 - ETA: 1s - loss: 1.1013 - acc: 0.343 - ETA: 0s - loss: 1.1018 - acc: 0.340 - ETA: 0s - loss: 1.1013 - acc: 0.342 - ETA: 0s - loss: 1.1012 - acc: 0.343 - ETA: 0s - loss: 1.1005 - acc: 0.345 - ETA: 0s - loss: 1.1007 - acc: 0.345 - ETA: 0s - loss: 1.1007 - acc: 0.347 - ETA: 0s - loss: 1.1002 - acc: 0.347 - ETA: 0s - loss: 1.0998 - acc: 0.349 - ETA: 0s - loss: 1.0990 - acc: 0.352 - 6s - loss: 1.0989 - acc: 0.3538 - val_loss: 1.1105 - val_acc: 0.3120\n",
      "_________________________________________________________________\n",
      "Layer (type)                 Output Shape              Param #   \n",
      "=================================================================\n",
      "conv2d_46 (Conv2D)           (None, 32, 32, 16)        448       \n",
      "_________________________________________________________________\n",
      "activation_76 (Activation)   (None, 32, 32, 16)        0         \n",
      "_________________________________________________________________\n",
      "max_pooling2d_46 (MaxPooling (None, 16, 16, 16)        0         \n",
      "_________________________________________________________________\n",
      "conv2d_47 (Conv2D)           (None, 16, 16, 32)        4640      \n",
      "_________________________________________________________________\n",
      "activation_77 (Activation)   (None, 16, 16, 32)        0         \n",
      "_________________________________________________________________\n",
      "max_pooling2d_47 (MaxPooling (None, 8, 8, 32)          0         \n",
      "_________________________________________________________________\n",
      "conv2d_48 (Conv2D)           (None, 8, 8, 64)          18496     \n",
      "_________________________________________________________________\n",
      "activation_78 (Activation)   (None, 8, 8, 64)          0         \n",
      "_________________________________________________________________\n",
      "max_pooling2d_48 (MaxPooling (None, 4, 4, 64)          0         \n",
      "_________________________________________________________________\n",
      "average_pooling2d_16 (Averag (None, 2, 2, 64)          0         \n",
      "_________________________________________________________________\n",
      "flatten_16 (Flatten)         (None, 256)               0         \n",
      "_________________________________________________________________\n",
      "dense_31 (Dense)             (None, 128)               32896     \n",
      "_________________________________________________________________\n",
      "activation_79 (Activation)   (None, 128)               0         \n",
      "_________________________________________________________________\n",
      "dropout_16 (Dropout)         (None, 128)               0         \n",
      "_________________________________________________________________\n",
      "dense_32 (Dense)             (None, 3)                 387       \n",
      "_________________________________________________________________\n",
      "activation_80 (Activation)   (None, 3)                 0         \n",
      "=================================================================\n",
      "Total params: 56,867\n",
      "Trainable params: 56,867\n",
      "Non-trainable params: 0\n",
      "_________________________________________________________________\n",
      "None\n",
      "56867\n",
      "Epoch 1/1\n",
      "50/50 [==============================] - ETA: 10s - loss: 1.1012 - acc: 0.28 - ETA: 6s - loss: 1.1029 - acc: 0.2969 - ETA: 6s - loss: 1.0931 - acc: 0.333 - ETA: 5s - loss: 1.0878 - acc: 0.351 - ETA: 5s - loss: 1.0908 - acc: 0.331 - ETA: 5s - loss: 1.1014 - acc: 0.328 - ETA: 6s - loss: 1.1045 - acc: 0.334 - ETA: 5s - loss: 1.1056 - acc: 0.332 - ETA: 5s - loss: 1.1037 - acc: 0.340 - ETA: 5s - loss: 1.1020 - acc: 0.350 - ETA: 5s - loss: 1.1035 - acc: 0.349 - ETA: 5s - loss: 1.1031 - acc: 0.356 - ETA: 4s - loss: 1.1030 - acc: 0.353 - ETA: 4s - loss: 1.1048 - acc: 0.343 - ETA: 4s - loss: 1.1056 - acc: 0.335 - ETA: 4s - loss: 1.1059 - acc: 0.337 - ETA: 4s - loss: 1.1058 - acc: 0.340 - ETA: 4s - loss: 1.1055 - acc: 0.340 - ETA: 3s - loss: 1.1051 - acc: 0.343 - ETA: 3s - loss: 1.1044 - acc: 0.346 - ETA: 3s - loss: 1.1038 - acc: 0.349 - ETA: 3s - loss: 1.1036 - acc: 0.350 - ETA: 3s - loss: 1.1025 - acc: 0.351 - ETA: 3s - loss: 1.1026 - acc: 0.349 - ETA: 3s - loss: 1.1018 - acc: 0.352 - ETA: 3s - loss: 1.1018 - acc: 0.351 - ETA: 3s - loss: 1.1022 - acc: 0.347 - ETA: 3s - loss: 1.1020 - acc: 0.348 - ETA: 3s - loss: 1.1024 - acc: 0.348 - ETA: 2s - loss: 1.1028 - acc: 0.344 - ETA: 2s - loss: 1.1022 - acc: 0.344 - ETA: 2s - loss: 1.1021 - acc: 0.340 - ETA: 2s - loss: 1.1022 - acc: 0.338 - ETA: 2s - loss: 1.1016 - acc: 0.341 - ETA: 2s - loss: 1.1014 - acc: 0.342 - ETA: 2s - loss: 1.1017 - acc: 0.339 - ETA: 1s - loss: 1.1016 - acc: 0.341 - ETA: 1s - loss: 1.1012 - acc: 0.345 - ETA: 1s - loss: 1.1017 - acc: 0.342 - ETA: 1s - loss: 1.1014 - acc: 0.343 - ETA: 1s - loss: 1.1014 - acc: 0.345 - ETA: 1s - loss: 1.1014 - acc: 0.345 - ETA: 0s - loss: 1.1009 - acc: 0.345 - ETA: 0s - loss: 1.1008 - acc: 0.347 - ETA: 0s - loss: 1.1011 - acc: 0.344 - ETA: 0s - loss: 1.1018 - acc: 0.341 - ETA: 0s - loss: 1.1023 - acc: 0.339 - ETA: 0s - loss: 1.1023 - acc: 0.339 - ETA: 0s - loss: 1.1021 - acc: 0.341 - 8s - loss: 1.1019 - acc: 0.3431 - val_loss: 1.0991 - val_acc: 0.3610\n",
      "_________________________________________________________________\n",
      "Layer (type)                 Output Shape              Param #   \n",
      "=================================================================\n",
      "conv2d_49 (Conv2D)           (None, 32, 32, 32)        896       \n",
      "_________________________________________________________________\n",
      "activation_81 (Activation)   (None, 32, 32, 32)        0         \n",
      "_________________________________________________________________\n",
      "max_pooling2d_49 (MaxPooling (None, 16, 16, 32)        0         \n",
      "_________________________________________________________________\n",
      "conv2d_50 (Conv2D)           (None, 16, 16, 64)        18496     \n",
      "_________________________________________________________________\n",
      "activation_82 (Activation)   (None, 16, 16, 64)        0         \n",
      "_________________________________________________________________\n",
      "max_pooling2d_50 (MaxPooling (None, 8, 8, 64)          0         \n",
      "_________________________________________________________________\n",
      "conv2d_51 (Conv2D)           (None, 8, 8, 128)         73856     \n",
      "_________________________________________________________________\n",
      "activation_83 (Activation)   (None, 8, 8, 128)         0         \n"
     ]
    },
    {
     "name": "stdout",
     "output_type": "stream",
     "text": [
      "_________________________________________________________________\n",
      "max_pooling2d_51 (MaxPooling (None, 4, 4, 128)         0         \n",
      "_________________________________________________________________\n",
      "average_pooling2d_17 (Averag (None, 2, 2, 128)         0         \n",
      "_________________________________________________________________\n",
      "flatten_17 (Flatten)         (None, 512)               0         \n",
      "_________________________________________________________________\n",
      "dense_33 (Dense)             (None, 128)               65664     \n",
      "_________________________________________________________________\n",
      "activation_84 (Activation)   (None, 128)               0         \n",
      "_________________________________________________________________\n",
      "dropout_17 (Dropout)         (None, 128)               0         \n",
      "_________________________________________________________________\n",
      "dense_34 (Dense)             (None, 3)                 387       \n",
      "_________________________________________________________________\n",
      "activation_85 (Activation)   (None, 3)                 0         \n",
      "=================================================================\n",
      "Total params: 159,299\n",
      "Trainable params: 159,299\n",
      "Non-trainable params: 0\n",
      "_________________________________________________________________\n",
      "None\n",
      "159299\n",
      "Epoch 1/1\n",
      "50/50 [==============================] - ETA: 11s - loss: 1.1013 - acc: 0.28 - ETA: 8s - loss: 1.1149 - acc: 0.2500 - ETA: 7s - loss: 1.1132 - acc: 0.250 - ETA: 7s - loss: 1.1137 - acc: 0.273 - ETA: 7s - loss: 1.1152 - acc: 0.293 - ETA: 6s - loss: 1.1156 - acc: 0.302 - ETA: 6s - loss: 1.1167 - acc: 0.290 - ETA: 6s - loss: 1.1170 - acc: 0.281 - ETA: 6s - loss: 1.1139 - acc: 0.298 - ETA: 6s - loss: 1.1120 - acc: 0.315 - ETA: 6s - loss: 1.1101 - acc: 0.318 - ETA: 5s - loss: 1.1102 - acc: 0.309 - ETA: 5s - loss: 1.1093 - acc: 0.310 - ETA: 5s - loss: 1.1083 - acc: 0.317 - ETA: 5s - loss: 1.1074 - acc: 0.325 - ETA: 5s - loss: 1.1064 - acc: 0.320 - ETA: 4s - loss: 1.1052 - acc: 0.321 - ETA: 4s - loss: 1.1054 - acc: 0.314 - ETA: 4s - loss: 1.1037 - acc: 0.319 - ETA: 4s - loss: 1.1035 - acc: 0.320 - ETA: 4s - loss: 1.1024 - acc: 0.325 - ETA: 4s - loss: 1.1016 - acc: 0.328 - ETA: 4s - loss: 1.1024 - acc: 0.320 - ETA: 3s - loss: 1.1032 - acc: 0.319 - ETA: 3s - loss: 1.1035 - acc: 0.321 - ETA: 3s - loss: 1.1032 - acc: 0.323 - ETA: 3s - loss: 1.1030 - acc: 0.322 - ETA: 3s - loss: 1.1035 - acc: 0.322 - ETA: 3s - loss: 1.1025 - acc: 0.325 - ETA: 2s - loss: 1.1022 - acc: 0.324 - ETA: 2s - loss: 1.1023 - acc: 0.325 - ETA: 2s - loss: 1.1027 - acc: 0.324 - ETA: 2s - loss: 1.1020 - acc: 0.326 - ETA: 2s - loss: 1.1020 - acc: 0.325 - ETA: 2s - loss: 1.1019 - acc: 0.326 - ETA: 2s - loss: 1.1013 - acc: 0.327 - ETA: 1s - loss: 1.1015 - acc: 0.322 - ETA: 1s - loss: 1.1015 - acc: 0.322 - ETA: 1s - loss: 1.1012 - acc: 0.324 - ETA: 1s - loss: 1.1013 - acc: 0.328 - ETA: 1s - loss: 1.1017 - acc: 0.326 - ETA: 1s - loss: 1.1018 - acc: 0.326 - ETA: 1s - loss: 1.1019 - acc: 0.327 - ETA: 0s - loss: 1.1015 - acc: 0.329 - ETA: 0s - loss: 1.1010 - acc: 0.333 - ETA: 0s - loss: 1.1013 - acc: 0.333 - ETA: 0s - loss: 1.1010 - acc: 0.336 - ETA: 0s - loss: 1.1010 - acc: 0.337 - ETA: 0s - loss: 1.1012 - acc: 0.337 - 9s - loss: 1.1010 - acc: 0.3394 - val_loss: 1.1008 - val_acc: 0.3120\n",
      "_________________________________________________________________\n",
      "Layer (type)                 Output Shape              Param #   \n",
      "=================================================================\n",
      "conv2d_52 (Conv2D)           (None, 32, 32, 48)        1344      \n",
      "_________________________________________________________________\n",
      "activation_86 (Activation)   (None, 32, 32, 48)        0         \n",
      "_________________________________________________________________\n",
      "max_pooling2d_52 (MaxPooling (None, 16, 16, 48)        0         \n",
      "_________________________________________________________________\n",
      "conv2d_53 (Conv2D)           (None, 16, 16, 96)        41568     \n",
      "_________________________________________________________________\n",
      "activation_87 (Activation)   (None, 16, 16, 96)        0         \n",
      "_________________________________________________________________\n",
      "max_pooling2d_53 (MaxPooling (None, 8, 8, 96)          0         \n",
      "_________________________________________________________________\n",
      "conv2d_54 (Conv2D)           (None, 8, 8, 192)         166080    \n",
      "_________________________________________________________________\n",
      "activation_88 (Activation)   (None, 8, 8, 192)         0         \n",
      "_________________________________________________________________\n",
      "max_pooling2d_54 (MaxPooling (None, 4, 4, 192)         0         \n",
      "_________________________________________________________________\n",
      "average_pooling2d_18 (Averag (None, 2, 2, 192)         0         \n",
      "_________________________________________________________________\n",
      "flatten_18 (Flatten)         (None, 768)               0         \n",
      "_________________________________________________________________\n",
      "dense_35 (Dense)             (None, 128)               98432     \n",
      "_________________________________________________________________\n",
      "activation_89 (Activation)   (None, 128)               0         \n",
      "_________________________________________________________________\n",
      "dropout_18 (Dropout)         (None, 128)               0         \n",
      "_________________________________________________________________\n",
      "dense_36 (Dense)             (None, 3)                 387       \n",
      "_________________________________________________________________\n",
      "activation_90 (Activation)   (None, 3)                 0         \n",
      "=================================================================\n",
      "Total params: 307,811\n",
      "Trainable params: 307,811\n",
      "Non-trainable params: 0\n",
      "_________________________________________________________________\n",
      "None\n",
      "307811\n",
      "Epoch 1/1\n",
      "50/50 [==============================] - ETA: 17s - loss: 1.1072 - acc: 0.37 - ETA: 13s - loss: 1.0779 - acc: 0.40 - ETA: 11s - loss: 1.1309 - acc: 0.36 - ETA: 10s - loss: 1.1284 - acc: 0.34 - ETA: 10s - loss: 1.1190 - acc: 0.35 - ETA: 10s - loss: 1.1203 - acc: 0.34 - ETA: 10s - loss: 1.1189 - acc: 0.33 - ETA: 9s - loss: 1.1184 - acc: 0.3242 - ETA: 9s - loss: 1.1186 - acc: 0.322 - ETA: 9s - loss: 1.1149 - acc: 0.337 - ETA: 9s - loss: 1.1146 - acc: 0.335 - ETA: 8s - loss: 1.1145 - acc: 0.335 - ETA: 8s - loss: 1.1122 - acc: 0.343 - ETA: 8s - loss: 1.1118 - acc: 0.339 - ETA: 8s - loss: 1.1099 - acc: 0.345 - ETA: 7s - loss: 1.1086 - acc: 0.343 - ETA: 7s - loss: 1.1102 - acc: 0.340 - ETA: 7s - loss: 1.1085 - acc: 0.342 - ETA: 7s - loss: 1.1072 - acc: 0.347 - ETA: 6s - loss: 1.1058 - acc: 0.346 - ETA: 6s - loss: 1.1055 - acc: 0.343 - ETA: 6s - loss: 1.1063 - acc: 0.340 - ETA: 6s - loss: 1.1052 - acc: 0.346 - ETA: 5s - loss: 1.1050 - acc: 0.342 - ETA: 5s - loss: 1.1051 - acc: 0.343 - ETA: 5s - loss: 1.1056 - acc: 0.338 - ETA: 5s - loss: 1.1053 - acc: 0.336 - ETA: 4s - loss: 1.1046 - acc: 0.337 - ETA: 4s - loss: 1.1043 - acc: 0.338 - ETA: 4s - loss: 1.1040 - acc: 0.336 - ETA: 4s - loss: 1.1034 - acc: 0.338 - ETA: 3s - loss: 1.1027 - acc: 0.341 - ETA: 3s - loss: 1.1021 - acc: 0.343 - ETA: 3s - loss: 1.1018 - acc: 0.345 - ETA: 3s - loss: 1.1013 - acc: 0.350 - ETA: 3s - loss: 1.1014 - acc: 0.346 - ETA: 2s - loss: 1.1019 - acc: 0.345 - ETA: 2s - loss: 1.1011 - acc: 0.347 - ETA: 2s - loss: 1.0999 - acc: 0.349 - ETA: 2s - loss: 1.1010 - acc: 0.347 - ETA: 1s - loss: 1.1016 - acc: 0.348 - ETA: 1s - loss: 1.1006 - acc: 0.351 - ETA: 1s - loss: 1.1002 - acc: 0.353 - ETA: 1s - loss: 1.1007 - acc: 0.351 - ETA: 1s - loss: 1.1012 - acc: 0.349 - ETA: 0s - loss: 1.1014 - acc: 0.348 - ETA: 0s - loss: 1.1012 - acc: 0.351 - ETA: 0s - loss: 1.1011 - acc: 0.352 - ETA: 0s - loss: 1.1009 - acc: 0.353 - 13s - loss: 1.1009 - acc: 0.3556 - val_loss: 1.0995 - val_acc: 0.3280\n",
      "_________________________________________________________________\n",
      "Layer (type)                 Output Shape              Param #   \n",
      "=================================================================\n",
      "conv2d_55 (Conv2D)           (None, 32, 32, 64)        1792      \n",
      "_________________________________________________________________\n",
      "activation_91 (Activation)   (None, 32, 32, 64)        0         \n",
      "_________________________________________________________________\n"
     ]
    },
    {
     "name": "stdout",
     "output_type": "stream",
     "text": [
      "max_pooling2d_55 (MaxPooling (None, 16, 16, 64)        0         \n",
      "_________________________________________________________________\n",
      "conv2d_56 (Conv2D)           (None, 16, 16, 128)       73856     \n",
      "_________________________________________________________________\n",
      "activation_92 (Activation)   (None, 16, 16, 128)       0         \n",
      "_________________________________________________________________\n",
      "max_pooling2d_56 (MaxPooling (None, 8, 8, 128)         0         \n",
      "_________________________________________________________________\n",
      "conv2d_57 (Conv2D)           (None, 8, 8, 256)         295168    \n",
      "_________________________________________________________________\n",
      "activation_93 (Activation)   (None, 8, 8, 256)         0         \n",
      "_________________________________________________________________\n",
      "max_pooling2d_57 (MaxPooling (None, 4, 4, 256)         0         \n",
      "_________________________________________________________________\n",
      "average_pooling2d_19 (Averag (None, 2, 2, 256)         0         \n",
      "_________________________________________________________________\n",
      "flatten_19 (Flatten)         (None, 1024)              0         \n",
      "_________________________________________________________________\n",
      "dense_37 (Dense)             (None, 128)               131200    \n",
      "_________________________________________________________________\n",
      "activation_94 (Activation)   (None, 128)               0         \n",
      "_________________________________________________________________\n",
      "dropout_19 (Dropout)         (None, 128)               0         \n",
      "_________________________________________________________________\n",
      "dense_38 (Dense)             (None, 3)                 387       \n",
      "_________________________________________________________________\n",
      "activation_95 (Activation)   (None, 3)                 0         \n",
      "=================================================================\n",
      "Total params: 502,403\n",
      "Trainable params: 502,403\n",
      "Non-trainable params: 0\n",
      "_________________________________________________________________\n",
      "None\n",
      "502403\n",
      "Epoch 1/1\n",
      "50/50 [==============================] - ETA: 26s - loss: 1.1096 - acc: 0.34 - ETA: 22s - loss: 1.1756 - acc: 0.31 - ETA: 20s - loss: 1.1483 - acc: 0.34 - ETA: 18s - loss: 1.1377 - acc: 0.37 - ETA: 17s - loss: 1.1256 - acc: 0.38 - ETA: 17s - loss: 1.1245 - acc: 0.39 - ETA: 16s - loss: 1.1441 - acc: 0.38 - ETA: 16s - loss: 1.1503 - acc: 0.37 - ETA: 15s - loss: 1.1432 - acc: 0.39 - ETA: 15s - loss: 1.1495 - acc: 0.36 - ETA: 14s - loss: 1.1416 - acc: 0.36 - ETA: 14s - loss: 1.1382 - acc: 0.37 - ETA: 13s - loss: 1.1381 - acc: 0.36 - ETA: 13s - loss: 1.1388 - acc: 0.36 - ETA: 13s - loss: 1.1358 - acc: 0.36 - ETA: 12s - loss: 1.1339 - acc: 0.35 - ETA: 12s - loss: 1.1317 - acc: 0.35 - ETA: 11s - loss: 1.1301 - acc: 0.35 - ETA: 11s - loss: 1.1280 - acc: 0.35 - ETA: 10s - loss: 1.1265 - acc: 0.35 - ETA: 10s - loss: 1.1253 - acc: 0.35 - ETA: 9s - loss: 1.1241 - acc: 0.3594 - ETA: 9s - loss: 1.1229 - acc: 0.358 - ETA: 9s - loss: 1.1234 - acc: 0.346 - ETA: 8s - loss: 1.1227 - acc: 0.342 - ETA: 8s - loss: 1.1216 - acc: 0.340 - ETA: 8s - loss: 1.1206 - acc: 0.342 - ETA: 7s - loss: 1.1197 - acc: 0.343 - ETA: 7s - loss: 1.1186 - acc: 0.344 - ETA: 6s - loss: 1.1186 - acc: 0.340 - ETA: 6s - loss: 1.1171 - acc: 0.345 - ETA: 6s - loss: 1.1167 - acc: 0.344 - ETA: 5s - loss: 1.1163 - acc: 0.345 - ETA: 5s - loss: 1.1160 - acc: 0.344 - ETA: 5s - loss: 1.1151 - acc: 0.349 - ETA: 4s - loss: 1.1145 - acc: 0.350 - ETA: 4s - loss: 1.1137 - acc: 0.352 - ETA: 4s - loss: 1.1132 - acc: 0.352 - ETA: 3s - loss: 1.1128 - acc: 0.352 - ETA: 3s - loss: 1.1123 - acc: 0.353 - ETA: 3s - loss: 1.1125 - acc: 0.352 - ETA: 2s - loss: 1.1127 - acc: 0.350 - ETA: 2s - loss: 1.1128 - acc: 0.348 - ETA: 2s - loss: 1.1123 - acc: 0.348 - ETA: 1s - loss: 1.1118 - acc: 0.347 - ETA: 1s - loss: 1.1117 - acc: 0.342 - ETA: 1s - loss: 1.1113 - acc: 0.343 - ETA: 0s - loss: 1.1112 - acc: 0.345 - ETA: 0s - loss: 1.1111 - acc: 0.341 - 20s - loss: 1.1108 - acc: 0.3431 - val_loss: 1.1000 - val_acc: 0.3150\n",
      "_________________________________________________________________\n",
      "Layer (type)                 Output Shape              Param #   \n",
      "=================================================================\n",
      "conv2d_58 (Conv2D)           (None, 32, 32, 96)        2688      \n",
      "_________________________________________________________________\n",
      "activation_96 (Activation)   (None, 32, 32, 96)        0         \n",
      "_________________________________________________________________\n",
      "max_pooling2d_58 (MaxPooling (None, 16, 16, 96)        0         \n",
      "_________________________________________________________________\n",
      "conv2d_59 (Conv2D)           (None, 16, 16, 192)       166080    \n",
      "_________________________________________________________________\n",
      "activation_97 (Activation)   (None, 16, 16, 192)       0         \n",
      "_________________________________________________________________\n",
      "max_pooling2d_59 (MaxPooling (None, 8, 8, 192)         0         \n",
      "_________________________________________________________________\n",
      "conv2d_60 (Conv2D)           (None, 8, 8, 384)         663936    \n",
      "_________________________________________________________________\n",
      "activation_98 (Activation)   (None, 8, 8, 384)         0         \n",
      "_________________________________________________________________\n",
      "max_pooling2d_60 (MaxPooling (None, 4, 4, 384)         0         \n",
      "_________________________________________________________________\n",
      "average_pooling2d_20 (Averag (None, 2, 2, 384)         0         \n",
      "_________________________________________________________________\n",
      "flatten_20 (Flatten)         (None, 1536)              0         \n",
      "_________________________________________________________________\n",
      "dense_39 (Dense)             (None, 128)               196736    \n",
      "_________________________________________________________________\n",
      "activation_99 (Activation)   (None, 128)               0         \n",
      "_________________________________________________________________\n",
      "dropout_20 (Dropout)         (None, 128)               0         \n",
      "_________________________________________________________________\n",
      "dense_40 (Dense)             (None, 3)                 387       \n",
      "_________________________________________________________________\n",
      "activation_100 (Activation)  (None, 3)                 0         \n",
      "=================================================================\n",
      "Total params: 1,029,827\n",
      "Trainable params: 1,029,827\n",
      "Non-trainable params: 0\n",
      "_________________________________________________________________\n",
      "None\n",
      "1029827\n",
      "Epoch 1/1\n"
     ]
    },
    {
     "name": "stdout",
     "output_type": "stream",
     "text": [
      "50/50 [==============================] - ETA: 40s - loss: 1.1431 - acc: 0.18 - ETA: 35s - loss: 1.3044 - acc: 0.28 - ETA: 33s - loss: 1.2472 - acc: 0.32 - ETA: 32s - loss: 1.2153 - acc: 0.33 - ETA: 31s - loss: 1.1958 - acc: 0.34 - ETA: 29s - loss: 1.1829 - acc: 0.35 - ETA: 28s - loss: 1.1829 - acc: 0.35 - ETA: 27s - loss: 1.1660 - acc: 0.37 - ETA: 26s - loss: 1.1605 - acc: 0.37 - ETA: 25s - loss: 1.1638 - acc: 0.36 - ETA: 25s - loss: 1.1615 - acc: 0.35 - ETA: 24s - loss: 1.1619 - acc: 0.34 - ETA: 23s - loss: 1.1612 - acc: 0.34 - ETA: 22s - loss: 1.1568 - acc: 0.34 - ETA: 22s - loss: 1.1531 - acc: 0.34 - ETA: 21s - loss: 1.1503 - acc: 0.33 - ETA: 20s - loss: 1.1498 - acc: 0.33 - ETA: 19s - loss: 1.1463 - acc: 0.33 - ETA: 19s - loss: 1.1436 - acc: 0.34 - ETA: 18s - loss: 1.1414 - acc: 0.34 - ETA: 18s - loss: 1.1404 - acc: 0.33 - ETA: 17s - loss: 1.1380 - acc: 0.33 - ETA: 16s - loss: 1.1364 - acc: 0.33 - ETA: 16s - loss: 1.1357 - acc: 0.32 - ETA: 15s - loss: 1.1344 - acc: 0.33 - ETA: 15s - loss: 1.1330 - acc: 0.33 - ETA: 14s - loss: 1.1320 - acc: 0.32 - ETA: 13s - loss: 1.1307 - acc: 0.33 - ETA: 13s - loss: 1.1298 - acc: 0.32 - ETA: 12s - loss: 1.1289 - acc: 0.32 - ETA: 11s - loss: 1.1278 - acc: 0.33 - ETA: 11s - loss: 1.1268 - acc: 0.33 - ETA: 10s - loss: 1.1262 - acc: 0.32 - ETA: 9s - loss: 1.1254 - acc: 0.3309 - ETA: 9s - loss: 1.1247 - acc: 0.326 - ETA: 8s - loss: 1.1243 - acc: 0.322 - ETA: 8s - loss: 1.1236 - acc: 0.322 - ETA: 7s - loss: 1.1231 - acc: 0.320 - ETA: 6s - loss: 1.1225 - acc: 0.322 - ETA: 6s - loss: 1.1221 - acc: 0.322 - ETA: 5s - loss: 1.1217 - acc: 0.320 - ETA: 4s - loss: 1.1212 - acc: 0.320 - ETA: 4s - loss: 1.1207 - acc: 0.320 - ETA: 3s - loss: 1.1202 - acc: 0.321 - ETA: 3s - loss: 1.1197 - acc: 0.318 - ETA: 2s - loss: 1.1193 - acc: 0.317 - ETA: 1s - loss: 1.1189 - acc: 0.318 - ETA: 1s - loss: 1.1184 - acc: 0.319 - ETA: 0s - loss: 1.1181 - acc: 0.318 - 36s - loss: 1.1177 - acc: 0.3162 - val_loss: 1.0984 - val_acc: 0.3570\n"
     ]
    }
   ],
   "source": [
    "# Train many models\n",
    "for filters in [1,2,4,8,16,32,48,64,96]:\n",
    "    modelid = \"filters{:03d}_timestamp{}\".format(filters,time.strftime(\"%Y%m%d%H%M%S\"))\n",
    "\n",
    "    callbacks_list = [\n",
    "        keras.callbacks.EarlyStopping(\n",
    "            monitor='val_acc',\n",
    "            patience=50),\n",
    "        keras.callbacks.ModelCheckpoint(\n",
    "            filepath='model_checkpoint_best_{}.h5'.format(modelid),\n",
    "            monitor='val_loss',\n",
    "            save_best_only=True),\n",
    "        keras.callbacks.TensorBoard(\n",
    "            log_dir='./logs/'+modelid,\n",
    "            histogram_freq=0, write_graph=False, write_images=False)\n",
    "    ]\n",
    "    \n",
    "    model = makeModel(filters)\n",
    "    print(model.summary())\n",
    "    print(model.count_params())\n",
    "\n",
    "    history=model.fit_generator(\n",
    "                        generator(dataset_tr, batch_size, patchsize),\n",
    "                        steps_per_epoch=50, \n",
    "                        epochs=1, \n",
    "                        verbose=1,\n",
    "                        validation_data=(X_test,y_test),\n",
    "                        callbacks=callbacks_list)\n",
    "    "
   ]
  },
  {
   "cell_type": "markdown",
   "metadata": {
    "slideshow": {
     "slide_type": "slide"
    }
   },
   "source": [
    "## Step 6: Process the images of the testing set one by one\n",
    "And visualize the results"
   ]
  },
  {
   "cell_type": "code",
   "execution_count": 31,
   "metadata": {},
   "outputs": [
    {
     "ename": "OSError",
     "evalue": "Unable to open file (Unable to open file: name = 'models/model_venus.model', errno = 2, error message = 'no such file or directory', flags = 0, o_flags = 0)",
     "output_type": "error",
     "traceback": [
      "\u001b[1;31m---------------------------------------------------------------------------\u001b[0m",
      "\u001b[1;31mOSError\u001b[0m                                   Traceback (most recent call last)",
      "\u001b[1;32m<ipython-input-31-dd3a97182d8c>\u001b[0m in \u001b[0;36m<module>\u001b[1;34m()\u001b[0m\n\u001b[0;32m      2\u001b[0m \u001b[0mmodelname\u001b[0m \u001b[1;33m=\u001b[0m \u001b[1;34m\"models/model_venus\"\u001b[0m\u001b[1;33m\u001b[0m\u001b[0m\n\u001b[0;32m      3\u001b[0m \u001b[1;33m\u001b[0m\u001b[0m\n\u001b[1;32m----> 4\u001b[1;33m \u001b[0mmodel\u001b[0m \u001b[1;33m=\u001b[0m \u001b[0mkeras\u001b[0m\u001b[1;33m.\u001b[0m\u001b[0mmodels\u001b[0m\u001b[1;33m.\u001b[0m\u001b[0mload_model\u001b[0m\u001b[1;33m(\u001b[0m\u001b[1;34m\"{}.model\"\u001b[0m\u001b[1;33m.\u001b[0m\u001b[0mformat\u001b[0m\u001b[1;33m(\u001b[0m\u001b[0mmodelname\u001b[0m\u001b[1;33m)\u001b[0m\u001b[1;33m)\u001b[0m\u001b[1;33m\u001b[0m\u001b[0m\n\u001b[0m\u001b[0;32m      5\u001b[0m \u001b[0mpatchsize\u001b[0m \u001b[1;33m=\u001b[0m \u001b[0mmodel\u001b[0m\u001b[1;33m.\u001b[0m\u001b[0minput\u001b[0m\u001b[1;33m.\u001b[0m\u001b[0mshape\u001b[0m\u001b[1;33m[\u001b[0m\u001b[1;36m1\u001b[0m\u001b[1;33m]\u001b[0m\u001b[1;33m.\u001b[0m\u001b[0mvalue\u001b[0m\u001b[1;33m\u001b[0m\u001b[0m\n\u001b[0;32m      6\u001b[0m \u001b[0mdataset_te\u001b[0m \u001b[1;33m=\u001b[0m \u001b[0mpd\u001b[0m\u001b[1;33m.\u001b[0m\u001b[0mread_pickle\u001b[0m\u001b[1;33m(\u001b[0m\u001b[1;34m\"{}.testingdata.pickle\"\u001b[0m\u001b[1;33m.\u001b[0m\u001b[0mformat\u001b[0m\u001b[1;33m(\u001b[0m\u001b[0mmodelname\u001b[0m\u001b[1;33m)\u001b[0m\u001b[1;33m)\u001b[0m\u001b[1;33m\u001b[0m\u001b[0m\n",
      "\u001b[1;32m~\\Anaconda3\\lib\\site-packages\\keras\\models.py\u001b[0m in \u001b[0;36mload_model\u001b[1;34m(filepath, custom_objects, compile)\u001b[0m\n\u001b[0;32m    225\u001b[0m             \u001b[1;32mreturn\u001b[0m \u001b[0mcustom_objects\u001b[0m\u001b[1;33m[\u001b[0m\u001b[0mobj\u001b[0m\u001b[1;33m]\u001b[0m\u001b[1;33m\u001b[0m\u001b[0m\n\u001b[0;32m    226\u001b[0m         \u001b[1;32mreturn\u001b[0m \u001b[0mobj\u001b[0m\u001b[1;33m\u001b[0m\u001b[0m\n\u001b[1;32m--> 227\u001b[1;33m     \u001b[1;32mwith\u001b[0m \u001b[0mh5py\u001b[0m\u001b[1;33m.\u001b[0m\u001b[0mFile\u001b[0m\u001b[1;33m(\u001b[0m\u001b[0mfilepath\u001b[0m\u001b[1;33m,\u001b[0m \u001b[0mmode\u001b[0m\u001b[1;33m=\u001b[0m\u001b[1;34m'r'\u001b[0m\u001b[1;33m)\u001b[0m \u001b[1;32mas\u001b[0m \u001b[0mf\u001b[0m\u001b[1;33m:\u001b[0m\u001b[1;33m\u001b[0m\u001b[0m\n\u001b[0m\u001b[0;32m    228\u001b[0m         \u001b[1;31m# instantiate model\u001b[0m\u001b[1;33m\u001b[0m\u001b[1;33m\u001b[0m\u001b[0m\n\u001b[0;32m    229\u001b[0m         \u001b[0mmodel_config\u001b[0m \u001b[1;33m=\u001b[0m \u001b[0mf\u001b[0m\u001b[1;33m.\u001b[0m\u001b[0mattrs\u001b[0m\u001b[1;33m.\u001b[0m\u001b[0mget\u001b[0m\u001b[1;33m(\u001b[0m\u001b[1;34m'model_config'\u001b[0m\u001b[1;33m)\u001b[0m\u001b[1;33m\u001b[0m\u001b[0m\n",
      "\u001b[1;32m~\\Anaconda3\\lib\\site-packages\\h5py\\_hl\\files.py\u001b[0m in \u001b[0;36m__init__\u001b[1;34m(self, name, mode, driver, libver, userblock_size, swmr, **kwds)\u001b[0m\n\u001b[0;32m    269\u001b[0m \u001b[1;33m\u001b[0m\u001b[0m\n\u001b[0;32m    270\u001b[0m                 \u001b[0mfapl\u001b[0m \u001b[1;33m=\u001b[0m \u001b[0mmake_fapl\u001b[0m\u001b[1;33m(\u001b[0m\u001b[0mdriver\u001b[0m\u001b[1;33m,\u001b[0m \u001b[0mlibver\u001b[0m\u001b[1;33m,\u001b[0m \u001b[1;33m**\u001b[0m\u001b[0mkwds\u001b[0m\u001b[1;33m)\u001b[0m\u001b[1;33m\u001b[0m\u001b[0m\n\u001b[1;32m--> 271\u001b[1;33m                 \u001b[0mfid\u001b[0m \u001b[1;33m=\u001b[0m \u001b[0mmake_fid\u001b[0m\u001b[1;33m(\u001b[0m\u001b[0mname\u001b[0m\u001b[1;33m,\u001b[0m \u001b[0mmode\u001b[0m\u001b[1;33m,\u001b[0m \u001b[0muserblock_size\u001b[0m\u001b[1;33m,\u001b[0m \u001b[0mfapl\u001b[0m\u001b[1;33m,\u001b[0m \u001b[0mswmr\u001b[0m\u001b[1;33m=\u001b[0m\u001b[0mswmr\u001b[0m\u001b[1;33m)\u001b[0m\u001b[1;33m\u001b[0m\u001b[0m\n\u001b[0m\u001b[0;32m    272\u001b[0m \u001b[1;33m\u001b[0m\u001b[0m\n\u001b[0;32m    273\u001b[0m                 \u001b[1;32mif\u001b[0m \u001b[0mswmr_support\u001b[0m\u001b[1;33m:\u001b[0m\u001b[1;33m\u001b[0m\u001b[0m\n",
      "\u001b[1;32m~\\Anaconda3\\lib\\site-packages\\h5py\\_hl\\files.py\u001b[0m in \u001b[0;36mmake_fid\u001b[1;34m(name, mode, userblock_size, fapl, fcpl, swmr)\u001b[0m\n\u001b[0;32m     99\u001b[0m         \u001b[1;32mif\u001b[0m \u001b[0mswmr\u001b[0m \u001b[1;32mand\u001b[0m \u001b[0mswmr_support\u001b[0m\u001b[1;33m:\u001b[0m\u001b[1;33m\u001b[0m\u001b[0m\n\u001b[0;32m    100\u001b[0m             \u001b[0mflags\u001b[0m \u001b[1;33m|=\u001b[0m \u001b[0mh5f\u001b[0m\u001b[1;33m.\u001b[0m\u001b[0mACC_SWMR_READ\u001b[0m\u001b[1;33m\u001b[0m\u001b[0m\n\u001b[1;32m--> 101\u001b[1;33m         \u001b[0mfid\u001b[0m \u001b[1;33m=\u001b[0m \u001b[0mh5f\u001b[0m\u001b[1;33m.\u001b[0m\u001b[0mopen\u001b[0m\u001b[1;33m(\u001b[0m\u001b[0mname\u001b[0m\u001b[1;33m,\u001b[0m \u001b[0mflags\u001b[0m\u001b[1;33m,\u001b[0m \u001b[0mfapl\u001b[0m\u001b[1;33m=\u001b[0m\u001b[0mfapl\u001b[0m\u001b[1;33m)\u001b[0m\u001b[1;33m\u001b[0m\u001b[0m\n\u001b[0m\u001b[0;32m    102\u001b[0m     \u001b[1;32melif\u001b[0m \u001b[0mmode\u001b[0m \u001b[1;33m==\u001b[0m \u001b[1;34m'r+'\u001b[0m\u001b[1;33m:\u001b[0m\u001b[1;33m\u001b[0m\u001b[0m\n\u001b[0;32m    103\u001b[0m         \u001b[0mfid\u001b[0m \u001b[1;33m=\u001b[0m \u001b[0mh5f\u001b[0m\u001b[1;33m.\u001b[0m\u001b[0mopen\u001b[0m\u001b[1;33m(\u001b[0m\u001b[0mname\u001b[0m\u001b[1;33m,\u001b[0m \u001b[0mh5f\u001b[0m\u001b[1;33m.\u001b[0m\u001b[0mACC_RDWR\u001b[0m\u001b[1;33m,\u001b[0m \u001b[0mfapl\u001b[0m\u001b[1;33m=\u001b[0m\u001b[0mfapl\u001b[0m\u001b[1;33m)\u001b[0m\u001b[1;33m\u001b[0m\u001b[0m\n",
      "\u001b[1;32mh5py\\_objects.pyx\u001b[0m in \u001b[0;36mh5py._objects.with_phil.wrapper (C:\\Minonda\\conda-bld\\h5py_1490029679460\\work\\h5py\\_objects.c:2867)\u001b[1;34m()\u001b[0m\n",
      "\u001b[1;32mh5py\\_objects.pyx\u001b[0m in \u001b[0;36mh5py._objects.with_phil.wrapper (C:\\Minonda\\conda-bld\\h5py_1490029679460\\work\\h5py\\_objects.c:2825)\u001b[1;34m()\u001b[0m\n",
      "\u001b[1;32mh5py\\h5f.pyx\u001b[0m in \u001b[0;36mh5py.h5f.open (C:\\Minonda\\conda-bld\\h5py_1490029679460\\work\\h5py\\h5f.c:2140)\u001b[1;34m()\u001b[0m\n",
      "\u001b[1;31mOSError\u001b[0m: Unable to open file (Unable to open file: name = 'models/model_venus.model', errno = 2, error message = 'no such file or directory', flags = 0, o_flags = 0)"
     ]
    }
   ],
   "source": [
    "# Optionally, load a saved model and testing dataset\n",
    "modelname = \"models/model_venus\"\n",
    "\n",
    "model = keras.models.load_model(\"{}.model\".format(modelname))\n",
    "patchsize = model.input.shape[1].value\n",
    "dataset_te = pd.read_pickle(\"{}.testingdata.pickle\".format(modelname))"
   ]
  },
  {
   "cell_type": "code",
   "execution_count": 32,
   "metadata": {
    "slideshow": {
     "slide_type": "slide"
    }
   },
   "outputs": [
    {
     "data": {
      "application/vnd.jupyter.widget-view+json": {
       "model_id": "2ceab92b059c4c6fad2748356379cb62"
      }
     },
     "metadata": {},
     "output_type": "display_data"
    },
    {
     "data": {
      "text/plain": [
       "<function __main__.resultsShow>"
      ]
     },
     "execution_count": 32,
     "metadata": {},
     "output_type": "execute_result"
    }
   ],
   "source": [
    "# Show results by processing a single variation of the testing image\n",
    "import warnings\n",
    "\n",
    "%matplotlib inline\n",
    "def resultsShow(i, data, model):\n",
    "    d = data.iloc[i]\n",
    "    im = d[\"image\"]\n",
    "    l = d[\"label\"]\n",
    "    fig,axs = plt.subplots(nrows=1,ncols=3,figsize=(15,5),gridspec_kw={'width_ratios':[1,1,0.5]})\n",
    "    \n",
    "    imt = transform_simple(im, patchsize)\n",
    "    axs[0].imshow(im)\n",
    "    axs[0].set_title(\"Image (true class: {})\".format(names[l]))\n",
    "    \n",
    "    axs[1].imshow(imt,interpolation=\"nearest\")\n",
    "    axs[1].set_title(\"Network input\")\n",
    "    \n",
    "    outs = model.predict(np.array([imt]))\n",
    "    print(outs)\n",
    "    predicted = np.argmax(outs)\n",
    "    axs[2].bar(np.array(range(len(names))), outs[0,:], 1, color=\"gray\")\n",
    "    axs[2].set_ylim([0,1])\n",
    "    axs[2].set_xticks(range(len(names)))\n",
    "    axs[2].set_xticklabels(names)\n",
    "    axs[2].set_ylabel(\"probability\")\n",
    "    axs[2].set_xlabel(\"class\")\n",
    "    axs[2].set_title(\"Network output\")\n",
    "    fig.tight_layout()\n",
    "    plt.show()\n",
    "    fig.savefig(\"out_{:05d}_{}.png\".format(i,(\"ok\" if predicted==l else \"ko\")))\n",
    "    print(outs)\n",
    "\n",
    "interact(resultsShow, i=widgets.IntSlider(min=0,max=len(dataset_te)-1, step=1, value=0, continuous_update=False), data=fixed(dataset_te.sample(len(dataset_te))), model=fixed(model))\n"
   ]
  },
  {
   "cell_type": "markdown",
   "metadata": {
    "slideshow": {
     "slide_type": "slide"
    }
   },
   "source": [
    "## Let's visualize the filters learned by the NN"
   ]
  },
  {
   "cell_type": "code",
   "execution_count": 33,
   "metadata": {
    "slideshow": {
     "slide_type": "-"
    }
   },
   "outputs": [
    {
     "name": "stdout",
     "output_type": "stream",
     "text": [
      "_________________________________________________________________\n",
      "Layer (type)                 Output Shape              Param #   \n",
      "=================================================================\n",
      "conv2d_58 (Conv2D)           (None, 32, 32, 96)        2688      \n",
      "_________________________________________________________________\n",
      "activation_96 (Activation)   (None, 32, 32, 96)        0         \n",
      "_________________________________________________________________\n",
      "max_pooling2d_58 (MaxPooling (None, 16, 16, 96)        0         \n",
      "_________________________________________________________________\n",
      "conv2d_59 (Conv2D)           (None, 16, 16, 192)       166080    \n",
      "_________________________________________________________________\n",
      "activation_97 (Activation)   (None, 16, 16, 192)       0         \n",
      "_________________________________________________________________\n",
      "max_pooling2d_59 (MaxPooling (None, 8, 8, 192)         0         \n",
      "_________________________________________________________________\n",
      "conv2d_60 (Conv2D)           (None, 8, 8, 384)         663936    \n",
      "_________________________________________________________________\n",
      "activation_98 (Activation)   (None, 8, 8, 384)         0         \n",
      "_________________________________________________________________\n",
      "max_pooling2d_60 (MaxPooling (None, 4, 4, 384)         0         \n",
      "_________________________________________________________________\n",
      "average_pooling2d_20 (Averag (None, 2, 2, 384)         0         \n",
      "_________________________________________________________________\n",
      "flatten_20 (Flatten)         (None, 1536)              0         \n",
      "_________________________________________________________________\n",
      "dense_39 (Dense)             (None, 128)               196736    \n",
      "_________________________________________________________________\n",
      "activation_99 (Activation)   (None, 128)               0         \n",
      "_________________________________________________________________\n",
      "dropout_20 (Dropout)         (None, 128)               0         \n",
      "_________________________________________________________________\n",
      "dense_40 (Dense)             (None, 3)                 387       \n",
      "_________________________________________________________________\n",
      "activation_100 (Activation)  (None, 3)                 0         \n",
      "=================================================================\n",
      "Total params: 1,029,827\n",
      "Trainable params: 1,029,827\n",
      "Non-trainable params: 0\n",
      "_________________________________________________________________\n"
     ]
    }
   ],
   "source": [
    "model.summary()"
   ]
  },
  {
   "cell_type": "code",
   "execution_count": 34,
   "metadata": {},
   "outputs": [
    {
     "data": {
      "text/plain": [
       "array([[-0.02543949, -0.02531048, -0.07430158],\n",
       "       [ 0.05630833, -0.06068316, -0.0476765 ],\n",
       "       [ 0.06724963,  0.03451911,  0.00552103]], dtype=float32)"
      ]
     },
     "execution_count": 34,
     "metadata": {},
     "output_type": "execute_result"
    }
   ],
   "source": [
    "model.layers[0].get_weights()[0][:,:,1,0]"
   ]
  },
  {
   "cell_type": "code",
   "execution_count": 35,
   "metadata": {
    "slideshow": {
     "slide_type": "slide"
    }
   },
   "outputs": [
    {
     "ename": "IndexError",
     "evalue": "list index out of range",
     "output_type": "error",
     "traceback": [
      "\u001b[1;31m---------------------------------------------------------------------------\u001b[0m",
      "\u001b[1;31mIndexError\u001b[0m                                Traceback (most recent call last)",
      "\u001b[1;32m<ipython-input-35-4e3620ba1b6d>\u001b[0m in \u001b[0;36m<module>\u001b[1;34m()\u001b[0m\n\u001b[0;32m      1\u001b[0m \u001b[1;31m# Visualize filters in a layer\u001b[0m\u001b[1;33m\u001b[0m\u001b[1;33m\u001b[0m\u001b[0m\n\u001b[0;32m      2\u001b[0m \u001b[1;32mimport\u001b[0m \u001b[0mitertools\u001b[0m\u001b[1;33m\u001b[0m\u001b[0m\n\u001b[1;32m----> 3\u001b[1;33m \u001b[0mfilters\u001b[0m \u001b[1;33m=\u001b[0m \u001b[0mmodel\u001b[0m\u001b[1;33m.\u001b[0m\u001b[0mlayers\u001b[0m\u001b[1;33m[\u001b[0m\u001b[1;36m2\u001b[0m\u001b[1;33m]\u001b[0m\u001b[1;33m.\u001b[0m\u001b[0mget_weights\u001b[0m\u001b[1;33m(\u001b[0m\u001b[1;33m)\u001b[0m\u001b[1;33m[\u001b[0m\u001b[1;36m0\u001b[0m\u001b[1;33m]\u001b[0m\u001b[1;33m\u001b[0m\u001b[0m\n\u001b[0m\u001b[0;32m      4\u001b[0m \u001b[0mfilters\u001b[0m\u001b[1;33m.\u001b[0m\u001b[0mshape\u001b[0m\u001b[1;33m\u001b[0m\u001b[0m\n\u001b[0;32m      5\u001b[0m \u001b[0mfig\u001b[0m\u001b[1;33m,\u001b[0m \u001b[0maxs\u001b[0m \u001b[1;33m=\u001b[0m \u001b[0mplt\u001b[0m\u001b[1;33m.\u001b[0m\u001b[0msubplots\u001b[0m\u001b[1;33m(\u001b[0m\u001b[0mnrows\u001b[0m \u001b[1;33m=\u001b[0m \u001b[0mfilters\u001b[0m\u001b[1;33m.\u001b[0m\u001b[0mshape\u001b[0m\u001b[1;33m[\u001b[0m\u001b[1;36m2\u001b[0m\u001b[1;33m]\u001b[0m\u001b[1;33m,\u001b[0m \u001b[0mncols\u001b[0m \u001b[1;33m=\u001b[0m \u001b[0mfilters\u001b[0m\u001b[1;33m.\u001b[0m\u001b[0mshape\u001b[0m\u001b[1;33m[\u001b[0m\u001b[1;36m3\u001b[0m\u001b[1;33m]\u001b[0m\u001b[1;33m,\u001b[0m \u001b[0mfigsize\u001b[0m\u001b[1;33m=\u001b[0m\u001b[1;33m(\u001b[0m\u001b[1;36m20\u001b[0m\u001b[1;33m,\u001b[0m\u001b[1;36m10\u001b[0m\u001b[1;33m)\u001b[0m\u001b[1;33m)\u001b[0m\u001b[1;33m\u001b[0m\u001b[0m\n",
      "\u001b[1;31mIndexError\u001b[0m: list index out of range"
     ]
    }
   ],
   "source": [
    "# Visualize filters in a layer\n",
    "import itertools\n",
    "filters = model.layers[2].get_weights()[0]\n",
    "filters.shape\n",
    "fig, axs = plt.subplots(nrows = filters.shape[2], ncols = filters.shape[3], figsize=(20,10))\n",
    "for i,j in itertools.product(range(filters.shape[2]),range(filters.shape[3])):\n",
    "    axs[i,j].imshow(filters[:,:,i,j],vmin=-0.5,vmax=+0.5,cmap=\"gray\")\n",
    "    axs[i,j].axis(\"off\")"
   ]
  },
  {
   "cell_type": "markdown",
   "metadata": {
    "slideshow": {
     "slide_type": "slide"
    }
   },
   "source": [
    "## Let's visualize the activations in the intermediate layers"
   ]
  },
  {
   "cell_type": "code",
   "execution_count": 36,
   "metadata": {},
   "outputs": [
    {
     "data": {
      "image/png": "[encoded data removed]",
      "text/plain": [
       "<matplotlib.figure.Figure at 0x21835933ac8>"
      ]
     },
     "metadata": {},
     "output_type": "display_data"
    }
   ],
   "source": [
    "from keras import backend as K\n",
    "\n",
    "def plot_hidden_layers(imt,nmaps=4):\n",
    "    fig = plt.figure(figsize=(15, 10))\n",
    "    plt.title('Hidden layers', loc='center')\n",
    "    plt.axis('off')\n",
    "    layers = [model.layers[0].input] + [model.layers[i].output for i in [0,2,5,7,9]]\n",
    "    for layeri,layer in enumerate(layers):\n",
    "        get = K.function([model.layers[0].input], [layer])\n",
    "        layeroutputs = get([imt[np.newaxis,:,:,:]])[0][0]\n",
    "        for j in range(nmaps): # for each map\n",
    "            sp2=fig.add_subplot(nmaps,len(layers),layeri+1+j*len(layers))\n",
    "            sp2.axis('off')\n",
    "            if (layeroutputs.shape[2]>j):\n",
    "                vmin,vmax = ((0,1) if layeri == 0 else (-0.3,+0.3))\n",
    "                sp2.imshow(layeroutputs[:,:,j],\n",
    "                           cmap=\"gray\",\n",
    "                           interpolation=\"nearest\")\n",
    "    fig.tight_layout()\n",
    "\n",
    "imt=transform(dataset_te[\"image\"].iloc[0],patchsize)\n",
    "plot_hidden_layers(imt)\n"
   ]
  },
  {
   "cell_type": "markdown",
   "metadata": {
    "slideshow": {
     "slide_type": "slide"
    }
   },
   "source": [
    "## We now search for the inputs maximizing a given neuron or set of neurons"
   ]
  },
  {
   "cell_type": "code",
   "execution_count": 37,
   "metadata": {
    "slideshow": {
     "slide_type": "slide"
    }
   },
   "outputs": [
    {
     "name": "stdout",
     "output_type": "stream",
     "text": [
      "_________________________________________________________________\n",
      "Layer (type)                 Output Shape              Param #   \n",
      "=================================================================\n",
      "conv2d_58 (Conv2D)           (None, 32, 32, 96)        2688      \n",
      "_________________________________________________________________\n",
      "activation_96 (Activation)   (None, 32, 32, 96)        0         \n",
      "_________________________________________________________________\n",
      "max_pooling2d_58 (MaxPooling (None, 16, 16, 96)        0         \n",
      "_________________________________________________________________\n",
      "conv2d_59 (Conv2D)           (None, 16, 16, 192)       166080    \n",
      "_________________________________________________________________\n",
      "activation_97 (Activation)   (None, 16, 16, 192)       0         \n",
      "_________________________________________________________________\n",
      "max_pooling2d_59 (MaxPooling (None, 8, 8, 192)         0         \n",
      "_________________________________________________________________\n",
      "conv2d_60 (Conv2D)           (None, 8, 8, 384)         663936    \n",
      "_________________________________________________________________\n",
      "activation_98 (Activation)   (None, 8, 8, 384)         0         \n",
      "_________________________________________________________________\n",
      "max_pooling2d_60 (MaxPooling (None, 4, 4, 384)         0         \n",
      "_________________________________________________________________\n",
      "average_pooling2d_20 (Averag (None, 2, 2, 384)         0         \n",
      "_________________________________________________________________\n",
      "flatten_20 (Flatten)         (None, 1536)              0         \n",
      "_________________________________________________________________\n",
      "dense_39 (Dense)             (None, 128)               196736    \n",
      "_________________________________________________________________\n",
      "activation_99 (Activation)   (None, 128)               0         \n",
      "_________________________________________________________________\n",
      "dropout_20 (Dropout)         (None, 128)               0         \n",
      "_________________________________________________________________\n",
      "dense_40 (Dense)             (None, 3)                 387       \n",
      "_________________________________________________________________\n",
      "activation_100 (Activation)  (None, 3)                 0         \n",
      "=================================================================\n",
      "Total params: 1,029,827\n",
      "Trainable params: 1,029,827\n",
      "Non-trainable params: 0\n",
      "_________________________________________________________________\n"
     ]
    }
   ],
   "source": [
    "model.summary()"
   ]
  },
  {
   "cell_type": "code",
   "execution_count": 38,
   "metadata": {
    "collapsed": true,
    "slideshow": {
     "slide_type": "slide"
    }
   },
   "outputs": [],
   "source": [
    "def makeinputmaximizing(loss, gradstep = 0.01, steps = 20):\n",
    "    grads = K.gradients(loss, model.input)[0]\n",
    "    grads /= K.sqrt(K.mean(K.square(grads)) + 1e-5)\n",
    "    iterate = K.function([model.input],[loss, grads])\n",
    "\n",
    "    # img = transform_simple(dataset_te[\"image\"].iloc[0],patchsize)[np.newaxis,:,:,:]\n",
    "    img = 0.5+0.01*np.random.rand(1,patchsize,patchsize,3)\n",
    "    \n",
    "    for i in range(steps):\n",
    "        loss_value, grads_value = iterate([img])\n",
    "        img += grads_value * gradstep\n",
    "        img = np.clip(img,0,1)\n",
    "    return img[0,:,:,:]"
   ]
  },
  {
   "cell_type": "code",
   "execution_count": 39,
   "metadata": {},
   "outputs": [
    {
     "ename": "IndexError",
     "evalue": "list index out of range",
     "output_type": "error",
     "traceback": [
      "\u001b[1;31m---------------------------------------------------------------------------\u001b[0m",
      "\u001b[1;31mIndexError\u001b[0m                                Traceback (most recent call last)",
      "\u001b[1;32m<ipython-input-39-d90a13c11c1b>\u001b[0m in \u001b[0;36m<module>\u001b[1;34m()\u001b[0m\n\u001b[1;32m----> 1\u001b[1;33m \u001b[0mplt\u001b[0m\u001b[1;33m.\u001b[0m\u001b[0mimshow\u001b[0m\u001b[1;33m(\u001b[0m\u001b[0mmakeinputmaximizing\u001b[0m\u001b[1;33m(\u001b[0m\u001b[0mmodel\u001b[0m\u001b[1;33m.\u001b[0m\u001b[0mlayers\u001b[0m\u001b[1;33m[\u001b[0m\u001b[1;36m16\u001b[0m\u001b[1;33m]\u001b[0m\u001b[1;33m.\u001b[0m\u001b[0moutput\u001b[0m\u001b[1;33m[\u001b[0m\u001b[1;36m0\u001b[0m\u001b[1;33m,\u001b[0m\u001b[1;36m2\u001b[0m\u001b[1;33m]\u001b[0m\u001b[1;33m,\u001b[0m \u001b[0msteps\u001b[0m \u001b[1;33m=\u001b[0m \u001b[1;36m1000\u001b[0m\u001b[1;33m,\u001b[0m \u001b[0mgradstep\u001b[0m \u001b[1;33m=\u001b[0m \u001b[1;36m0.1\u001b[0m\u001b[1;33m)\u001b[0m\u001b[1;33m)\u001b[0m\u001b[1;33m\u001b[0m\u001b[0m\n\u001b[0m",
      "\u001b[1;31mIndexError\u001b[0m: list index out of range"
     ]
    }
   ],
   "source": [
    "plt.imshow(makeinputmaximizing(model.layers[16].output[0,2], steps = 1000, gradstep = 0.1))"
   ]
  },
  {
   "cell_type": "code",
   "execution_count": 40,
   "metadata": {},
   "outputs": [
    {
     "name": "stderr",
     "output_type": "stream",
     "text": [
      "100%|██████████| 20/20 [00:15<00:00,  1.27it/s]\n"
     ]
    },
    {
     "data": {
      "image/png": "[encoded data removed]",
      "text/plain": [
       "<matplotlib.figure.Figure at 0x218359330f0>"
      ]
     },
     "metadata": {},
     "output_type": "display_data"
    }
   ],
   "source": [
    "import tqdm\n",
    "out = model.layers[12].output\n",
    "fig, axs = plt.subplots(nrows = 2, ncols = 10, figsize=(20,5), squeeze = False)\n",
    "for i,j in tqdm.tqdm(list(itertools.product(range(axs.shape[0]), range(axs.shape[1])))):\n",
    "    loss = K.mean(out[:,j])\n",
    "    img = makeinputmaximizing(loss, gradstep = 0.03, steps = 20)\n",
    "    axs[i,j].imshow(img)\n",
    "    axs[i,j].axis(\"off\")"
   ]
  },
  {
   "cell_type": "markdown",
   "metadata": {
    "slideshow": {
     "slide_type": "slide"
    }
   },
   "source": [
    "## Let us look for the 'ideal paper', according to the convnet"
   ]
  },
  {
   "cell_type": "code",
   "execution_count": 46,
   "metadata": {},
   "outputs": [
    {
     "data": {
      "text/plain": [
       "<matplotlib.image.AxesImage at 0x2183cc1e0b8>"
      ]
     },
     "execution_count": 46,
     "metadata": {},
     "output_type": "execute_result"
    },
    {
     "data": {
      "image/png": "[encoded data removed]",
      "text/plain": [
       "<matplotlib.figure.Figure at 0x2183a24a860>"
      ]
     },
     "metadata": {},
     "output_type": "display_data"
    }
   ],
   "source": [
    "#oppure: \n",
    "#out = model.output\n",
    "\n",
    "from keras import layers\n",
    "\n",
    "iterations=20\n",
    "\n",
    "input_shape=model.input.shape[1]\n",
    "nc=model.output_shape[1]\n",
    "final_output=np.zeros((input_shape*nc, input_shape*iterations, model.input.shape[3]))\n",
    "\n",
    "B=32\n",
    "for k in range(nc):\n",
    "    step=1\n",
    "    X=np.random.random((1, input_shape, input_shape, model.input.shape[3]))*0.1+0.5\n",
    "    ideal=0\n",
    "    objective = model.output[0,k]        \n",
    "    c=K.gradients(objective, model.input)[0]\n",
    "    get=K.function([model.input, K.learning_phase()],[objective, c])\n",
    "    A=0\n",
    "        \n",
    "    for j in range(iterations):\n",
    "        loss_value, grads_value=get([X, 1])\n",
    "        final_output[input_shape*k:input_shape*(k+1),A:A+B]=X[0]\n",
    "        step=1/np.max(grads_value)            \n",
    "        X += grads_value*step\n",
    "        A+=B\n",
    "        X=np.clip(X, 0, 1)\n",
    "plt.imshow(final_output[:,:,:], vmin=0, vmax=1)\n",
    "    \n",
    "\n"
   ]
  },
  {
   "cell_type": "markdown",
   "metadata": {
    "slideshow": {
     "slide_type": "slide"
    }
   },
   "source": [
    "## Let us locate the gesture in the image\n",
    "- First, we feed an image of a paper gesture to the network;\n",
    "- Second, we assign to each channel in the output of the last convolution a value corresponding ot its contribution to the class \"paper\";\n",
    "- Third, we consider which parts in the input image activate the channels that lead to the decision: this is a paper. "
   ]
  },
  {
   "cell_type": "code",
   "execution_count": 77,
   "metadata": {},
   "outputs": [
    {
     "name": "stdout",
     "output_type": "stream",
     "text": [
      "(32, 32)\n"
     ]
    },
    {
     "data": {
      "text/plain": [
       "<matplotlib.image.AxesImage at 0x21842c10a20>"
      ]
     },
     "execution_count": 77,
     "metadata": {},
     "output_type": "execute_result"
    },
    {
     "data": {
      "image/png": "[encoded data removed]",
      "text/plain": [
       "<matplotlib.figure.Figure at 0x21842c10208>"
      ]
     },
     "metadata": {},
     "output_type": "display_data"
    }
   ],
   "source": [
    "import cv2\n",
    "\n",
    "img=skimage.img_as_float(skimage.io.imread(\"paper.jpg\"))\n",
    "img=np.expand_dims(img, axis=0)\n",
    "preds=model.predict(img)\n",
    "rps_output=model.output[:, np.argmax(preds[0])]\n",
    "last_conv_layer=model.get_layer('conv2d_60')\n",
    "grads=K.gradients(rps_output, last_conv_layer.output)[0]\n",
    "pooled_grads=K.mean(grads, axis=(0, 1, 2))\n",
    "\n",
    "iterate=K.function([model.input, K.learning_phase()], [pooled_grads, last_conv_layer.output[0]])\n",
    "pooled_grads_value, conv_layer_output_value = iterate([img, 1])\n",
    "##\n",
    "for i in range(5):\n",
    "    conv_layer_output_value[:,:,i] *= pooled_grads_value[i]\n",
    "heatmap = np.mean(conv_layer_output_value, axis=-1)\n",
    "heatmap = np.maximum(heatmap, 0)\n",
    "heatmap=cv2.resize(heatmap, (img.shape[1], img.shape[2]))\n",
    "plt.imshow(heatmap)\n",
    "print(heatmap.shape)\n",
    "\n",
    "img=skimage.img_as_float(skimage.io.imread(\"paper.jpg\"))\n",
    "heatmap=np.expand_dims(heatmap, axis=3)\n",
    "superimposed_img= np.clip(img + heatmap * 0.4, 0, 1)\n",
    "plt.imshow(superimposed_img)\n"
   ]
  },
  {
   "cell_type": "code",
   "execution_count": null,
   "metadata": {
    "collapsed": true
   },
   "outputs": [],
   "source": []
  }
 ],
 "metadata": {
  "celltoolbar": "Slideshow",
  "kernelspec": {
   "display_name": "Python 3",
   "language": "python",
   "name": "python3"
  },
  "language_info": {
   "codemirror_mode": {
    "name": "ipython",
    "version": 3
   },
   "file_extension": ".py",
   "mimetype": "text/x-python",
   "name": "python",
   "nbconvert_exporter": "python",
   "pygments_lexer": "ipython3",
   "version": "3.5.3"
  },
  "livereveal": {
   "scroll": true
  }
 },
 "nbformat": 4,
 "nbformat_minor": 2
}
