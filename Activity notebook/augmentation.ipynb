{
 "cells": [
  {
   "cell_type": "markdown",
   "metadata": {
    "slideshow": {
     "slide_type": "slide"
    }
   },
   "source": [
    "# A closer look at the practice of Data Augmentation"
   ]
  },
  {
   "cell_type": "markdown",
   "metadata": {
    "slideshow": {
     "slide_type": "fragment"
    }
   },
   "source": [
    "First, some preparation (import and data loading)"
   ]
  },
  {
   "cell_type": "code",
   "execution_count": 1,
   "metadata": {
    "slideshow": {
     "slide_type": "fragment"
    }
   },
   "outputs": [
    {
     "name": "stderr",
     "output_type": "stream",
     "text": [
      "/home/lale/anaconda3/envs/deep/lib/python3.6/site-packages/skimage/viewer/__init__.py:6: UserWarning: Viewer requires Qt\n",
      "  warn('Viewer requires Qt')\n",
      "/home/lale/anaconda3/envs/deep/lib/python3.6/site-packages/h5py/__init__.py:36: FutureWarning: Conversion of the second argument of issubdtype from `float` to `np.floating` is deprecated. In future, it will be treated as `np.float64 == np.dtype(float).type`.\n",
      "  from ._conv import register_converters as _register_converters\n",
      "Using TensorFlow backend.\n"
     ]
    }
   ],
   "source": [
    "%matplotlib inline\n",
    "\n",
    "# General imports\n",
    "import matplotlib.pyplot as plt\n",
    "import pathlib\n",
    "import skimage\n",
    "import skimage.transform\n",
    "import skimage.viewer\n",
    "import pandas as pd\n",
    "import numpy as np\n",
    "import time\n",
    "import keras.utils.np_utils\n",
    "from tqdm import tqdm\n",
    "\n",
    "# Setup to show interactive jupyter widgets\n",
    "from IPython.display import Image, display\n",
    "from ipywidgets import interact, fixed\n",
    "import ipywidgets as widgets\n",
    "def imgplotList(i,data):\n",
    "    plt.figure(figsize=(10,10))\n",
    "    plt.imshow(data[i],interpolation=\"nearest\")\n",
    "    plt.show()"
   ]
  },
  {
   "cell_type": "code",
   "execution_count": 2,
   "metadata": {
    "slideshow": {
     "slide_type": "slide"
    }
   },
   "outputs": [
    {
     "name": "stdout",
     "output_type": "stream",
     "text": [
      "Found directory ../datasets/final split/Dpolimi/c0 containing class rock\n",
      "Found directory ../datasets/final split/Dpolimi/c1 containing class paper\n",
      "Found directory ../datasets/final split/Dpolimi/c2 containing class scissors\n"
     ]
    }
   ],
   "source": [
    "# Define where datasets are located\n",
    "dataset_directory = pathlib.Path(\"..\")/\"datasets\"/\"final split\"\n",
    "\n",
    "# Define which datasets we should consider.\n",
    "# Each dataset is a directory withing dataset_directory\n",
    "# and must contain three subdirectories: (c0, c1, c2) for (rock, paper, scissors).\n",
    "# dnames = [\"testing.small\",\"Dpolimi\",\"D1.small\",\"D2.small\",\"D3.small\",\"D4.small\",\"D5.small\",\"D6.small\"]\n",
    "dnames = [\"Dpolimi\"]\n",
    "\n",
    "\n",
    "# Now check the data\n",
    "ddirs=[dataset_directory/dn for dn in dnames] # directories of the dataset\n",
    "cdirs={}\n",
    "for ddir in ddirs:\n",
    "    cdirs.update({ddir/\"c0\":0,\n",
    "                  ddir/\"c1\":1,\n",
    "                  ddir/\"c2\":2})\n",
    "names = [\"rock\", \"paper\", \"scissors\"]\n",
    "for cdir,cdir_class in cdirs.items():\n",
    "    assert(cdir.exists())\n",
    "    print(\"Found directory {} containing class {}\".format(cdir,names[cdir_class]))"
   ]
  },
  {
   "cell_type": "code",
   "execution_count": 3,
   "metadata": {
    "scrolled": false
   },
   "outputs": [
    {
     "name": "stderr",
     "output_type": "stream",
     "text": [
      "  0%|          | 0/3 [00:00<?, ?it/s]/home/lale/anaconda3/envs/deep/lib/python3.6/site-packages/ipykernel_launcher.py:12: UserWarning: ignoring ../datasets/final split/Dpolimi/c0/.DS_Store due to exception cannot identify image file '/home/lale/Desktop/nndemo/rock-paper-scissors/datasets/final split/Dpolimi/c0/.DS_Store'\n",
      "  if sys.path[0] == '':\n",
      " 33%|███▎      | 1/3 [00:03<00:06,  3.16s/it]/home/lale/anaconda3/envs/deep/lib/python3.6/site-packages/ipykernel_launcher.py:12: UserWarning: ignoring ../datasets/final split/Dpolimi/c1/.DS_Store due to exception cannot identify image file '/home/lale/Desktop/nndemo/rock-paper-scissors/datasets/final split/Dpolimi/c1/.DS_Store'\n",
      "  if sys.path[0] == '':\n",
      " 67%|██████▋   | 2/3 [00:06<00:03,  3.19s/it]/home/lale/anaconda3/envs/deep/lib/python3.6/site-packages/ipykernel_launcher.py:12: UserWarning: ignoring ../datasets/final split/Dpolimi/c2/.DS_Store due to exception cannot identify image file '/home/lale/Desktop/nndemo/rock-paper-scissors/datasets/final split/Dpolimi/c2/.DS_Store'\n",
      "  if sys.path[0] == '':\n",
      "100%|██████████| 3/3 [00:09<00:00,  3.19s/it]"
     ]
    },
    {
     "name": "stdout",
     "output_type": "stream",
     "text": [
      "Done\n"
     ]
    },
    {
     "name": "stderr",
     "output_type": "stream",
     "text": [
      "\n"
     ]
    }
   ],
   "source": [
    "imagesize = 200\n",
    "\n",
    "dataset=[]\n",
    "\n",
    "import warnings\n",
    "\n",
    "for cdir,cn in tqdm(list(cdirs.items())):\n",
    "    for f in list(cdir.glob(\"*\")):\n",
    "        try:\n",
    "            im=skimage.io.imread(f)\n",
    "        except (OSError, ValueError) as e:\n",
    "            warnings.warn(\"ignoring {} due to exception {}\".format(f,str(e)))\n",
    "            continue\n",
    "            \n",
    "        h,w=im.shape[0:2] # height, width\n",
    "        sz=min(h,w)\n",
    "        im=im[(h//2-sz//2):(h//2+sz//2),(w//2-sz//2):(w//2+sz//2),:] # defines the central square        \n",
    "        with warnings.catch_warnings():\n",
    "            warnings.simplefilter(\"ignore\")\n",
    "            im=skimage.img_as_ubyte(skimage.transform.resize(im,(imagesize,imagesize))) # resize it to 500x500, whatever the original resolution\n",
    "            \n",
    "        dataset.append({\n",
    "            \"file\":f,\n",
    "            \"label\":cn,\n",
    "            \"image\":im})\n",
    "        \n",
    "print(\"Done\")"
   ]
  },
  {
   "cell_type": "markdown",
   "metadata": {
    "slideshow": {
     "slide_type": "slide"
    }
   },
   "source": [
    "We make a pandas dataframe for the dataset, and create a \"dn\" field containing the name of the dataset from which each image comes (as the name of the directory it was read from)."
   ]
  },
  {
   "cell_type": "code",
   "execution_count": 4,
   "metadata": {},
   "outputs": [],
   "source": [
    "dataset=pd.DataFrame(dataset)\n",
    "dataset[\"dn\"]=dataset[\"file\"].apply(lambda x: x.parent.parts[-2])"
   ]
  },
  {
   "cell_type": "markdown",
   "metadata": {
    "slideshow": {
     "slide_type": "slide"
    }
   },
   "source": [
    "## A closer look to the practice of data augmentation"
   ]
  },
  {
   "cell_type": "code",
   "execution_count": 5,
   "metadata": {},
   "outputs": [
    {
     "data": {
      "text/plain": [
       "<matplotlib.image.AxesImage at 0x7f01fd3ce940>"
      ]
     },
     "execution_count": 5,
     "metadata": {},
     "output_type": "execute_result"
    },
    {
     "data": {
      "image/png": "[encoded data removed]",
      "text/plain": [
       "<matplotlib.figure.Figure at 0x7f01fdd97358>"
      ]
     },
     "metadata": {},
     "output_type": "display_data"
    }
   ],
   "source": [
    "im = list(dataset.sample(1)[\"image\"])[0]\n",
    "plt.imshow(im)"
   ]
  },
  {
   "cell_type": "code",
   "execution_count": 7,
   "metadata": {
    "slideshow": {
     "slide_type": "-"
    }
   },
   "outputs": [],
   "source": [
    "ims = list(dataset.sample(3)[\"image\"])"
   ]
  },
  {
   "cell_type": "code",
   "execution_count": 17,
   "metadata": {
    "slideshow": {
     "slide_type": "slide"
    }
   },
   "outputs": [
    {
     "data": {
      "application/vnd.jupyter.widget-view+json": {
       "model_id": "9a12310efa884cc9993e1203be6fd220",
       "version_major": 2,
       "version_minor": 0
      },
      "text/html": [
       "<p>Failed to display Jupyter Widget of type <code>interactive</code>.</p>\n",
       "<p>\n",
       "  If you're reading this message in the Jupyter Notebook or JupyterLab Notebook, it may mean\n",
       "  that the widgets JavaScript is still loading. If this message persists, it\n",
       "  likely means that the widgets JavaScript library is either not installed or\n",
       "  not enabled. See the <a href=\"https://ipywidgets.readthedocs.io/en/stable/user_install.html\">Jupyter\n",
       "  Widgets Documentation</a> for setup instructions.\n",
       "</p>\n",
       "<p>\n",
       "  If you're reading this message in another frontend (for example, a static\n",
       "  rendering on GitHub or <a href=\"https://nbviewer.jupyter.org/\">NBViewer</a>),\n",
       "  it may mean that your frontend doesn't currently support widgets.\n",
       "</p>\n"
      ],
      "text/plain": [
       "interactive(children=(IntSlider(value=2, description='sz', max=32, min=2), ToggleButton(value=False, description='normalize'), IntSlider(value=0, description='rot', max=4), Output()), _dom_classes=('widget-interact',))"
      ]
     },
     "metadata": {},
     "output_type": "display_data"
    }
   ],
   "source": [
    "def prepare(im, sz, normalize, rot):\n",
    "    imr = skimage.img_as_float(im)\n",
    "    imr = skimage.transform.resize(imr, (sz,sz))\n",
    "    imr = np.rot90(imr, k=rot)\n",
    "    if(normalize):\n",
    "        imr = 0.5 + (imr - np.mean(imr))/np.std(imr) * 0.2\n",
    "    imr = np.clip(imr,0,1)\n",
    "    return imr\n",
    "\n",
    "@interact(sz=widgets.IntSlider(min=2,max=32),\n",
    "          normalize = widgets.ToggleButton(),\n",
    "          rot=widgets.IntSlider(min=0,max=4),\n",
    "          continuous_update=False)\n",
    "def f(sz,normalize,rot):\n",
    "    fig,axs = plt.subplots(ncols=len(ims),figsize=(18,6))\n",
    "    for im,ax in zip(ims,axs):\n",
    "        ax.imshow(prepare(im,sz,normalize,rot))\n",
    "        "
   ]
  },
  {
   "cell_type": "markdown",
   "metadata": {
    "slideshow": {
     "slide_type": "slide"
    }
   },
   "source": [
    "## Let's now edit the cell above to make some basic augmentations / preprocessing\n",
    "First, we visualize the effect of normalization.\n",
    "\n",
    "Then, we implement:\n",
    "- resizing\n",
    "- 90 deg rotations\n",
    "- flipping"
   ]
  },
  {
   "cell_type": "code",
   "execution_count": null,
   "metadata": {
    "scrolled": false
   },
   "outputs": [],
   "source": [
    "def transform(im,sz,rot90times,flip,normalize):\n",
    "    imr = skimage.transform.resize(im,(sz,sz))\n",
    "    if(flip):\n",
    "        imr = np.fliplr(imr)\n",
    "    imr = np.rot90(imr, k=rot90times)\n",
    "    if(normalize):\n",
    "        imr = np.clip((imr-np.mean(imr))/np.std(imr) * 0.2 + 0.5,0,1)\n",
    "    return imr\n",
    "\n",
    "@interact(sz = widgets.IntSlider(min=1,max=60,value=30),\n",
    "          rot90times = widgets.IntSlider(min=0,max=4),\n",
    "          flip = widgets.ToggleButton(),\n",
    "          normalize = widgets.ToggleButton(),\n",
    "          continuous_update=False)\n",
    "def f(sz,rot90times,flip,normalize):\n",
    "    fig,axs = plt.subplots(ncols=len(ims),figsize=(18,6))\n",
    "    for im,ax in zip(ims,axs):\n",
    "        ax.imshow(transform(im,sz,rot90times,flip,normalize))"
   ]
  },
  {
   "cell_type": "markdown",
   "metadata": {
    "slideshow": {
     "slide_type": "slide"
    }
   },
   "source": [
    "## Geometric transformations\n",
    "\n",
    "Geometric transformations on images require to manipulate transformation objects"
   ]
  },
  {
   "cell_type": "code",
   "execution_count": 19,
   "metadata": {},
   "outputs": [
    {
     "data": {
      "text/plain": [
       "array([[48.76794919, 88.46856578]])"
      ]
     },
     "execution_count": 19,
     "metadata": {},
     "output_type": "execute_result"
    }
   ],
   "source": [
    "tf = (skimage.transform.SimilarityTransform(translation = (1,2)) +\n",
    "      skimage.transform.SimilarityTransform(rotation = np.pi/3))\n",
    "#      skimage.transform.SimilarityTransform(translation = (1,2)))\n",
    "tf([[100,0]])"
   ]
  },
  {
   "cell_type": "markdown",
   "metadata": {},
   "source": [
    "Then, we can call the transform object as a function on a list of points."
   ]
  },
  {
   "cell_type": "markdown",
   "metadata": {
    "slideshow": {
     "slide_type": "slide"
    }
   },
   "source": [
    "Transformations can be also chained"
   ]
  },
  {
   "cell_type": "code",
   "execution_count": 20,
   "metadata": {
    "scrolled": true,
    "slideshow": {
     "slide_type": "-"
    }
   },
   "outputs": [
    {
     "data": {
      "text/plain": [
       "array([[0.1, 0. , 7. ],\n",
       "       [0. , 0.1, 8. ],\n",
       "       [0. , 0. , 1. ]])"
      ]
     },
     "execution_count": 20,
     "metadata": {},
     "output_type": "execute_result"
    }
   ],
   "source": [
    "tf = (skimage.transform.SimilarityTransform(translation=(20,30)) +\n",
    "      skimage.transform.SimilarityTransform(scale=0.1) +\n",
    "      skimage.transform.SimilarityTransform(translation=(5,5)))\n",
    "tf.params"
   ]
  },
  {
   "cell_type": "code",
   "execution_count": 22,
   "metadata": {},
   "outputs": [
    {
     "data": {
      "text/plain": [
       "array([[7.],\n",
       "       [8.],\n",
       "       [1.]])"
      ]
     },
     "execution_count": 22,
     "metadata": {},
     "output_type": "execute_result"
    }
   ],
   "source": [
    "tf.params @ np.array([[0, 0, 1]]).T"
   ]
  },
  {
   "cell_type": "code",
   "execution_count": null,
   "metadata": {},
   "outputs": [],
   "source": [
    "def transform(im,sz,rot90times,flip,normalize):\n",
    "    imr = skimage.transform.resize(im,(sz,sz))\n",
    "    if(flip):\n",
    "        imr = np.fliplr(imr)\n",
    "    imr = np.rot90(imr, k=rot90times)\n",
    "    if(normalize):\n",
    "        imr = np.clip((imr-np.mean(imr))/np.std(imr) * 0.2 + 0.5,0,1)\n",
    "    \n",
    "    return imr\n",
    "\n",
    "@interact(sz = widgets.IntSlider(min=1,max=60,value=30),\n",
    "          rot90times = widgets.IntSlider(min=0,max=4),\n",
    "          flip = widgets.ToggleButton(),\n",
    "          normalize = widgets.ToggleButton(),\n",
    "          continuous_update=False)\n",
    "def f(sz,rot90times,flip,normalize):\n",
    "    fig,axs = plt.subplots(ncols=len(ims),figsize=(18,6))\n",
    "    for im,ax in zip(ims,axs):\n",
    "        ax.imshow(transform(im,sz,rot90times,flip,normalize))"
   ]
  },
  {
   "cell_type": "markdown",
   "metadata": {
    "slideshow": {
     "slide_type": "slide"
    }
   },
   "source": [
    "## Applying a transform to an image\n",
    "\n",
    "```skimage.transform.warp(image, inverse_map, map_args={}, output_shape=None, order=1, mode='constant', cval=0.0, clip=True, preserve_range=False)```\n",
    "\n",
    "Try zooming and rotating an image"
   ]
  },
  {
   "cell_type": "code",
   "execution_count": 24,
   "metadata": {},
   "outputs": [
    {
     "data": {
      "application/vnd.jupyter.widget-view+json": {
       "model_id": "ab162f6fc0a4402bb05cd59619b1cd31",
       "version_major": 2,
       "version_minor": 0
      },
      "text/html": [
       "<p>Failed to display Jupyter Widget of type <code>interactive</code>.</p>\n",
       "<p>\n",
       "  If you're reading this message in the Jupyter Notebook or JupyterLab Notebook, it may mean\n",
       "  that the widgets JavaScript is still loading. If this message persists, it\n",
       "  likely means that the widgets JavaScript library is either not installed or\n",
       "  not enabled. See the <a href=\"https://ipywidgets.readthedocs.io/en/stable/user_install.html\">Jupyter\n",
       "  Widgets Documentation</a> for setup instructions.\n",
       "</p>\n",
       "<p>\n",
       "  If you're reading this message in another frontend (for example, a static\n",
       "  rendering on GitHub or <a href=\"https://nbviewer.jupyter.org/\">NBViewer</a>),\n",
       "  it may mean that your frontend doesn't currently support widgets.\n",
       "</p>\n"
      ],
      "text/plain": [
       "interactive(children=(FloatSlider(value=0.1, description='scale', max=11.0, min=0.1), FloatSlider(value=0.0, description='rot', max=3.141592653589793, min=-3.141592653589793), Output()), _dom_classes=('widget-interact',))"
      ]
     },
     "metadata": {},
     "output_type": "display_data"
    }
   ],
   "source": [
    "h,w = im.shape[0], im.shape[1]\n",
    "@interact(continuous_update=False,\n",
    "          scale = widgets.FloatSlider(min=0.1,max=11),\n",
    "          rot = widgets.FloatSlider(min=-np.pi,max=+np.pi))\n",
    "def f(scale,rot):\n",
    "    tf = (skimage.transform.SimilarityTransform(scale = scale) + \n",
    "          skimage.transform.SimilarityTransform(rotation = rot))\n",
    "    imt = skimage.transform.warp(im, tf.inverse)\n",
    "    fig,(ax0,ax1) = plt.subplots(ncols=2,figsize=(18,8))\n",
    "    ax0.imshow(im)\n",
    "    imt = skimage.transform.warp(im, tf.inverse)\n",
    "    ax1.imshow(imt)"
   ]
  },
  {
   "cell_type": "code",
   "execution_count": 25,
   "metadata": {
    "slideshow": {
     "slide_type": "slide"
    }
   },
   "outputs": [
    {
     "data": {
      "application/vnd.jupyter.widget-view+json": {
       "model_id": "1d3a7b583d8849a7a7ffcf6bec4f269c",
       "version_major": 2,
       "version_minor": 0
      },
      "text/html": [
       "<p>Failed to display Jupyter Widget of type <code>interactive</code>.</p>\n",
       "<p>\n",
       "  If you're reading this message in the Jupyter Notebook or JupyterLab Notebook, it may mean\n",
       "  that the widgets JavaScript is still loading. If this message persists, it\n",
       "  likely means that the widgets JavaScript library is either not installed or\n",
       "  not enabled. See the <a href=\"https://ipywidgets.readthedocs.io/en/stable/user_install.html\">Jupyter\n",
       "  Widgets Documentation</a> for setup instructions.\n",
       "</p>\n",
       "<p>\n",
       "  If you're reading this message in another frontend (for example, a static\n",
       "  rendering on GitHub or <a href=\"https://nbviewer.jupyter.org/\">NBViewer</a>),\n",
       "  it may mean that your frontend doesn't currently support widgets.\n",
       "</p>\n"
      ],
      "text/plain": [
       "interactive(children=(FloatSlider(value=1.0, description='scale', max=3.0, min=0.1), FloatSlider(value=0.0, description='rotation', max=3.141592653589793, min=-3.141592653589793), Output()), _dom_classes=('widget-interact',))"
      ]
     },
     "metadata": {},
     "output_type": "display_data"
    }
   ],
   "source": [
    "@interact(scale = widgets.FloatSlider(min=0.1,max=3,value=1),\n",
    "          rotation = widgets.FloatSlider(min=-np.pi,max=+np.pi,value=0),\n",
    "          continuous_update=False)\n",
    "def f(scale,rotation):\n",
    "    tf = (  skimage.transform.SimilarityTransform(translation = [-h/2,-w/2]) +\n",
    "            skimage.transform.SimilarityTransform(scale = scale) +\n",
    "            skimage.transform.SimilarityTransform(rotation = rotation) +\n",
    "            skimage.transform.SimilarityTransform(translation = [+h/2,+w/2]))\n",
    "    imt = skimage.transform.warp(im, tf.inverse)\n",
    "    \n",
    "    fig,(ax0,ax1) = plt.subplots(ncols=2,figsize=(18,8))\n",
    "    ax0.imshow(im)\n",
    "    ax1.imshow(imt)"
   ]
  },
  {
   "cell_type": "markdown",
   "metadata": {
    "slideshow": {
     "slide_type": "slide"
    }
   },
   "source": [
    "## The piecewise affine transform for elastic deformations\n",
    "![image.png](attachment:image.png)"
   ]
  },
  {
   "cell_type": "code",
   "execution_count": 26,
   "metadata": {
    "slideshow": {
     "slide_type": "slide"
    }
   },
   "outputs": [
    {
     "data": {
      "application/vnd.jupyter.widget-view+json": {
       "model_id": "ad4f2c3a876340889ac8d56dd73d5a69",
       "version_major": 2,
       "version_minor": 0
      },
      "text/html": [
       "<p>Failed to display Jupyter Widget of type <code>interactive</code>.</p>\n",
       "<p>\n",
       "  If you're reading this message in the Jupyter Notebook or JupyterLab Notebook, it may mean\n",
       "  that the widgets JavaScript is still loading. If this message persists, it\n",
       "  likely means that the widgets JavaScript library is either not installed or\n",
       "  not enabled. See the <a href=\"https://ipywidgets.readthedocs.io/en/stable/user_install.html\">Jupyter\n",
       "  Widgets Documentation</a> for setup instructions.\n",
       "</p>\n",
       "<p>\n",
       "  If you're reading this message in another frontend (for example, a static\n",
       "  rendering on GitHub or <a href=\"https://nbviewer.jupyter.org/\">NBViewer</a>),\n",
       "  it may mean that your frontend doesn't currently support widgets.\n",
       "</p>\n"
      ],
      "text/plain": [
       "interactive(children=(FloatSlider(value=0.5, description='xdisp', max=0.9, min=0.1), FloatSlider(value=0.5, description='ydisp', max=0.9, min=0.1), Output()), _dom_classes=('widget-interact',))"
      ]
     },
     "metadata": {},
     "output_type": "display_data"
    }
   ],
   "source": [
    "@interact(xdisp = widgets.FloatSlider(min=0.1,max=0.9,value=0.5),\n",
    "          ydisp = widgets.FloatSlider(min=0.1,max=0.9,value=0.5),\n",
    "          continuous_update=False)\n",
    "def f(xdisp,ydisp):\n",
    "    tf = skimage.transform.PiecewiseAffineTransform()\n",
    "    points =  np.array([[0,0],    [0,1],    [1,1],    [1,0],    [0.5,0.5]])\n",
    "    tpoints=  np.array([[0,0],    [0,1],    [1,1],    [1,0],    [xdisp,ydisp]])\n",
    "    tf.estimate(points * np.array([[w,h]]), tpoints * np.array([[w,h]]))\n",
    "    imt = skimage.transform.warp(im, tf.inverse)\n",
    "    \n",
    "    fig,(ax0,ax1) = plt.subplots(ncols=2,figsize=(18,8))\n",
    "    ax0.imshow(im)\n",
    "    ax1.imshow(imt)"
   ]
  },
  {
   "cell_type": "markdown",
   "metadata": {
    "slideshow": {
     "slide_type": "slide"
    }
   },
   "source": [
    "## Assignment 1"
   ]
  },
  {
   "cell_type": "code",
   "execution_count": null,
   "metadata": {
    "slideshow": {
     "slide_type": "-"
    }
   },
   "outputs": [],
   "source": [
    "# 1. Download mnist\n",
    "from keras.datasets import mnist\n",
    "(x_train, y_train), (x_test, y_test) = mnist.load_data()\n",
    "\n",
    "x_train.shape, y_train.shape\n",
    "y_test.shape"
   ]
  },
  {
   "cell_type": "code",
   "execution_count": null,
   "metadata": {},
   "outputs": [],
   "source": [
    "# 2. Sample the first 5 training elements from each digit\n",
    "for i in range(10):\n",
    "    print(\"Use only these elements for digit \"+str(i), np.where(y_train == i)[0][:5])"
   ]
  },
  {
   "cell_type": "code",
   "execution_count": null,
   "metadata": {},
   "outputs": [],
   "source": [
    "# 3. Train a decent CNN with a simple lenet-like architecture.  Augmentation will help."
   ]
  },
  {
   "cell_type": "markdown",
   "metadata": {
    "slideshow": {
     "slide_type": "slide"
    }
   },
   "source": [
    "## Assigment 2\n",
    "Apply all you have learned on the new packages dataset (see course website) which includes 2000+ images in 4 classes.  Compare a feature-based approach (from first week) to a CNN-based approach.\n",
    "\n",
    "They key for CNN success in this context is doing proper data augmentation!"
   ]
  }
 ],
 "metadata": {
  "celltoolbar": "Slideshow",
  "kernelspec": {
   "display_name": "Python 3",
   "language": "python",
   "name": "python3"
  },
  "language_info": {
   "codemirror_mode": {
    "name": "ipython",
    "version": 3
   },
   "file_extension": ".py",
   "mimetype": "text/x-python",
   "name": "python",
   "nbconvert_exporter": "python",
   "pygments_lexer": "ipython3",
   "version": "3.6.4"
  },
  "livereveal": {
   "scroll": true
  }
 },
 "nbformat": 4,
 "nbformat_minor": 2
}
